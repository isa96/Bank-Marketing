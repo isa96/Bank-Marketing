{
 "cells": [
  {
   "cell_type": "markdown",
   "metadata": {},
   "source": [
    "# Supervised Machine Learning - Classification"
   ]
  },
  {
   "cell_type": "code",
   "execution_count": 1,
   "metadata": {},
   "outputs": [
    {
     "name": "stderr",
     "output_type": "stream",
     "text": [
      "In C:\\ProgramData\\Anaconda3\\lib\\site-packages\\matplotlib\\mpl-data\\stylelib\\_classic_test.mplstyle: \n",
      "The savefig.frameon rcparam was deprecated in Matplotlib 3.1 and will be removed in 3.3.\n",
      "In C:\\ProgramData\\Anaconda3\\lib\\site-packages\\matplotlib\\mpl-data\\stylelib\\_classic_test.mplstyle: \n",
      "The verbose.level rcparam was deprecated in Matplotlib 3.1 and will be removed in 3.3.\n",
      "In C:\\ProgramData\\Anaconda3\\lib\\site-packages\\matplotlib\\mpl-data\\stylelib\\_classic_test.mplstyle: \n",
      "The verbose.fileo rcparam was deprecated in Matplotlib 3.1 and will be removed in 3.3.\n"
     ]
    }
   ],
   "source": [
    "import numpy as np\n",
    "import pandas as pd\n",
    "import matplotlib.pyplot as plt\n",
    "import seaborn as sns\n",
    "pd.set_option('display.max_columns', None)\n",
    "\n",
    "%matplotlib inline"
   ]
  },
  {
   "cell_type": "markdown",
   "metadata": {},
   "source": [
    "## Context\n",
    "Portuguese Bank Marketing Data Set obtained from University of California, Irvine (UCI) Machine Learning Repository (https://archive.ics.uci.edu/ml/datasets/Bank+Marketing). The data was collected from a direct marketing campaign conducted by Portuguese banking institution to offer term deposits. The data collection was made by phone calls to potential customer from May 2008 to November 2010. \n",
    "\n",
    "<b>bank client data:</b><br>\n",
    "* 1 - age (numeric)<br>\n",
    "* 2 - job : type of job (categorical: \"admin.\",\"blue-collar\",\"entrepreneur\",\"housemaid\",\"management\",\"retired\",\"self-employed\",\"services\",\"student\",\"technician\",\"unemployed\",\"unknown\")<br>\n",
    "* 3 - marital : marital status (categorical: \"divorced\",\"married\",\"single\",\"unknown\"; note: \"divorced\" means divorced or widowed)<br>\n",
    "* 4 - education (categorical: \"basic.4y\",\"basic.6y\",\"basic.9y\",\"high.school\",\"illiterate\",\"professional.course\",\"university.degree\",\"unknown\")<br>\n",
    "* 5 - default: has credit in default? (categorical: \"no\",\"yes\",\"unknown\")<br>\n",
    "* 6 - housing: has housing loan? (categorical: \"no\",\"yes\",\"unknown\")<br>\n",
    "* 7 - loan: has personal loan? (categorical: \"no\",\"yes\",\"unknown\")<br>\n",
    "\n",
    "<b>related with the last contact of the current campaign:</b><br>\n",
    "* 8 - contact: contact communication type (categorical: \"cellular\",\"telephone\")<br>\n",
    "* 9 - month: last contact month of year (categorical: \"jan\", \"feb\", \"mar\", …, \"nov\", \"dec\")<br>\n",
    "* 10 - dayofweek: last contact day of the week (categorical: \"mon\",\"tue\",\"wed\",\"thu\",\"fri\")<br>\n",
    "* 11 - duration: last contact duration, in seconds (numeric). Important note: this attribute highly affects the output target (e.g., if duration=0 then y=\"no\"). Yet, the duration is not known before a call is performed. Also, after the end of the call y is obviously known. Thus, this input should only be included for benchmark purposes and should be discarded if the intention is to have a realistic predictive model.<br>\n",
    "\n",
    "<b>other attributes:</b><br>\n",
    "* 12 - campaign: number of contacts performed during this campaign and for this client (numeric, includes last contact)<br>\n",
    "* 13 - pdays: number of days that passed by after the client was last contacted from a previous campaign (numeric; 999 means client was not previously contacted)<br>\n",
    "* 14 - previous: number of contacts performed before this campaign and for this client (numeric)<br>\n",
    "* 15 - poutcome: outcome of the previous marketing campaign (categorical: \"failure\",\"nonexistent\",\"success\")<br>\n",
    "\n",
    "<b>social and economic context attributes</b><br>\n",
    "* 16 - emp.var.rate: employment variation rate - quarterly indicator (numeric)<br>\n",
    "* 17 - cons.price.idx: consumer price index - monthly indicator (numeric)<br>\n",
    "* 18 - cons.conf.idx: consumer confidence index - monthly indicator (numeric)<br>\n",
    "* 19 - euribor3m: euribor 3 month rate - daily indicator (numeric)<br>\n",
    "* 20 - nr.employed: number of employees - quarterly indicator (numeric)<br>\n",
    "\n",
    "<b>Output variable (desired target):</b><br>\n",
    "* 21 - y - has the client subscribed a term deposit? (binary: \"yes\",\"no\")"
   ]
  },
  {
   "cell_type": "code",
   "execution_count": 2,
   "metadata": {},
   "outputs": [],
   "source": [
    "bank = pd.read_csv('bank-additional-full.csv', delimiter = ';')"
   ]
  },
  {
   "cell_type": "code",
   "execution_count": 3,
   "metadata": {},
   "outputs": [
    {
     "data": {
      "text/html": [
       "<div>\n",
       "<style scoped>\n",
       "    .dataframe tbody tr th:only-of-type {\n",
       "        vertical-align: middle;\n",
       "    }\n",
       "\n",
       "    .dataframe tbody tr th {\n",
       "        vertical-align: top;\n",
       "    }\n",
       "\n",
       "    .dataframe thead th {\n",
       "        text-align: right;\n",
       "    }\n",
       "</style>\n",
       "<table border=\"1\" class=\"dataframe\">\n",
       "  <thead>\n",
       "    <tr style=\"text-align: right;\">\n",
       "      <th></th>\n",
       "      <th>age</th>\n",
       "      <th>job</th>\n",
       "      <th>marital</th>\n",
       "      <th>education</th>\n",
       "      <th>default</th>\n",
       "      <th>housing</th>\n",
       "      <th>loan</th>\n",
       "      <th>contact</th>\n",
       "      <th>month</th>\n",
       "      <th>day_of_week</th>\n",
       "      <th>duration</th>\n",
       "      <th>campaign</th>\n",
       "      <th>pdays</th>\n",
       "      <th>previous</th>\n",
       "      <th>poutcome</th>\n",
       "      <th>emp.var.rate</th>\n",
       "      <th>cons.price.idx</th>\n",
       "      <th>cons.conf.idx</th>\n",
       "      <th>euribor3m</th>\n",
       "      <th>nr.employed</th>\n",
       "      <th>y</th>\n",
       "    </tr>\n",
       "  </thead>\n",
       "  <tbody>\n",
       "    <tr>\n",
       "      <th>0</th>\n",
       "      <td>56</td>\n",
       "      <td>housemaid</td>\n",
       "      <td>married</td>\n",
       "      <td>basic.4y</td>\n",
       "      <td>no</td>\n",
       "      <td>no</td>\n",
       "      <td>no</td>\n",
       "      <td>telephone</td>\n",
       "      <td>may</td>\n",
       "      <td>mon</td>\n",
       "      <td>261</td>\n",
       "      <td>1</td>\n",
       "      <td>999</td>\n",
       "      <td>0</td>\n",
       "      <td>nonexistent</td>\n",
       "      <td>1.1</td>\n",
       "      <td>93.994</td>\n",
       "      <td>-36.4</td>\n",
       "      <td>4.857</td>\n",
       "      <td>5191.0</td>\n",
       "      <td>no</td>\n",
       "    </tr>\n",
       "    <tr>\n",
       "      <th>1</th>\n",
       "      <td>57</td>\n",
       "      <td>services</td>\n",
       "      <td>married</td>\n",
       "      <td>high.school</td>\n",
       "      <td>unknown</td>\n",
       "      <td>no</td>\n",
       "      <td>no</td>\n",
       "      <td>telephone</td>\n",
       "      <td>may</td>\n",
       "      <td>mon</td>\n",
       "      <td>149</td>\n",
       "      <td>1</td>\n",
       "      <td>999</td>\n",
       "      <td>0</td>\n",
       "      <td>nonexistent</td>\n",
       "      <td>1.1</td>\n",
       "      <td>93.994</td>\n",
       "      <td>-36.4</td>\n",
       "      <td>4.857</td>\n",
       "      <td>5191.0</td>\n",
       "      <td>no</td>\n",
       "    </tr>\n",
       "    <tr>\n",
       "      <th>2</th>\n",
       "      <td>37</td>\n",
       "      <td>services</td>\n",
       "      <td>married</td>\n",
       "      <td>high.school</td>\n",
       "      <td>no</td>\n",
       "      <td>yes</td>\n",
       "      <td>no</td>\n",
       "      <td>telephone</td>\n",
       "      <td>may</td>\n",
       "      <td>mon</td>\n",
       "      <td>226</td>\n",
       "      <td>1</td>\n",
       "      <td>999</td>\n",
       "      <td>0</td>\n",
       "      <td>nonexistent</td>\n",
       "      <td>1.1</td>\n",
       "      <td>93.994</td>\n",
       "      <td>-36.4</td>\n",
       "      <td>4.857</td>\n",
       "      <td>5191.0</td>\n",
       "      <td>no</td>\n",
       "    </tr>\n",
       "    <tr>\n",
       "      <th>3</th>\n",
       "      <td>40</td>\n",
       "      <td>admin.</td>\n",
       "      <td>married</td>\n",
       "      <td>basic.6y</td>\n",
       "      <td>no</td>\n",
       "      <td>no</td>\n",
       "      <td>no</td>\n",
       "      <td>telephone</td>\n",
       "      <td>may</td>\n",
       "      <td>mon</td>\n",
       "      <td>151</td>\n",
       "      <td>1</td>\n",
       "      <td>999</td>\n",
       "      <td>0</td>\n",
       "      <td>nonexistent</td>\n",
       "      <td>1.1</td>\n",
       "      <td>93.994</td>\n",
       "      <td>-36.4</td>\n",
       "      <td>4.857</td>\n",
       "      <td>5191.0</td>\n",
       "      <td>no</td>\n",
       "    </tr>\n",
       "    <tr>\n",
       "      <th>4</th>\n",
       "      <td>56</td>\n",
       "      <td>services</td>\n",
       "      <td>married</td>\n",
       "      <td>high.school</td>\n",
       "      <td>no</td>\n",
       "      <td>no</td>\n",
       "      <td>yes</td>\n",
       "      <td>telephone</td>\n",
       "      <td>may</td>\n",
       "      <td>mon</td>\n",
       "      <td>307</td>\n",
       "      <td>1</td>\n",
       "      <td>999</td>\n",
       "      <td>0</td>\n",
       "      <td>nonexistent</td>\n",
       "      <td>1.1</td>\n",
       "      <td>93.994</td>\n",
       "      <td>-36.4</td>\n",
       "      <td>4.857</td>\n",
       "      <td>5191.0</td>\n",
       "      <td>no</td>\n",
       "    </tr>\n",
       "  </tbody>\n",
       "</table>\n",
       "</div>"
      ],
      "text/plain": [
       "   age        job  marital    education  default housing loan    contact  \\\n",
       "0   56  housemaid  married     basic.4y       no      no   no  telephone   \n",
       "1   57   services  married  high.school  unknown      no   no  telephone   \n",
       "2   37   services  married  high.school       no     yes   no  telephone   \n",
       "3   40     admin.  married     basic.6y       no      no   no  telephone   \n",
       "4   56   services  married  high.school       no      no  yes  telephone   \n",
       "\n",
       "  month day_of_week  duration  campaign  pdays  previous     poutcome  \\\n",
       "0   may         mon       261         1    999         0  nonexistent   \n",
       "1   may         mon       149         1    999         0  nonexistent   \n",
       "2   may         mon       226         1    999         0  nonexistent   \n",
       "3   may         mon       151         1    999         0  nonexistent   \n",
       "4   may         mon       307         1    999         0  nonexistent   \n",
       "\n",
       "   emp.var.rate  cons.price.idx  cons.conf.idx  euribor3m  nr.employed   y  \n",
       "0           1.1          93.994          -36.4      4.857       5191.0  no  \n",
       "1           1.1          93.994          -36.4      4.857       5191.0  no  \n",
       "2           1.1          93.994          -36.4      4.857       5191.0  no  \n",
       "3           1.1          93.994          -36.4      4.857       5191.0  no  \n",
       "4           1.1          93.994          -36.4      4.857       5191.0  no  "
      ]
     },
     "execution_count": 3,
     "metadata": {},
     "output_type": "execute_result"
    }
   ],
   "source": [
    "bank.head()"
   ]
  },
  {
   "cell_type": "code",
   "execution_count": 4,
   "metadata": {},
   "outputs": [
    {
     "name": "stdout",
     "output_type": "stream",
     "text": [
      "<class 'pandas.core.frame.DataFrame'>\n",
      "RangeIndex: 41188 entries, 0 to 41187\n",
      "Data columns (total 21 columns):\n",
      "age               41188 non-null int64\n",
      "job               41188 non-null object\n",
      "marital           41188 non-null object\n",
      "education         41188 non-null object\n",
      "default           41188 non-null object\n",
      "housing           41188 non-null object\n",
      "loan              41188 non-null object\n",
      "contact           41188 non-null object\n",
      "month             41188 non-null object\n",
      "day_of_week       41188 non-null object\n",
      "duration          41188 non-null int64\n",
      "campaign          41188 non-null int64\n",
      "pdays             41188 non-null int64\n",
      "previous          41188 non-null int64\n",
      "poutcome          41188 non-null object\n",
      "emp.var.rate      41188 non-null float64\n",
      "cons.price.idx    41188 non-null float64\n",
      "cons.conf.idx     41188 non-null float64\n",
      "euribor3m         41188 non-null float64\n",
      "nr.employed       41188 non-null float64\n",
      "y                 41188 non-null object\n",
      "dtypes: float64(5), int64(5), object(11)\n",
      "memory usage: 6.6+ MB\n"
     ]
    }
   ],
   "source": [
    "bank.info()"
   ]
  },
  {
   "cell_type": "markdown",
   "metadata": {},
   "source": [
    "> First of all we need to prepare our dataframe before we proceed with supervised machine learning. In this case we will do predictive classification."
   ]
  },
  {
   "cell_type": "code",
   "execution_count": 3,
   "metadata": {},
   "outputs": [],
   "source": [
    "# Based on the information obtained from the dataset, in order to have a realistic model, we need to drop 'duration' column\n",
    "\n",
    "bank_ml = bank.copy()\n",
    "bank_ml.drop('duration', axis = 1, inplace = True)"
   ]
  },
  {
   "cell_type": "markdown",
   "metadata": {},
   "source": [
    "Based on the information obtained from the dataset, and also during EDA, there are columns containing information from previous campaign (pdays and poutcome), and one column containing the contacts performed before the current campaign. Since they are correlated highly with each other, and I also want to do a prediction not mainly based on previous information, <b>I decided to keep 'previous' column, and dropping poutcome and pdays.</b> Other consideration about why I chose to drop those columns:\n",
    "\n",
    "* 96% of consumers were not contacted in previous campaign (based on pdays column)\n",
    "* 86% of consumers did not have any prior relation to the previous campaign or before current campaign (poutcome : nonexistent and previous : 0) -- see below that if previous = 0, then the poutcome is obviously nonexistent.\n",
    "* From EDA we saw that poutcome and pdays are highly correlated with other features"
   ]
  },
  {
   "cell_type": "code",
   "execution_count": 6,
   "metadata": {
    "scrolled": true
   },
   "outputs": [
    {
     "data": {
      "text/plain": [
       "nonexistent    35563\n",
       "failure         4252\n",
       "success         1373\n",
       "Name: poutcome, dtype: int64"
      ]
     },
     "execution_count": 6,
     "metadata": {},
     "output_type": "execute_result"
    }
   ],
   "source": [
    "bank['poutcome'].value_counts()"
   ]
  },
  {
   "cell_type": "code",
   "execution_count": 7,
   "metadata": {
    "scrolled": true
   },
   "outputs": [
    {
     "data": {
      "text/plain": [
       "0    35563\n",
       "1     4561\n",
       "2      754\n",
       "3      216\n",
       "4       70\n",
       "5       18\n",
       "6        5\n",
       "7        1\n",
       "Name: previous, dtype: int64"
      ]
     },
     "execution_count": 7,
     "metadata": {},
     "output_type": "execute_result"
    }
   ],
   "source": [
    "bank['previous'].value_counts()"
   ]
  },
  {
   "cell_type": "code",
   "execution_count": 8,
   "metadata": {},
   "outputs": [
    {
     "data": {
      "text/html": [
       "<div>\n",
       "<style scoped>\n",
       "    .dataframe tbody tr th:only-of-type {\n",
       "        vertical-align: middle;\n",
       "    }\n",
       "\n",
       "    .dataframe tbody tr th {\n",
       "        vertical-align: top;\n",
       "    }\n",
       "\n",
       "    .dataframe thead th {\n",
       "        text-align: right;\n",
       "    }\n",
       "</style>\n",
       "<table border=\"1\" class=\"dataframe\">\n",
       "  <thead>\n",
       "    <tr style=\"text-align: right;\">\n",
       "      <th></th>\n",
       "      <th>age</th>\n",
       "      <th>job</th>\n",
       "      <th>marital</th>\n",
       "      <th>education</th>\n",
       "      <th>default</th>\n",
       "      <th>housing</th>\n",
       "      <th>loan</th>\n",
       "      <th>contact</th>\n",
       "      <th>month</th>\n",
       "      <th>day_of_week</th>\n",
       "      <th>duration</th>\n",
       "      <th>campaign</th>\n",
       "      <th>pdays</th>\n",
       "      <th>previous</th>\n",
       "      <th>poutcome</th>\n",
       "      <th>emp.var.rate</th>\n",
       "      <th>cons.price.idx</th>\n",
       "      <th>cons.conf.idx</th>\n",
       "      <th>euribor3m</th>\n",
       "      <th>nr.employed</th>\n",
       "      <th>y</th>\n",
       "    </tr>\n",
       "  </thead>\n",
       "  <tbody>\n",
       "    <tr>\n",
       "      <th>0</th>\n",
       "      <td>56</td>\n",
       "      <td>housemaid</td>\n",
       "      <td>married</td>\n",
       "      <td>basic.4y</td>\n",
       "      <td>no</td>\n",
       "      <td>no</td>\n",
       "      <td>no</td>\n",
       "      <td>telephone</td>\n",
       "      <td>may</td>\n",
       "      <td>mon</td>\n",
       "      <td>261</td>\n",
       "      <td>1</td>\n",
       "      <td>999</td>\n",
       "      <td>0</td>\n",
       "      <td>nonexistent</td>\n",
       "      <td>1.1</td>\n",
       "      <td>93.994</td>\n",
       "      <td>-36.4</td>\n",
       "      <td>4.857</td>\n",
       "      <td>5191.0</td>\n",
       "      <td>no</td>\n",
       "    </tr>\n",
       "    <tr>\n",
       "      <th>1</th>\n",
       "      <td>57</td>\n",
       "      <td>services</td>\n",
       "      <td>married</td>\n",
       "      <td>high.school</td>\n",
       "      <td>unknown</td>\n",
       "      <td>no</td>\n",
       "      <td>no</td>\n",
       "      <td>telephone</td>\n",
       "      <td>may</td>\n",
       "      <td>mon</td>\n",
       "      <td>149</td>\n",
       "      <td>1</td>\n",
       "      <td>999</td>\n",
       "      <td>0</td>\n",
       "      <td>nonexistent</td>\n",
       "      <td>1.1</td>\n",
       "      <td>93.994</td>\n",
       "      <td>-36.4</td>\n",
       "      <td>4.857</td>\n",
       "      <td>5191.0</td>\n",
       "      <td>no</td>\n",
       "    </tr>\n",
       "    <tr>\n",
       "      <th>2</th>\n",
       "      <td>37</td>\n",
       "      <td>services</td>\n",
       "      <td>married</td>\n",
       "      <td>high.school</td>\n",
       "      <td>no</td>\n",
       "      <td>yes</td>\n",
       "      <td>no</td>\n",
       "      <td>telephone</td>\n",
       "      <td>may</td>\n",
       "      <td>mon</td>\n",
       "      <td>226</td>\n",
       "      <td>1</td>\n",
       "      <td>999</td>\n",
       "      <td>0</td>\n",
       "      <td>nonexistent</td>\n",
       "      <td>1.1</td>\n",
       "      <td>93.994</td>\n",
       "      <td>-36.4</td>\n",
       "      <td>4.857</td>\n",
       "      <td>5191.0</td>\n",
       "      <td>no</td>\n",
       "    </tr>\n",
       "    <tr>\n",
       "      <th>3</th>\n",
       "      <td>40</td>\n",
       "      <td>admin.</td>\n",
       "      <td>married</td>\n",
       "      <td>basic.6y</td>\n",
       "      <td>no</td>\n",
       "      <td>no</td>\n",
       "      <td>no</td>\n",
       "      <td>telephone</td>\n",
       "      <td>may</td>\n",
       "      <td>mon</td>\n",
       "      <td>151</td>\n",
       "      <td>1</td>\n",
       "      <td>999</td>\n",
       "      <td>0</td>\n",
       "      <td>nonexistent</td>\n",
       "      <td>1.1</td>\n",
       "      <td>93.994</td>\n",
       "      <td>-36.4</td>\n",
       "      <td>4.857</td>\n",
       "      <td>5191.0</td>\n",
       "      <td>no</td>\n",
       "    </tr>\n",
       "    <tr>\n",
       "      <th>4</th>\n",
       "      <td>56</td>\n",
       "      <td>services</td>\n",
       "      <td>married</td>\n",
       "      <td>high.school</td>\n",
       "      <td>no</td>\n",
       "      <td>no</td>\n",
       "      <td>yes</td>\n",
       "      <td>telephone</td>\n",
       "      <td>may</td>\n",
       "      <td>mon</td>\n",
       "      <td>307</td>\n",
       "      <td>1</td>\n",
       "      <td>999</td>\n",
       "      <td>0</td>\n",
       "      <td>nonexistent</td>\n",
       "      <td>1.1</td>\n",
       "      <td>93.994</td>\n",
       "      <td>-36.4</td>\n",
       "      <td>4.857</td>\n",
       "      <td>5191.0</td>\n",
       "      <td>no</td>\n",
       "    </tr>\n",
       "    <tr>\n",
       "      <th>...</th>\n",
       "      <td>...</td>\n",
       "      <td>...</td>\n",
       "      <td>...</td>\n",
       "      <td>...</td>\n",
       "      <td>...</td>\n",
       "      <td>...</td>\n",
       "      <td>...</td>\n",
       "      <td>...</td>\n",
       "      <td>...</td>\n",
       "      <td>...</td>\n",
       "      <td>...</td>\n",
       "      <td>...</td>\n",
       "      <td>...</td>\n",
       "      <td>...</td>\n",
       "      <td>...</td>\n",
       "      <td>...</td>\n",
       "      <td>...</td>\n",
       "      <td>...</td>\n",
       "      <td>...</td>\n",
       "      <td>...</td>\n",
       "      <td>...</td>\n",
       "    </tr>\n",
       "    <tr>\n",
       "      <th>41181</th>\n",
       "      <td>37</td>\n",
       "      <td>admin.</td>\n",
       "      <td>married</td>\n",
       "      <td>university.degree</td>\n",
       "      <td>no</td>\n",
       "      <td>yes</td>\n",
       "      <td>no</td>\n",
       "      <td>cellular</td>\n",
       "      <td>nov</td>\n",
       "      <td>fri</td>\n",
       "      <td>281</td>\n",
       "      <td>1</td>\n",
       "      <td>999</td>\n",
       "      <td>0</td>\n",
       "      <td>nonexistent</td>\n",
       "      <td>-1.1</td>\n",
       "      <td>94.767</td>\n",
       "      <td>-50.8</td>\n",
       "      <td>1.028</td>\n",
       "      <td>4963.6</td>\n",
       "      <td>yes</td>\n",
       "    </tr>\n",
       "    <tr>\n",
       "      <th>41183</th>\n",
       "      <td>73</td>\n",
       "      <td>retired</td>\n",
       "      <td>married</td>\n",
       "      <td>professional.course</td>\n",
       "      <td>no</td>\n",
       "      <td>yes</td>\n",
       "      <td>no</td>\n",
       "      <td>cellular</td>\n",
       "      <td>nov</td>\n",
       "      <td>fri</td>\n",
       "      <td>334</td>\n",
       "      <td>1</td>\n",
       "      <td>999</td>\n",
       "      <td>0</td>\n",
       "      <td>nonexistent</td>\n",
       "      <td>-1.1</td>\n",
       "      <td>94.767</td>\n",
       "      <td>-50.8</td>\n",
       "      <td>1.028</td>\n",
       "      <td>4963.6</td>\n",
       "      <td>yes</td>\n",
       "    </tr>\n",
       "    <tr>\n",
       "      <th>41184</th>\n",
       "      <td>46</td>\n",
       "      <td>blue-collar</td>\n",
       "      <td>married</td>\n",
       "      <td>professional.course</td>\n",
       "      <td>no</td>\n",
       "      <td>no</td>\n",
       "      <td>no</td>\n",
       "      <td>cellular</td>\n",
       "      <td>nov</td>\n",
       "      <td>fri</td>\n",
       "      <td>383</td>\n",
       "      <td>1</td>\n",
       "      <td>999</td>\n",
       "      <td>0</td>\n",
       "      <td>nonexistent</td>\n",
       "      <td>-1.1</td>\n",
       "      <td>94.767</td>\n",
       "      <td>-50.8</td>\n",
       "      <td>1.028</td>\n",
       "      <td>4963.6</td>\n",
       "      <td>no</td>\n",
       "    </tr>\n",
       "    <tr>\n",
       "      <th>41185</th>\n",
       "      <td>56</td>\n",
       "      <td>retired</td>\n",
       "      <td>married</td>\n",
       "      <td>university.degree</td>\n",
       "      <td>no</td>\n",
       "      <td>yes</td>\n",
       "      <td>no</td>\n",
       "      <td>cellular</td>\n",
       "      <td>nov</td>\n",
       "      <td>fri</td>\n",
       "      <td>189</td>\n",
       "      <td>2</td>\n",
       "      <td>999</td>\n",
       "      <td>0</td>\n",
       "      <td>nonexistent</td>\n",
       "      <td>-1.1</td>\n",
       "      <td>94.767</td>\n",
       "      <td>-50.8</td>\n",
       "      <td>1.028</td>\n",
       "      <td>4963.6</td>\n",
       "      <td>no</td>\n",
       "    </tr>\n",
       "    <tr>\n",
       "      <th>41186</th>\n",
       "      <td>44</td>\n",
       "      <td>technician</td>\n",
       "      <td>married</td>\n",
       "      <td>professional.course</td>\n",
       "      <td>no</td>\n",
       "      <td>no</td>\n",
       "      <td>no</td>\n",
       "      <td>cellular</td>\n",
       "      <td>nov</td>\n",
       "      <td>fri</td>\n",
       "      <td>442</td>\n",
       "      <td>1</td>\n",
       "      <td>999</td>\n",
       "      <td>0</td>\n",
       "      <td>nonexistent</td>\n",
       "      <td>-1.1</td>\n",
       "      <td>94.767</td>\n",
       "      <td>-50.8</td>\n",
       "      <td>1.028</td>\n",
       "      <td>4963.6</td>\n",
       "      <td>yes</td>\n",
       "    </tr>\n",
       "  </tbody>\n",
       "</table>\n",
       "<p>35563 rows × 21 columns</p>\n",
       "</div>"
      ],
      "text/plain": [
       "       age          job  marital            education  default housing loan  \\\n",
       "0       56    housemaid  married             basic.4y       no      no   no   \n",
       "1       57     services  married          high.school  unknown      no   no   \n",
       "2       37     services  married          high.school       no     yes   no   \n",
       "3       40       admin.  married             basic.6y       no      no   no   \n",
       "4       56     services  married          high.school       no      no  yes   \n",
       "...    ...          ...      ...                  ...      ...     ...  ...   \n",
       "41181   37       admin.  married    university.degree       no     yes   no   \n",
       "41183   73      retired  married  professional.course       no     yes   no   \n",
       "41184   46  blue-collar  married  professional.course       no      no   no   \n",
       "41185   56      retired  married    university.degree       no     yes   no   \n",
       "41186   44   technician  married  professional.course       no      no   no   \n",
       "\n",
       "         contact month day_of_week  duration  campaign  pdays  previous  \\\n",
       "0      telephone   may         mon       261         1    999         0   \n",
       "1      telephone   may         mon       149         1    999         0   \n",
       "2      telephone   may         mon       226         1    999         0   \n",
       "3      telephone   may         mon       151         1    999         0   \n",
       "4      telephone   may         mon       307         1    999         0   \n",
       "...          ...   ...         ...       ...       ...    ...       ...   \n",
       "41181   cellular   nov         fri       281         1    999         0   \n",
       "41183   cellular   nov         fri       334         1    999         0   \n",
       "41184   cellular   nov         fri       383         1    999         0   \n",
       "41185   cellular   nov         fri       189         2    999         0   \n",
       "41186   cellular   nov         fri       442         1    999         0   \n",
       "\n",
       "          poutcome  emp.var.rate  cons.price.idx  cons.conf.idx  euribor3m  \\\n",
       "0      nonexistent           1.1          93.994          -36.4      4.857   \n",
       "1      nonexistent           1.1          93.994          -36.4      4.857   \n",
       "2      nonexistent           1.1          93.994          -36.4      4.857   \n",
       "3      nonexistent           1.1          93.994          -36.4      4.857   \n",
       "4      nonexistent           1.1          93.994          -36.4      4.857   \n",
       "...            ...           ...             ...            ...        ...   \n",
       "41181  nonexistent          -1.1          94.767          -50.8      1.028   \n",
       "41183  nonexistent          -1.1          94.767          -50.8      1.028   \n",
       "41184  nonexistent          -1.1          94.767          -50.8      1.028   \n",
       "41185  nonexistent          -1.1          94.767          -50.8      1.028   \n",
       "41186  nonexistent          -1.1          94.767          -50.8      1.028   \n",
       "\n",
       "       nr.employed    y  \n",
       "0           5191.0   no  \n",
       "1           5191.0   no  \n",
       "2           5191.0   no  \n",
       "3           5191.0   no  \n",
       "4           5191.0   no  \n",
       "...            ...  ...  \n",
       "41181       4963.6  yes  \n",
       "41183       4963.6  yes  \n",
       "41184       4963.6   no  \n",
       "41185       4963.6   no  \n",
       "41186       4963.6  yes  \n",
       "\n",
       "[35563 rows x 21 columns]"
      ]
     },
     "execution_count": 8,
     "metadata": {},
     "output_type": "execute_result"
    }
   ],
   "source": [
    "bank[(bank['previous'] == 0) & (bank['poutcome']== 'nonexistent')]"
   ]
  },
  {
   "cell_type": "code",
   "execution_count": 4,
   "metadata": {},
   "outputs": [],
   "source": [
    "# Dropping poutcome and pdays\n",
    "bank_ml.drop(['poutcome', 'pdays'], axis = 1, inplace = True)"
   ]
  },
  {
   "cell_type": "markdown",
   "metadata": {},
   "source": [
    "### Correlation"
   ]
  },
  {
   "cell_type": "code",
   "execution_count": 10,
   "metadata": {},
   "outputs": [
    {
     "name": "stdout",
     "output_type": "stream",
     "text": [
      "<class 'pandas.core.frame.DataFrame'>\n",
      "RangeIndex: 41188 entries, 0 to 41187\n",
      "Data columns (total 18 columns):\n",
      "age               41188 non-null int64\n",
      "job               41188 non-null object\n",
      "marital           41188 non-null object\n",
      "education         41188 non-null object\n",
      "default           41188 non-null object\n",
      "housing           41188 non-null object\n",
      "loan              41188 non-null object\n",
      "contact           41188 non-null object\n",
      "month             41188 non-null object\n",
      "day_of_week       41188 non-null object\n",
      "campaign          41188 non-null int64\n",
      "previous          41188 non-null int64\n",
      "emp.var.rate      41188 non-null float64\n",
      "cons.price.idx    41188 non-null float64\n",
      "cons.conf.idx     41188 non-null float64\n",
      "euribor3m         41188 non-null float64\n",
      "nr.employed       41188 non-null float64\n",
      "y                 41188 non-null object\n",
      "dtypes: float64(5), int64(3), object(10)\n",
      "memory usage: 5.7+ MB\n"
     ]
    }
   ],
   "source": [
    "bank_ml.info()"
   ]
  },
  {
   "cell_type": "code",
   "execution_count": 5,
   "metadata": {},
   "outputs": [],
   "source": [
    "numcol = bank_ml.select_dtypes('number').columns\n",
    "catcol = bank_ml.select_dtypes('object').columns"
   ]
  },
  {
   "cell_type": "code",
   "execution_count": 12,
   "metadata": {},
   "outputs": [
    {
     "data": {
      "text/plain": [
       "Text(0.5, 1.0, 'Correlation among Numerical Features')"
      ]
     },
     "execution_count": 12,
     "metadata": {},
     "output_type": "execute_result"
    },
    {
     "data": {
      "image/png": "[encoded data removed]",
      "text/plain": [
       "<Figure size 1440x360 with 2 Axes>"
      ]
     },
     "metadata": {
      "needs_background": "light"
     },
     "output_type": "display_data"
    }
   ],
   "source": [
    "#From EDA as well we know that none of the numerical features are following normal distribution\n",
    "plt.figure(figsize = (20,5))\n",
    "sns.heatmap(bank_ml[numcol].corr(method = 'spearman'), annot =True)\n",
    "plt.title('Correlation among Numerical Features')"
   ]
  },
  {
   "cell_type": "markdown",
   "metadata": {},
   "source": [
    "> We saw this already in EDA, socio-economic features such as emp.var.rate, euribor3m and nr.employed are highly correlated with each other"
   ]
  },
  {
   "cell_type": "code",
   "execution_count": 6,
   "metadata": {},
   "outputs": [],
   "source": [
    "#Let's measure the correlation of categorical features using cramer's V\n",
    "import scipy.stats as ss\n",
    "\n",
    "def cramers_v(x, y):\n",
    "    confusion_matrix = pd.crosstab(x,y)\n",
    "    chi2 = ss.chi2_contingency(confusion_matrix)[0]\n",
    "    n = confusion_matrix.sum().sum()\n",
    "    phi2 = chi2/n\n",
    "    r,k = confusion_matrix.shape\n",
    "    phi2corr = max(0, phi2-((k-1)*(r-1))/(n-1))\n",
    "    rcorr = r-((r-1)**2)/(n-1)\n",
    "    kcorr = k-((k-1)**2)/(n-1)\n",
    "    return np.sqrt(phi2corr/min((kcorr-1),(rcorr-1)))"
   ]
  },
  {
   "cell_type": "code",
   "execution_count": 7,
   "metadata": {},
   "outputs": [],
   "source": [
    "corr_cat = []\n",
    "for i in catcol:\n",
    "    temp = []\n",
    "    for j in catcol:\n",
    "        temp.append(cramers_v(bank_ml[i], bank_ml[j]))\n",
    "    corr_cat.append(temp)    "
   ]
  },
  {
   "cell_type": "code",
   "execution_count": 8,
   "metadata": {},
   "outputs": [],
   "source": [
    "corr_cat_res = pd.DataFrame(corr_cat, index = catcol, columns = catcol)"
   ]
  },
  {
   "cell_type": "code",
   "execution_count": 16,
   "metadata": {},
   "outputs": [
    {
     "data": {
      "text/plain": [
       "Text(0.5, 1.0, 'Correlation among Categorical Features')"
      ]
     },
     "execution_count": 16,
     "metadata": {},
     "output_type": "execute_result"
    },
    {
     "data": {
      "image/png": "[encoded data removed]",
      "text/plain": [
       "<Figure size 1440x360 with 2 Axes>"
      ]
     },
     "metadata": {
      "needs_background": "light"
     },
     "output_type": "display_data"
    }
   ],
   "source": [
    "plt.figure(figsize = (20,5))\n",
    "sns.heatmap(corr_cat_res, annot = True)\n",
    "plt.title('Correlation among Categorical Features')"
   ]
  },
  {
   "cell_type": "markdown",
   "metadata": {},
   "source": [
    "> Here we can observe that housing and loan are correlated with each other -- and based on EDA we know that there are people with unknown type in both of features (later when we make dummies, we will drop one). Contact and month are correlated with each other, because in some months there is a particular contact type performed the most over the other type. Contact and month also have slight correlation with the target."
   ]
  },
  {
   "cell_type": "code",
   "execution_count": 9,
   "metadata": {},
   "outputs": [],
   "source": [
    "def correlation_ratio(categories, measurements):\n",
    "    fcat, _ = pd.factorize(categories)\n",
    "    cat_num = np.max(fcat)+1\n",
    "    y_avg_array = np.zeros(cat_num)\n",
    "    n_array = np.zeros(cat_num)\n",
    "    for i in range(0,cat_num):\n",
    "        cat_measures = measurements[np.argwhere(fcat == i).flatten()]\n",
    "        n_array[i] = len(cat_measures)\n",
    "        y_avg_array[i] = np.average(cat_measures)\n",
    "    y_total_avg = np.sum(np.multiply(y_avg_array,n_array))/np.sum(n_array)\n",
    "    numerator = np.sum(np.multiply(n_array,np.power(np.subtract(y_avg_array,y_total_avg),2)))\n",
    "    denominator = np.sum(np.power(np.subtract(measurements,y_total_avg),2))\n",
    "    if numerator == 0:\n",
    "        eta = 0.0\n",
    "    else:\n",
    "        eta = np.sqrt(numerator/denominator)\n",
    "    return eta"
   ]
  },
  {
   "cell_type": "code",
   "execution_count": 10,
   "metadata": {},
   "outputs": [],
   "source": [
    "corr_num_cat = []\n",
    "for i in numcol:\n",
    "    temp = []\n",
    "    for j in catcol:\n",
    "        temp.append(correlation_ratio(bank_ml[j], bank_ml[i]))\n",
    "    corr_num_cat.append(temp)    "
   ]
  },
  {
   "cell_type": "code",
   "execution_count": 11,
   "metadata": {},
   "outputs": [],
   "source": [
    "corr_numcat_res = pd.DataFrame(corr_num_cat, index = numcol, columns = catcol)"
   ]
  },
  {
   "cell_type": "code",
   "execution_count": 20,
   "metadata": {},
   "outputs": [
    {
     "data": {
      "text/plain": [
       "<matplotlib.axes._subplots.AxesSubplot at 0x1e0176559c8>"
      ]
     },
     "execution_count": 20,
     "metadata": {},
     "output_type": "execute_result"
    },
    {
     "data": {
      "image/png": "[encoded data removed]",
      "text/plain": [
       "<Figure size 1440x432 with 2 Axes>"
      ]
     },
     "metadata": {
      "needs_background": "light"
     },
     "output_type": "display_data"
    }
   ],
   "source": [
    "plt.figure(figsize = (20,6))\n",
    "sns.heatmap(corr_numcat_res, annot = True)"
   ]
  },
  {
   "cell_type": "markdown",
   "metadata": {},
   "source": [
    "> Here we see the correlation among the numerical features with categorical features, including the target. Socio-economic features such as emp.var.rate, euribor3m and nr.employed have quite the same correlation ratio with the target.  Since they are highly correlated with each other and having this kind of relationship with the target, I am cosidering to drop the columns emp.var.rate and nr.employed. Another thing to back this up is there is no further explanation about those two features. Thus I will keep euribor3m. Month is correlated with most socio-economic features, because some of the features are monthly based or quarterly based."
   ]
  },
  {
   "cell_type": "code",
   "execution_count": 12,
   "metadata": {},
   "outputs": [],
   "source": [
    "bank_ml.drop(['emp.var.rate', 'nr.employed'], axis = 1, inplace = True)"
   ]
  },
  {
   "cell_type": "code",
   "execution_count": 13,
   "metadata": {},
   "outputs": [
    {
     "name": "stdout",
     "output_type": "stream",
     "text": [
      "<class 'pandas.core.frame.DataFrame'>\n",
      "RangeIndex: 41188 entries, 0 to 41187\n",
      "Data columns (total 16 columns):\n",
      "age               41188 non-null int64\n",
      "job               41188 non-null object\n",
      "marital           41188 non-null object\n",
      "education         41188 non-null object\n",
      "default           41188 non-null object\n",
      "housing           41188 non-null object\n",
      "loan              41188 non-null object\n",
      "contact           41188 non-null object\n",
      "month             41188 non-null object\n",
      "day_of_week       41188 non-null object\n",
      "campaign          41188 non-null int64\n",
      "previous          41188 non-null int64\n",
      "cons.price.idx    41188 non-null float64\n",
      "cons.conf.idx     41188 non-null float64\n",
      "euribor3m         41188 non-null float64\n",
      "y                 41188 non-null object\n",
      "dtypes: float64(3), int64(3), object(10)\n",
      "memory usage: 5.0+ MB\n"
     ]
    }
   ],
   "source": [
    "bank_ml.info()"
   ]
  },
  {
   "cell_type": "markdown",
   "metadata": {},
   "source": [
    "## Preparing the dataset"
   ]
  },
  {
   "cell_type": "markdown",
   "metadata": {},
   "source": [
    "After dropping some of features, we end up with 16 columns: 6 numerical, 10 categorical (including the target). Let's see the categorical features description."
   ]
  },
  {
   "cell_type": "code",
   "execution_count": 23,
   "metadata": {},
   "outputs": [
    {
     "data": {
      "text/html": [
       "<div>\n",
       "<style scoped>\n",
       "    .dataframe tbody tr th:only-of-type {\n",
       "        vertical-align: middle;\n",
       "    }\n",
       "\n",
       "    .dataframe tbody tr th {\n",
       "        vertical-align: top;\n",
       "    }\n",
       "\n",
       "    .dataframe thead th {\n",
       "        text-align: right;\n",
       "    }\n",
       "</style>\n",
       "<table border=\"1\" class=\"dataframe\">\n",
       "  <thead>\n",
       "    <tr style=\"text-align: right;\">\n",
       "      <th></th>\n",
       "      <th>job</th>\n",
       "      <th>marital</th>\n",
       "      <th>education</th>\n",
       "      <th>default</th>\n",
       "      <th>housing</th>\n",
       "      <th>loan</th>\n",
       "      <th>contact</th>\n",
       "      <th>month</th>\n",
       "      <th>day_of_week</th>\n",
       "      <th>y</th>\n",
       "    </tr>\n",
       "  </thead>\n",
       "  <tbody>\n",
       "    <tr>\n",
       "      <th>count</th>\n",
       "      <td>41188</td>\n",
       "      <td>41188</td>\n",
       "      <td>41188</td>\n",
       "      <td>41188</td>\n",
       "      <td>41188</td>\n",
       "      <td>41188</td>\n",
       "      <td>41188</td>\n",
       "      <td>41188</td>\n",
       "      <td>41188</td>\n",
       "      <td>41188</td>\n",
       "    </tr>\n",
       "    <tr>\n",
       "      <th>unique</th>\n",
       "      <td>12</td>\n",
       "      <td>4</td>\n",
       "      <td>8</td>\n",
       "      <td>3</td>\n",
       "      <td>3</td>\n",
       "      <td>3</td>\n",
       "      <td>2</td>\n",
       "      <td>10</td>\n",
       "      <td>5</td>\n",
       "      <td>2</td>\n",
       "    </tr>\n",
       "    <tr>\n",
       "      <th>top</th>\n",
       "      <td>admin.</td>\n",
       "      <td>married</td>\n",
       "      <td>university.degree</td>\n",
       "      <td>no</td>\n",
       "      <td>yes</td>\n",
       "      <td>no</td>\n",
       "      <td>cellular</td>\n",
       "      <td>may</td>\n",
       "      <td>thu</td>\n",
       "      <td>no</td>\n",
       "    </tr>\n",
       "    <tr>\n",
       "      <th>freq</th>\n",
       "      <td>10422</td>\n",
       "      <td>24928</td>\n",
       "      <td>12168</td>\n",
       "      <td>32588</td>\n",
       "      <td>21576</td>\n",
       "      <td>33950</td>\n",
       "      <td>26144</td>\n",
       "      <td>13769</td>\n",
       "      <td>8623</td>\n",
       "      <td>36548</td>\n",
       "    </tr>\n",
       "  </tbody>\n",
       "</table>\n",
       "</div>"
      ],
      "text/plain": [
       "           job  marital          education default housing   loan   contact  \\\n",
       "count    41188    41188              41188   41188   41188  41188     41188   \n",
       "unique      12        4                  8       3       3      3         2   \n",
       "top     admin.  married  university.degree      no     yes     no  cellular   \n",
       "freq     10422    24928              12168   32588   21576  33950     26144   \n",
       "\n",
       "        month day_of_week      y  \n",
       "count   41188       41188  41188  \n",
       "unique     10           5      2  \n",
       "top       may         thu     no  \n",
       "freq    13769        8623  36548  "
      ]
     },
     "execution_count": 23,
     "metadata": {},
     "output_type": "execute_result"
    }
   ],
   "source": [
    "bank_ml[catcol].describe()"
   ]
  },
  {
   "cell_type": "code",
   "execution_count": 24,
   "metadata": {},
   "outputs": [
    {
     "data": {
      "text/plain": [
       "array(['housemaid', 'services', 'admin.', 'blue-collar', 'technician',\n",
       "       'retired', 'management', 'unemployed', 'self-employed', 'unknown',\n",
       "       'entrepreneur', 'student'], dtype=object)"
      ]
     },
     "execution_count": 24,
     "metadata": {},
     "output_type": "execute_result"
    }
   ],
   "source": [
    "# In jobs we could not really merge some of the types because they are quite distinct\n",
    "# There is also a really broad job sector such as services\n",
    "# For now we will just keep it like this\n",
    "bank_ml['job'].unique()"
   ]
  },
  {
   "cell_type": "code",
   "execution_count": 25,
   "metadata": {},
   "outputs": [
    {
     "data": {
      "text/plain": [
       "array(['basic.4y', 'high.school', 'basic.6y', 'basic.9y',\n",
       "       'professional.course', 'unknown', 'university.degree',\n",
       "       'illiterate'], dtype=object)"
      ]
     },
     "execution_count": 25,
     "metadata": {},
     "output_type": "execute_result"
    }
   ],
   "source": [
    "# In education there are 3 types with 'basic' education\n",
    "# Based on EDA, they are the bottom 3 for the percentage of customers acquired \n",
    "# Thus to reduce the type here, I will encode the basic.4y, basic.6y and basic.9y into 'basic-education'\n",
    "\n",
    "bank_ml['education'].unique()"
   ]
  },
  {
   "cell_type": "code",
   "execution_count": 14,
   "metadata": {},
   "outputs": [],
   "source": [
    "edu = []\n",
    "\n",
    "for i in bank['education']:\n",
    "    if (i == 'basic.4y') or (i == 'basic.6y') or (i == 'basic.9y'):\n",
    "        edu.append('basic')\n",
    "    else:\n",
    "        edu.append(i)"
   ]
  },
  {
   "cell_type": "code",
   "execution_count": 27,
   "metadata": {},
   "outputs": [
    {
     "data": {
      "text/plain": [
       "['basic',\n",
       " 'high.school',\n",
       " 'high.school',\n",
       " 'basic',\n",
       " 'high.school',\n",
       " 'basic',\n",
       " 'professional.course',\n",
       " 'unknown',\n",
       " 'professional.course',\n",
       " 'high.school',\n",
       " 'unknown',\n",
       " 'high.school',\n",
       " 'high.school',\n",
       " 'basic',\n",
       " 'basic',\n",
       " 'basic',\n",
       " 'basic',\n",
       " 'basic',\n",
       " 'basic',\n",
       " 'basic',\n",
       " 'high.school',\n",
       " 'basic',\n",
       " 'high.school',\n",
       " 'high.school',\n",
       " 'high.school',\n",
       " 'university.degree',\n",
       " 'unknown',\n",
       " 'basic',\n",
       " 'university.degree',\n",
       " 'university.degree',\n",
       " 'unknown',\n",
       " 'unknown',\n",
       " 'unknown',\n",
       " 'basic',\n",
       " 'basic',\n",
       " 'basic',\n",
       " 'high.school',\n",
       " 'basic',\n",
       " 'university.degree',\n",
       " 'basic',\n",
       " 'university.degree',\n",
       " 'high.school',\n",
       " 'professional.course',\n",
       " 'university.degree',\n",
       " 'university.degree',\n",
       " 'professional.course',\n",
       " 'university.degree',\n",
       " 'basic',\n",
       " 'university.degree',\n",
       " 'basic',\n",
       " 'high.school',\n",
       " 'basic',\n",
       " 'high.school',\n",
       " 'professional.course',\n",
       " 'basic',\n",
       " 'professional.course',\n",
       " 'university.degree',\n",
       " 'high.school',\n",
       " 'professional.course',\n",
       " 'university.degree',\n",
       " 'university.degree',\n",
       " 'basic',\n",
       " 'basic',\n",
       " 'basic',\n",
       " 'high.school',\n",
       " 'university.degree',\n",
       " 'basic',\n",
       " 'unknown',\n",
       " 'basic',\n",
       " 'basic',\n",
       " 'basic',\n",
       " 'university.degree',\n",
       " 'university.degree',\n",
       " 'unknown',\n",
       " 'university.degree',\n",
       " 'basic',\n",
       " 'university.degree',\n",
       " 'high.school',\n",
       " 'unknown',\n",
       " 'basic',\n",
       " 'basic',\n",
       " 'basic',\n",
       " 'high.school',\n",
       " 'university.degree',\n",
       " 'university.degree',\n",
       " 'high.school',\n",
       " 'basic',\n",
       " 'university.degree',\n",
       " 'basic',\n",
       " 'high.school',\n",
       " 'university.degree',\n",
       " 'unknown',\n",
       " 'unknown',\n",
       " 'basic',\n",
       " 'basic',\n",
       " 'professional.course',\n",
       " 'university.degree',\n",
       " 'university.degree',\n",
       " 'professional.course',\n",
       " 'basic',\n",
       " 'unknown',\n",
       " 'basic',\n",
       " 'unknown',\n",
       " 'university.degree',\n",
       " 'university.degree',\n",
       " 'high.school',\n",
       " 'basic',\n",
       " 'high.school',\n",
       " 'unknown',\n",
       " 'unknown',\n",
       " 'university.degree',\n",
       " 'basic',\n",
       " 'high.school',\n",
       " 'basic',\n",
       " 'university.degree',\n",
       " 'high.school',\n",
       " 'university.degree',\n",
       " 'unknown',\n",
       " 'unknown',\n",
       " 'basic',\n",
       " 'high.school',\n",
       " 'high.school',\n",
       " 'high.school',\n",
       " 'high.school',\n",
       " 'university.degree',\n",
       " 'university.degree',\n",
       " 'basic',\n",
       " 'professional.course',\n",
       " 'basic',\n",
       " 'professional.course',\n",
       " 'basic',\n",
       " 'professional.course',\n",
       " 'unknown',\n",
       " 'basic',\n",
       " 'university.degree',\n",
       " 'university.degree',\n",
       " 'basic',\n",
       " 'basic',\n",
       " 'high.school',\n",
       " 'basic',\n",
       " 'university.degree',\n",
       " 'unknown',\n",
       " 'university.degree',\n",
       " 'basic',\n",
       " 'high.school',\n",
       " 'basic',\n",
       " 'basic',\n",
       " 'high.school',\n",
       " 'university.degree',\n",
       " 'basic',\n",
       " 'basic',\n",
       " 'unknown',\n",
       " 'high.school',\n",
       " 'unknown',\n",
       " 'unknown',\n",
       " 'basic',\n",
       " 'unknown',\n",
       " 'unknown',\n",
       " 'professional.course',\n",
       " 'high.school',\n",
       " 'university.degree',\n",
       " 'basic',\n",
       " 'basic',\n",
       " 'basic',\n",
       " 'high.school',\n",
       " 'basic',\n",
       " 'high.school',\n",
       " 'unknown',\n",
       " 'unknown',\n",
       " 'university.degree',\n",
       " 'high.school',\n",
       " 'high.school',\n",
       " 'university.degree',\n",
       " 'university.degree',\n",
       " 'high.school',\n",
       " 'basic',\n",
       " 'high.school',\n",
       " 'basic',\n",
       " 'high.school',\n",
       " 'basic',\n",
       " 'high.school',\n",
       " 'basic',\n",
       " 'basic',\n",
       " 'university.degree',\n",
       " 'basic',\n",
       " 'university.degree',\n",
       " 'basic',\n",
       " 'high.school',\n",
       " 'basic',\n",
       " 'university.degree',\n",
       " 'professional.course',\n",
       " 'basic',\n",
       " 'university.degree',\n",
       " 'university.degree',\n",
       " 'basic',\n",
       " 'basic',\n",
       " 'high.school',\n",
       " 'basic',\n",
       " 'basic',\n",
       " 'basic',\n",
       " 'high.school',\n",
       " 'basic',\n",
       " 'high.school',\n",
       " 'unknown',\n",
       " 'basic',\n",
       " 'university.degree',\n",
       " 'university.degree',\n",
       " 'professional.course',\n",
       " 'basic',\n",
       " 'university.degree',\n",
       " 'basic',\n",
       " 'university.degree',\n",
       " 'university.degree',\n",
       " 'unknown',\n",
       " 'professional.course',\n",
       " 'basic',\n",
       " 'unknown',\n",
       " 'unknown',\n",
       " 'basic',\n",
       " 'high.school',\n",
       " 'high.school',\n",
       " 'unknown',\n",
       " 'basic',\n",
       " 'basic',\n",
       " 'basic',\n",
       " 'university.degree',\n",
       " 'university.degree',\n",
       " 'university.degree',\n",
       " 'basic',\n",
       " 'basic',\n",
       " 'professional.course',\n",
       " 'professional.course',\n",
       " 'basic',\n",
       " 'high.school',\n",
       " 'university.degree',\n",
       " 'professional.course',\n",
       " 'basic',\n",
       " 'high.school',\n",
       " 'high.school',\n",
       " 'university.degree',\n",
       " 'high.school',\n",
       " 'professional.course',\n",
       " 'university.degree',\n",
       " 'basic',\n",
       " 'university.degree',\n",
       " 'unknown',\n",
       " 'professional.course',\n",
       " 'high.school',\n",
       " 'high.school',\n",
       " 'high.school',\n",
       " 'professional.course',\n",
       " 'basic',\n",
       " 'basic',\n",
       " 'professional.course',\n",
       " 'unknown',\n",
       " 'high.school',\n",
       " 'basic',\n",
       " 'basic',\n",
       " 'unknown',\n",
       " 'high.school',\n",
       " 'high.school',\n",
       " 'basic',\n",
       " 'high.school',\n",
       " 'basic',\n",
       " 'university.degree',\n",
       " 'basic',\n",
       " 'university.degree',\n",
       " 'university.degree',\n",
       " 'university.degree',\n",
       " 'basic',\n",
       " 'high.school',\n",
       " 'university.degree',\n",
       " 'basic',\n",
       " 'high.school',\n",
       " 'high.school',\n",
       " 'basic',\n",
       " 'high.school',\n",
       " 'basic',\n",
       " 'basic',\n",
       " 'professional.course',\n",
       " 'basic',\n",
       " 'basic',\n",
       " 'basic',\n",
       " 'basic',\n",
       " 'basic',\n",
       " 'basic',\n",
       " 'basic',\n",
       " 'high.school',\n",
       " 'unknown',\n",
       " 'high.school',\n",
       " 'university.degree',\n",
       " 'high.school',\n",
       " 'professional.course',\n",
       " 'basic',\n",
       " 'professional.course',\n",
       " 'professional.course',\n",
       " 'high.school',\n",
       " 'university.degree',\n",
       " 'high.school',\n",
       " 'unknown',\n",
       " 'high.school',\n",
       " 'high.school',\n",
       " 'professional.course',\n",
       " 'unknown',\n",
       " 'high.school',\n",
       " 'basic',\n",
       " 'unknown',\n",
       " 'basic',\n",
       " 'university.degree',\n",
       " 'basic',\n",
       " 'university.degree',\n",
       " 'university.degree',\n",
       " 'high.school',\n",
       " 'professional.course',\n",
       " 'university.degree',\n",
       " 'basic',\n",
       " 'high.school',\n",
       " 'basic',\n",
       " 'basic',\n",
       " 'high.school',\n",
       " 'basic',\n",
       " 'basic',\n",
       " 'unknown',\n",
       " 'basic',\n",
       " 'professional.course',\n",
       " 'professional.course',\n",
       " 'university.degree',\n",
       " 'high.school',\n",
       " 'basic',\n",
       " 'high.school',\n",
       " 'high.school',\n",
       " 'basic',\n",
       " 'high.school',\n",
       " 'university.degree',\n",
       " 'high.school',\n",
       " 'high.school',\n",
       " 'professional.course',\n",
       " 'high.school',\n",
       " 'basic',\n",
       " 'university.degree',\n",
       " 'professional.course',\n",
       " 'high.school',\n",
       " 'basic',\n",
       " 'unknown',\n",
       " 'basic',\n",
       " 'high.school',\n",
       " 'professional.course',\n",
       " 'basic',\n",
       " 'university.degree',\n",
       " 'basic',\n",
       " 'basic',\n",
       " 'professional.course',\n",
       " 'university.degree',\n",
       " 'high.school',\n",
       " 'university.degree',\n",
       " 'university.degree',\n",
       " 'high.school',\n",
       " 'basic',\n",
       " 'basic',\n",
       " 'basic',\n",
       " 'high.school',\n",
       " 'university.degree',\n",
       " 'high.school',\n",
       " 'basic',\n",
       " 'university.degree',\n",
       " 'university.degree',\n",
       " 'high.school',\n",
       " 'basic',\n",
       " 'basic',\n",
       " 'high.school',\n",
       " 'basic',\n",
       " 'basic',\n",
       " 'high.school',\n",
       " 'basic',\n",
       " 'high.school',\n",
       " 'unknown',\n",
       " 'basic',\n",
       " 'university.degree',\n",
       " 'basic',\n",
       " 'university.degree',\n",
       " 'unknown',\n",
       " 'basic',\n",
       " 'university.degree',\n",
       " 'unknown',\n",
       " 'basic',\n",
       " 'basic',\n",
       " 'university.degree',\n",
       " 'basic',\n",
       " 'unknown',\n",
       " 'high.school',\n",
       " 'university.degree',\n",
       " 'high.school',\n",
       " 'university.degree',\n",
       " 'high.school',\n",
       " 'basic',\n",
       " 'professional.course',\n",
       " 'high.school',\n",
       " 'basic',\n",
       " 'university.degree',\n",
       " 'basic',\n",
       " 'high.school',\n",
       " 'high.school',\n",
       " 'high.school',\n",
       " 'university.degree',\n",
       " 'basic',\n",
       " 'university.degree',\n",
       " 'basic',\n",
       " 'high.school',\n",
       " 'high.school',\n",
       " 'basic',\n",
       " 'high.school',\n",
       " 'basic',\n",
       " 'basic',\n",
       " 'basic',\n",
       " 'basic',\n",
       " 'basic',\n",
       " 'basic',\n",
       " 'high.school',\n",
       " 'high.school',\n",
       " 'university.degree',\n",
       " 'basic',\n",
       " 'basic',\n",
       " 'basic',\n",
       " 'university.degree',\n",
       " 'basic',\n",
       " 'basic',\n",
       " 'basic',\n",
       " 'professional.course',\n",
       " 'unknown',\n",
       " 'high.school',\n",
       " 'university.degree',\n",
       " 'basic',\n",
       " 'university.degree',\n",
       " 'professional.course',\n",
       " 'unknown',\n",
       " 'professional.course',\n",
       " 'basic',\n",
       " 'professional.course',\n",
       " 'university.degree',\n",
       " 'unknown',\n",
       " 'professional.course',\n",
       " 'university.degree',\n",
       " 'basic',\n",
       " 'university.degree',\n",
       " 'basic',\n",
       " 'unknown',\n",
       " 'professional.course',\n",
       " 'basic',\n",
       " 'basic',\n",
       " 'basic',\n",
       " 'basic',\n",
       " 'basic',\n",
       " 'university.degree',\n",
       " 'university.degree',\n",
       " 'professional.course',\n",
       " 'high.school',\n",
       " 'professional.course',\n",
       " 'basic',\n",
       " 'basic',\n",
       " 'basic',\n",
       " 'basic',\n",
       " 'high.school',\n",
       " 'university.degree',\n",
       " 'basic',\n",
       " 'high.school',\n",
       " 'high.school',\n",
       " 'basic',\n",
       " 'professional.course',\n",
       " 'basic',\n",
       " 'university.degree',\n",
       " 'professional.course',\n",
       " 'professional.course',\n",
       " 'high.school',\n",
       " 'university.degree',\n",
       " 'basic',\n",
       " 'basic',\n",
       " 'unknown',\n",
       " 'basic',\n",
       " 'university.degree',\n",
       " 'unknown',\n",
       " 'high.school',\n",
       " 'high.school',\n",
       " 'basic',\n",
       " 'unknown',\n",
       " 'basic',\n",
       " 'university.degree',\n",
       " 'university.degree',\n",
       " 'professional.course',\n",
       " 'professional.course',\n",
       " 'unknown',\n",
       " 'university.degree',\n",
       " 'basic',\n",
       " 'basic',\n",
       " 'basic',\n",
       " 'university.degree',\n",
       " 'high.school',\n",
       " 'professional.course',\n",
       " 'university.degree',\n",
       " 'professional.course',\n",
       " 'basic',\n",
       " 'university.degree',\n",
       " 'basic',\n",
       " 'basic',\n",
       " 'high.school',\n",
       " 'high.school',\n",
       " 'university.degree',\n",
       " 'university.degree',\n",
       " 'unknown',\n",
       " 'university.degree',\n",
       " 'high.school',\n",
       " 'basic',\n",
       " 'high.school',\n",
       " 'university.degree',\n",
       " 'basic',\n",
       " 'high.school',\n",
       " 'unknown',\n",
       " 'basic',\n",
       " 'basic',\n",
       " 'unknown',\n",
       " 'unknown',\n",
       " 'basic',\n",
       " 'basic',\n",
       " 'basic',\n",
       " 'basic',\n",
       " 'high.school',\n",
       " 'unknown',\n",
       " 'high.school',\n",
       " 'high.school',\n",
       " 'university.degree',\n",
       " 'high.school',\n",
       " 'high.school',\n",
       " 'high.school',\n",
       " 'basic',\n",
       " 'basic',\n",
       " 'high.school',\n",
       " 'high.school',\n",
       " 'high.school',\n",
       " 'basic',\n",
       " 'basic',\n",
       " 'university.degree',\n",
       " 'unknown',\n",
       " 'basic',\n",
       " 'professional.course',\n",
       " 'university.degree',\n",
       " 'high.school',\n",
       " 'professional.course',\n",
       " 'university.degree',\n",
       " 'high.school',\n",
       " 'university.degree',\n",
       " 'basic',\n",
       " 'university.degree',\n",
       " 'basic',\n",
       " 'basic',\n",
       " 'university.degree',\n",
       " 'basic',\n",
       " 'basic',\n",
       " 'high.school',\n",
       " 'basic',\n",
       " 'basic',\n",
       " 'basic',\n",
       " 'basic',\n",
       " 'basic',\n",
       " 'basic',\n",
       " 'university.degree',\n",
       " 'university.degree',\n",
       " 'basic',\n",
       " 'high.school',\n",
       " 'unknown',\n",
       " 'university.degree',\n",
       " 'university.degree',\n",
       " 'professional.course',\n",
       " 'professional.course',\n",
       " 'basic',\n",
       " 'basic',\n",
       " 'high.school',\n",
       " 'high.school',\n",
       " 'high.school',\n",
       " 'high.school',\n",
       " 'university.degree',\n",
       " 'unknown',\n",
       " 'university.degree',\n",
       " 'basic',\n",
       " 'unknown',\n",
       " 'professional.course',\n",
       " 'unknown',\n",
       " 'university.degree',\n",
       " 'university.degree',\n",
       " 'basic',\n",
       " 'basic',\n",
       " 'basic',\n",
       " 'professional.course',\n",
       " 'professional.course',\n",
       " 'university.degree',\n",
       " 'high.school',\n",
       " 'university.degree',\n",
       " 'professional.course',\n",
       " 'basic',\n",
       " 'professional.course',\n",
       " 'university.degree',\n",
       " 'high.school',\n",
       " 'university.degree',\n",
       " 'basic',\n",
       " 'basic',\n",
       " 'high.school',\n",
       " 'university.degree',\n",
       " 'university.degree',\n",
       " 'high.school',\n",
       " 'basic',\n",
       " 'basic',\n",
       " 'high.school',\n",
       " 'basic',\n",
       " 'high.school',\n",
       " 'basic',\n",
       " 'university.degree',\n",
       " 'university.degree',\n",
       " 'basic',\n",
       " 'high.school',\n",
       " 'basic',\n",
       " 'professional.course',\n",
       " 'basic',\n",
       " 'university.degree',\n",
       " 'professional.course',\n",
       " 'professional.course',\n",
       " 'high.school',\n",
       " 'unknown',\n",
       " 'basic',\n",
       " 'professional.course',\n",
       " 'basic',\n",
       " 'unknown',\n",
       " 'professional.course',\n",
       " 'university.degree',\n",
       " 'university.degree',\n",
       " 'basic',\n",
       " 'basic',\n",
       " 'university.degree',\n",
       " 'professional.course',\n",
       " 'university.degree',\n",
       " 'university.degree',\n",
       " 'unknown',\n",
       " 'university.degree',\n",
       " 'basic',\n",
       " 'high.school',\n",
       " 'basic',\n",
       " 'high.school',\n",
       " 'professional.course',\n",
       " 'university.degree',\n",
       " 'university.degree',\n",
       " 'high.school',\n",
       " 'basic',\n",
       " 'high.school',\n",
       " 'high.school',\n",
       " 'high.school',\n",
       " 'basic',\n",
       " 'basic',\n",
       " 'unknown',\n",
       " 'high.school',\n",
       " 'basic',\n",
       " 'university.degree',\n",
       " 'university.degree',\n",
       " 'university.degree',\n",
       " 'basic',\n",
       " 'unknown',\n",
       " 'high.school',\n",
       " 'university.degree',\n",
       " 'basic',\n",
       " 'basic',\n",
       " 'university.degree',\n",
       " 'university.degree',\n",
       " 'basic',\n",
       " 'high.school',\n",
       " 'university.degree',\n",
       " 'high.school',\n",
       " 'high.school',\n",
       " 'high.school',\n",
       " 'high.school',\n",
       " 'professional.course',\n",
       " 'high.school',\n",
       " 'university.degree',\n",
       " 'professional.course',\n",
       " 'university.degree',\n",
       " 'basic',\n",
       " 'professional.course',\n",
       " 'university.degree',\n",
       " 'professional.course',\n",
       " 'high.school',\n",
       " 'basic',\n",
       " 'basic',\n",
       " 'high.school',\n",
       " 'professional.course',\n",
       " 'university.degree',\n",
       " 'university.degree',\n",
       " 'university.degree',\n",
       " 'high.school',\n",
       " 'basic',\n",
       " 'university.degree',\n",
       " 'high.school',\n",
       " 'basic',\n",
       " 'basic',\n",
       " 'basic',\n",
       " 'university.degree',\n",
       " 'basic',\n",
       " 'basic',\n",
       " 'basic',\n",
       " 'university.degree',\n",
       " 'basic',\n",
       " 'university.degree',\n",
       " 'university.degree',\n",
       " 'basic',\n",
       " 'high.school',\n",
       " 'university.degree',\n",
       " 'basic',\n",
       " 'university.degree',\n",
       " 'university.degree',\n",
       " 'university.degree',\n",
       " 'high.school',\n",
       " 'basic',\n",
       " 'university.degree',\n",
       " 'high.school',\n",
       " 'basic',\n",
       " 'basic',\n",
       " 'university.degree',\n",
       " 'basic',\n",
       " 'basic',\n",
       " 'basic',\n",
       " 'high.school',\n",
       " 'basic',\n",
       " 'high.school',\n",
       " 'university.degree',\n",
       " 'basic',\n",
       " 'professional.course',\n",
       " 'unknown',\n",
       " 'professional.course',\n",
       " 'high.school',\n",
       " 'basic',\n",
       " 'university.degree',\n",
       " 'basic',\n",
       " 'basic',\n",
       " 'high.school',\n",
       " 'university.degree',\n",
       " 'unknown',\n",
       " 'high.school',\n",
       " 'basic',\n",
       " 'basic',\n",
       " 'professional.course',\n",
       " 'basic',\n",
       " 'basic',\n",
       " 'basic',\n",
       " 'high.school',\n",
       " 'university.degree',\n",
       " 'professional.course',\n",
       " 'basic',\n",
       " 'basic',\n",
       " 'professional.course',\n",
       " 'university.degree',\n",
       " 'high.school',\n",
       " 'basic',\n",
       " 'university.degree',\n",
       " 'basic',\n",
       " 'basic',\n",
       " 'professional.course',\n",
       " 'basic',\n",
       " 'basic',\n",
       " 'high.school',\n",
       " 'university.degree',\n",
       " 'professional.course',\n",
       " 'university.degree',\n",
       " 'university.degree',\n",
       " 'university.degree',\n",
       " 'unknown',\n",
       " 'high.school',\n",
       " 'basic',\n",
       " 'unknown',\n",
       " 'unknown',\n",
       " 'professional.course',\n",
       " 'basic',\n",
       " 'basic',\n",
       " 'unknown',\n",
       " 'basic',\n",
       " 'high.school',\n",
       " 'high.school',\n",
       " 'basic',\n",
       " 'high.school',\n",
       " 'professional.course',\n",
       " 'basic',\n",
       " 'basic',\n",
       " 'university.degree',\n",
       " 'basic',\n",
       " 'basic',\n",
       " 'professional.course',\n",
       " 'basic',\n",
       " 'basic',\n",
       " 'university.degree',\n",
       " 'high.school',\n",
       " 'basic',\n",
       " 'basic',\n",
       " 'unknown',\n",
       " 'high.school',\n",
       " 'unknown',\n",
       " 'basic',\n",
       " 'basic',\n",
       " 'basic',\n",
       " 'high.school',\n",
       " 'professional.course',\n",
       " 'university.degree',\n",
       " 'high.school',\n",
       " 'basic',\n",
       " 'unknown',\n",
       " 'university.degree',\n",
       " 'high.school',\n",
       " 'university.degree',\n",
       " 'high.school',\n",
       " 'high.school',\n",
       " 'high.school',\n",
       " 'university.degree',\n",
       " 'high.school',\n",
       " 'basic',\n",
       " 'unknown',\n",
       " 'basic',\n",
       " 'high.school',\n",
       " 'basic',\n",
       " 'university.degree',\n",
       " 'university.degree',\n",
       " 'basic',\n",
       " 'university.degree',\n",
       " 'high.school',\n",
       " 'professional.course',\n",
       " 'professional.course',\n",
       " 'university.degree',\n",
       " 'basic',\n",
       " 'university.degree',\n",
       " 'basic',\n",
       " 'high.school',\n",
       " 'basic',\n",
       " 'high.school',\n",
       " 'basic',\n",
       " 'basic',\n",
       " 'high.school',\n",
       " 'basic',\n",
       " 'professional.course',\n",
       " 'university.degree',\n",
       " 'unknown',\n",
       " 'professional.course',\n",
       " 'basic',\n",
       " 'university.degree',\n",
       " 'high.school',\n",
       " 'basic',\n",
       " 'high.school',\n",
       " 'high.school',\n",
       " 'professional.course',\n",
       " 'university.degree',\n",
       " 'basic',\n",
       " 'basic',\n",
       " 'basic',\n",
       " 'basic',\n",
       " 'basic',\n",
       " 'university.degree',\n",
       " 'university.degree',\n",
       " 'professional.course',\n",
       " 'basic',\n",
       " 'unknown',\n",
       " 'university.degree',\n",
       " 'basic',\n",
       " 'professional.course',\n",
       " 'university.degree',\n",
       " 'unknown',\n",
       " 'high.school',\n",
       " 'professional.course',\n",
       " 'professional.course',\n",
       " 'unknown',\n",
       " 'university.degree',\n",
       " 'basic',\n",
       " 'high.school',\n",
       " 'high.school',\n",
       " 'high.school',\n",
       " 'university.degree',\n",
       " 'basic',\n",
       " 'basic',\n",
       " 'university.degree',\n",
       " 'basic',\n",
       " 'high.school',\n",
       " 'high.school',\n",
       " 'basic',\n",
       " 'university.degree',\n",
       " 'basic',\n",
       " 'unknown',\n",
       " 'high.school',\n",
       " 'professional.course',\n",
       " 'university.degree',\n",
       " 'professional.course',\n",
       " 'university.degree',\n",
       " 'unknown',\n",
       " 'basic',\n",
       " 'basic',\n",
       " 'high.school',\n",
       " 'professional.course',\n",
       " 'high.school',\n",
       " 'basic',\n",
       " 'basic',\n",
       " 'basic',\n",
       " 'professional.course',\n",
       " 'professional.course',\n",
       " 'basic',\n",
       " 'basic',\n",
       " 'university.degree',\n",
       " 'basic',\n",
       " 'professional.course',\n",
       " 'basic',\n",
       " 'basic',\n",
       " 'high.school',\n",
       " 'unknown',\n",
       " 'basic',\n",
       " 'basic',\n",
       " 'professional.course',\n",
       " 'high.school',\n",
       " 'basic',\n",
       " 'high.school',\n",
       " 'basic',\n",
       " 'basic',\n",
       " 'basic',\n",
       " 'high.school',\n",
       " 'basic',\n",
       " 'basic',\n",
       " 'basic',\n",
       " 'basic',\n",
       " 'university.degree',\n",
       " 'university.degree',\n",
       " 'high.school',\n",
       " 'basic',\n",
       " 'basic',\n",
       " 'high.school',\n",
       " 'basic',\n",
       " 'high.school',\n",
       " 'basic',\n",
       " 'high.school',\n",
       " 'basic',\n",
       " 'high.school',\n",
       " 'basic',\n",
       " 'university.degree',\n",
       " 'university.degree',\n",
       " 'professional.course',\n",
       " 'university.degree',\n",
       " 'basic',\n",
       " 'high.school',\n",
       " 'basic',\n",
       " 'high.school',\n",
       " 'university.degree',\n",
       " 'basic',\n",
       " 'basic',\n",
       " 'high.school',\n",
       " 'basic',\n",
       " 'high.school',\n",
       " 'unknown',\n",
       " 'high.school',\n",
       " 'basic',\n",
       " 'basic',\n",
       " 'professional.course',\n",
       " 'unknown',\n",
       " 'basic',\n",
       " 'basic',\n",
       " 'basic',\n",
       " 'high.school',\n",
       " 'unknown',\n",
       " 'professional.course',\n",
       " 'basic',\n",
       " 'basic',\n",
       " 'unknown',\n",
       " 'university.degree',\n",
       " 'basic',\n",
       " 'professional.course',\n",
       " 'university.degree',\n",
       " 'basic',\n",
       " 'unknown',\n",
       " 'basic',\n",
       " 'university.degree',\n",
       " 'basic',\n",
       " 'basic',\n",
       " 'basic',\n",
       " 'university.degree',\n",
       " 'high.school',\n",
       " 'basic',\n",
       " 'university.degree',\n",
       " 'basic',\n",
       " 'university.degree',\n",
       " 'university.degree',\n",
       " 'basic',\n",
       " 'university.degree',\n",
       " 'basic',\n",
       " 'professional.course',\n",
       " 'university.degree',\n",
       " 'basic',\n",
       " 'high.school',\n",
       " 'high.school',\n",
       " 'basic',\n",
       " 'basic',\n",
       " 'basic',\n",
       " 'basic',\n",
       " 'high.school',\n",
       " 'basic',\n",
       " 'basic',\n",
       " 'unknown',\n",
       " ...]"
      ]
     },
     "execution_count": 27,
     "metadata": {},
     "output_type": "execute_result"
    }
   ],
   "source": [
    "edu"
   ]
  },
  {
   "cell_type": "code",
   "execution_count": 28,
   "metadata": {},
   "outputs": [
    {
     "data": {
      "text/html": [
       "<div>\n",
       "<style scoped>\n",
       "    .dataframe tbody tr th:only-of-type {\n",
       "        vertical-align: middle;\n",
       "    }\n",
       "\n",
       "    .dataframe tbody tr th {\n",
       "        vertical-align: top;\n",
       "    }\n",
       "\n",
       "    .dataframe thead th {\n",
       "        text-align: right;\n",
       "    }\n",
       "</style>\n",
       "<table border=\"1\" class=\"dataframe\">\n",
       "  <thead>\n",
       "    <tr style=\"text-align: right;\">\n",
       "      <th></th>\n",
       "      <th>age</th>\n",
       "      <th>job</th>\n",
       "      <th>marital</th>\n",
       "      <th>education</th>\n",
       "      <th>default</th>\n",
       "      <th>housing</th>\n",
       "      <th>loan</th>\n",
       "      <th>contact</th>\n",
       "      <th>month</th>\n",
       "      <th>day_of_week</th>\n",
       "      <th>duration</th>\n",
       "      <th>campaign</th>\n",
       "      <th>pdays</th>\n",
       "      <th>previous</th>\n",
       "      <th>poutcome</th>\n",
       "      <th>emp.var.rate</th>\n",
       "      <th>cons.price.idx</th>\n",
       "      <th>cons.conf.idx</th>\n",
       "      <th>euribor3m</th>\n",
       "      <th>nr.employed</th>\n",
       "      <th>y</th>\n",
       "    </tr>\n",
       "  </thead>\n",
       "  <tbody>\n",
       "    <tr>\n",
       "      <th>0</th>\n",
       "      <td>56</td>\n",
       "      <td>housemaid</td>\n",
       "      <td>married</td>\n",
       "      <td>basic.4y</td>\n",
       "      <td>no</td>\n",
       "      <td>no</td>\n",
       "      <td>no</td>\n",
       "      <td>telephone</td>\n",
       "      <td>may</td>\n",
       "      <td>mon</td>\n",
       "      <td>261</td>\n",
       "      <td>1</td>\n",
       "      <td>999</td>\n",
       "      <td>0</td>\n",
       "      <td>nonexistent</td>\n",
       "      <td>1.1</td>\n",
       "      <td>93.994</td>\n",
       "      <td>-36.4</td>\n",
       "      <td>4.857</td>\n",
       "      <td>5191.0</td>\n",
       "      <td>no</td>\n",
       "    </tr>\n",
       "    <tr>\n",
       "      <th>1</th>\n",
       "      <td>57</td>\n",
       "      <td>services</td>\n",
       "      <td>married</td>\n",
       "      <td>high.school</td>\n",
       "      <td>unknown</td>\n",
       "      <td>no</td>\n",
       "      <td>no</td>\n",
       "      <td>telephone</td>\n",
       "      <td>may</td>\n",
       "      <td>mon</td>\n",
       "      <td>149</td>\n",
       "      <td>1</td>\n",
       "      <td>999</td>\n",
       "      <td>0</td>\n",
       "      <td>nonexistent</td>\n",
       "      <td>1.1</td>\n",
       "      <td>93.994</td>\n",
       "      <td>-36.4</td>\n",
       "      <td>4.857</td>\n",
       "      <td>5191.0</td>\n",
       "      <td>no</td>\n",
       "    </tr>\n",
       "    <tr>\n",
       "      <th>2</th>\n",
       "      <td>37</td>\n",
       "      <td>services</td>\n",
       "      <td>married</td>\n",
       "      <td>high.school</td>\n",
       "      <td>no</td>\n",
       "      <td>yes</td>\n",
       "      <td>no</td>\n",
       "      <td>telephone</td>\n",
       "      <td>may</td>\n",
       "      <td>mon</td>\n",
       "      <td>226</td>\n",
       "      <td>1</td>\n",
       "      <td>999</td>\n",
       "      <td>0</td>\n",
       "      <td>nonexistent</td>\n",
       "      <td>1.1</td>\n",
       "      <td>93.994</td>\n",
       "      <td>-36.4</td>\n",
       "      <td>4.857</td>\n",
       "      <td>5191.0</td>\n",
       "      <td>no</td>\n",
       "    </tr>\n",
       "    <tr>\n",
       "      <th>3</th>\n",
       "      <td>40</td>\n",
       "      <td>admin.</td>\n",
       "      <td>married</td>\n",
       "      <td>basic.6y</td>\n",
       "      <td>no</td>\n",
       "      <td>no</td>\n",
       "      <td>no</td>\n",
       "      <td>telephone</td>\n",
       "      <td>may</td>\n",
       "      <td>mon</td>\n",
       "      <td>151</td>\n",
       "      <td>1</td>\n",
       "      <td>999</td>\n",
       "      <td>0</td>\n",
       "      <td>nonexistent</td>\n",
       "      <td>1.1</td>\n",
       "      <td>93.994</td>\n",
       "      <td>-36.4</td>\n",
       "      <td>4.857</td>\n",
       "      <td>5191.0</td>\n",
       "      <td>no</td>\n",
       "    </tr>\n",
       "    <tr>\n",
       "      <th>4</th>\n",
       "      <td>56</td>\n",
       "      <td>services</td>\n",
       "      <td>married</td>\n",
       "      <td>high.school</td>\n",
       "      <td>no</td>\n",
       "      <td>no</td>\n",
       "      <td>yes</td>\n",
       "      <td>telephone</td>\n",
       "      <td>may</td>\n",
       "      <td>mon</td>\n",
       "      <td>307</td>\n",
       "      <td>1</td>\n",
       "      <td>999</td>\n",
       "      <td>0</td>\n",
       "      <td>nonexistent</td>\n",
       "      <td>1.1</td>\n",
       "      <td>93.994</td>\n",
       "      <td>-36.4</td>\n",
       "      <td>4.857</td>\n",
       "      <td>5191.0</td>\n",
       "      <td>no</td>\n",
       "    </tr>\n",
       "  </tbody>\n",
       "</table>\n",
       "</div>"
      ],
      "text/plain": [
       "   age        job  marital    education  default housing loan    contact  \\\n",
       "0   56  housemaid  married     basic.4y       no      no   no  telephone   \n",
       "1   57   services  married  high.school  unknown      no   no  telephone   \n",
       "2   37   services  married  high.school       no     yes   no  telephone   \n",
       "3   40     admin.  married     basic.6y       no      no   no  telephone   \n",
       "4   56   services  married  high.school       no      no  yes  telephone   \n",
       "\n",
       "  month day_of_week  duration  campaign  pdays  previous     poutcome  \\\n",
       "0   may         mon       261         1    999         0  nonexistent   \n",
       "1   may         mon       149         1    999         0  nonexistent   \n",
       "2   may         mon       226         1    999         0  nonexistent   \n",
       "3   may         mon       151         1    999         0  nonexistent   \n",
       "4   may         mon       307         1    999         0  nonexistent   \n",
       "\n",
       "   emp.var.rate  cons.price.idx  cons.conf.idx  euribor3m  nr.employed   y  \n",
       "0           1.1          93.994          -36.4      4.857       5191.0  no  \n",
       "1           1.1          93.994          -36.4      4.857       5191.0  no  \n",
       "2           1.1          93.994          -36.4      4.857       5191.0  no  \n",
       "3           1.1          93.994          -36.4      4.857       5191.0  no  \n",
       "4           1.1          93.994          -36.4      4.857       5191.0  no  "
      ]
     },
     "execution_count": 28,
     "metadata": {},
     "output_type": "execute_result"
    }
   ],
   "source": [
    "bank.head()"
   ]
  },
  {
   "cell_type": "code",
   "execution_count": 15,
   "metadata": {},
   "outputs": [],
   "source": [
    "bank_ml['education'] = edu"
   ]
  },
  {
   "cell_type": "code",
   "execution_count": 30,
   "metadata": {},
   "outputs": [
    {
     "data": {
      "text/html": [
       "<div>\n",
       "<style scoped>\n",
       "    .dataframe tbody tr th:only-of-type {\n",
       "        vertical-align: middle;\n",
       "    }\n",
       "\n",
       "    .dataframe tbody tr th {\n",
       "        vertical-align: top;\n",
       "    }\n",
       "\n",
       "    .dataframe thead th {\n",
       "        text-align: right;\n",
       "    }\n",
       "</style>\n",
       "<table border=\"1\" class=\"dataframe\">\n",
       "  <thead>\n",
       "    <tr style=\"text-align: right;\">\n",
       "      <th></th>\n",
       "      <th>age</th>\n",
       "      <th>job</th>\n",
       "      <th>marital</th>\n",
       "      <th>education</th>\n",
       "      <th>default</th>\n",
       "      <th>housing</th>\n",
       "      <th>loan</th>\n",
       "      <th>contact</th>\n",
       "      <th>month</th>\n",
       "      <th>day_of_week</th>\n",
       "      <th>campaign</th>\n",
       "      <th>previous</th>\n",
       "      <th>cons.price.idx</th>\n",
       "      <th>cons.conf.idx</th>\n",
       "      <th>euribor3m</th>\n",
       "      <th>y</th>\n",
       "    </tr>\n",
       "  </thead>\n",
       "  <tbody>\n",
       "    <tr>\n",
       "      <th>0</th>\n",
       "      <td>56</td>\n",
       "      <td>housemaid</td>\n",
       "      <td>married</td>\n",
       "      <td>basic</td>\n",
       "      <td>no</td>\n",
       "      <td>no</td>\n",
       "      <td>no</td>\n",
       "      <td>telephone</td>\n",
       "      <td>may</td>\n",
       "      <td>mon</td>\n",
       "      <td>1</td>\n",
       "      <td>0</td>\n",
       "      <td>93.994</td>\n",
       "      <td>-36.4</td>\n",
       "      <td>4.857</td>\n",
       "      <td>no</td>\n",
       "    </tr>\n",
       "    <tr>\n",
       "      <th>1</th>\n",
       "      <td>57</td>\n",
       "      <td>services</td>\n",
       "      <td>married</td>\n",
       "      <td>high.school</td>\n",
       "      <td>unknown</td>\n",
       "      <td>no</td>\n",
       "      <td>no</td>\n",
       "      <td>telephone</td>\n",
       "      <td>may</td>\n",
       "      <td>mon</td>\n",
       "      <td>1</td>\n",
       "      <td>0</td>\n",
       "      <td>93.994</td>\n",
       "      <td>-36.4</td>\n",
       "      <td>4.857</td>\n",
       "      <td>no</td>\n",
       "    </tr>\n",
       "    <tr>\n",
       "      <th>2</th>\n",
       "      <td>37</td>\n",
       "      <td>services</td>\n",
       "      <td>married</td>\n",
       "      <td>high.school</td>\n",
       "      <td>no</td>\n",
       "      <td>yes</td>\n",
       "      <td>no</td>\n",
       "      <td>telephone</td>\n",
       "      <td>may</td>\n",
       "      <td>mon</td>\n",
       "      <td>1</td>\n",
       "      <td>0</td>\n",
       "      <td>93.994</td>\n",
       "      <td>-36.4</td>\n",
       "      <td>4.857</td>\n",
       "      <td>no</td>\n",
       "    </tr>\n",
       "    <tr>\n",
       "      <th>3</th>\n",
       "      <td>40</td>\n",
       "      <td>admin.</td>\n",
       "      <td>married</td>\n",
       "      <td>basic</td>\n",
       "      <td>no</td>\n",
       "      <td>no</td>\n",
       "      <td>no</td>\n",
       "      <td>telephone</td>\n",
       "      <td>may</td>\n",
       "      <td>mon</td>\n",
       "      <td>1</td>\n",
       "      <td>0</td>\n",
       "      <td>93.994</td>\n",
       "      <td>-36.4</td>\n",
       "      <td>4.857</td>\n",
       "      <td>no</td>\n",
       "    </tr>\n",
       "    <tr>\n",
       "      <th>4</th>\n",
       "      <td>56</td>\n",
       "      <td>services</td>\n",
       "      <td>married</td>\n",
       "      <td>high.school</td>\n",
       "      <td>no</td>\n",
       "      <td>no</td>\n",
       "      <td>yes</td>\n",
       "      <td>telephone</td>\n",
       "      <td>may</td>\n",
       "      <td>mon</td>\n",
       "      <td>1</td>\n",
       "      <td>0</td>\n",
       "      <td>93.994</td>\n",
       "      <td>-36.4</td>\n",
       "      <td>4.857</td>\n",
       "      <td>no</td>\n",
       "    </tr>\n",
       "  </tbody>\n",
       "</table>\n",
       "</div>"
      ],
      "text/plain": [
       "   age        job  marital    education  default housing loan    contact  \\\n",
       "0   56  housemaid  married        basic       no      no   no  telephone   \n",
       "1   57   services  married  high.school  unknown      no   no  telephone   \n",
       "2   37   services  married  high.school       no     yes   no  telephone   \n",
       "3   40     admin.  married        basic       no      no   no  telephone   \n",
       "4   56   services  married  high.school       no      no  yes  telephone   \n",
       "\n",
       "  month day_of_week  campaign  previous  cons.price.idx  cons.conf.idx  \\\n",
       "0   may         mon         1         0          93.994          -36.4   \n",
       "1   may         mon         1         0          93.994          -36.4   \n",
       "2   may         mon         1         0          93.994          -36.4   \n",
       "3   may         mon         1         0          93.994          -36.4   \n",
       "4   may         mon         1         0          93.994          -36.4   \n",
       "\n",
       "   euribor3m   y  \n",
       "0      4.857  no  \n",
       "1      4.857  no  \n",
       "2      4.857  no  \n",
       "3      4.857  no  \n",
       "4      4.857  no  "
      ]
     },
     "execution_count": 30,
     "metadata": {},
     "output_type": "execute_result"
    }
   ],
   "source": [
    "bank_ml.head()"
   ]
  },
  {
   "cell_type": "code",
   "execution_count": 16,
   "metadata": {},
   "outputs": [],
   "source": [
    "# updating the numcol and catcol\n",
    "numcol = bank_ml.select_dtypes('number').columns\n",
    "catcol = bank_ml.select_dtypes('object').columns"
   ]
  },
  {
   "cell_type": "markdown",
   "metadata": {},
   "source": [
    "### Hypothesis Testing\n",
    "Let's do the significant check for both out numerical and categorical features"
   ]
  },
  {
   "cell_type": "code",
   "execution_count": 32,
   "metadata": {},
   "outputs": [
    {
     "data": {
      "text/plain": [
       "Index(['age', 'campaign', 'previous', 'cons.price.idx', 'cons.conf.idx',\n",
       "       'euribor3m'],\n",
       "      dtype='object')"
      ]
     },
     "execution_count": 32,
     "metadata": {},
     "output_type": "execute_result"
    }
   ],
   "source": [
    "numcol"
   ]
  },
  {
   "cell_type": "code",
   "execution_count": 17,
   "metadata": {},
   "outputs": [
    {
     "data": {
      "text/html": [
       "<div>\n",
       "<style scoped>\n",
       "    .dataframe tbody tr th:only-of-type {\n",
       "        vertical-align: middle;\n",
       "    }\n",
       "\n",
       "    .dataframe tbody tr th {\n",
       "        vertical-align: top;\n",
       "    }\n",
       "\n",
       "    .dataframe thead th {\n",
       "        text-align: right;\n",
       "    }\n",
       "</style>\n",
       "<table border=\"1\" class=\"dataframe\">\n",
       "  <thead>\n",
       "    <tr style=\"text-align: right;\">\n",
       "      <th></th>\n",
       "      <th>Columns</th>\n",
       "      <th>Hypothesis</th>\n",
       "    </tr>\n",
       "  </thead>\n",
       "  <tbody>\n",
       "    <tr>\n",
       "      <th>0</th>\n",
       "      <td>age</td>\n",
       "      <td>Reject Null Hypothesis</td>\n",
       "    </tr>\n",
       "    <tr>\n",
       "      <th>1</th>\n",
       "      <td>campaign</td>\n",
       "      <td>Reject Null Hypothesis</td>\n",
       "    </tr>\n",
       "    <tr>\n",
       "      <th>2</th>\n",
       "      <td>previous</td>\n",
       "      <td>Reject Null Hypothesis</td>\n",
       "    </tr>\n",
       "    <tr>\n",
       "      <th>3</th>\n",
       "      <td>cons.price.idx</td>\n",
       "      <td>Reject Null Hypothesis</td>\n",
       "    </tr>\n",
       "    <tr>\n",
       "      <th>4</th>\n",
       "      <td>cons.conf.idx</td>\n",
       "      <td>Reject Null Hypothesis</td>\n",
       "    </tr>\n",
       "    <tr>\n",
       "      <th>5</th>\n",
       "      <td>euribor3m</td>\n",
       "      <td>Reject Null Hypothesis</td>\n",
       "    </tr>\n",
       "  </tbody>\n",
       "</table>\n",
       "</div>"
      ],
      "text/plain": [
       "          Columns              Hypothesis\n",
       "0             age  Reject Null Hypothesis\n",
       "1        campaign  Reject Null Hypothesis\n",
       "2        previous  Reject Null Hypothesis\n",
       "3  cons.price.idx  Reject Null Hypothesis\n",
       "4   cons.conf.idx  Reject Null Hypothesis\n",
       "5       euribor3m  Reject Null Hypothesis"
      ]
     },
     "execution_count": 17,
     "metadata": {},
     "output_type": "execute_result"
    }
   ],
   "source": [
    "# We did this already in the EDA, but it's nice to put it here again\n",
    "# We know they are all not following normal distribution, thus directly using Mann Whitney U\n",
    "# Numerical columns\n",
    "\n",
    "from scipy.stats import mannwhitneyu\n",
    "mann = []\n",
    "for i in numcol:\n",
    "    if mannwhitneyu(bank_ml[bank_ml['y'] == 'yes'][i], \n",
    "                    bank_ml[bank_ml['y'] == 'no'][i])[1] < 0.05:\n",
    "        mann.append('Reject Null Hypothesis')\n",
    "    else:\n",
    "        mann.append('Fail to Reject Null Hypothesis')\n",
    "\n",
    "res = pd.DataFrame(data = [numcol, mann]).T\n",
    "res.columns = ['Columns', 'Hypothesis']\n",
    "res"
   ]
  },
  {
   "cell_type": "markdown",
   "metadata": {},
   "source": [
    "> Here we see that all the numerical features are significant for our target\n",
    "\n",
    "> We continue to check the significance of the categorical columns.\n",
    "* For categorical column, we need to convert them into dummies first, because we still need 'number' to check the significance and later for predictive analysis"
   ]
  },
  {
   "cell_type": "code",
   "execution_count": 34,
   "metadata": {},
   "outputs": [
    {
     "data": {
      "text/plain": [
       "Index(['job', 'marital', 'education', 'default', 'housing', 'loan', 'contact',\n",
       "       'month', 'day_of_week', 'y'],\n",
       "      dtype='object')"
      ]
     },
     "execution_count": 34,
     "metadata": {},
     "output_type": "execute_result"
    }
   ],
   "source": [
    "catcol"
   ]
  },
  {
   "cell_type": "code",
   "execution_count": 18,
   "metadata": {},
   "outputs": [],
   "source": [
    "# Categorical column\n",
    "bank_dummies = bank_ml.drop('y', axis = 1)"
   ]
  },
  {
   "cell_type": "code",
   "execution_count": 36,
   "metadata": {
    "scrolled": true
   },
   "outputs": [
    {
     "data": {
      "text/html": [
       "<div>\n",
       "<style scoped>\n",
       "    .dataframe tbody tr th:only-of-type {\n",
       "        vertical-align: middle;\n",
       "    }\n",
       "\n",
       "    .dataframe tbody tr th {\n",
       "        vertical-align: top;\n",
       "    }\n",
       "\n",
       "    .dataframe thead th {\n",
       "        text-align: right;\n",
       "    }\n",
       "</style>\n",
       "<table border=\"1\" class=\"dataframe\">\n",
       "  <thead>\n",
       "    <tr style=\"text-align: right;\">\n",
       "      <th></th>\n",
       "      <th>age</th>\n",
       "      <th>job</th>\n",
       "      <th>marital</th>\n",
       "      <th>education</th>\n",
       "      <th>default</th>\n",
       "      <th>housing</th>\n",
       "      <th>loan</th>\n",
       "      <th>contact</th>\n",
       "      <th>month</th>\n",
       "      <th>day_of_week</th>\n",
       "      <th>campaign</th>\n",
       "      <th>previous</th>\n",
       "      <th>cons.price.idx</th>\n",
       "      <th>cons.conf.idx</th>\n",
       "      <th>euribor3m</th>\n",
       "    </tr>\n",
       "  </thead>\n",
       "  <tbody>\n",
       "    <tr>\n",
       "      <th>0</th>\n",
       "      <td>56</td>\n",
       "      <td>housemaid</td>\n",
       "      <td>married</td>\n",
       "      <td>basic</td>\n",
       "      <td>no</td>\n",
       "      <td>no</td>\n",
       "      <td>no</td>\n",
       "      <td>telephone</td>\n",
       "      <td>may</td>\n",
       "      <td>mon</td>\n",
       "      <td>1</td>\n",
       "      <td>0</td>\n",
       "      <td>93.994</td>\n",
       "      <td>-36.4</td>\n",
       "      <td>4.857</td>\n",
       "    </tr>\n",
       "    <tr>\n",
       "      <th>1</th>\n",
       "      <td>57</td>\n",
       "      <td>services</td>\n",
       "      <td>married</td>\n",
       "      <td>high.school</td>\n",
       "      <td>unknown</td>\n",
       "      <td>no</td>\n",
       "      <td>no</td>\n",
       "      <td>telephone</td>\n",
       "      <td>may</td>\n",
       "      <td>mon</td>\n",
       "      <td>1</td>\n",
       "      <td>0</td>\n",
       "      <td>93.994</td>\n",
       "      <td>-36.4</td>\n",
       "      <td>4.857</td>\n",
       "    </tr>\n",
       "    <tr>\n",
       "      <th>2</th>\n",
       "      <td>37</td>\n",
       "      <td>services</td>\n",
       "      <td>married</td>\n",
       "      <td>high.school</td>\n",
       "      <td>no</td>\n",
       "      <td>yes</td>\n",
       "      <td>no</td>\n",
       "      <td>telephone</td>\n",
       "      <td>may</td>\n",
       "      <td>mon</td>\n",
       "      <td>1</td>\n",
       "      <td>0</td>\n",
       "      <td>93.994</td>\n",
       "      <td>-36.4</td>\n",
       "      <td>4.857</td>\n",
       "    </tr>\n",
       "    <tr>\n",
       "      <th>3</th>\n",
       "      <td>40</td>\n",
       "      <td>admin.</td>\n",
       "      <td>married</td>\n",
       "      <td>basic</td>\n",
       "      <td>no</td>\n",
       "      <td>no</td>\n",
       "      <td>no</td>\n",
       "      <td>telephone</td>\n",
       "      <td>may</td>\n",
       "      <td>mon</td>\n",
       "      <td>1</td>\n",
       "      <td>0</td>\n",
       "      <td>93.994</td>\n",
       "      <td>-36.4</td>\n",
       "      <td>4.857</td>\n",
       "    </tr>\n",
       "    <tr>\n",
       "      <th>4</th>\n",
       "      <td>56</td>\n",
       "      <td>services</td>\n",
       "      <td>married</td>\n",
       "      <td>high.school</td>\n",
       "      <td>no</td>\n",
       "      <td>no</td>\n",
       "      <td>yes</td>\n",
       "      <td>telephone</td>\n",
       "      <td>may</td>\n",
       "      <td>mon</td>\n",
       "      <td>1</td>\n",
       "      <td>0</td>\n",
       "      <td>93.994</td>\n",
       "      <td>-36.4</td>\n",
       "      <td>4.857</td>\n",
       "    </tr>\n",
       "  </tbody>\n",
       "</table>\n",
       "</div>"
      ],
      "text/plain": [
       "   age        job  marital    education  default housing loan    contact  \\\n",
       "0   56  housemaid  married        basic       no      no   no  telephone   \n",
       "1   57   services  married  high.school  unknown      no   no  telephone   \n",
       "2   37   services  married  high.school       no     yes   no  telephone   \n",
       "3   40     admin.  married        basic       no      no   no  telephone   \n",
       "4   56   services  married  high.school       no      no  yes  telephone   \n",
       "\n",
       "  month day_of_week  campaign  previous  cons.price.idx  cons.conf.idx  \\\n",
       "0   may         mon         1         0          93.994          -36.4   \n",
       "1   may         mon         1         0          93.994          -36.4   \n",
       "2   may         mon         1         0          93.994          -36.4   \n",
       "3   may         mon         1         0          93.994          -36.4   \n",
       "4   may         mon         1         0          93.994          -36.4   \n",
       "\n",
       "   euribor3m  \n",
       "0      4.857  \n",
       "1      4.857  \n",
       "2      4.857  \n",
       "3      4.857  \n",
       "4      4.857  "
      ]
     },
     "execution_count": 36,
     "metadata": {},
     "output_type": "execute_result"
    }
   ],
   "source": [
    "bank_dummies.head()"
   ]
  },
  {
   "cell_type": "code",
   "execution_count": 19,
   "metadata": {},
   "outputs": [
    {
     "data": {
      "text/plain": [
       "Index(['job', 'marital', 'education', 'default', 'housing', 'loan', 'contact',\n",
       "       'month', 'day_of_week'],\n",
       "      dtype='object')"
      ]
     },
     "execution_count": 19,
     "metadata": {},
     "output_type": "execute_result"
    }
   ],
   "source": [
    "dum_catcol = bank_dummies.select_dtypes('object').columns\n",
    "dum_catcol"
   ]
  },
  {
   "cell_type": "code",
   "execution_count": 20,
   "metadata": {},
   "outputs": [],
   "source": [
    "from scipy.stats import chi2_contingency\n",
    "chi2_check = []\n",
    "for i in dum_catcol:\n",
    "    if chi2_contingency(pd.crosstab(bank_ml['y'], bank_ml[i]))[1] < 0.05:\n",
    "        chi2_check.append('Reject Null Hypothesis')\n",
    "    else:\n",
    "        chi2_check.append('Fail to Reject Null Hypothesis')"
   ]
  },
  {
   "cell_type": "code",
   "execution_count": 21,
   "metadata": {},
   "outputs": [
    {
     "data": {
      "text/html": [
       "<div>\n",
       "<style scoped>\n",
       "    .dataframe tbody tr th:only-of-type {\n",
       "        vertical-align: middle;\n",
       "    }\n",
       "\n",
       "    .dataframe tbody tr th {\n",
       "        vertical-align: top;\n",
       "    }\n",
       "\n",
       "    .dataframe thead th {\n",
       "        text-align: right;\n",
       "    }\n",
       "</style>\n",
       "<table border=\"1\" class=\"dataframe\">\n",
       "  <thead>\n",
       "    <tr style=\"text-align: right;\">\n",
       "      <th></th>\n",
       "      <th>Column</th>\n",
       "      <th>Hypothesis</th>\n",
       "    </tr>\n",
       "  </thead>\n",
       "  <tbody>\n",
       "    <tr>\n",
       "      <th>0</th>\n",
       "      <td>job</td>\n",
       "      <td>Reject Null Hypothesis</td>\n",
       "    </tr>\n",
       "    <tr>\n",
       "      <th>1</th>\n",
       "      <td>marital</td>\n",
       "      <td>Reject Null Hypothesis</td>\n",
       "    </tr>\n",
       "    <tr>\n",
       "      <th>2</th>\n",
       "      <td>education</td>\n",
       "      <td>Reject Null Hypothesis</td>\n",
       "    </tr>\n",
       "    <tr>\n",
       "      <th>3</th>\n",
       "      <td>default</td>\n",
       "      <td>Reject Null Hypothesis</td>\n",
       "    </tr>\n",
       "    <tr>\n",
       "      <th>4</th>\n",
       "      <td>housing</td>\n",
       "      <td>Fail to Reject Null Hypothesis</td>\n",
       "    </tr>\n",
       "    <tr>\n",
       "      <th>5</th>\n",
       "      <td>loan</td>\n",
       "      <td>Fail to Reject Null Hypothesis</td>\n",
       "    </tr>\n",
       "    <tr>\n",
       "      <th>6</th>\n",
       "      <td>contact</td>\n",
       "      <td>Reject Null Hypothesis</td>\n",
       "    </tr>\n",
       "    <tr>\n",
       "      <th>7</th>\n",
       "      <td>month</td>\n",
       "      <td>Reject Null Hypothesis</td>\n",
       "    </tr>\n",
       "    <tr>\n",
       "      <th>8</th>\n",
       "      <td>day_of_week</td>\n",
       "      <td>Reject Null Hypothesis</td>\n",
       "    </tr>\n",
       "  </tbody>\n",
       "</table>\n",
       "</div>"
      ],
      "text/plain": [
       "        Column                      Hypothesis\n",
       "0          job          Reject Null Hypothesis\n",
       "1      marital          Reject Null Hypothesis\n",
       "2    education          Reject Null Hypothesis\n",
       "3      default          Reject Null Hypothesis\n",
       "4      housing  Fail to Reject Null Hypothesis\n",
       "5         loan  Fail to Reject Null Hypothesis\n",
       "6      contact          Reject Null Hypothesis\n",
       "7        month          Reject Null Hypothesis\n",
       "8  day_of_week          Reject Null Hypothesis"
      ]
     },
     "execution_count": 21,
     "metadata": {},
     "output_type": "execute_result"
    }
   ],
   "source": [
    "res_cat = pd.DataFrame(data = [dum_catcol, chi2_check] \n",
    "             ).T \n",
    "res_cat.columns = ['Column', 'Hypothesis']\n",
    "res_cat"
   ]
  },
  {
   "cell_type": "markdown",
   "metadata": {},
   "source": [
    "> Here we see that housing and loan are both not significant, so we will only proceed further with the significant features"
   ]
  },
  {
   "cell_type": "code",
   "execution_count": 22,
   "metadata": {},
   "outputs": [],
   "source": [
    "check = {}\n",
    "for i in res_cat[res_cat['Hypothesis'] == 'Reject Null Hypothesis']['Column']:\n",
    "    dummies = pd.get_dummies(bank_ml[i])\n",
    "    bon_p_value = 0.05/bank_ml[i].nunique()\n",
    "    for series in dummies:\n",
    "        if chi2_contingency(pd.crosstab(bank_ml['y'], dummies[series]))[1] < bon_p_value:\n",
    "            check['{}_{}'.format(i, series)] = 'Reject Null Hypothesis'\n",
    "        else:\n",
    "            check['{}_{}'.format(i, series)] = 'Fail to Reject Null Hypothesis'"
   ]
  },
  {
   "cell_type": "code",
   "execution_count": 23,
   "metadata": {},
   "outputs": [
    {
     "data": {
      "text/html": [
       "<div>\n",
       "<style scoped>\n",
       "    .dataframe tbody tr th:only-of-type {\n",
       "        vertical-align: middle;\n",
       "    }\n",
       "\n",
       "    .dataframe tbody tr th {\n",
       "        vertical-align: top;\n",
       "    }\n",
       "\n",
       "    .dataframe thead th {\n",
       "        text-align: right;\n",
       "    }\n",
       "</style>\n",
       "<table border=\"1\" class=\"dataframe\">\n",
       "  <thead>\n",
       "    <tr style=\"text-align: right;\">\n",
       "      <th></th>\n",
       "      <th>Pair</th>\n",
       "      <th>Hypothesis</th>\n",
       "    </tr>\n",
       "  </thead>\n",
       "  <tbody>\n",
       "    <tr>\n",
       "      <th>0</th>\n",
       "      <td>job_admin.</td>\n",
       "      <td>Reject Null Hypothesis</td>\n",
       "    </tr>\n",
       "    <tr>\n",
       "      <th>1</th>\n",
       "      <td>job_blue-collar</td>\n",
       "      <td>Reject Null Hypothesis</td>\n",
       "    </tr>\n",
       "    <tr>\n",
       "      <th>2</th>\n",
       "      <td>job_entrepreneur</td>\n",
       "      <td>Reject Null Hypothesis</td>\n",
       "    </tr>\n",
       "    <tr>\n",
       "      <th>3</th>\n",
       "      <td>job_housemaid</td>\n",
       "      <td>Fail to Reject Null Hypothesis</td>\n",
       "    </tr>\n",
       "    <tr>\n",
       "      <th>4</th>\n",
       "      <td>job_management</td>\n",
       "      <td>Fail to Reject Null Hypothesis</td>\n",
       "    </tr>\n",
       "    <tr>\n",
       "      <th>5</th>\n",
       "      <td>job_retired</td>\n",
       "      <td>Reject Null Hypothesis</td>\n",
       "    </tr>\n",
       "    <tr>\n",
       "      <th>6</th>\n",
       "      <td>job_self-employed</td>\n",
       "      <td>Fail to Reject Null Hypothesis</td>\n",
       "    </tr>\n",
       "    <tr>\n",
       "      <th>7</th>\n",
       "      <td>job_services</td>\n",
       "      <td>Reject Null Hypothesis</td>\n",
       "    </tr>\n",
       "    <tr>\n",
       "      <th>8</th>\n",
       "      <td>job_student</td>\n",
       "      <td>Reject Null Hypothesis</td>\n",
       "    </tr>\n",
       "    <tr>\n",
       "      <th>9</th>\n",
       "      <td>job_technician</td>\n",
       "      <td>Fail to Reject Null Hypothesis</td>\n",
       "    </tr>\n",
       "    <tr>\n",
       "      <th>10</th>\n",
       "      <td>job_unemployed</td>\n",
       "      <td>Reject Null Hypothesis</td>\n",
       "    </tr>\n",
       "    <tr>\n",
       "      <th>11</th>\n",
       "      <td>job_unknown</td>\n",
       "      <td>Fail to Reject Null Hypothesis</td>\n",
       "    </tr>\n",
       "    <tr>\n",
       "      <th>12</th>\n",
       "      <td>marital_divorced</td>\n",
       "      <td>Fail to Reject Null Hypothesis</td>\n",
       "    </tr>\n",
       "    <tr>\n",
       "      <th>13</th>\n",
       "      <td>marital_married</td>\n",
       "      <td>Reject Null Hypothesis</td>\n",
       "    </tr>\n",
       "    <tr>\n",
       "      <th>14</th>\n",
       "      <td>marital_single</td>\n",
       "      <td>Reject Null Hypothesis</td>\n",
       "    </tr>\n",
       "    <tr>\n",
       "      <th>15</th>\n",
       "      <td>marital_unknown</td>\n",
       "      <td>Fail to Reject Null Hypothesis</td>\n",
       "    </tr>\n",
       "    <tr>\n",
       "      <th>16</th>\n",
       "      <td>education_basic</td>\n",
       "      <td>Reject Null Hypothesis</td>\n",
       "    </tr>\n",
       "    <tr>\n",
       "      <th>17</th>\n",
       "      <td>education_high.school</td>\n",
       "      <td>Fail to Reject Null Hypothesis</td>\n",
       "    </tr>\n",
       "    <tr>\n",
       "      <th>18</th>\n",
       "      <td>education_illiterate</td>\n",
       "      <td>Fail to Reject Null Hypothesis</td>\n",
       "    </tr>\n",
       "    <tr>\n",
       "      <th>19</th>\n",
       "      <td>education_professional.course</td>\n",
       "      <td>Fail to Reject Null Hypothesis</td>\n",
       "    </tr>\n",
       "    <tr>\n",
       "      <th>20</th>\n",
       "      <td>education_university.degree</td>\n",
       "      <td>Reject Null Hypothesis</td>\n",
       "    </tr>\n",
       "    <tr>\n",
       "      <th>21</th>\n",
       "      <td>education_unknown</td>\n",
       "      <td>Reject Null Hypothesis</td>\n",
       "    </tr>\n",
       "    <tr>\n",
       "      <th>22</th>\n",
       "      <td>default_no</td>\n",
       "      <td>Reject Null Hypothesis</td>\n",
       "    </tr>\n",
       "    <tr>\n",
       "      <th>23</th>\n",
       "      <td>default_unknown</td>\n",
       "      <td>Reject Null Hypothesis</td>\n",
       "    </tr>\n",
       "    <tr>\n",
       "      <th>24</th>\n",
       "      <td>default_yes</td>\n",
       "      <td>Fail to Reject Null Hypothesis</td>\n",
       "    </tr>\n",
       "    <tr>\n",
       "      <th>25</th>\n",
       "      <td>contact_cellular</td>\n",
       "      <td>Reject Null Hypothesis</td>\n",
       "    </tr>\n",
       "    <tr>\n",
       "      <th>26</th>\n",
       "      <td>contact_telephone</td>\n",
       "      <td>Reject Null Hypothesis</td>\n",
       "    </tr>\n",
       "    <tr>\n",
       "      <th>27</th>\n",
       "      <td>month_apr</td>\n",
       "      <td>Reject Null Hypothesis</td>\n",
       "    </tr>\n",
       "    <tr>\n",
       "      <th>28</th>\n",
       "      <td>month_aug</td>\n",
       "      <td>Fail to Reject Null Hypothesis</td>\n",
       "    </tr>\n",
       "    <tr>\n",
       "      <th>29</th>\n",
       "      <td>month_dec</td>\n",
       "      <td>Reject Null Hypothesis</td>\n",
       "    </tr>\n",
       "    <tr>\n",
       "      <th>30</th>\n",
       "      <td>month_jul</td>\n",
       "      <td>Reject Null Hypothesis</td>\n",
       "    </tr>\n",
       "    <tr>\n",
       "      <th>31</th>\n",
       "      <td>month_jun</td>\n",
       "      <td>Fail to Reject Null Hypothesis</td>\n",
       "    </tr>\n",
       "    <tr>\n",
       "      <th>32</th>\n",
       "      <td>month_mar</td>\n",
       "      <td>Reject Null Hypothesis</td>\n",
       "    </tr>\n",
       "    <tr>\n",
       "      <th>33</th>\n",
       "      <td>month_may</td>\n",
       "      <td>Reject Null Hypothesis</td>\n",
       "    </tr>\n",
       "    <tr>\n",
       "      <th>34</th>\n",
       "      <td>month_nov</td>\n",
       "      <td>Fail to Reject Null Hypothesis</td>\n",
       "    </tr>\n",
       "    <tr>\n",
       "      <th>35</th>\n",
       "      <td>month_oct</td>\n",
       "      <td>Reject Null Hypothesis</td>\n",
       "    </tr>\n",
       "    <tr>\n",
       "      <th>36</th>\n",
       "      <td>month_sep</td>\n",
       "      <td>Reject Null Hypothesis</td>\n",
       "    </tr>\n",
       "    <tr>\n",
       "      <th>37</th>\n",
       "      <td>day_of_week_fri</td>\n",
       "      <td>Fail to Reject Null Hypothesis</td>\n",
       "    </tr>\n",
       "    <tr>\n",
       "      <th>38</th>\n",
       "      <td>day_of_week_mon</td>\n",
       "      <td>Reject Null Hypothesis</td>\n",
       "    </tr>\n",
       "    <tr>\n",
       "      <th>39</th>\n",
       "      <td>day_of_week_thu</td>\n",
       "      <td>Reject Null Hypothesis</td>\n",
       "    </tr>\n",
       "    <tr>\n",
       "      <th>40</th>\n",
       "      <td>day_of_week_tue</td>\n",
       "      <td>Fail to Reject Null Hypothesis</td>\n",
       "    </tr>\n",
       "    <tr>\n",
       "      <th>41</th>\n",
       "      <td>day_of_week_wed</td>\n",
       "      <td>Fail to Reject Null Hypothesis</td>\n",
       "    </tr>\n",
       "  </tbody>\n",
       "</table>\n",
       "</div>"
      ],
      "text/plain": [
       "                             Pair                      Hypothesis\n",
       "0                      job_admin.          Reject Null Hypothesis\n",
       "1                 job_blue-collar          Reject Null Hypothesis\n",
       "2                job_entrepreneur          Reject Null Hypothesis\n",
       "3                   job_housemaid  Fail to Reject Null Hypothesis\n",
       "4                  job_management  Fail to Reject Null Hypothesis\n",
       "5                     job_retired          Reject Null Hypothesis\n",
       "6               job_self-employed  Fail to Reject Null Hypothesis\n",
       "7                    job_services          Reject Null Hypothesis\n",
       "8                     job_student          Reject Null Hypothesis\n",
       "9                  job_technician  Fail to Reject Null Hypothesis\n",
       "10                 job_unemployed          Reject Null Hypothesis\n",
       "11                    job_unknown  Fail to Reject Null Hypothesis\n",
       "12               marital_divorced  Fail to Reject Null Hypothesis\n",
       "13                marital_married          Reject Null Hypothesis\n",
       "14                 marital_single          Reject Null Hypothesis\n",
       "15                marital_unknown  Fail to Reject Null Hypothesis\n",
       "16                education_basic          Reject Null Hypothesis\n",
       "17          education_high.school  Fail to Reject Null Hypothesis\n",
       "18           education_illiterate  Fail to Reject Null Hypothesis\n",
       "19  education_professional.course  Fail to Reject Null Hypothesis\n",
       "20    education_university.degree          Reject Null Hypothesis\n",
       "21              education_unknown          Reject Null Hypothesis\n",
       "22                     default_no          Reject Null Hypothesis\n",
       "23                default_unknown          Reject Null Hypothesis\n",
       "24                    default_yes  Fail to Reject Null Hypothesis\n",
       "25               contact_cellular          Reject Null Hypothesis\n",
       "26              contact_telephone          Reject Null Hypothesis\n",
       "27                      month_apr          Reject Null Hypothesis\n",
       "28                      month_aug  Fail to Reject Null Hypothesis\n",
       "29                      month_dec          Reject Null Hypothesis\n",
       "30                      month_jul          Reject Null Hypothesis\n",
       "31                      month_jun  Fail to Reject Null Hypothesis\n",
       "32                      month_mar          Reject Null Hypothesis\n",
       "33                      month_may          Reject Null Hypothesis\n",
       "34                      month_nov  Fail to Reject Null Hypothesis\n",
       "35                      month_oct          Reject Null Hypothesis\n",
       "36                      month_sep          Reject Null Hypothesis\n",
       "37                day_of_week_fri  Fail to Reject Null Hypothesis\n",
       "38                day_of_week_mon          Reject Null Hypothesis\n",
       "39                day_of_week_thu          Reject Null Hypothesis\n",
       "40                day_of_week_tue  Fail to Reject Null Hypothesis\n",
       "41                day_of_week_wed  Fail to Reject Null Hypothesis"
      ]
     },
     "execution_count": 23,
     "metadata": {},
     "output_type": "execute_result"
    }
   ],
   "source": [
    "res_chi = pd.DataFrame(data = [check.keys(), check.values()]).T\n",
    "res_chi.columns = ['Pair', 'Hypothesis']\n",
    "res_chi"
   ]
  },
  {
   "cell_type": "code",
   "execution_count": 24,
   "metadata": {},
   "outputs": [
    {
     "data": {
      "text/html": [
       "<div>\n",
       "<style scoped>\n",
       "    .dataframe tbody tr th:only-of-type {\n",
       "        vertical-align: middle;\n",
       "    }\n",
       "\n",
       "    .dataframe tbody tr th {\n",
       "        vertical-align: top;\n",
       "    }\n",
       "\n",
       "    .dataframe thead th {\n",
       "        text-align: right;\n",
       "    }\n",
       "</style>\n",
       "<table border=\"1\" class=\"dataframe\">\n",
       "  <thead>\n",
       "    <tr style=\"text-align: right;\">\n",
       "      <th></th>\n",
       "      <th>Pair</th>\n",
       "      <th>Hypothesis</th>\n",
       "    </tr>\n",
       "  </thead>\n",
       "  <tbody>\n",
       "    <tr>\n",
       "      <th>0</th>\n",
       "      <td>job_admin.</td>\n",
       "      <td>Reject Null Hypothesis</td>\n",
       "    </tr>\n",
       "    <tr>\n",
       "      <th>1</th>\n",
       "      <td>job_blue-collar</td>\n",
       "      <td>Reject Null Hypothesis</td>\n",
       "    </tr>\n",
       "    <tr>\n",
       "      <th>2</th>\n",
       "      <td>job_entrepreneur</td>\n",
       "      <td>Reject Null Hypothesis</td>\n",
       "    </tr>\n",
       "    <tr>\n",
       "      <th>5</th>\n",
       "      <td>job_retired</td>\n",
       "      <td>Reject Null Hypothesis</td>\n",
       "    </tr>\n",
       "    <tr>\n",
       "      <th>7</th>\n",
       "      <td>job_services</td>\n",
       "      <td>Reject Null Hypothesis</td>\n",
       "    </tr>\n",
       "    <tr>\n",
       "      <th>8</th>\n",
       "      <td>job_student</td>\n",
       "      <td>Reject Null Hypothesis</td>\n",
       "    </tr>\n",
       "    <tr>\n",
       "      <th>10</th>\n",
       "      <td>job_unemployed</td>\n",
       "      <td>Reject Null Hypothesis</td>\n",
       "    </tr>\n",
       "    <tr>\n",
       "      <th>13</th>\n",
       "      <td>marital_married</td>\n",
       "      <td>Reject Null Hypothesis</td>\n",
       "    </tr>\n",
       "    <tr>\n",
       "      <th>14</th>\n",
       "      <td>marital_single</td>\n",
       "      <td>Reject Null Hypothesis</td>\n",
       "    </tr>\n",
       "    <tr>\n",
       "      <th>16</th>\n",
       "      <td>education_basic</td>\n",
       "      <td>Reject Null Hypothesis</td>\n",
       "    </tr>\n",
       "    <tr>\n",
       "      <th>20</th>\n",
       "      <td>education_university.degree</td>\n",
       "      <td>Reject Null Hypothesis</td>\n",
       "    </tr>\n",
       "    <tr>\n",
       "      <th>21</th>\n",
       "      <td>education_unknown</td>\n",
       "      <td>Reject Null Hypothesis</td>\n",
       "    </tr>\n",
       "    <tr>\n",
       "      <th>22</th>\n",
       "      <td>default_no</td>\n",
       "      <td>Reject Null Hypothesis</td>\n",
       "    </tr>\n",
       "    <tr>\n",
       "      <th>23</th>\n",
       "      <td>default_unknown</td>\n",
       "      <td>Reject Null Hypothesis</td>\n",
       "    </tr>\n",
       "    <tr>\n",
       "      <th>25</th>\n",
       "      <td>contact_cellular</td>\n",
       "      <td>Reject Null Hypothesis</td>\n",
       "    </tr>\n",
       "    <tr>\n",
       "      <th>26</th>\n",
       "      <td>contact_telephone</td>\n",
       "      <td>Reject Null Hypothesis</td>\n",
       "    </tr>\n",
       "    <tr>\n",
       "      <th>27</th>\n",
       "      <td>month_apr</td>\n",
       "      <td>Reject Null Hypothesis</td>\n",
       "    </tr>\n",
       "    <tr>\n",
       "      <th>29</th>\n",
       "      <td>month_dec</td>\n",
       "      <td>Reject Null Hypothesis</td>\n",
       "    </tr>\n",
       "    <tr>\n",
       "      <th>30</th>\n",
       "      <td>month_jul</td>\n",
       "      <td>Reject Null Hypothesis</td>\n",
       "    </tr>\n",
       "    <tr>\n",
       "      <th>32</th>\n",
       "      <td>month_mar</td>\n",
       "      <td>Reject Null Hypothesis</td>\n",
       "    </tr>\n",
       "    <tr>\n",
       "      <th>33</th>\n",
       "      <td>month_may</td>\n",
       "      <td>Reject Null Hypothesis</td>\n",
       "    </tr>\n",
       "    <tr>\n",
       "      <th>35</th>\n",
       "      <td>month_oct</td>\n",
       "      <td>Reject Null Hypothesis</td>\n",
       "    </tr>\n",
       "    <tr>\n",
       "      <th>36</th>\n",
       "      <td>month_sep</td>\n",
       "      <td>Reject Null Hypothesis</td>\n",
       "    </tr>\n",
       "    <tr>\n",
       "      <th>38</th>\n",
       "      <td>day_of_week_mon</td>\n",
       "      <td>Reject Null Hypothesis</td>\n",
       "    </tr>\n",
       "    <tr>\n",
       "      <th>39</th>\n",
       "      <td>day_of_week_thu</td>\n",
       "      <td>Reject Null Hypothesis</td>\n",
       "    </tr>\n",
       "  </tbody>\n",
       "</table>\n",
       "</div>"
      ],
      "text/plain": [
       "                           Pair              Hypothesis\n",
       "0                    job_admin.  Reject Null Hypothesis\n",
       "1               job_blue-collar  Reject Null Hypothesis\n",
       "2              job_entrepreneur  Reject Null Hypothesis\n",
       "5                   job_retired  Reject Null Hypothesis\n",
       "7                  job_services  Reject Null Hypothesis\n",
       "8                   job_student  Reject Null Hypothesis\n",
       "10               job_unemployed  Reject Null Hypothesis\n",
       "13              marital_married  Reject Null Hypothesis\n",
       "14               marital_single  Reject Null Hypothesis\n",
       "16              education_basic  Reject Null Hypothesis\n",
       "20  education_university.degree  Reject Null Hypothesis\n",
       "21            education_unknown  Reject Null Hypothesis\n",
       "22                   default_no  Reject Null Hypothesis\n",
       "23              default_unknown  Reject Null Hypothesis\n",
       "25             contact_cellular  Reject Null Hypothesis\n",
       "26            contact_telephone  Reject Null Hypothesis\n",
       "27                    month_apr  Reject Null Hypothesis\n",
       "29                    month_dec  Reject Null Hypothesis\n",
       "30                    month_jul  Reject Null Hypothesis\n",
       "32                    month_mar  Reject Null Hypothesis\n",
       "33                    month_may  Reject Null Hypothesis\n",
       "35                    month_oct  Reject Null Hypothesis\n",
       "36                    month_sep  Reject Null Hypothesis\n",
       "38              day_of_week_mon  Reject Null Hypothesis\n",
       "39              day_of_week_thu  Reject Null Hypothesis"
      ]
     },
     "execution_count": 24,
     "metadata": {},
     "output_type": "execute_result"
    }
   ],
   "source": [
    "res_chi[res_chi['Hypothesis'] == 'Reject Null Hypothesis']"
   ]
  },
  {
   "cell_type": "code",
   "execution_count": 25,
   "metadata": {},
   "outputs": [],
   "source": [
    "significant_chi = []\n",
    "for i in res_chi[res_chi['Hypothesis'] == 'Reject Null Hypothesis']['Pair']:\n",
    "    significant_chi.append(i)"
   ]
  },
  {
   "cell_type": "code",
   "execution_count": 26,
   "metadata": {},
   "outputs": [],
   "source": [
    "for i in res[res['Hypothesis'] == 'Reject Null Hypothesis']['Columns']:\n",
    "    significant_chi.append(i)"
   ]
  },
  {
   "cell_type": "code",
   "execution_count": 27,
   "metadata": {},
   "outputs": [],
   "source": [
    "bank_dummies = pd.get_dummies(bank_dummies)"
   ]
  },
  {
   "cell_type": "code",
   "execution_count": 28,
   "metadata": {},
   "outputs": [
    {
     "name": "stdout",
     "output_type": "stream",
     "text": [
      "<class 'pandas.core.frame.DataFrame'>\n",
      "RangeIndex: 41188 entries, 0 to 41187\n",
      "Data columns (total 54 columns):\n",
      "age                              41188 non-null int64\n",
      "campaign                         41188 non-null int64\n",
      "previous                         41188 non-null int64\n",
      "cons.price.idx                   41188 non-null float64\n",
      "cons.conf.idx                    41188 non-null float64\n",
      "euribor3m                        41188 non-null float64\n",
      "job_admin.                       41188 non-null uint8\n",
      "job_blue-collar                  41188 non-null uint8\n",
      "job_entrepreneur                 41188 non-null uint8\n",
      "job_housemaid                    41188 non-null uint8\n",
      "job_management                   41188 non-null uint8\n",
      "job_retired                      41188 non-null uint8\n",
      "job_self-employed                41188 non-null uint8\n",
      "job_services                     41188 non-null uint8\n",
      "job_student                      41188 non-null uint8\n",
      "job_technician                   41188 non-null uint8\n",
      "job_unemployed                   41188 non-null uint8\n",
      "job_unknown                      41188 non-null uint8\n",
      "marital_divorced                 41188 non-null uint8\n",
      "marital_married                  41188 non-null uint8\n",
      "marital_single                   41188 non-null uint8\n",
      "marital_unknown                  41188 non-null uint8\n",
      "education_basic                  41188 non-null uint8\n",
      "education_high.school            41188 non-null uint8\n",
      "education_illiterate             41188 non-null uint8\n",
      "education_professional.course    41188 non-null uint8\n",
      "education_university.degree      41188 non-null uint8\n",
      "education_unknown                41188 non-null uint8\n",
      "default_no                       41188 non-null uint8\n",
      "default_unknown                  41188 non-null uint8\n",
      "default_yes                      41188 non-null uint8\n",
      "housing_no                       41188 non-null uint8\n",
      "housing_unknown                  41188 non-null uint8\n",
      "housing_yes                      41188 non-null uint8\n",
      "loan_no                          41188 non-null uint8\n",
      "loan_unknown                     41188 non-null uint8\n",
      "loan_yes                         41188 non-null uint8\n",
      "contact_cellular                 41188 non-null uint8\n",
      "contact_telephone                41188 non-null uint8\n",
      "month_apr                        41188 non-null uint8\n",
      "month_aug                        41188 non-null uint8\n",
      "month_dec                        41188 non-null uint8\n",
      "month_jul                        41188 non-null uint8\n",
      "month_jun                        41188 non-null uint8\n",
      "month_mar                        41188 non-null uint8\n",
      "month_may                        41188 non-null uint8\n",
      "month_nov                        41188 non-null uint8\n",
      "month_oct                        41188 non-null uint8\n",
      "month_sep                        41188 non-null uint8\n",
      "day_of_week_fri                  41188 non-null uint8\n",
      "day_of_week_mon                  41188 non-null uint8\n",
      "day_of_week_thu                  41188 non-null uint8\n",
      "day_of_week_tue                  41188 non-null uint8\n",
      "day_of_week_wed                  41188 non-null uint8\n",
      "dtypes: float64(3), int64(3), uint8(48)\n",
      "memory usage: 3.8 MB\n"
     ]
    }
   ],
   "source": [
    "bank_dummies.info()"
   ]
  },
  {
   "cell_type": "code",
   "execution_count": 29,
   "metadata": {},
   "outputs": [],
   "source": [
    "banksig = bank_dummies[significant_chi].copy()"
   ]
  },
  {
   "cell_type": "code",
   "execution_count": 48,
   "metadata": {},
   "outputs": [
    {
     "data": {
      "text/html": [
       "<div>\n",
       "<style scoped>\n",
       "    .dataframe tbody tr th:only-of-type {\n",
       "        vertical-align: middle;\n",
       "    }\n",
       "\n",
       "    .dataframe tbody tr th {\n",
       "        vertical-align: top;\n",
       "    }\n",
       "\n",
       "    .dataframe thead th {\n",
       "        text-align: right;\n",
       "    }\n",
       "</style>\n",
       "<table border=\"1\" class=\"dataframe\">\n",
       "  <thead>\n",
       "    <tr style=\"text-align: right;\">\n",
       "      <th></th>\n",
       "      <th>job_admin.</th>\n",
       "      <th>job_blue-collar</th>\n",
       "      <th>job_entrepreneur</th>\n",
       "      <th>job_retired</th>\n",
       "      <th>job_services</th>\n",
       "      <th>job_student</th>\n",
       "      <th>job_unemployed</th>\n",
       "      <th>marital_married</th>\n",
       "      <th>marital_single</th>\n",
       "      <th>education_basic</th>\n",
       "      <th>education_university.degree</th>\n",
       "      <th>education_unknown</th>\n",
       "      <th>default_no</th>\n",
       "      <th>default_unknown</th>\n",
       "      <th>contact_cellular</th>\n",
       "      <th>contact_telephone</th>\n",
       "      <th>month_apr</th>\n",
       "      <th>month_dec</th>\n",
       "      <th>month_jul</th>\n",
       "      <th>month_mar</th>\n",
       "      <th>month_may</th>\n",
       "      <th>month_oct</th>\n",
       "      <th>month_sep</th>\n",
       "      <th>day_of_week_mon</th>\n",
       "      <th>day_of_week_thu</th>\n",
       "      <th>age</th>\n",
       "      <th>campaign</th>\n",
       "      <th>previous</th>\n",
       "      <th>cons.price.idx</th>\n",
       "      <th>cons.conf.idx</th>\n",
       "      <th>euribor3m</th>\n",
       "    </tr>\n",
       "  </thead>\n",
       "  <tbody>\n",
       "    <tr>\n",
       "      <th>0</th>\n",
       "      <td>0</td>\n",
       "      <td>0</td>\n",
       "      <td>0</td>\n",
       "      <td>0</td>\n",
       "      <td>0</td>\n",
       "      <td>0</td>\n",
       "      <td>0</td>\n",
       "      <td>1</td>\n",
       "      <td>0</td>\n",
       "      <td>1</td>\n",
       "      <td>0</td>\n",
       "      <td>0</td>\n",
       "      <td>1</td>\n",
       "      <td>0</td>\n",
       "      <td>0</td>\n",
       "      <td>1</td>\n",
       "      <td>0</td>\n",
       "      <td>0</td>\n",
       "      <td>0</td>\n",
       "      <td>0</td>\n",
       "      <td>1</td>\n",
       "      <td>0</td>\n",
       "      <td>0</td>\n",
       "      <td>1</td>\n",
       "      <td>0</td>\n",
       "      <td>56</td>\n",
       "      <td>1</td>\n",
       "      <td>0</td>\n",
       "      <td>93.994</td>\n",
       "      <td>-36.4</td>\n",
       "      <td>4.857</td>\n",
       "    </tr>\n",
       "    <tr>\n",
       "      <th>1</th>\n",
       "      <td>0</td>\n",
       "      <td>0</td>\n",
       "      <td>0</td>\n",
       "      <td>0</td>\n",
       "      <td>1</td>\n",
       "      <td>0</td>\n",
       "      <td>0</td>\n",
       "      <td>1</td>\n",
       "      <td>0</td>\n",
       "      <td>0</td>\n",
       "      <td>0</td>\n",
       "      <td>0</td>\n",
       "      <td>0</td>\n",
       "      <td>1</td>\n",
       "      <td>0</td>\n",
       "      <td>1</td>\n",
       "      <td>0</td>\n",
       "      <td>0</td>\n",
       "      <td>0</td>\n",
       "      <td>0</td>\n",
       "      <td>1</td>\n",
       "      <td>0</td>\n",
       "      <td>0</td>\n",
       "      <td>1</td>\n",
       "      <td>0</td>\n",
       "      <td>57</td>\n",
       "      <td>1</td>\n",
       "      <td>0</td>\n",
       "      <td>93.994</td>\n",
       "      <td>-36.4</td>\n",
       "      <td>4.857</td>\n",
       "    </tr>\n",
       "    <tr>\n",
       "      <th>2</th>\n",
       "      <td>0</td>\n",
       "      <td>0</td>\n",
       "      <td>0</td>\n",
       "      <td>0</td>\n",
       "      <td>1</td>\n",
       "      <td>0</td>\n",
       "      <td>0</td>\n",
       "      <td>1</td>\n",
       "      <td>0</td>\n",
       "      <td>0</td>\n",
       "      <td>0</td>\n",
       "      <td>0</td>\n",
       "      <td>1</td>\n",
       "      <td>0</td>\n",
       "      <td>0</td>\n",
       "      <td>1</td>\n",
       "      <td>0</td>\n",
       "      <td>0</td>\n",
       "      <td>0</td>\n",
       "      <td>0</td>\n",
       "      <td>1</td>\n",
       "      <td>0</td>\n",
       "      <td>0</td>\n",
       "      <td>1</td>\n",
       "      <td>0</td>\n",
       "      <td>37</td>\n",
       "      <td>1</td>\n",
       "      <td>0</td>\n",
       "      <td>93.994</td>\n",
       "      <td>-36.4</td>\n",
       "      <td>4.857</td>\n",
       "    </tr>\n",
       "    <tr>\n",
       "      <th>3</th>\n",
       "      <td>1</td>\n",
       "      <td>0</td>\n",
       "      <td>0</td>\n",
       "      <td>0</td>\n",
       "      <td>0</td>\n",
       "      <td>0</td>\n",
       "      <td>0</td>\n",
       "      <td>1</td>\n",
       "      <td>0</td>\n",
       "      <td>1</td>\n",
       "      <td>0</td>\n",
       "      <td>0</td>\n",
       "      <td>1</td>\n",
       "      <td>0</td>\n",
       "      <td>0</td>\n",
       "      <td>1</td>\n",
       "      <td>0</td>\n",
       "      <td>0</td>\n",
       "      <td>0</td>\n",
       "      <td>0</td>\n",
       "      <td>1</td>\n",
       "      <td>0</td>\n",
       "      <td>0</td>\n",
       "      <td>1</td>\n",
       "      <td>0</td>\n",
       "      <td>40</td>\n",
       "      <td>1</td>\n",
       "      <td>0</td>\n",
       "      <td>93.994</td>\n",
       "      <td>-36.4</td>\n",
       "      <td>4.857</td>\n",
       "    </tr>\n",
       "    <tr>\n",
       "      <th>4</th>\n",
       "      <td>0</td>\n",
       "      <td>0</td>\n",
       "      <td>0</td>\n",
       "      <td>0</td>\n",
       "      <td>1</td>\n",
       "      <td>0</td>\n",
       "      <td>0</td>\n",
       "      <td>1</td>\n",
       "      <td>0</td>\n",
       "      <td>0</td>\n",
       "      <td>0</td>\n",
       "      <td>0</td>\n",
       "      <td>1</td>\n",
       "      <td>0</td>\n",
       "      <td>0</td>\n",
       "      <td>1</td>\n",
       "      <td>0</td>\n",
       "      <td>0</td>\n",
       "      <td>0</td>\n",
       "      <td>0</td>\n",
       "      <td>1</td>\n",
       "      <td>0</td>\n",
       "      <td>0</td>\n",
       "      <td>1</td>\n",
       "      <td>0</td>\n",
       "      <td>56</td>\n",
       "      <td>1</td>\n",
       "      <td>0</td>\n",
       "      <td>93.994</td>\n",
       "      <td>-36.4</td>\n",
       "      <td>4.857</td>\n",
       "    </tr>\n",
       "  </tbody>\n",
       "</table>\n",
       "</div>"
      ],
      "text/plain": [
       "   job_admin.  job_blue-collar  job_entrepreneur  job_retired  job_services  \\\n",
       "0           0                0                 0            0             0   \n",
       "1           0                0                 0            0             1   \n",
       "2           0                0                 0            0             1   \n",
       "3           1                0                 0            0             0   \n",
       "4           0                0                 0            0             1   \n",
       "\n",
       "   job_student  job_unemployed  marital_married  marital_single  \\\n",
       "0            0               0                1               0   \n",
       "1            0               0                1               0   \n",
       "2            0               0                1               0   \n",
       "3            0               0                1               0   \n",
       "4            0               0                1               0   \n",
       "\n",
       "   education_basic  education_university.degree  education_unknown  \\\n",
       "0                1                            0                  0   \n",
       "1                0                            0                  0   \n",
       "2                0                            0                  0   \n",
       "3                1                            0                  0   \n",
       "4                0                            0                  0   \n",
       "\n",
       "   default_no  default_unknown  contact_cellular  contact_telephone  \\\n",
       "0           1                0                 0                  1   \n",
       "1           0                1                 0                  1   \n",
       "2           1                0                 0                  1   \n",
       "3           1                0                 0                  1   \n",
       "4           1                0                 0                  1   \n",
       "\n",
       "   month_apr  month_dec  month_jul  month_mar  month_may  month_oct  \\\n",
       "0          0          0          0          0          1          0   \n",
       "1          0          0          0          0          1          0   \n",
       "2          0          0          0          0          1          0   \n",
       "3          0          0          0          0          1          0   \n",
       "4          0          0          0          0          1          0   \n",
       "\n",
       "   month_sep  day_of_week_mon  day_of_week_thu  age  campaign  previous  \\\n",
       "0          0                1                0   56         1         0   \n",
       "1          0                1                0   57         1         0   \n",
       "2          0                1                0   37         1         0   \n",
       "3          0                1                0   40         1         0   \n",
       "4          0                1                0   56         1         0   \n",
       "\n",
       "   cons.price.idx  cons.conf.idx  euribor3m  \n",
       "0          93.994          -36.4      4.857  \n",
       "1          93.994          -36.4      4.857  \n",
       "2          93.994          -36.4      4.857  \n",
       "3          93.994          -36.4      4.857  \n",
       "4          93.994          -36.4      4.857  "
      ]
     },
     "execution_count": 48,
     "metadata": {},
     "output_type": "execute_result"
    }
   ],
   "source": [
    "banksig.head()"
   ]
  },
  {
   "cell_type": "code",
   "execution_count": 49,
   "metadata": {},
   "outputs": [
    {
     "name": "stdout",
     "output_type": "stream",
     "text": [
      "<class 'pandas.core.frame.DataFrame'>\n",
      "RangeIndex: 41188 entries, 0 to 41187\n",
      "Data columns (total 31 columns):\n",
      "job_admin.                     41188 non-null uint8\n",
      "job_blue-collar                41188 non-null uint8\n",
      "job_entrepreneur               41188 non-null uint8\n",
      "job_retired                    41188 non-null uint8\n",
      "job_services                   41188 non-null uint8\n",
      "job_student                    41188 non-null uint8\n",
      "job_unemployed                 41188 non-null uint8\n",
      "marital_married                41188 non-null uint8\n",
      "marital_single                 41188 non-null uint8\n",
      "education_basic                41188 non-null uint8\n",
      "education_university.degree    41188 non-null uint8\n",
      "education_unknown              41188 non-null uint8\n",
      "default_no                     41188 non-null uint8\n",
      "default_unknown                41188 non-null uint8\n",
      "contact_cellular               41188 non-null uint8\n",
      "contact_telephone              41188 non-null uint8\n",
      "month_apr                      41188 non-null uint8\n",
      "month_dec                      41188 non-null uint8\n",
      "month_jul                      41188 non-null uint8\n",
      "month_mar                      41188 non-null uint8\n",
      "month_may                      41188 non-null uint8\n",
      "month_oct                      41188 non-null uint8\n",
      "month_sep                      41188 non-null uint8\n",
      "day_of_week_mon                41188 non-null uint8\n",
      "day_of_week_thu                41188 non-null uint8\n",
      "age                            41188 non-null int64\n",
      "campaign                       41188 non-null int64\n",
      "previous                       41188 non-null int64\n",
      "cons.price.idx                 41188 non-null float64\n",
      "cons.conf.idx                  41188 non-null float64\n",
      "euribor3m                      41188 non-null float64\n",
      "dtypes: float64(3), int64(3), uint8(25)\n",
      "memory usage: 2.9 MB\n"
     ]
    }
   ],
   "source": [
    "banksig.info()"
   ]
  },
  {
   "cell_type": "code",
   "execution_count": 3,
   "metadata": {},
   "outputs": [],
   "source": [
    "target = bank['y'].apply(lambda x: 1 if x == 'yes' else 0)"
   ]
  },
  {
   "cell_type": "code",
   "execution_count": 31,
   "metadata": {},
   "outputs": [
    {
     "name": "stderr",
     "output_type": "stream",
     "text": [
      "C:\\ProgramData\\Anaconda3\\lib\\site-packages\\ipykernel_launcher.py:2: FutureWarning: The signature of `Series.to_csv` was aligned to that of `DataFrame.to_csv`, and argument 'header' will change its default value from False to True: please pass an explicit value to suppress this warning.\n",
      "  \n"
     ]
    }
   ],
   "source": [
    "banksig.to_csv('banksig.csv', index = False)\n",
    "target.to_csv('target.csv', index = False)"
   ]
  },
  {
   "cell_type": "markdown",
   "metadata": {},
   "source": [
    "> After processing our features, now we have a total of 31 columns (without the target). I also make a variable called target -- our target encoded with number, 0 as the Target No and 1 as the Target Yes."
   ]
  },
  {
   "cell_type": "markdown",
   "metadata": {},
   "source": [
    "## Classification Model\n",
    "\n",
    "Before we start to fit our model, let's see once again out target "
   ]
  },
  {
   "cell_type": "code",
   "execution_count": 56,
   "metadata": {},
   "outputs": [
    {
     "data": {
      "text/plain": [
       "<matplotlib.axes._subplots.AxesSubplot at 0x1e017afb848>"
      ]
     },
     "execution_count": 56,
     "metadata": {},
     "output_type": "execute_result"
    },
    {
     "data": {
      "image/png": "[encoded data removed]",
      "text/plain": [
       "<Figure size 432x288 with 1 Axes>"
      ]
     },
     "metadata": {
      "needs_background": "light"
     },
     "output_type": "display_data"
    }
   ],
   "source": [
    "sns.countplot(bank['y'])"
   ]
  },
  {
   "cell_type": "code",
   "execution_count": 57,
   "metadata": {},
   "outputs": [
    {
     "data": {
      "text/plain": [
       "no     36548\n",
       "yes     4640\n",
       "Name: y, dtype: int64"
      ]
     },
     "execution_count": 57,
     "metadata": {},
     "output_type": "execute_result"
    }
   ],
   "source": [
    "bank['y'].value_counts()"
   ]
  },
  {
   "cell_type": "markdown",
   "metadata": {},
   "source": [
    "> Only 11% of Target Yes, indicating a class imbalance. This will probably influence our model, to predict No more often and encounter difficulties in finding the Target Yes. Let's see if the class imbalance will really disturb our model. If that is the case, then we need to think of other solutions, such as applying undersampling or oversampling, to balance the classes of our target."
   ]
  },
  {
   "cell_type": "markdown",
   "metadata": {},
   "source": [
    "> We also need to choose the right metrics to evaluate our model later. In a class imbalance case, accuracy might not be the best one -- we want to predict the True case accurately. Since our dataset has over 80% of Target No, I am afraid that our model will prefer to predict No instead of Yes. Therefore, I think we need to pick precision and recall, to make sure that our model correctly predicting the Target Yes. \n",
    "\n",
    "* A higher score in recall for Target Yes is more desired for aggresive type of bank, because it indicates a lower False Negative (cases which are actually positive, but predicted negative). Since we have much smaller case of Target Yes, finding the true Target Yes is important, because it means we get the customer who will buy the product or in this case putting the deposit in the bank (customer acquisition). If we have a high False Negative, means we missed our customer and bank can probably lost revenue.\n",
    "\n",
    "* A higher score in precision is also desired (more for the conservative bank type), but it can be tolerated if we have lower precision score than recall score. Low precision score indicates a higher number of False Positive (cases which are actually negative, but predicted positive). Although pursuing False Positive customers can also cost resources and time, but in my opinion for aggresive bank type getting new True customers is more important for bank.\n",
    "\n",
    "* For now, let's say that we want to maximize the customer acquisition (for aggresive bank strategy). I will show the metrics, but my objection will be more to maximize the f1 score (balance between precision and recall), and if I have to choose further, I will choose the one with bigger recall score.\n",
    "\n",
    "* <b>Additionally, I will explicitly see the True Positives number from the confusion matrix. Model with biggest True Positives number will be chosen to further steps.</b>\n"
   ]
  },
  {
   "cell_type": "markdown",
   "metadata": {},
   "source": [
    "## Preparing the datasets\n",
    "As I mentioned earlier, I will check using the original dataset, undersampled dataset, oversampled dataset, and also generating synthesic data using SMOTE oversampling method"
   ]
  },
  {
   "cell_type": "code",
   "execution_count": 43,
   "metadata": {},
   "outputs": [],
   "source": [
    "from sklearn.model_selection import train_test_split"
   ]
  },
  {
   "cell_type": "markdown",
   "metadata": {},
   "source": [
    "### Original dataset"
   ]
  },
  {
   "cell_type": "code",
   "execution_count": 44,
   "metadata": {},
   "outputs": [],
   "source": [
    "X_train, X_test, y_train, y_test = train_test_split(banksig, target,\n",
    "                                                   test_size = 0.3, random_state = 101)"
   ]
  },
  {
   "cell_type": "code",
   "execution_count": 45,
   "metadata": {},
   "outputs": [
    {
     "data": {
      "text/plain": [
       "0    25570\n",
       "1     3261\n",
       "Name: y, dtype: int64"
      ]
     },
     "execution_count": 45,
     "metadata": {},
     "output_type": "execute_result"
    }
   ],
   "source": [
    "y_train.value_counts()"
   ]
  },
  {
   "cell_type": "code",
   "execution_count": 46,
   "metadata": {
    "scrolled": true
   },
   "outputs": [
    {
     "data": {
      "text/plain": [
       "0    10978\n",
       "1     1379\n",
       "Name: y, dtype: int64"
      ]
     },
     "execution_count": 46,
     "metadata": {},
     "output_type": "execute_result"
    }
   ],
   "source": [
    "y_test.value_counts()"
   ]
  },
  {
   "cell_type": "markdown",
   "metadata": {},
   "source": [
    "### Resampled datasets (undersampled and oversampled)"
   ]
  },
  {
   "cell_type": "code",
   "execution_count": 47,
   "metadata": {},
   "outputs": [],
   "source": [
    "# Preparing the dataset first \n",
    "# Only using the X_train and y_train -- because we do not want to leak our test data when fitting into the models\n",
    "\n",
    "bank_resample = pd.concat([X_train, y_train], axis =1)"
   ]
  },
  {
   "cell_type": "code",
   "execution_count": 48,
   "metadata": {},
   "outputs": [],
   "source": [
    "# Separating minority and majority class\n",
    "class_yes = bank_resample[bank_resample['y'] == 1]\n",
    "class_no = bank_resample[bank_resample['y'] == 0]"
   ]
  },
  {
   "cell_type": "code",
   "execution_count": 49,
   "metadata": {},
   "outputs": [],
   "source": [
    "from sklearn.utils import resample"
   ]
  },
  {
   "cell_type": "markdown",
   "metadata": {},
   "source": [
    "#### Undersampled dataset"
   ]
  },
  {
   "cell_type": "code",
   "execution_count": 50,
   "metadata": {},
   "outputs": [],
   "source": [
    "# We will resample the target No (no_under) -- so the number of Target No and Target Yes will be the same\n",
    "\n",
    "no_undersampled = resample(class_no,\n",
    "                          replace = False,\n",
    "                          n_samples = len(class_yes),\n",
    "                          random_state = 101)"
   ]
  },
  {
   "cell_type": "code",
   "execution_count": 51,
   "metadata": {},
   "outputs": [],
   "source": [
    "# combine the yes and no to one dataset\n",
    "bank_undersampled = pd.concat([no_undersampled, class_yes])"
   ]
  },
  {
   "cell_type": "code",
   "execution_count": 52,
   "metadata": {},
   "outputs": [
    {
     "data": {
      "text/plain": [
       "1    3261\n",
       "0    3261\n",
       "Name: y, dtype: int64"
      ]
     },
     "execution_count": 52,
     "metadata": {},
     "output_type": "execute_result"
    }
   ],
   "source": [
    "# Checking the dataset\n",
    "bank_undersampled['y'].value_counts()"
   ]
  },
  {
   "cell_type": "code",
   "execution_count": 53,
   "metadata": {},
   "outputs": [],
   "source": [
    "# Generating the X_train_under and y_train_under -- so we will not overwrite our original X_train and y_train\n",
    "X_train_under = bank_undersampled.drop('y', axis = 1)\n",
    "y_train_under = bank_undersampled['y']"
   ]
  },
  {
   "cell_type": "markdown",
   "metadata": {},
   "source": [
    "#### Oversampled dataset"
   ]
  },
  {
   "cell_type": "code",
   "execution_count": 54,
   "metadata": {},
   "outputs": [
    {
     "data": {
      "text/plain": [
       "25570"
      ]
     },
     "execution_count": 54,
     "metadata": {},
     "output_type": "execute_result"
    }
   ],
   "source": [
    "len(class_no)"
   ]
  },
  {
   "cell_type": "code",
   "execution_count": 55,
   "metadata": {},
   "outputs": [],
   "source": [
    "# We will resample the target Yes (yes_under) -- so the number of Target No and Target Yes will be the same\n",
    "\n",
    "yes_oversampled = resample(class_yes,\n",
    "                          replace = True,\n",
    "                          n_samples = len(class_no),\n",
    "                          random_state = 101)"
   ]
  },
  {
   "cell_type": "code",
   "execution_count": 56,
   "metadata": {},
   "outputs": [],
   "source": [
    "bank_oversampled = pd.concat([class_no, yes_oversampled])"
   ]
  },
  {
   "cell_type": "code",
   "execution_count": 57,
   "metadata": {},
   "outputs": [
    {
     "data": {
      "text/html": [
       "<div>\n",
       "<style scoped>\n",
       "    .dataframe tbody tr th:only-of-type {\n",
       "        vertical-align: middle;\n",
       "    }\n",
       "\n",
       "    .dataframe tbody tr th {\n",
       "        vertical-align: top;\n",
       "    }\n",
       "\n",
       "    .dataframe thead th {\n",
       "        text-align: right;\n",
       "    }\n",
       "</style>\n",
       "<table border=\"1\" class=\"dataframe\">\n",
       "  <thead>\n",
       "    <tr style=\"text-align: right;\">\n",
       "      <th></th>\n",
       "      <th>job_admin.</th>\n",
       "      <th>job_blue-collar</th>\n",
       "      <th>job_entrepreneur</th>\n",
       "      <th>job_retired</th>\n",
       "      <th>job_services</th>\n",
       "      <th>job_student</th>\n",
       "      <th>job_unemployed</th>\n",
       "      <th>marital_married</th>\n",
       "      <th>marital_single</th>\n",
       "      <th>education_basic</th>\n",
       "      <th>education_university.degree</th>\n",
       "      <th>education_unknown</th>\n",
       "      <th>default_no</th>\n",
       "      <th>default_unknown</th>\n",
       "      <th>contact_cellular</th>\n",
       "      <th>contact_telephone</th>\n",
       "      <th>month_apr</th>\n",
       "      <th>month_dec</th>\n",
       "      <th>month_jul</th>\n",
       "      <th>month_mar</th>\n",
       "      <th>month_may</th>\n",
       "      <th>month_oct</th>\n",
       "      <th>month_sep</th>\n",
       "      <th>day_of_week_mon</th>\n",
       "      <th>day_of_week_thu</th>\n",
       "      <th>age</th>\n",
       "      <th>campaign</th>\n",
       "      <th>previous</th>\n",
       "      <th>cons.price.idx</th>\n",
       "      <th>cons.conf.idx</th>\n",
       "      <th>euribor3m</th>\n",
       "      <th>y</th>\n",
       "    </tr>\n",
       "  </thead>\n",
       "  <tbody>\n",
       "    <tr>\n",
       "      <th>7271</th>\n",
       "      <td>0</td>\n",
       "      <td>0</td>\n",
       "      <td>0</td>\n",
       "      <td>0</td>\n",
       "      <td>0</td>\n",
       "      <td>0</td>\n",
       "      <td>0</td>\n",
       "      <td>1</td>\n",
       "      <td>0</td>\n",
       "      <td>1</td>\n",
       "      <td>0</td>\n",
       "      <td>0</td>\n",
       "      <td>0</td>\n",
       "      <td>1</td>\n",
       "      <td>0</td>\n",
       "      <td>1</td>\n",
       "      <td>0</td>\n",
       "      <td>0</td>\n",
       "      <td>0</td>\n",
       "      <td>0</td>\n",
       "      <td>1</td>\n",
       "      <td>0</td>\n",
       "      <td>0</td>\n",
       "      <td>0</td>\n",
       "      <td>1</td>\n",
       "      <td>40</td>\n",
       "      <td>4</td>\n",
       "      <td>0</td>\n",
       "      <td>93.994</td>\n",
       "      <td>-36.4</td>\n",
       "      <td>4.860</td>\n",
       "      <td>0</td>\n",
       "    </tr>\n",
       "    <tr>\n",
       "      <th>13284</th>\n",
       "      <td>0</td>\n",
       "      <td>0</td>\n",
       "      <td>0</td>\n",
       "      <td>0</td>\n",
       "      <td>0</td>\n",
       "      <td>0</td>\n",
       "      <td>0</td>\n",
       "      <td>0</td>\n",
       "      <td>1</td>\n",
       "      <td>0</td>\n",
       "      <td>0</td>\n",
       "      <td>0</td>\n",
       "      <td>1</td>\n",
       "      <td>0</td>\n",
       "      <td>1</td>\n",
       "      <td>0</td>\n",
       "      <td>0</td>\n",
       "      <td>0</td>\n",
       "      <td>1</td>\n",
       "      <td>0</td>\n",
       "      <td>0</td>\n",
       "      <td>0</td>\n",
       "      <td>0</td>\n",
       "      <td>0</td>\n",
       "      <td>0</td>\n",
       "      <td>25</td>\n",
       "      <td>1</td>\n",
       "      <td>0</td>\n",
       "      <td>93.918</td>\n",
       "      <td>-42.7</td>\n",
       "      <td>4.962</td>\n",
       "      <td>0</td>\n",
       "    </tr>\n",
       "    <tr>\n",
       "      <th>11580</th>\n",
       "      <td>0</td>\n",
       "      <td>1</td>\n",
       "      <td>0</td>\n",
       "      <td>0</td>\n",
       "      <td>0</td>\n",
       "      <td>0</td>\n",
       "      <td>0</td>\n",
       "      <td>1</td>\n",
       "      <td>0</td>\n",
       "      <td>1</td>\n",
       "      <td>0</td>\n",
       "      <td>0</td>\n",
       "      <td>0</td>\n",
       "      <td>1</td>\n",
       "      <td>0</td>\n",
       "      <td>1</td>\n",
       "      <td>0</td>\n",
       "      <td>0</td>\n",
       "      <td>0</td>\n",
       "      <td>0</td>\n",
       "      <td>0</td>\n",
       "      <td>0</td>\n",
       "      <td>0</td>\n",
       "      <td>0</td>\n",
       "      <td>0</td>\n",
       "      <td>48</td>\n",
       "      <td>10</td>\n",
       "      <td>0</td>\n",
       "      <td>94.465</td>\n",
       "      <td>-41.8</td>\n",
       "      <td>4.959</td>\n",
       "      <td>0</td>\n",
       "    </tr>\n",
       "    <tr>\n",
       "      <th>31835</th>\n",
       "      <td>0</td>\n",
       "      <td>0</td>\n",
       "      <td>0</td>\n",
       "      <td>0</td>\n",
       "      <td>0</td>\n",
       "      <td>0</td>\n",
       "      <td>0</td>\n",
       "      <td>1</td>\n",
       "      <td>0</td>\n",
       "      <td>0</td>\n",
       "      <td>0</td>\n",
       "      <td>0</td>\n",
       "      <td>1</td>\n",
       "      <td>0</td>\n",
       "      <td>1</td>\n",
       "      <td>0</td>\n",
       "      <td>0</td>\n",
       "      <td>0</td>\n",
       "      <td>0</td>\n",
       "      <td>0</td>\n",
       "      <td>1</td>\n",
       "      <td>0</td>\n",
       "      <td>0</td>\n",
       "      <td>0</td>\n",
       "      <td>1</td>\n",
       "      <td>43</td>\n",
       "      <td>2</td>\n",
       "      <td>0</td>\n",
       "      <td>92.893</td>\n",
       "      <td>-46.2</td>\n",
       "      <td>1.327</td>\n",
       "      <td>0</td>\n",
       "    </tr>\n",
       "    <tr>\n",
       "      <th>19551</th>\n",
       "      <td>0</td>\n",
       "      <td>0</td>\n",
       "      <td>0</td>\n",
       "      <td>0</td>\n",
       "      <td>0</td>\n",
       "      <td>0</td>\n",
       "      <td>0</td>\n",
       "      <td>1</td>\n",
       "      <td>0</td>\n",
       "      <td>0</td>\n",
       "      <td>1</td>\n",
       "      <td>0</td>\n",
       "      <td>1</td>\n",
       "      <td>0</td>\n",
       "      <td>1</td>\n",
       "      <td>0</td>\n",
       "      <td>0</td>\n",
       "      <td>0</td>\n",
       "      <td>0</td>\n",
       "      <td>0</td>\n",
       "      <td>0</td>\n",
       "      <td>0</td>\n",
       "      <td>0</td>\n",
       "      <td>0</td>\n",
       "      <td>1</td>\n",
       "      <td>49</td>\n",
       "      <td>1</td>\n",
       "      <td>0</td>\n",
       "      <td>93.444</td>\n",
       "      <td>-36.1</td>\n",
       "      <td>4.968</td>\n",
       "      <td>0</td>\n",
       "    </tr>\n",
       "  </tbody>\n",
       "</table>\n",
       "</div>"
      ],
      "text/plain": [
       "       job_admin.  job_blue-collar  job_entrepreneur  job_retired  \\\n",
       "7271            0                0                 0            0   \n",
       "13284           0                0                 0            0   \n",
       "11580           0                1                 0            0   \n",
       "31835           0                0                 0            0   \n",
       "19551           0                0                 0            0   \n",
       "\n",
       "       job_services  job_student  job_unemployed  marital_married  \\\n",
       "7271              0            0               0                1   \n",
       "13284             0            0               0                0   \n",
       "11580             0            0               0                1   \n",
       "31835             0            0               0                1   \n",
       "19551             0            0               0                1   \n",
       "\n",
       "       marital_single  education_basic  education_university.degree  \\\n",
       "7271                0                1                            0   \n",
       "13284               1                0                            0   \n",
       "11580               0                1                            0   \n",
       "31835               0                0                            0   \n",
       "19551               0                0                            1   \n",
       "\n",
       "       education_unknown  default_no  default_unknown  contact_cellular  \\\n",
       "7271                   0           0                1                 0   \n",
       "13284                  0           1                0                 1   \n",
       "11580                  0           0                1                 0   \n",
       "31835                  0           1                0                 1   \n",
       "19551                  0           1                0                 1   \n",
       "\n",
       "       contact_telephone  month_apr  month_dec  month_jul  month_mar  \\\n",
       "7271                   1          0          0          0          0   \n",
       "13284                  0          0          0          1          0   \n",
       "11580                  1          0          0          0          0   \n",
       "31835                  0          0          0          0          0   \n",
       "19551                  0          0          0          0          0   \n",
       "\n",
       "       month_may  month_oct  month_sep  day_of_week_mon  day_of_week_thu  age  \\\n",
       "7271           1          0          0                0                1   40   \n",
       "13284          0          0          0                0                0   25   \n",
       "11580          0          0          0                0                0   48   \n",
       "31835          1          0          0                0                1   43   \n",
       "19551          0          0          0                0                1   49   \n",
       "\n",
       "       campaign  previous  cons.price.idx  cons.conf.idx  euribor3m  y  \n",
       "7271          4         0          93.994          -36.4      4.860  0  \n",
       "13284         1         0          93.918          -42.7      4.962  0  \n",
       "11580        10         0          94.465          -41.8      4.959  0  \n",
       "31835         2         0          92.893          -46.2      1.327  0  \n",
       "19551         1         0          93.444          -36.1      4.968  0  "
      ]
     },
     "execution_count": 57,
     "metadata": {},
     "output_type": "execute_result"
    }
   ],
   "source": [
    "bank_oversampled.head()"
   ]
  },
  {
   "cell_type": "code",
   "execution_count": 58,
   "metadata": {},
   "outputs": [
    {
     "data": {
      "text/plain": [
       "1    25570\n",
       "0    25570\n",
       "Name: y, dtype: int64"
      ]
     },
     "execution_count": 58,
     "metadata": {},
     "output_type": "execute_result"
    }
   ],
   "source": [
    "bank_oversampled['y'].value_counts()"
   ]
  },
  {
   "cell_type": "code",
   "execution_count": 59,
   "metadata": {},
   "outputs": [],
   "source": [
    "X_train_over = bank_oversampled.drop('y', axis = 1)\n",
    "y_train_over = bank_oversampled['y']"
   ]
  },
  {
   "cell_type": "code",
   "execution_count": 60,
   "metadata": {},
   "outputs": [
    {
     "data": {
      "text/plain": [
       "1    25570\n",
       "0    25570\n",
       "Name: y, dtype: int64"
      ]
     },
     "execution_count": 60,
     "metadata": {},
     "output_type": "execute_result"
    }
   ],
   "source": [
    "y_train_over.value_counts()"
   ]
  },
  {
   "cell_type": "markdown",
   "metadata": {},
   "source": [
    "### SMOTE Oversampling -- introducing synthetic data to balance the classes"
   ]
  },
  {
   "cell_type": "code",
   "execution_count": 61,
   "metadata": {},
   "outputs": [],
   "source": [
    "from imblearn.over_sampling import SMOTE\n",
    "im = SMOTE(sampling_strategy = 'minority')\n",
    "\n",
    "oversampled_trainX, oversampled_trainY = im.fit_sample(X_train, y_train)\n",
    "oversampled_train = pd.concat([pd.DataFrame(oversampled_trainY), pd.DataFrame(oversampled_trainX)], axis = 1)"
   ]
  },
  {
   "cell_type": "code",
   "execution_count": 62,
   "metadata": {},
   "outputs": [
    {
     "data": {
      "text/html": [
       "<div>\n",
       "<style scoped>\n",
       "    .dataframe tbody tr th:only-of-type {\n",
       "        vertical-align: middle;\n",
       "    }\n",
       "\n",
       "    .dataframe tbody tr th {\n",
       "        vertical-align: top;\n",
       "    }\n",
       "\n",
       "    .dataframe thead th {\n",
       "        text-align: right;\n",
       "    }\n",
       "</style>\n",
       "<table border=\"1\" class=\"dataframe\">\n",
       "  <thead>\n",
       "    <tr style=\"text-align: right;\">\n",
       "      <th></th>\n",
       "      <th>y</th>\n",
       "      <th>job_admin.</th>\n",
       "      <th>job_blue-collar</th>\n",
       "      <th>job_entrepreneur</th>\n",
       "      <th>job_retired</th>\n",
       "      <th>job_services</th>\n",
       "      <th>job_student</th>\n",
       "      <th>job_unemployed</th>\n",
       "      <th>marital_married</th>\n",
       "      <th>marital_single</th>\n",
       "      <th>education_basic</th>\n",
       "      <th>education_university.degree</th>\n",
       "      <th>education_unknown</th>\n",
       "      <th>default_no</th>\n",
       "      <th>default_unknown</th>\n",
       "      <th>contact_cellular</th>\n",
       "      <th>contact_telephone</th>\n",
       "      <th>month_apr</th>\n",
       "      <th>month_dec</th>\n",
       "      <th>month_jul</th>\n",
       "      <th>month_mar</th>\n",
       "      <th>month_may</th>\n",
       "      <th>month_oct</th>\n",
       "      <th>month_sep</th>\n",
       "      <th>day_of_week_mon</th>\n",
       "      <th>day_of_week_thu</th>\n",
       "      <th>age</th>\n",
       "      <th>campaign</th>\n",
       "      <th>previous</th>\n",
       "      <th>cons.price.idx</th>\n",
       "      <th>cons.conf.idx</th>\n",
       "      <th>euribor3m</th>\n",
       "    </tr>\n",
       "  </thead>\n",
       "  <tbody>\n",
       "    <tr>\n",
       "      <th>0</th>\n",
       "      <td>0</td>\n",
       "      <td>0</td>\n",
       "      <td>0</td>\n",
       "      <td>0</td>\n",
       "      <td>0</td>\n",
       "      <td>0</td>\n",
       "      <td>0</td>\n",
       "      <td>0</td>\n",
       "      <td>1</td>\n",
       "      <td>0</td>\n",
       "      <td>1</td>\n",
       "      <td>0</td>\n",
       "      <td>0</td>\n",
       "      <td>0</td>\n",
       "      <td>1</td>\n",
       "      <td>0</td>\n",
       "      <td>1</td>\n",
       "      <td>0</td>\n",
       "      <td>0</td>\n",
       "      <td>0</td>\n",
       "      <td>0</td>\n",
       "      <td>1</td>\n",
       "      <td>0</td>\n",
       "      <td>0</td>\n",
       "      <td>0</td>\n",
       "      <td>1</td>\n",
       "      <td>40</td>\n",
       "      <td>4</td>\n",
       "      <td>0</td>\n",
       "      <td>93.994</td>\n",
       "      <td>-36.4</td>\n",
       "      <td>4.860</td>\n",
       "    </tr>\n",
       "    <tr>\n",
       "      <th>1</th>\n",
       "      <td>0</td>\n",
       "      <td>0</td>\n",
       "      <td>0</td>\n",
       "      <td>0</td>\n",
       "      <td>0</td>\n",
       "      <td>0</td>\n",
       "      <td>0</td>\n",
       "      <td>0</td>\n",
       "      <td>0</td>\n",
       "      <td>1</td>\n",
       "      <td>0</td>\n",
       "      <td>0</td>\n",
       "      <td>0</td>\n",
       "      <td>1</td>\n",
       "      <td>0</td>\n",
       "      <td>1</td>\n",
       "      <td>0</td>\n",
       "      <td>0</td>\n",
       "      <td>0</td>\n",
       "      <td>1</td>\n",
       "      <td>0</td>\n",
       "      <td>0</td>\n",
       "      <td>0</td>\n",
       "      <td>0</td>\n",
       "      <td>0</td>\n",
       "      <td>0</td>\n",
       "      <td>25</td>\n",
       "      <td>1</td>\n",
       "      <td>0</td>\n",
       "      <td>93.918</td>\n",
       "      <td>-42.7</td>\n",
       "      <td>4.962</td>\n",
       "    </tr>\n",
       "    <tr>\n",
       "      <th>2</th>\n",
       "      <td>0</td>\n",
       "      <td>0</td>\n",
       "      <td>1</td>\n",
       "      <td>0</td>\n",
       "      <td>0</td>\n",
       "      <td>0</td>\n",
       "      <td>0</td>\n",
       "      <td>0</td>\n",
       "      <td>1</td>\n",
       "      <td>0</td>\n",
       "      <td>1</td>\n",
       "      <td>0</td>\n",
       "      <td>0</td>\n",
       "      <td>0</td>\n",
       "      <td>1</td>\n",
       "      <td>0</td>\n",
       "      <td>1</td>\n",
       "      <td>0</td>\n",
       "      <td>0</td>\n",
       "      <td>0</td>\n",
       "      <td>0</td>\n",
       "      <td>0</td>\n",
       "      <td>0</td>\n",
       "      <td>0</td>\n",
       "      <td>0</td>\n",
       "      <td>0</td>\n",
       "      <td>48</td>\n",
       "      <td>10</td>\n",
       "      <td>0</td>\n",
       "      <td>94.465</td>\n",
       "      <td>-41.8</td>\n",
       "      <td>4.959</td>\n",
       "    </tr>\n",
       "    <tr>\n",
       "      <th>3</th>\n",
       "      <td>0</td>\n",
       "      <td>0</td>\n",
       "      <td>0</td>\n",
       "      <td>0</td>\n",
       "      <td>0</td>\n",
       "      <td>0</td>\n",
       "      <td>0</td>\n",
       "      <td>0</td>\n",
       "      <td>1</td>\n",
       "      <td>0</td>\n",
       "      <td>0</td>\n",
       "      <td>0</td>\n",
       "      <td>0</td>\n",
       "      <td>1</td>\n",
       "      <td>0</td>\n",
       "      <td>1</td>\n",
       "      <td>0</td>\n",
       "      <td>0</td>\n",
       "      <td>0</td>\n",
       "      <td>0</td>\n",
       "      <td>0</td>\n",
       "      <td>1</td>\n",
       "      <td>0</td>\n",
       "      <td>0</td>\n",
       "      <td>0</td>\n",
       "      <td>1</td>\n",
       "      <td>43</td>\n",
       "      <td>2</td>\n",
       "      <td>0</td>\n",
       "      <td>92.893</td>\n",
       "      <td>-46.2</td>\n",
       "      <td>1.327</td>\n",
       "    </tr>\n",
       "    <tr>\n",
       "      <th>4</th>\n",
       "      <td>0</td>\n",
       "      <td>0</td>\n",
       "      <td>0</td>\n",
       "      <td>0</td>\n",
       "      <td>0</td>\n",
       "      <td>0</td>\n",
       "      <td>0</td>\n",
       "      <td>0</td>\n",
       "      <td>1</td>\n",
       "      <td>0</td>\n",
       "      <td>0</td>\n",
       "      <td>1</td>\n",
       "      <td>0</td>\n",
       "      <td>1</td>\n",
       "      <td>0</td>\n",
       "      <td>1</td>\n",
       "      <td>0</td>\n",
       "      <td>0</td>\n",
       "      <td>0</td>\n",
       "      <td>0</td>\n",
       "      <td>0</td>\n",
       "      <td>0</td>\n",
       "      <td>0</td>\n",
       "      <td>0</td>\n",
       "      <td>0</td>\n",
       "      <td>1</td>\n",
       "      <td>49</td>\n",
       "      <td>1</td>\n",
       "      <td>0</td>\n",
       "      <td>93.444</td>\n",
       "      <td>-36.1</td>\n",
       "      <td>4.968</td>\n",
       "    </tr>\n",
       "  </tbody>\n",
       "</table>\n",
       "</div>"
      ],
      "text/plain": [
       "   y  job_admin.  job_blue-collar  job_entrepreneur  job_retired  \\\n",
       "0  0           0                0                 0            0   \n",
       "1  0           0                0                 0            0   \n",
       "2  0           0                1                 0            0   \n",
       "3  0           0                0                 0            0   \n",
       "4  0           0                0                 0            0   \n",
       "\n",
       "   job_services  job_student  job_unemployed  marital_married  marital_single  \\\n",
       "0             0            0               0                1               0   \n",
       "1             0            0               0                0               1   \n",
       "2             0            0               0                1               0   \n",
       "3             0            0               0                1               0   \n",
       "4             0            0               0                1               0   \n",
       "\n",
       "   education_basic  education_university.degree  education_unknown  \\\n",
       "0                1                            0                  0   \n",
       "1                0                            0                  0   \n",
       "2                1                            0                  0   \n",
       "3                0                            0                  0   \n",
       "4                0                            1                  0   \n",
       "\n",
       "   default_no  default_unknown  contact_cellular  contact_telephone  \\\n",
       "0           0                1                 0                  1   \n",
       "1           1                0                 1                  0   \n",
       "2           0                1                 0                  1   \n",
       "3           1                0                 1                  0   \n",
       "4           1                0                 1                  0   \n",
       "\n",
       "   month_apr  month_dec  month_jul  month_mar  month_may  month_oct  \\\n",
       "0          0          0          0          0          1          0   \n",
       "1          0          0          1          0          0          0   \n",
       "2          0          0          0          0          0          0   \n",
       "3          0          0          0          0          1          0   \n",
       "4          0          0          0          0          0          0   \n",
       "\n",
       "   month_sep  day_of_week_mon  day_of_week_thu  age  campaign  previous  \\\n",
       "0          0                0                1   40         4         0   \n",
       "1          0                0                0   25         1         0   \n",
       "2          0                0                0   48        10         0   \n",
       "3          0                0                1   43         2         0   \n",
       "4          0                0                1   49         1         0   \n",
       "\n",
       "   cons.price.idx  cons.conf.idx  euribor3m  \n",
       "0          93.994          -36.4      4.860  \n",
       "1          93.918          -42.7      4.962  \n",
       "2          94.465          -41.8      4.959  \n",
       "3          92.893          -46.2      1.327  \n",
       "4          93.444          -36.1      4.968  "
      ]
     },
     "execution_count": 62,
     "metadata": {},
     "output_type": "execute_result"
    }
   ],
   "source": [
    "oversampled_train.head()"
   ]
  },
  {
   "cell_type": "code",
   "execution_count": 63,
   "metadata": {},
   "outputs": [
    {
     "data": {
      "text/plain": [
       "1    25570\n",
       "0    25570\n",
       "Name: y, dtype: int64"
      ]
     },
     "execution_count": 63,
     "metadata": {},
     "output_type": "execute_result"
    }
   ],
   "source": [
    "oversampled_train['y'].value_counts()"
   ]
  },
  {
   "cell_type": "markdown",
   "metadata": {},
   "source": [
    "### Compiling the datasets"
   ]
  },
  {
   "cell_type": "code",
   "execution_count": 64,
   "metadata": {},
   "outputs": [],
   "source": [
    "X_tr_data = [X_train, X_train_under, X_train_over, oversampled_trainX]\n",
    "y_tr_data = [y_train, y_train_under, y_train_over, oversampled_trainY]\n",
    "name_train = ['Original', 'Undersampled', 'Oversampled', 'SMOTE']"
   ]
  },
  {
   "cell_type": "markdown",
   "metadata": {},
   "source": [
    "## Checking the model \n",
    "\n",
    "There are a lot of models for classification case. Here I will try logistic regression, bagging model (Random Forest), and boosting model (XGBoost). First I will check the f1 score without the parameter tuning, and continue only with the one(s) with the best f1 score or recall scores."
   ]
  },
  {
   "cell_type": "code",
   "execution_count": 5,
   "metadata": {},
   "outputs": [],
   "source": [
    "from sklearn.linear_model import LogisticRegression\n",
    "from sklearn.ensemble import RandomForestClassifier\n",
    "from xgboost import XGBClassifier\n",
    "from sklearn.metrics import classification_report, confusion_matrix, accuracy_score,roc_auc_score, f1_score, log_loss, matthews_corrcoef"
   ]
  },
  {
   "cell_type": "code",
   "execution_count": 78,
   "metadata": {},
   "outputs": [],
   "source": [
    "log_reg = LogisticRegression(solver = 'saga', max_iter = 1000)\n",
    "rfc = RandomForestClassifier()\n",
    "xgb = XGBClassifier()"
   ]
  },
  {
   "cell_type": "markdown",
   "metadata": {},
   "source": [
    "### Compiling Models"
   ]
  },
  {
   "cell_type": "code",
   "execution_count": 79,
   "metadata": {},
   "outputs": [],
   "source": [
    "models = {'Logistic Regression': log_reg, 'RandomForestClassifier': rfc, 'XGBClassifier': xgb}"
   ]
  },
  {
   "cell_type": "code",
   "execution_count": 80,
   "metadata": {},
   "outputs": [
    {
     "name": "stdout",
     "output_type": "stream",
     "text": [
      "Logistic Regression\n",
      "LogisticRegression(C=1.0, class_weight=None, dual=False, fit_intercept=True,\n",
      "                   intercept_scaling=1, l1_ratio=None, max_iter=1000,\n",
      "                   multi_class='auto', n_jobs=None, penalty='l2',\n",
      "                   random_state=None, solver='saga', tol=0.0001, verbose=0,\n",
      "                   warm_start=False)\n",
      "RandomForestClassifier\n",
      "RandomForestClassifier(bootstrap=True, ccp_alpha=0.0, class_weight=None,\n",
      "                       criterion='gini', max_depth=None, max_features='auto',\n",
      "                       max_leaf_nodes=None, max_samples=None,\n",
      "                       min_impurity_decrease=0.0, min_impurity_split=None,\n",
      "                       min_samples_leaf=1, min_samples_split=2,\n",
      "                       min_weight_fraction_leaf=0.0, n_estimators=100,\n",
      "                       n_jobs=None, oob_score=False, random_state=None,\n",
      "                       verbose=0, warm_start=False)\n",
      "XGBClassifier\n",
      "XGBClassifier(base_score=None, booster=None, colsample_bylevel=None,\n",
      "              colsample_bynode=None, colsample_bytree=None, gamma=None,\n",
      "              gpu_id=None, importance_type='gain', interaction_constraints=None,\n",
      "              learning_rate=None, max_delta_step=None, max_depth=None,\n",
      "              min_child_weight=None, missing=nan, monotone_constraints=None,\n",
      "              n_estimators=100, n_jobs=None, num_parallel_tree=None,\n",
      "              objective='binary:logistic', random_state=None, reg_alpha=None,\n",
      "              reg_lambda=None, scale_pos_weight=None, subsample=None,\n",
      "              tree_method=None, validate_parameters=False, verbosity=None)\n"
     ]
    }
   ],
   "source": [
    "for i, j in models.items():\n",
    "    print(i)\n",
    "    print(j)"
   ]
  },
  {
   "cell_type": "markdown",
   "metadata": {},
   "source": [
    "## Fitting the models into the datasets \n",
    "### Initial comparison of F1 scores among models and between train/test sets"
   ]
  },
  {
   "cell_type": "code",
   "execution_count": 69,
   "metadata": {},
   "outputs": [],
   "source": [
    "from sklearn.preprocessing import StandardScaler"
   ]
  },
  {
   "cell_type": "code",
   "execution_count": 76,
   "metadata": {},
   "outputs": [],
   "source": [
    "scaler = StandardScaler()"
   ]
  },
  {
   "cell_type": "code",
   "execution_count": 81,
   "metadata": {},
   "outputs": [
    {
     "name": "stdout",
     "output_type": "stream",
     "text": [
      "In Original dataset : \n",
      "F1 Score in Logistic Regression : \n",
      "Train : 0.30079275198188\n",
      "Test : 0.30005396654074473\n",
      " \n",
      "F1 Score in RandomForestClassifier : \n",
      "Train : 0.9387168847749761\n",
      "Test : 0.3543968183826779\n",
      " \n",
      "F1 Score in XGBClassifier : \n",
      "Train : 0.5803953535765234\n",
      "Test : 0.36669874879692016\n",
      " \n",
      "In Undersampled dataset : \n",
      "F1 Score in Logistic Regression : \n",
      "Train : 0.7070809984717269\n",
      "Test : 0.4195769798327595\n",
      " \n",
      "F1 Score in RandomForestClassifier : \n",
      "Train : 0.9900199600798403\n",
      "Test : 0.37791307999160195\n",
      " \n",
      "F1 Score in XGBClassifier : \n",
      "Train : 0.8325327149246314\n",
      "Test : 0.3968609865470852\n",
      " \n",
      "In Oversampled dataset : \n",
      "F1 Score in Logistic Regression : \n",
      "Train : 0.7051851851851852\n",
      "Test : 0.4256397263744616\n",
      " \n",
      "F1 Score in RandomForestClassifier : \n",
      "Train : 0.9898919484140816\n",
      "Test : 0.3984034833091437\n",
      " \n",
      "F1 Score in XGBClassifier : \n",
      "Train : 0.832978374836173\n",
      "Test : 0.4282584884994523\n",
      " \n",
      "In SMOTE dataset : \n",
      "F1 Score in Logistic Regression : \n",
      "Train : 0.8199440447641886\n",
      "Test : 0.35916230366492147\n",
      " \n",
      "F1 Score in RandomForestClassifier : \n",
      "Train : 0.9908073853856988\n",
      "Test : 0.3868023868023869\n",
      " \n",
      "F1 Score in XGBClassifier : \n",
      "Train : 0.9299494808862723\n",
      "Test : 0.433042212518195\n",
      " \n"
     ]
    }
   ],
   "source": [
    "for i, j, k in zip(X_tr_data, y_tr_data, name_train):\n",
    "    print('In {} dataset : '.format(k))\n",
    "    for m, n in models.items():\n",
    "        if m == 'Logistic Regression':\n",
    "            X_trscale = scaler.fit_transform(i)\n",
    "            n.fit(X_trscale, j)\n",
    "            X_tsscale = scaler.transform(X_test)\n",
    "            f1_train = f1_score(j, n.predict(X_trscale))\n",
    "            f1_test = f1_score(y_test, n.predict(X_tsscale))\n",
    "            print('F1 Score in {} : '.format(m))\n",
    "            print('Train : {}'.format(f1_train))\n",
    "            print('Test : {}'.format(f1_test))\n",
    "            print(' ')\n",
    "        else:\n",
    "            n.fit(i,j)\n",
    "            f1_train = f1_score(j, n.predict(i))\n",
    "            f1_test = f1_score(y_test, n.predict(X_test))\n",
    "            print('F1 Score in {} : '.format(m))\n",
    "            print('Train : {}'.format(f1_train))\n",
    "            print('Test : {}'.format(f1_test))\n",
    "            print(' ')"
   ]
  },
  {
   "cell_type": "markdown",
   "metadata": {},
   "source": [
    "In general, we see that our models are overfitting -- having better train result than test result (in exception of logistic regression model in the original dataset). \n",
    "All models performed better in modified datasets, the F1 scores for the test sets are higher compared to the original dataset.\n",
    "\n",
    "In general, according to the datasets, models performed best in the oversampled dataset. While according to the models, XGBClassifier is the one generating better F1 scores compared to other models. "
   ]
  },
  {
   "cell_type": "markdown",
   "metadata": {},
   "source": [
    "## Checking individual models -- classification report and confusion matrix"
   ]
  },
  {
   "cell_type": "markdown",
   "metadata": {},
   "source": [
    "### Logistic Regression\n",
    "Since this is considered as a big dataset, I will use 'saga' as the solver for the logistic regression. Based on sklearn documentation, in order to do well with 'saga', we need to scale our data first."
   ]
  },
  {
   "cell_type": "code",
   "execution_count": 62,
   "metadata": {},
   "outputs": [],
   "source": [
    "from sklearn.preprocessing import StandardScaler"
   ]
  },
  {
   "cell_type": "code",
   "execution_count": 63,
   "metadata": {},
   "outputs": [],
   "source": [
    "scaler = StandardScaler()"
   ]
  },
  {
   "cell_type": "code",
   "execution_count": 65,
   "metadata": {},
   "outputs": [],
   "source": [
    "X_trainscale = scaler.fit_transform(X_train)"
   ]
  },
  {
   "cell_type": "code",
   "execution_count": 67,
   "metadata": {},
   "outputs": [
    {
     "data": {
      "text/plain": [
       "LogisticRegression(C=1.0, class_weight=None, dual=False, fit_intercept=True,\n",
       "                   intercept_scaling=1, l1_ratio=None, max_iter=1000,\n",
       "                   multi_class='auto', n_jobs=None, penalty='l2',\n",
       "                   random_state=None, solver='saga', tol=0.0001, verbose=0,\n",
       "                   warm_start=False)"
      ]
     },
     "execution_count": 67,
     "metadata": {},
     "output_type": "execute_result"
    }
   ],
   "source": [
    "log_model = LogisticRegression(max_iter = 1000, solver = 'saga')\n",
    "log_model.fit(X_trainscale, y_train)"
   ]
  },
  {
   "cell_type": "code",
   "execution_count": 85,
   "metadata": {},
   "outputs": [],
   "source": [
    "pred_train = log_model.predict(X_trainscale)"
   ]
  },
  {
   "cell_type": "code",
   "execution_count": 86,
   "metadata": {},
   "outputs": [
    {
     "name": "stdout",
     "output_type": "stream",
     "text": [
      "              precision    recall  f1-score   support\n",
      "\n",
      "           0       0.91      0.98      0.94     25570\n",
      "           1       0.58      0.20      0.30      3261\n",
      "\n",
      "    accuracy                           0.89     28831\n",
      "   macro avg       0.74      0.59      0.62     28831\n",
      "weighted avg       0.87      0.89      0.87     28831\n",
      "\n"
     ]
    }
   ],
   "source": [
    "print(classification_report(y_train,pred_train))"
   ]
  },
  {
   "cell_type": "code",
   "execution_count": 87,
   "metadata": {},
   "outputs": [
    {
     "name": "stdout",
     "output_type": "stream",
     "text": [
      "[[25080   490]\n",
      " [ 2597   664]]\n"
     ]
    }
   ],
   "source": [
    "print(confusion_matrix(y_train, pred_train))"
   ]
  },
  {
   "cell_type": "code",
   "execution_count": 68,
   "metadata": {},
   "outputs": [],
   "source": [
    "X_testscale = scaler.transform(X_test)"
   ]
  },
  {
   "cell_type": "code",
   "execution_count": 70,
   "metadata": {},
   "outputs": [],
   "source": [
    "predictions = log_model.predict(X_testscale)"
   ]
  },
  {
   "cell_type": "code",
   "execution_count": 71,
   "metadata": {},
   "outputs": [
    {
     "name": "stdout",
     "output_type": "stream",
     "text": [
      "              precision    recall  f1-score   support\n",
      "\n",
      "           0       0.91      0.98      0.94     10978\n",
      "           1       0.59      0.20      0.30      1379\n",
      "\n",
      "    accuracy                           0.90     12357\n",
      "   macro avg       0.75      0.59      0.62     12357\n",
      "weighted avg       0.87      0.90      0.87     12357\n",
      "\n"
     ]
    }
   ],
   "source": [
    "print(classification_report(y_test,predictions))"
   ]
  },
  {
   "cell_type": "code",
   "execution_count": 72,
   "metadata": {},
   "outputs": [
    {
     "name": "stdout",
     "output_type": "stream",
     "text": [
      "[[10782   196]\n",
      " [ 1101   278]]\n"
     ]
    }
   ],
   "source": [
    "print(confusion_matrix(y_test, predictions))"
   ]
  },
  {
   "cell_type": "code",
   "execution_count": 115,
   "metadata": {},
   "outputs": [
    {
     "data": {
      "text/plain": [
       "0.30005396654074473"
      ]
     },
     "execution_count": 115,
     "metadata": {},
     "output_type": "execute_result"
    }
   ],
   "source": [
    "f1_score(y_test, predictions)"
   ]
  },
  {
   "cell_type": "markdown",
   "metadata": {},
   "source": [
    "> Here can be observed that the precision and recall of our model predicting the Target No (0) are really high, but it's not the case for the Target Yes. \n",
    "\n",
    "* The F1 score for Target Yes is only 0.30, compare to 0.94 for Target No. In general, the recall score is lower than the precision score, indicating higher number of False Negative (case which is True but predicted False). \n",
    "\n",
    "* The model seems to predict No more often, since it is only predicting 278 of Target Yes in the test set out of 1379 cases. Moreover, although we fit it into the train set, when we predict the train set -- the model performs poorly."
   ]
  },
  {
   "cell_type": "markdown",
   "metadata": {},
   "source": [
    "### Random Forest Classifier\n",
    "Similarly as model above, we will check the f1 score without tuning the hyperparameter."
   ]
  },
  {
   "cell_type": "code",
   "execution_count": 74,
   "metadata": {},
   "outputs": [],
   "source": [
    "rfc = RandomForestClassifier()"
   ]
  },
  {
   "cell_type": "code",
   "execution_count": 75,
   "metadata": {},
   "outputs": [
    {
     "data": {
      "text/plain": [
       "RandomForestClassifier(bootstrap=True, ccp_alpha=0.0, class_weight=None,\n",
       "                       criterion='gini', max_depth=None, max_features='auto',\n",
       "                       max_leaf_nodes=None, max_samples=None,\n",
       "                       min_impurity_decrease=0.0, min_impurity_split=None,\n",
       "                       min_samples_leaf=1, min_samples_split=2,\n",
       "                       min_weight_fraction_leaf=0.0, n_estimators=100,\n",
       "                       n_jobs=None, oob_score=False, random_state=None,\n",
       "                       verbose=0, warm_start=False)"
      ]
     },
     "execution_count": 75,
     "metadata": {},
     "output_type": "execute_result"
    }
   ],
   "source": [
    "rfc.fit(X_train, y_train)"
   ]
  },
  {
   "cell_type": "code",
   "execution_count": 82,
   "metadata": {},
   "outputs": [],
   "source": [
    "rfc_train = rfc.predict(X_train)"
   ]
  },
  {
   "cell_type": "code",
   "execution_count": 83,
   "metadata": {},
   "outputs": [
    {
     "name": "stdout",
     "output_type": "stream",
     "text": [
      "[[25501    69]\n",
      " [  316  2945]]\n"
     ]
    }
   ],
   "source": [
    "print(confusion_matrix(y_train,rfc_train))"
   ]
  },
  {
   "cell_type": "code",
   "execution_count": 84,
   "metadata": {},
   "outputs": [
    {
     "name": "stdout",
     "output_type": "stream",
     "text": [
      "              precision    recall  f1-score   support\n",
      "\n",
      "           0       0.99      1.00      0.99     25570\n",
      "           1       0.98      0.90      0.94      3261\n",
      "\n",
      "    accuracy                           0.99     28831\n",
      "   macro avg       0.98      0.95      0.97     28831\n",
      "weighted avg       0.99      0.99      0.99     28831\n",
      "\n"
     ]
    }
   ],
   "source": [
    "print(classification_report(y_train,rfc_train))"
   ]
  },
  {
   "cell_type": "code",
   "execution_count": 76,
   "metadata": {},
   "outputs": [],
   "source": [
    "rfc_prediction = rfc.predict(X_test)"
   ]
  },
  {
   "cell_type": "code",
   "execution_count": 77,
   "metadata": {
    "scrolled": true
   },
   "outputs": [
    {
     "name": "stdout",
     "output_type": "stream",
     "text": [
      "[[10493   485]\n",
      " [  959   420]]\n"
     ]
    }
   ],
   "source": [
    "print(confusion_matrix(y_test,rfc_prediction))"
   ]
  },
  {
   "cell_type": "code",
   "execution_count": 78,
   "metadata": {},
   "outputs": [
    {
     "name": "stdout",
     "output_type": "stream",
     "text": [
      "              precision    recall  f1-score   support\n",
      "\n",
      "           0       0.92      0.96      0.94     10978\n",
      "           1       0.46      0.30      0.37      1379\n",
      "\n",
      "    accuracy                           0.88     12357\n",
      "   macro avg       0.69      0.63      0.65     12357\n",
      "weighted avg       0.87      0.88      0.87     12357\n",
      "\n"
     ]
    }
   ],
   "source": [
    "print(classification_report(y_test,rfc_prediction))"
   ]
  },
  {
   "cell_type": "code",
   "execution_count": 116,
   "metadata": {},
   "outputs": [
    {
     "data": {
      "text/plain": [
       "0.36777583187390545"
      ]
     },
     "execution_count": 116,
     "metadata": {},
     "output_type": "execute_result"
    }
   ],
   "source": [
    "f1_score(y_test, rfc_prediction)"
   ]
  },
  {
   "cell_type": "markdown",
   "metadata": {},
   "source": [
    "> RandomForestClassifier performs better than LogisticRegression, the f1-score for Target Yes is 0.37 -- the number of true prediction of Target Yes is still small, only 420 out of 1379. The pattern is also the same, recall score is lower than precision score. However it can be considered as much better than LogisticRegression. I also check the prediction into train set, and RFC perform really well in it. However, this model shows a tendency to overfit."
   ]
  },
  {
   "cell_type": "markdown",
   "metadata": {},
   "source": [
    "### XGBoost Classifier\n",
    "Now we will try to fit our data into boosting model. Here is also without hyperparameter tuning."
   ]
  },
  {
   "cell_type": "code",
   "execution_count": 79,
   "metadata": {},
   "outputs": [],
   "source": [
    "xgb = XGBClassifier()"
   ]
  },
  {
   "cell_type": "code",
   "execution_count": 81,
   "metadata": {},
   "outputs": [
    {
     "data": {
      "text/plain": [
       "XGBClassifier(base_score=0.5, booster=None, colsample_bylevel=1,\n",
       "              colsample_bynode=1, colsample_bytree=1, gamma=0, gpu_id=-1,\n",
       "              importance_type='gain', interaction_constraints=None,\n",
       "              learning_rate=0.300000012, max_delta_step=0, max_depth=6,\n",
       "              min_child_weight=1, missing=nan, monotone_constraints=None,\n",
       "              n_estimators=100, n_jobs=0, num_parallel_tree=1,\n",
       "              objective='binary:logistic', random_state=0, reg_alpha=0,\n",
       "              reg_lambda=1, scale_pos_weight=1, subsample=1, tree_method=None,\n",
       "              validate_parameters=False, verbosity=None)"
      ]
     },
     "execution_count": 81,
     "metadata": {},
     "output_type": "execute_result"
    }
   ],
   "source": [
    "xgb.fit(X_train, y_train)"
   ]
  },
  {
   "cell_type": "code",
   "execution_count": 90,
   "metadata": {},
   "outputs": [],
   "source": [
    "xgb_train = xgb.predict(X_train)"
   ]
  },
  {
   "cell_type": "code",
   "execution_count": 91,
   "metadata": {},
   "outputs": [
    {
     "name": "stdout",
     "output_type": "stream",
     "text": [
      "[[25348   222]\n",
      " [ 1837  1424]]\n"
     ]
    }
   ],
   "source": [
    "print(confusion_matrix(y_train, xgb_train))"
   ]
  },
  {
   "cell_type": "code",
   "execution_count": 92,
   "metadata": {},
   "outputs": [
    {
     "name": "stdout",
     "output_type": "stream",
     "text": [
      "              precision    recall  f1-score   support\n",
      "\n",
      "           0       0.93      0.99      0.96     25570\n",
      "           1       0.87      0.44      0.58      3261\n",
      "\n",
      "    accuracy                           0.93     28831\n",
      "   macro avg       0.90      0.71      0.77     28831\n",
      "weighted avg       0.92      0.93      0.92     28831\n",
      "\n"
     ]
    }
   ],
   "source": [
    "print(classification_report(y_train, xgb_train))"
   ]
  },
  {
   "cell_type": "code",
   "execution_count": 93,
   "metadata": {},
   "outputs": [],
   "source": [
    "xgb_pred = xgb.predict(X_test)"
   ]
  },
  {
   "cell_type": "code",
   "execution_count": 94,
   "metadata": {},
   "outputs": [
    {
     "name": "stdout",
     "output_type": "stream",
     "text": [
      "[[10660   318]\n",
      " [  998   381]]\n"
     ]
    }
   ],
   "source": [
    "print(confusion_matrix(y_test, xgb_pred))"
   ]
  },
  {
   "cell_type": "code",
   "execution_count": 95,
   "metadata": {},
   "outputs": [
    {
     "name": "stdout",
     "output_type": "stream",
     "text": [
      "              precision    recall  f1-score   support\n",
      "\n",
      "           0       0.91      0.97      0.94     10978\n",
      "           1       0.55      0.28      0.37      1379\n",
      "\n",
      "    accuracy                           0.89     12357\n",
      "   macro avg       0.73      0.62      0.65     12357\n",
      "weighted avg       0.87      0.89      0.88     12357\n",
      "\n"
     ]
    }
   ],
   "source": [
    "print(classification_report(y_test, xgb_pred))"
   ]
  },
  {
   "cell_type": "markdown",
   "metadata": {},
   "source": [
    "> Here we can see that the F1-score for Target Yes of XGBoostClassifier is similar with RandomForestClassifier. The recall score is still lower than precision score."
   ]
  },
  {
   "cell_type": "markdown",
   "metadata": {},
   "source": [
    "> In general, without hyperparameter tuning and with the original dataset, our models still underperformed -- I assumed mainly caused by class imbalance, in which our models tend to predict No -- thus missing the Target Yes quite often. However if we see the accuracy scores -- all of them have a quite high scores. But again, in this case accuracy score is not the the best representative to evaluate our models' performance.\n",
    "\n",
    "> <b> NOTE: In original dataset without hyperparameter tuning, the F1 score (test set) of: </b>\n",
    "* Logistic regression : 0.30\n",
    "* RandomForestClassifier : 0.37\n",
    "* XGBoostClassifier : 0.37"
   ]
  },
  {
   "cell_type": "markdown",
   "metadata": {},
   "source": [
    "## Undersampled dataset\n",
    "Now let's check if we try to balance the classes of the target by undersampling the majority class (Target No). The advantage of undersampling is it will use less memory and computational power (^_^). But the major disadvantage is we probably remove valuable information from the Target No."
   ]
  },
  {
   "cell_type": "code",
   "execution_count": 166,
   "metadata": {},
   "outputs": [],
   "source": [
    "# Preparing the dataset first \n",
    "\n",
    "bank_resample = pd.concat([X_train, y_train], axis =1)"
   ]
  },
  {
   "cell_type": "code",
   "execution_count": 167,
   "metadata": {},
   "outputs": [
    {
     "data": {
      "text/html": [
       "<div>\n",
       "<style scoped>\n",
       "    .dataframe tbody tr th:only-of-type {\n",
       "        vertical-align: middle;\n",
       "    }\n",
       "\n",
       "    .dataframe tbody tr th {\n",
       "        vertical-align: top;\n",
       "    }\n",
       "\n",
       "    .dataframe thead th {\n",
       "        text-align: right;\n",
       "    }\n",
       "</style>\n",
       "<table border=\"1\" class=\"dataframe\">\n",
       "  <thead>\n",
       "    <tr style=\"text-align: right;\">\n",
       "      <th></th>\n",
       "      <th>job_admin.</th>\n",
       "      <th>job_blue-collar</th>\n",
       "      <th>job_entrepreneur</th>\n",
       "      <th>job_retired</th>\n",
       "      <th>job_services</th>\n",
       "      <th>job_student</th>\n",
       "      <th>job_unemployed</th>\n",
       "      <th>marital_married</th>\n",
       "      <th>marital_single</th>\n",
       "      <th>education_basic</th>\n",
       "      <th>education_university.degree</th>\n",
       "      <th>education_unknown</th>\n",
       "      <th>default_no</th>\n",
       "      <th>default_unknown</th>\n",
       "      <th>contact_cellular</th>\n",
       "      <th>contact_telephone</th>\n",
       "      <th>month_apr</th>\n",
       "      <th>month_dec</th>\n",
       "      <th>month_jul</th>\n",
       "      <th>month_mar</th>\n",
       "      <th>month_may</th>\n",
       "      <th>month_oct</th>\n",
       "      <th>month_sep</th>\n",
       "      <th>day_of_week_mon</th>\n",
       "      <th>day_of_week_thu</th>\n",
       "      <th>age</th>\n",
       "      <th>campaign</th>\n",
       "      <th>previous</th>\n",
       "      <th>cons.price.idx</th>\n",
       "      <th>cons.conf.idx</th>\n",
       "      <th>euribor3m</th>\n",
       "      <th>y</th>\n",
       "    </tr>\n",
       "  </thead>\n",
       "  <tbody>\n",
       "    <tr>\n",
       "      <th>7271</th>\n",
       "      <td>0</td>\n",
       "      <td>0</td>\n",
       "      <td>0</td>\n",
       "      <td>0</td>\n",
       "      <td>0</td>\n",
       "      <td>0</td>\n",
       "      <td>0</td>\n",
       "      <td>1</td>\n",
       "      <td>0</td>\n",
       "      <td>1</td>\n",
       "      <td>0</td>\n",
       "      <td>0</td>\n",
       "      <td>0</td>\n",
       "      <td>1</td>\n",
       "      <td>0</td>\n",
       "      <td>1</td>\n",
       "      <td>0</td>\n",
       "      <td>0</td>\n",
       "      <td>0</td>\n",
       "      <td>0</td>\n",
       "      <td>1</td>\n",
       "      <td>0</td>\n",
       "      <td>0</td>\n",
       "      <td>0</td>\n",
       "      <td>1</td>\n",
       "      <td>40</td>\n",
       "      <td>4</td>\n",
       "      <td>0</td>\n",
       "      <td>93.994</td>\n",
       "      <td>-36.4</td>\n",
       "      <td>4.860</td>\n",
       "      <td>0</td>\n",
       "    </tr>\n",
       "    <tr>\n",
       "      <th>13284</th>\n",
       "      <td>0</td>\n",
       "      <td>0</td>\n",
       "      <td>0</td>\n",
       "      <td>0</td>\n",
       "      <td>0</td>\n",
       "      <td>0</td>\n",
       "      <td>0</td>\n",
       "      <td>0</td>\n",
       "      <td>1</td>\n",
       "      <td>0</td>\n",
       "      <td>0</td>\n",
       "      <td>0</td>\n",
       "      <td>1</td>\n",
       "      <td>0</td>\n",
       "      <td>1</td>\n",
       "      <td>0</td>\n",
       "      <td>0</td>\n",
       "      <td>0</td>\n",
       "      <td>1</td>\n",
       "      <td>0</td>\n",
       "      <td>0</td>\n",
       "      <td>0</td>\n",
       "      <td>0</td>\n",
       "      <td>0</td>\n",
       "      <td>0</td>\n",
       "      <td>25</td>\n",
       "      <td>1</td>\n",
       "      <td>0</td>\n",
       "      <td>93.918</td>\n",
       "      <td>-42.7</td>\n",
       "      <td>4.962</td>\n",
       "      <td>0</td>\n",
       "    </tr>\n",
       "    <tr>\n",
       "      <th>11580</th>\n",
       "      <td>0</td>\n",
       "      <td>1</td>\n",
       "      <td>0</td>\n",
       "      <td>0</td>\n",
       "      <td>0</td>\n",
       "      <td>0</td>\n",
       "      <td>0</td>\n",
       "      <td>1</td>\n",
       "      <td>0</td>\n",
       "      <td>1</td>\n",
       "      <td>0</td>\n",
       "      <td>0</td>\n",
       "      <td>0</td>\n",
       "      <td>1</td>\n",
       "      <td>0</td>\n",
       "      <td>1</td>\n",
       "      <td>0</td>\n",
       "      <td>0</td>\n",
       "      <td>0</td>\n",
       "      <td>0</td>\n",
       "      <td>0</td>\n",
       "      <td>0</td>\n",
       "      <td>0</td>\n",
       "      <td>0</td>\n",
       "      <td>0</td>\n",
       "      <td>48</td>\n",
       "      <td>10</td>\n",
       "      <td>0</td>\n",
       "      <td>94.465</td>\n",
       "      <td>-41.8</td>\n",
       "      <td>4.959</td>\n",
       "      <td>0</td>\n",
       "    </tr>\n",
       "    <tr>\n",
       "      <th>31835</th>\n",
       "      <td>0</td>\n",
       "      <td>0</td>\n",
       "      <td>0</td>\n",
       "      <td>0</td>\n",
       "      <td>0</td>\n",
       "      <td>0</td>\n",
       "      <td>0</td>\n",
       "      <td>1</td>\n",
       "      <td>0</td>\n",
       "      <td>0</td>\n",
       "      <td>0</td>\n",
       "      <td>0</td>\n",
       "      <td>1</td>\n",
       "      <td>0</td>\n",
       "      <td>1</td>\n",
       "      <td>0</td>\n",
       "      <td>0</td>\n",
       "      <td>0</td>\n",
       "      <td>0</td>\n",
       "      <td>0</td>\n",
       "      <td>1</td>\n",
       "      <td>0</td>\n",
       "      <td>0</td>\n",
       "      <td>0</td>\n",
       "      <td>1</td>\n",
       "      <td>43</td>\n",
       "      <td>2</td>\n",
       "      <td>0</td>\n",
       "      <td>92.893</td>\n",
       "      <td>-46.2</td>\n",
       "      <td>1.327</td>\n",
       "      <td>0</td>\n",
       "    </tr>\n",
       "    <tr>\n",
       "      <th>19551</th>\n",
       "      <td>0</td>\n",
       "      <td>0</td>\n",
       "      <td>0</td>\n",
       "      <td>0</td>\n",
       "      <td>0</td>\n",
       "      <td>0</td>\n",
       "      <td>0</td>\n",
       "      <td>1</td>\n",
       "      <td>0</td>\n",
       "      <td>0</td>\n",
       "      <td>1</td>\n",
       "      <td>0</td>\n",
       "      <td>1</td>\n",
       "      <td>0</td>\n",
       "      <td>1</td>\n",
       "      <td>0</td>\n",
       "      <td>0</td>\n",
       "      <td>0</td>\n",
       "      <td>0</td>\n",
       "      <td>0</td>\n",
       "      <td>0</td>\n",
       "      <td>0</td>\n",
       "      <td>0</td>\n",
       "      <td>0</td>\n",
       "      <td>1</td>\n",
       "      <td>49</td>\n",
       "      <td>1</td>\n",
       "      <td>0</td>\n",
       "      <td>93.444</td>\n",
       "      <td>-36.1</td>\n",
       "      <td>4.968</td>\n",
       "      <td>0</td>\n",
       "    </tr>\n",
       "  </tbody>\n",
       "</table>\n",
       "</div>"
      ],
      "text/plain": [
       "       job_admin.  job_blue-collar  job_entrepreneur  job_retired  \\\n",
       "7271            0                0                 0            0   \n",
       "13284           0                0                 0            0   \n",
       "11580           0                1                 0            0   \n",
       "31835           0                0                 0            0   \n",
       "19551           0                0                 0            0   \n",
       "\n",
       "       job_services  job_student  job_unemployed  marital_married  \\\n",
       "7271              0            0               0                1   \n",
       "13284             0            0               0                0   \n",
       "11580             0            0               0                1   \n",
       "31835             0            0               0                1   \n",
       "19551             0            0               0                1   \n",
       "\n",
       "       marital_single  education_basic  education_university.degree  \\\n",
       "7271                0                1                            0   \n",
       "13284               1                0                            0   \n",
       "11580               0                1                            0   \n",
       "31835               0                0                            0   \n",
       "19551               0                0                            1   \n",
       "\n",
       "       education_unknown  default_no  default_unknown  contact_cellular  \\\n",
       "7271                   0           0                1                 0   \n",
       "13284                  0           1                0                 1   \n",
       "11580                  0           0                1                 0   \n",
       "31835                  0           1                0                 1   \n",
       "19551                  0           1                0                 1   \n",
       "\n",
       "       contact_telephone  month_apr  month_dec  month_jul  month_mar  \\\n",
       "7271                   1          0          0          0          0   \n",
       "13284                  0          0          0          1          0   \n",
       "11580                  1          0          0          0          0   \n",
       "31835                  0          0          0          0          0   \n",
       "19551                  0          0          0          0          0   \n",
       "\n",
       "       month_may  month_oct  month_sep  day_of_week_mon  day_of_week_thu  age  \\\n",
       "7271           1          0          0                0                1   40   \n",
       "13284          0          0          0                0                0   25   \n",
       "11580          0          0          0                0                0   48   \n",
       "31835          1          0          0                0                1   43   \n",
       "19551          0          0          0                0                1   49   \n",
       "\n",
       "       campaign  previous  cons.price.idx  cons.conf.idx  euribor3m  y  \n",
       "7271          4         0          93.994          -36.4      4.860  0  \n",
       "13284         1         0          93.918          -42.7      4.962  0  \n",
       "11580        10         0          94.465          -41.8      4.959  0  \n",
       "31835         2         0          92.893          -46.2      1.327  0  \n",
       "19551         1         0          93.444          -36.1      4.968  0  "
      ]
     },
     "execution_count": 167,
     "metadata": {},
     "output_type": "execute_result"
    }
   ],
   "source": [
    "bank_resample.head()"
   ]
  },
  {
   "cell_type": "code",
   "execution_count": 168,
   "metadata": {},
   "outputs": [],
   "source": [
    "# Separating minority and majority class\n",
    "class_yes = bank_resample[bank_resample['y'] == 1]\n",
    "class_no = bank_resample[bank_resample['y'] == 0]"
   ]
  },
  {
   "cell_type": "code",
   "execution_count": 169,
   "metadata": {},
   "outputs": [
    {
     "data": {
      "text/plain": [
       "3261"
      ]
     },
     "execution_count": 169,
     "metadata": {},
     "output_type": "execute_result"
    }
   ],
   "source": [
    "len(class_yes)"
   ]
  },
  {
   "cell_type": "code",
   "execution_count": 100,
   "metadata": {},
   "outputs": [],
   "source": [
    "from sklearn.utils import resample"
   ]
  },
  {
   "cell_type": "code",
   "execution_count": 170,
   "metadata": {},
   "outputs": [],
   "source": [
    "# We will resample the target No (no_under) -- so the number of Target No and Target Yes will be the same\n",
    "\n",
    "no_undersampled = resample(class_no,\n",
    "                          replace = False,\n",
    "                          n_samples = len(class_yes),\n",
    "                          random_state = 101)"
   ]
  },
  {
   "cell_type": "code",
   "execution_count": 171,
   "metadata": {},
   "outputs": [],
   "source": [
    "# combine the yes and no to one dataset\n",
    "bank_undersampled = pd.concat([no_undersampled, class_yes])"
   ]
  },
  {
   "cell_type": "code",
   "execution_count": 172,
   "metadata": {},
   "outputs": [
    {
     "data": {
      "text/plain": [
       "1    3261\n",
       "0    3261\n",
       "Name: y, dtype: int64"
      ]
     },
     "execution_count": 172,
     "metadata": {},
     "output_type": "execute_result"
    }
   ],
   "source": [
    "# Checking the dataset\n",
    "bank_undersampled['y'].value_counts()"
   ]
  },
  {
   "cell_type": "code",
   "execution_count": 173,
   "metadata": {},
   "outputs": [],
   "source": [
    "# Generating the X_train_under and y_train_under -- so we will not overwrite our original X_train and y_train\n",
    "X_train_under = bank_undersampled.drop('y', axis = 1)\n",
    "y_train_under = bank_undersampled['y']"
   ]
  },
  {
   "cell_type": "markdown",
   "metadata": {},
   "source": [
    "### Logistic Regression -- undersampled\n",
    "Again, in here we need to scale our data"
   ]
  },
  {
   "cell_type": "code",
   "execution_count": 174,
   "metadata": {},
   "outputs": [],
   "source": [
    "X_train_underscale = scaler.fit_transform(X_train_under)"
   ]
  },
  {
   "cell_type": "code",
   "execution_count": 175,
   "metadata": {},
   "outputs": [
    {
     "data": {
      "text/plain": [
       "LogisticRegression(C=1.0, class_weight=None, dual=False, fit_intercept=True,\n",
       "                   intercept_scaling=1, l1_ratio=None, max_iter=1000,\n",
       "                   multi_class='auto', n_jobs=None, penalty='l2',\n",
       "                   random_state=None, solver='saga', tol=0.0001, verbose=0,\n",
       "                   warm_start=False)"
      ]
     },
     "execution_count": 175,
     "metadata": {},
     "output_type": "execute_result"
    }
   ],
   "source": [
    "log_model.fit(X_train_underscale, y_train_under)"
   ]
  },
  {
   "cell_type": "code",
   "execution_count": 176,
   "metadata": {},
   "outputs": [],
   "source": [
    "log_pred_under = log_model.predict(X_train_underscale)"
   ]
  },
  {
   "cell_type": "code",
   "execution_count": 177,
   "metadata": {},
   "outputs": [
    {
     "name": "stdout",
     "output_type": "stream",
     "text": [
      "              precision    recall  f1-score   support\n",
      "\n",
      "           0       0.70      0.83      0.76      3261\n",
      "           1       0.79      0.64      0.71      3261\n",
      "\n",
      "    accuracy                           0.74      6522\n",
      "   macro avg       0.74      0.74      0.73      6522\n",
      "weighted avg       0.74      0.74      0.73      6522\n",
      "\n"
     ]
    }
   ],
   "source": [
    "print(classification_report(y_train_under, log_pred_under))"
   ]
  },
  {
   "cell_type": "code",
   "execution_count": 178,
   "metadata": {},
   "outputs": [
    {
     "name": "stdout",
     "output_type": "stream",
     "text": [
      "[[2715  546]\n",
      " [1179 2082]]\n"
     ]
    }
   ],
   "source": [
    "print(confusion_matrix(y_train_under, log_pred_under))"
   ]
  },
  {
   "cell_type": "code",
   "execution_count": 179,
   "metadata": {},
   "outputs": [],
   "source": [
    "X_test_underscale = scaler.transform(X_test)"
   ]
  },
  {
   "cell_type": "code",
   "execution_count": 180,
   "metadata": {},
   "outputs": [],
   "source": [
    "log_test_under = log_model.predict(X_test_underscale)"
   ]
  },
  {
   "cell_type": "code",
   "execution_count": 181,
   "metadata": {},
   "outputs": [
    {
     "name": "stdout",
     "output_type": "stream",
     "text": [
      "              precision    recall  f1-score   support\n",
      "\n",
      "           0       0.95      0.83      0.89     10978\n",
      "           1       0.32      0.62      0.42      1379\n",
      "\n",
      "    accuracy                           0.81     12357\n",
      "   macro avg       0.63      0.73      0.65     12357\n",
      "weighted avg       0.88      0.81      0.83     12357\n",
      "\n"
     ]
    }
   ],
   "source": [
    "print(classification_report(y_test, log_test_under))"
   ]
  },
  {
   "cell_type": "code",
   "execution_count": 182,
   "metadata": {},
   "outputs": [
    {
     "name": "stdout",
     "output_type": "stream",
     "text": [
      "[[9144 1834]\n",
      " [ 526  853]]\n"
     ]
    }
   ],
   "source": [
    "print(confusion_matrix(y_test, log_test_under))"
   ]
  },
  {
   "cell_type": "code",
   "execution_count": 183,
   "metadata": {},
   "outputs": [
    {
     "data": {
      "text/plain": [
       "0.4195769798327595"
      ]
     },
     "execution_count": 183,
     "metadata": {},
     "output_type": "execute_result"
    }
   ],
   "source": [
    "f1_score(y_test, log_test_under)"
   ]
  },
  {
   "cell_type": "markdown",
   "metadata": {},
   "source": [
    "> Here we can see that the model performs better after we apply the undersampling method. The F1 score is increasing in both prediction of train and test set, which is 0.42 in the latter. However, there is trade-off between precision and recall. Our recall score here is increasing, but now we have lower precision score -- indicating higher False Positive (model is predicting positive, but actually it's negative)"
   ]
  },
  {
   "cell_type": "markdown",
   "metadata": {},
   "source": [
    "### RandomForestClassifier -- undersampled\n",
    "Checking the undersampled training data -- X_train_under and y_train_under"
   ]
  },
  {
   "cell_type": "code",
   "execution_count": 184,
   "metadata": {},
   "outputs": [
    {
     "data": {
      "text/plain": [
       "RandomForestClassifier(bootstrap=True, ccp_alpha=0.0, class_weight=None,\n",
       "                       criterion='gini', max_depth=None, max_features='auto',\n",
       "                       max_leaf_nodes=None, max_samples=None,\n",
       "                       min_impurity_decrease=0.0, min_impurity_split=None,\n",
       "                       min_samples_leaf=1, min_samples_split=2,\n",
       "                       min_weight_fraction_leaf=0.0, n_estimators=100,\n",
       "                       n_jobs=None, oob_score=False, random_state=None,\n",
       "                       verbose=0, warm_start=False)"
      ]
     },
     "execution_count": 184,
     "metadata": {},
     "output_type": "execute_result"
    }
   ],
   "source": [
    "rfc.fit(X_train_under, y_train_under)"
   ]
  },
  {
   "cell_type": "code",
   "execution_count": 185,
   "metadata": {},
   "outputs": [],
   "source": [
    "rfc_train_under = rfc.predict(X_train_under)"
   ]
  },
  {
   "cell_type": "code",
   "execution_count": 186,
   "metadata": {},
   "outputs": [
    {
     "name": "stdout",
     "output_type": "stream",
     "text": [
      "[[3229   32]\n",
      " [  33 3228]]\n"
     ]
    }
   ],
   "source": [
    "print(confusion_matrix(y_train_under, rfc_train_under))"
   ]
  },
  {
   "cell_type": "code",
   "execution_count": 187,
   "metadata": {},
   "outputs": [
    {
     "name": "stdout",
     "output_type": "stream",
     "text": [
      "              precision    recall  f1-score   support\n",
      "\n",
      "           0       0.99      0.99      0.99      3261\n",
      "           1       0.99      0.99      0.99      3261\n",
      "\n",
      "    accuracy                           0.99      6522\n",
      "   macro avg       0.99      0.99      0.99      6522\n",
      "weighted avg       0.99      0.99      0.99      6522\n",
      "\n"
     ]
    }
   ],
   "source": [
    "print(classification_report(y_train_under, rfc_train_under))"
   ]
  },
  {
   "cell_type": "code",
   "execution_count": 188,
   "metadata": {},
   "outputs": [],
   "source": [
    "rfc_test_under = rfc.predict(X_test)"
   ]
  },
  {
   "cell_type": "code",
   "execution_count": 189,
   "metadata": {},
   "outputs": [
    {
     "name": "stdout",
     "output_type": "stream",
     "text": [
      "[[8482 2496]\n",
      " [ 468  911]]\n"
     ]
    }
   ],
   "source": [
    "print(confusion_matrix(y_test, rfc_test_under))"
   ]
  },
  {
   "cell_type": "code",
   "execution_count": 190,
   "metadata": {},
   "outputs": [
    {
     "name": "stdout",
     "output_type": "stream",
     "text": [
      "              precision    recall  f1-score   support\n",
      "\n",
      "           0       0.95      0.77      0.85     10978\n",
      "           1       0.27      0.66      0.38      1379\n",
      "\n",
      "    accuracy                           0.76     12357\n",
      "   macro avg       0.61      0.72      0.62     12357\n",
      "weighted avg       0.87      0.76      0.80     12357\n",
      "\n"
     ]
    }
   ],
   "source": [
    "print(classification_report(y_test, rfc_test_under))"
   ]
  },
  {
   "cell_type": "code",
   "execution_count": 191,
   "metadata": {},
   "outputs": [
    {
     "data": {
      "text/plain": [
       "0.3806936899289595"
      ]
     },
     "execution_count": 191,
     "metadata": {},
     "output_type": "execute_result"
    }
   ],
   "source": [
    "f1_score(y_test, rfc_test_under)"
   ]
  },
  {
   "cell_type": "markdown",
   "metadata": {},
   "source": [
    "> Here we can see that the F1 score for the test set is slightly higher (0.38) compared to dataset without modification but lower compared to logistic regression model -- the number of False Positive also rises significantly. A trade off is the case here - the precision score is now half than the recall score. "
   ]
  },
  {
   "cell_type": "markdown",
   "metadata": {},
   "source": [
    "### XGBoost Classifier -- undersampled"
   ]
  },
  {
   "cell_type": "code",
   "execution_count": 192,
   "metadata": {},
   "outputs": [
    {
     "data": {
      "text/plain": [
       "XGBClassifier(base_score=0.5, booster=None, colsample_bylevel=1,\n",
       "              colsample_bynode=1, colsample_bytree=1, gamma=0, gpu_id=-1,\n",
       "              importance_type='gain', interaction_constraints=None,\n",
       "              learning_rate=0.300000012, max_delta_step=0, max_depth=6,\n",
       "              min_child_weight=1, missing=nan, monotone_constraints=None,\n",
       "              n_estimators=100, n_jobs=0, num_parallel_tree=1,\n",
       "              objective='binary:logistic', random_state=0, reg_alpha=0,\n",
       "              reg_lambda=1, scale_pos_weight=1, subsample=1, tree_method=None,\n",
       "              validate_parameters=False, verbosity=None)"
      ]
     },
     "execution_count": 192,
     "metadata": {},
     "output_type": "execute_result"
    }
   ],
   "source": [
    "xgb.fit(X_train_under, y_train_under)"
   ]
  },
  {
   "cell_type": "code",
   "execution_count": 193,
   "metadata": {},
   "outputs": [],
   "source": [
    "xgb_train_under = xgb.predict(X_train_under)"
   ]
  },
  {
   "cell_type": "code",
   "execution_count": 194,
   "metadata": {},
   "outputs": [
    {
     "name": "stdout",
     "output_type": "stream",
     "text": [
      "              precision    recall  f1-score   support\n",
      "\n",
      "           0       0.80      0.92      0.86      3261\n",
      "           1       0.91      0.77      0.83      3261\n",
      "\n",
      "    accuracy                           0.84      6522\n",
      "   macro avg       0.85      0.84      0.84      6522\n",
      "weighted avg       0.85      0.84      0.84      6522\n",
      "\n"
     ]
    }
   ],
   "source": [
    "print(classification_report(y_train_under, xgb_train_under))"
   ]
  },
  {
   "cell_type": "code",
   "execution_count": 195,
   "metadata": {},
   "outputs": [
    {
     "name": "stdout",
     "output_type": "stream",
     "text": [
      "[[2998  263]\n",
      " [ 748 2513]]\n"
     ]
    }
   ],
   "source": [
    "print(confusion_matrix(y_train_under, xgb_train_under))"
   ]
  },
  {
   "cell_type": "code",
   "execution_count": 196,
   "metadata": {},
   "outputs": [],
   "source": [
    "xgb_test_under = xgb.predict(X_test)"
   ]
  },
  {
   "cell_type": "code",
   "execution_count": 197,
   "metadata": {},
   "outputs": [
    {
     "name": "stdout",
     "output_type": "stream",
     "text": [
      "              precision    recall  f1-score   support\n",
      "\n",
      "           0       0.95      0.80      0.87     10978\n",
      "           1       0.29      0.64      0.40      1379\n",
      "\n",
      "    accuracy                           0.78     12357\n",
      "   macro avg       0.62      0.72      0.63     12357\n",
      "weighted avg       0.87      0.78      0.81     12357\n",
      "\n"
     ]
    }
   ],
   "source": [
    "print(classification_report(y_test, xgb_test_under))"
   ]
  },
  {
   "cell_type": "code",
   "execution_count": 198,
   "metadata": {},
   "outputs": [
    {
     "name": "stdout",
     "output_type": "stream",
     "text": [
      "[[8782 2196]\n",
      " [ 494  885]]\n"
     ]
    }
   ],
   "source": [
    "print(confusion_matrix(y_test, xgb_test_under))"
   ]
  },
  {
   "cell_type": "code",
   "execution_count": 199,
   "metadata": {},
   "outputs": [
    {
     "data": {
      "text/plain": [
       "0.3968609865470852"
      ]
     },
     "execution_count": 199,
     "metadata": {},
     "output_type": "execute_result"
    }
   ],
   "source": [
    "f1_score(y_test, xgb_test_under)"
   ]
  },
  {
   "cell_type": "markdown",
   "metadata": {},
   "source": [
    "> Here we see that the F1 score is higher than RFC, but lower than logistic regression. We see the similar pattern with RFC, significant rise in False Positive numbers."
   ]
  },
  {
   "cell_type": "markdown",
   "metadata": {},
   "source": [
    "> Using Undersampled resampling method yield a better F1 score compared to the prediction using original dataset. Our models predict more True positives than False negatives. However one thing we also observed is overfitting happened in here if we see the F1 score between the training set and test set. In XGB and RFC we saw increase in False Positives rise significantly.\n",
    "\n",
    "> <b> NOTE: In the undersampled dataset without hyperparameter tuning, the F1 score (test set) of: </b>\n",
    "* Logistic regression : 0.42\n",
    "* RandomForestClassifier : 0.38\n",
    "* XGBoostClassifier : 0.39"
   ]
  },
  {
   "cell_type": "markdown",
   "metadata": {},
   "source": [
    "## Oversampled dataset\n",
    "Now let's check if we try to balance the classes of the target by oversampling the minority class (Target Yes). This will take more computational power >_<. But we do not throw out any valuable data."
   ]
  },
  {
   "cell_type": "code",
   "execution_count": 200,
   "metadata": {},
   "outputs": [
    {
     "data": {
      "text/plain": [
       "3261"
      ]
     },
     "execution_count": 200,
     "metadata": {},
     "output_type": "execute_result"
    }
   ],
   "source": [
    "# We will use the previous information as above --  since this will not give any difference\n",
    "len(class_yes)"
   ]
  },
  {
   "cell_type": "code",
   "execution_count": 201,
   "metadata": {},
   "outputs": [
    {
     "data": {
      "text/plain": [
       "25570"
      ]
     },
     "execution_count": 201,
     "metadata": {},
     "output_type": "execute_result"
    }
   ],
   "source": [
    "len(class_no)"
   ]
  },
  {
   "cell_type": "code",
   "execution_count": 202,
   "metadata": {},
   "outputs": [],
   "source": [
    "# We will resample the target Yes (yes_under) -- so the number of Target No and Target Yes will be the same\n",
    "\n",
    "yes_oversampled = resample(class_yes,\n",
    "                          replace = True,\n",
    "                          n_samples = len(class_no),\n",
    "                          random_state = 101)"
   ]
  },
  {
   "cell_type": "code",
   "execution_count": 203,
   "metadata": {},
   "outputs": [],
   "source": [
    "bank_oversampled = pd.concat([class_no, yes_oversampled])"
   ]
  },
  {
   "cell_type": "code",
   "execution_count": 204,
   "metadata": {},
   "outputs": [
    {
     "data": {
      "text/html": [
       "<div>\n",
       "<style scoped>\n",
       "    .dataframe tbody tr th:only-of-type {\n",
       "        vertical-align: middle;\n",
       "    }\n",
       "\n",
       "    .dataframe tbody tr th {\n",
       "        vertical-align: top;\n",
       "    }\n",
       "\n",
       "    .dataframe thead th {\n",
       "        text-align: right;\n",
       "    }\n",
       "</style>\n",
       "<table border=\"1\" class=\"dataframe\">\n",
       "  <thead>\n",
       "    <tr style=\"text-align: right;\">\n",
       "      <th></th>\n",
       "      <th>job_admin.</th>\n",
       "      <th>job_blue-collar</th>\n",
       "      <th>job_entrepreneur</th>\n",
       "      <th>job_retired</th>\n",
       "      <th>job_services</th>\n",
       "      <th>job_student</th>\n",
       "      <th>job_unemployed</th>\n",
       "      <th>marital_married</th>\n",
       "      <th>marital_single</th>\n",
       "      <th>education_basic</th>\n",
       "      <th>education_university.degree</th>\n",
       "      <th>education_unknown</th>\n",
       "      <th>default_no</th>\n",
       "      <th>default_unknown</th>\n",
       "      <th>contact_cellular</th>\n",
       "      <th>contact_telephone</th>\n",
       "      <th>month_apr</th>\n",
       "      <th>month_dec</th>\n",
       "      <th>month_jul</th>\n",
       "      <th>month_mar</th>\n",
       "      <th>month_may</th>\n",
       "      <th>month_oct</th>\n",
       "      <th>month_sep</th>\n",
       "      <th>day_of_week_mon</th>\n",
       "      <th>day_of_week_thu</th>\n",
       "      <th>age</th>\n",
       "      <th>campaign</th>\n",
       "      <th>previous</th>\n",
       "      <th>cons.price.idx</th>\n",
       "      <th>cons.conf.idx</th>\n",
       "      <th>euribor3m</th>\n",
       "      <th>y</th>\n",
       "    </tr>\n",
       "  </thead>\n",
       "  <tbody>\n",
       "    <tr>\n",
       "      <th>7271</th>\n",
       "      <td>0</td>\n",
       "      <td>0</td>\n",
       "      <td>0</td>\n",
       "      <td>0</td>\n",
       "      <td>0</td>\n",
       "      <td>0</td>\n",
       "      <td>0</td>\n",
       "      <td>1</td>\n",
       "      <td>0</td>\n",
       "      <td>1</td>\n",
       "      <td>0</td>\n",
       "      <td>0</td>\n",
       "      <td>0</td>\n",
       "      <td>1</td>\n",
       "      <td>0</td>\n",
       "      <td>1</td>\n",
       "      <td>0</td>\n",
       "      <td>0</td>\n",
       "      <td>0</td>\n",
       "      <td>0</td>\n",
       "      <td>1</td>\n",
       "      <td>0</td>\n",
       "      <td>0</td>\n",
       "      <td>0</td>\n",
       "      <td>1</td>\n",
       "      <td>40</td>\n",
       "      <td>4</td>\n",
       "      <td>0</td>\n",
       "      <td>93.994</td>\n",
       "      <td>-36.4</td>\n",
       "      <td>4.860</td>\n",
       "      <td>0</td>\n",
       "    </tr>\n",
       "    <tr>\n",
       "      <th>13284</th>\n",
       "      <td>0</td>\n",
       "      <td>0</td>\n",
       "      <td>0</td>\n",
       "      <td>0</td>\n",
       "      <td>0</td>\n",
       "      <td>0</td>\n",
       "      <td>0</td>\n",
       "      <td>0</td>\n",
       "      <td>1</td>\n",
       "      <td>0</td>\n",
       "      <td>0</td>\n",
       "      <td>0</td>\n",
       "      <td>1</td>\n",
       "      <td>0</td>\n",
       "      <td>1</td>\n",
       "      <td>0</td>\n",
       "      <td>0</td>\n",
       "      <td>0</td>\n",
       "      <td>1</td>\n",
       "      <td>0</td>\n",
       "      <td>0</td>\n",
       "      <td>0</td>\n",
       "      <td>0</td>\n",
       "      <td>0</td>\n",
       "      <td>0</td>\n",
       "      <td>25</td>\n",
       "      <td>1</td>\n",
       "      <td>0</td>\n",
       "      <td>93.918</td>\n",
       "      <td>-42.7</td>\n",
       "      <td>4.962</td>\n",
       "      <td>0</td>\n",
       "    </tr>\n",
       "    <tr>\n",
       "      <th>11580</th>\n",
       "      <td>0</td>\n",
       "      <td>1</td>\n",
       "      <td>0</td>\n",
       "      <td>0</td>\n",
       "      <td>0</td>\n",
       "      <td>0</td>\n",
       "      <td>0</td>\n",
       "      <td>1</td>\n",
       "      <td>0</td>\n",
       "      <td>1</td>\n",
       "      <td>0</td>\n",
       "      <td>0</td>\n",
       "      <td>0</td>\n",
       "      <td>1</td>\n",
       "      <td>0</td>\n",
       "      <td>1</td>\n",
       "      <td>0</td>\n",
       "      <td>0</td>\n",
       "      <td>0</td>\n",
       "      <td>0</td>\n",
       "      <td>0</td>\n",
       "      <td>0</td>\n",
       "      <td>0</td>\n",
       "      <td>0</td>\n",
       "      <td>0</td>\n",
       "      <td>48</td>\n",
       "      <td>10</td>\n",
       "      <td>0</td>\n",
       "      <td>94.465</td>\n",
       "      <td>-41.8</td>\n",
       "      <td>4.959</td>\n",
       "      <td>0</td>\n",
       "    </tr>\n",
       "    <tr>\n",
       "      <th>31835</th>\n",
       "      <td>0</td>\n",
       "      <td>0</td>\n",
       "      <td>0</td>\n",
       "      <td>0</td>\n",
       "      <td>0</td>\n",
       "      <td>0</td>\n",
       "      <td>0</td>\n",
       "      <td>1</td>\n",
       "      <td>0</td>\n",
       "      <td>0</td>\n",
       "      <td>0</td>\n",
       "      <td>0</td>\n",
       "      <td>1</td>\n",
       "      <td>0</td>\n",
       "      <td>1</td>\n",
       "      <td>0</td>\n",
       "      <td>0</td>\n",
       "      <td>0</td>\n",
       "      <td>0</td>\n",
       "      <td>0</td>\n",
       "      <td>1</td>\n",
       "      <td>0</td>\n",
       "      <td>0</td>\n",
       "      <td>0</td>\n",
       "      <td>1</td>\n",
       "      <td>43</td>\n",
       "      <td>2</td>\n",
       "      <td>0</td>\n",
       "      <td>92.893</td>\n",
       "      <td>-46.2</td>\n",
       "      <td>1.327</td>\n",
       "      <td>0</td>\n",
       "    </tr>\n",
       "    <tr>\n",
       "      <th>19551</th>\n",
       "      <td>0</td>\n",
       "      <td>0</td>\n",
       "      <td>0</td>\n",
       "      <td>0</td>\n",
       "      <td>0</td>\n",
       "      <td>0</td>\n",
       "      <td>0</td>\n",
       "      <td>1</td>\n",
       "      <td>0</td>\n",
       "      <td>0</td>\n",
       "      <td>1</td>\n",
       "      <td>0</td>\n",
       "      <td>1</td>\n",
       "      <td>0</td>\n",
       "      <td>1</td>\n",
       "      <td>0</td>\n",
       "      <td>0</td>\n",
       "      <td>0</td>\n",
       "      <td>0</td>\n",
       "      <td>0</td>\n",
       "      <td>0</td>\n",
       "      <td>0</td>\n",
       "      <td>0</td>\n",
       "      <td>0</td>\n",
       "      <td>1</td>\n",
       "      <td>49</td>\n",
       "      <td>1</td>\n",
       "      <td>0</td>\n",
       "      <td>93.444</td>\n",
       "      <td>-36.1</td>\n",
       "      <td>4.968</td>\n",
       "      <td>0</td>\n",
       "    </tr>\n",
       "  </tbody>\n",
       "</table>\n",
       "</div>"
      ],
      "text/plain": [
       "       job_admin.  job_blue-collar  job_entrepreneur  job_retired  \\\n",
       "7271            0                0                 0            0   \n",
       "13284           0                0                 0            0   \n",
       "11580           0                1                 0            0   \n",
       "31835           0                0                 0            0   \n",
       "19551           0                0                 0            0   \n",
       "\n",
       "       job_services  job_student  job_unemployed  marital_married  \\\n",
       "7271              0            0               0                1   \n",
       "13284             0            0               0                0   \n",
       "11580             0            0               0                1   \n",
       "31835             0            0               0                1   \n",
       "19551             0            0               0                1   \n",
       "\n",
       "       marital_single  education_basic  education_university.degree  \\\n",
       "7271                0                1                            0   \n",
       "13284               1                0                            0   \n",
       "11580               0                1                            0   \n",
       "31835               0                0                            0   \n",
       "19551               0                0                            1   \n",
       "\n",
       "       education_unknown  default_no  default_unknown  contact_cellular  \\\n",
       "7271                   0           0                1                 0   \n",
       "13284                  0           1                0                 1   \n",
       "11580                  0           0                1                 0   \n",
       "31835                  0           1                0                 1   \n",
       "19551                  0           1                0                 1   \n",
       "\n",
       "       contact_telephone  month_apr  month_dec  month_jul  month_mar  \\\n",
       "7271                   1          0          0          0          0   \n",
       "13284                  0          0          0          1          0   \n",
       "11580                  1          0          0          0          0   \n",
       "31835                  0          0          0          0          0   \n",
       "19551                  0          0          0          0          0   \n",
       "\n",
       "       month_may  month_oct  month_sep  day_of_week_mon  day_of_week_thu  age  \\\n",
       "7271           1          0          0                0                1   40   \n",
       "13284          0          0          0                0                0   25   \n",
       "11580          0          0          0                0                0   48   \n",
       "31835          1          0          0                0                1   43   \n",
       "19551          0          0          0                0                1   49   \n",
       "\n",
       "       campaign  previous  cons.price.idx  cons.conf.idx  euribor3m  y  \n",
       "7271          4         0          93.994          -36.4      4.860  0  \n",
       "13284         1         0          93.918          -42.7      4.962  0  \n",
       "11580        10         0          94.465          -41.8      4.959  0  \n",
       "31835         2         0          92.893          -46.2      1.327  0  \n",
       "19551         1         0          93.444          -36.1      4.968  0  "
      ]
     },
     "execution_count": 204,
     "metadata": {},
     "output_type": "execute_result"
    }
   ],
   "source": [
    "bank_oversampled.head()"
   ]
  },
  {
   "cell_type": "code",
   "execution_count": 205,
   "metadata": {},
   "outputs": [
    {
     "data": {
      "text/plain": [
       "1    25570\n",
       "0    25570\n",
       "Name: y, dtype: int64"
      ]
     },
     "execution_count": 205,
     "metadata": {},
     "output_type": "execute_result"
    }
   ],
   "source": [
    "bank_oversampled['y'].value_counts()"
   ]
  },
  {
   "cell_type": "code",
   "execution_count": 206,
   "metadata": {},
   "outputs": [],
   "source": [
    "X_train_over = bank_oversampled.drop('y', axis = 1)\n",
    "y_train_over = bank_oversampled['y']"
   ]
  },
  {
   "cell_type": "code",
   "execution_count": 207,
   "metadata": {},
   "outputs": [
    {
     "data": {
      "text/plain": [
       "1    25570\n",
       "0    25570\n",
       "Name: y, dtype: int64"
      ]
     },
     "execution_count": 207,
     "metadata": {},
     "output_type": "execute_result"
    }
   ],
   "source": [
    "y_train_over.value_counts()"
   ]
  },
  {
   "cell_type": "markdown",
   "metadata": {},
   "source": [
    "### Logistic Regression -- Oversampled"
   ]
  },
  {
   "cell_type": "code",
   "execution_count": 208,
   "metadata": {},
   "outputs": [],
   "source": [
    "X_train_overscale = scaler.fit_transform(X_train_over)"
   ]
  },
  {
   "cell_type": "code",
   "execution_count": 209,
   "metadata": {},
   "outputs": [
    {
     "data": {
      "text/plain": [
       "LogisticRegression(C=1.0, class_weight=None, dual=False, fit_intercept=True,\n",
       "                   intercept_scaling=1, l1_ratio=None, max_iter=1000,\n",
       "                   multi_class='auto', n_jobs=None, penalty='l2',\n",
       "                   random_state=None, solver='saga', tol=0.0001, verbose=0,\n",
       "                   warm_start=False)"
      ]
     },
     "execution_count": 209,
     "metadata": {},
     "output_type": "execute_result"
    }
   ],
   "source": [
    "log_model.fit(X_train_overscale, y_train_over)"
   ]
  },
  {
   "cell_type": "code",
   "execution_count": 210,
   "metadata": {},
   "outputs": [],
   "source": [
    "log_pred_over = log_model.predict(X_train_overscale)"
   ]
  },
  {
   "cell_type": "code",
   "execution_count": 211,
   "metadata": {},
   "outputs": [
    {
     "name": "stdout",
     "output_type": "stream",
     "text": [
      "              precision    recall  f1-score   support\n",
      "\n",
      "           0       0.70      0.84      0.76     25570\n",
      "           1       0.80      0.63      0.71     25570\n",
      "\n",
      "    accuracy                           0.74     51140\n",
      "   macro avg       0.75      0.74      0.73     51140\n",
      "weighted avg       0.75      0.74      0.73     51140\n",
      "\n"
     ]
    }
   ],
   "source": [
    "print(classification_report(y_train_over, log_pred_over))"
   ]
  },
  {
   "cell_type": "code",
   "execution_count": 212,
   "metadata": {},
   "outputs": [
    {
     "name": "stdout",
     "output_type": "stream",
     "text": [
      "[[21424  4146]\n",
      " [ 9386 16184]]\n"
     ]
    }
   ],
   "source": [
    "print(confusion_matrix(y_train_over, log_pred_over))"
   ]
  },
  {
   "cell_type": "code",
   "execution_count": 213,
   "metadata": {},
   "outputs": [],
   "source": [
    "X_test_overscale = scaler.transform(X_test)"
   ]
  },
  {
   "cell_type": "code",
   "execution_count": 214,
   "metadata": {},
   "outputs": [],
   "source": [
    "log_test_over = log_model.predict(X_test_overscale)"
   ]
  },
  {
   "cell_type": "code",
   "execution_count": 215,
   "metadata": {},
   "outputs": [
    {
     "name": "stdout",
     "output_type": "stream",
     "text": [
      "              precision    recall  f1-score   support\n",
      "\n",
      "           0       0.94      0.84      0.89     10978\n",
      "           1       0.33      0.61      0.43      1379\n",
      "\n",
      "    accuracy                           0.82     12357\n",
      "   macro avg       0.64      0.73      0.66     12357\n",
      "weighted avg       0.88      0.82      0.84     12357\n",
      "\n"
     ]
    }
   ],
   "source": [
    "print(classification_report(y_test, log_test_over))"
   ]
  },
  {
   "cell_type": "code",
   "execution_count": 216,
   "metadata": {},
   "outputs": [
    {
     "name": "stdout",
     "output_type": "stream",
     "text": [
      "[[9250 1728]\n",
      " [ 539  840]]\n"
     ]
    }
   ],
   "source": [
    "print(confusion_matrix(y_test, log_test_over))"
   ]
  },
  {
   "cell_type": "code",
   "execution_count": 234,
   "metadata": {},
   "outputs": [
    {
     "data": {
      "text/plain": [
       "0.4256397263744616"
      ]
     },
     "execution_count": 234,
     "metadata": {},
     "output_type": "execute_result"
    }
   ],
   "source": [
    "f1_score(y_test, log_test_over)"
   ]
  },
  {
   "cell_type": "markdown",
   "metadata": {},
   "source": [
    "> Here we see that the F1 score did not differ much with undersampled method (0.43)."
   ]
  },
  {
   "cell_type": "markdown",
   "metadata": {},
   "source": [
    "### RandomForestClassifier -- Oversampled"
   ]
  },
  {
   "cell_type": "code",
   "execution_count": 217,
   "metadata": {},
   "outputs": [
    {
     "data": {
      "text/plain": [
       "RandomForestClassifier(bootstrap=True, ccp_alpha=0.0, class_weight=None,\n",
       "                       criterion='gini', max_depth=None, max_features='auto',\n",
       "                       max_leaf_nodes=None, max_samples=None,\n",
       "                       min_impurity_decrease=0.0, min_impurity_split=None,\n",
       "                       min_samples_leaf=1, min_samples_split=2,\n",
       "                       min_weight_fraction_leaf=0.0, n_estimators=100,\n",
       "                       n_jobs=None, oob_score=False, random_state=None,\n",
       "                       verbose=0, warm_start=False)"
      ]
     },
     "execution_count": 217,
     "metadata": {},
     "output_type": "execute_result"
    }
   ],
   "source": [
    "rfc.fit(X_train_over, y_train_over)"
   ]
  },
  {
   "cell_type": "code",
   "execution_count": 218,
   "metadata": {},
   "outputs": [],
   "source": [
    "rfc_train_over = rfc.predict(X_train_over)"
   ]
  },
  {
   "cell_type": "code",
   "execution_count": 219,
   "metadata": {},
   "outputs": [
    {
     "name": "stdout",
     "output_type": "stream",
     "text": [
      "              precision    recall  f1-score   support\n",
      "\n",
      "           0       1.00      0.98      0.99     25570\n",
      "           1       0.98      1.00      0.99     25570\n",
      "\n",
      "    accuracy                           0.99     51140\n",
      "   macro avg       0.99      0.99      0.99     51140\n",
      "weighted avg       0.99      0.99      0.99     51140\n",
      "\n"
     ]
    }
   ],
   "source": [
    "print(classification_report(y_train_over, rfc_train_over))"
   ]
  },
  {
   "cell_type": "code",
   "execution_count": 220,
   "metadata": {},
   "outputs": [
    {
     "name": "stdout",
     "output_type": "stream",
     "text": [
      "[[25048   522]\n",
      " [    0 25570]]\n"
     ]
    }
   ],
   "source": [
    "print(confusion_matrix(y_train_over, rfc_train_over))"
   ]
  },
  {
   "cell_type": "code",
   "execution_count": 221,
   "metadata": {},
   "outputs": [],
   "source": [
    "rfc_test_over = rfc.predict(X_test)"
   ]
  },
  {
   "cell_type": "code",
   "execution_count": 222,
   "metadata": {},
   "outputs": [
    {
     "name": "stdout",
     "output_type": "stream",
     "text": [
      "              precision    recall  f1-score   support\n",
      "\n",
      "           0       0.92      0.92      0.92     10978\n",
      "           1       0.39      0.39      0.39      1379\n",
      "\n",
      "    accuracy                           0.86     12357\n",
      "   macro avg       0.66      0.66      0.66     12357\n",
      "weighted avg       0.86      0.86      0.86     12357\n",
      "\n"
     ]
    }
   ],
   "source": [
    "print(classification_report(y_test, rfc_test_over))"
   ]
  },
  {
   "cell_type": "code",
   "execution_count": 223,
   "metadata": {},
   "outputs": [
    {
     "name": "stdout",
     "output_type": "stream",
     "text": [
      "[[10141   837]\n",
      " [  838   541]]\n"
     ]
    }
   ],
   "source": [
    "print(confusion_matrix(y_test, rfc_test_over))"
   ]
  },
  {
   "cell_type": "code",
   "execution_count": 224,
   "metadata": {},
   "outputs": [
    {
     "data": {
      "text/plain": [
       "0.39245556764599204"
      ]
     },
     "execution_count": 224,
     "metadata": {},
     "output_type": "execute_result"
    }
   ],
   "source": [
    "f1_score(y_test, rfc_test_over)"
   ]
  },
  {
   "cell_type": "markdown",
   "metadata": {},
   "source": [
    "> Actually here we see a quite good model. The balance between recall and precision is observed. Although we have a lower True Positive predictions, but we see less False Positives compared to logistic regression above."
   ]
  },
  {
   "cell_type": "markdown",
   "metadata": {},
   "source": [
    "### XGB Classifier -- Oversampled"
   ]
  },
  {
   "cell_type": "code",
   "execution_count": 225,
   "metadata": {},
   "outputs": [
    {
     "data": {
      "text/plain": [
       "XGBClassifier(base_score=0.5, booster=None, colsample_bylevel=1,\n",
       "              colsample_bynode=1, colsample_bytree=1, gamma=0, gpu_id=-1,\n",
       "              importance_type='gain', interaction_constraints=None,\n",
       "              learning_rate=0.300000012, max_delta_step=0, max_depth=6,\n",
       "              min_child_weight=1, missing=nan, monotone_constraints=None,\n",
       "              n_estimators=100, n_jobs=0, num_parallel_tree=1,\n",
       "              objective='binary:logistic', random_state=0, reg_alpha=0,\n",
       "              reg_lambda=1, scale_pos_weight=1, subsample=1, tree_method=None,\n",
       "              validate_parameters=False, verbosity=None)"
      ]
     },
     "execution_count": 225,
     "metadata": {},
     "output_type": "execute_result"
    }
   ],
   "source": [
    "xgb.fit(X_train_over, y_train_over)"
   ]
  },
  {
   "cell_type": "code",
   "execution_count": 226,
   "metadata": {},
   "outputs": [],
   "source": [
    "xgb_train_over = xgb.predict(X_train_over)"
   ]
  },
  {
   "cell_type": "code",
   "execution_count": 228,
   "metadata": {},
   "outputs": [
    {
     "name": "stdout",
     "output_type": "stream",
     "text": [
      "              precision    recall  f1-score   support\n",
      "\n",
      "           0       0.81      0.89      0.85     25570\n",
      "           1       0.87      0.80      0.83     25570\n",
      "\n",
      "    accuracy                           0.84     51140\n",
      "   macro avg       0.84      0.84      0.84     51140\n",
      "weighted avg       0.84      0.84      0.84     51140\n",
      "\n"
     ]
    }
   ],
   "source": [
    "print(classification_report(y_train_over, xgb_train_over))"
   ]
  },
  {
   "cell_type": "code",
   "execution_count": 229,
   "metadata": {},
   "outputs": [
    {
     "name": "stdout",
     "output_type": "stream",
     "text": [
      "[[22646  2924]\n",
      " [ 5232 20338]]\n"
     ]
    }
   ],
   "source": [
    "print(confusion_matrix(y_train_over, xgb_train_over))"
   ]
  },
  {
   "cell_type": "code",
   "execution_count": 230,
   "metadata": {},
   "outputs": [],
   "source": [
    "xgb_test_over = xgb.predict(X_test)"
   ]
  },
  {
   "cell_type": "code",
   "execution_count": 231,
   "metadata": {},
   "outputs": [
    {
     "name": "stdout",
     "output_type": "stream",
     "text": [
      "              precision    recall  f1-score   support\n",
      "\n",
      "           0       0.94      0.86      0.90     10978\n",
      "           1       0.34      0.57      0.43      1379\n",
      "\n",
      "    accuracy                           0.83     12357\n",
      "   macro avg       0.64      0.72      0.66     12357\n",
      "weighted avg       0.87      0.83      0.85     12357\n",
      "\n"
     ]
    }
   ],
   "source": [
    "print(classification_report(y_test, xgb_test_over))"
   ]
  },
  {
   "cell_type": "code",
   "execution_count": 232,
   "metadata": {},
   "outputs": [
    {
     "name": "stdout",
     "output_type": "stream",
     "text": [
      "[[9487 1491]\n",
      " [ 597  782]]\n"
     ]
    }
   ],
   "source": [
    "print(confusion_matrix(y_test, xgb_test_over))"
   ]
  },
  {
   "cell_type": "code",
   "execution_count": 233,
   "metadata": {},
   "outputs": [
    {
     "data": {
      "text/plain": [
       "0.4282584884994523"
      ]
     },
     "execution_count": 233,
     "metadata": {},
     "output_type": "execute_result"
    }
   ],
   "source": [
    "f1_score(y_test, xgb_test_over)"
   ]
  },
  {
   "cell_type": "markdown",
   "metadata": {},
   "source": [
    "> Here we see an improvement from the undersampled method and also from the prediction from the original dataset. The F1 score is similar with the prediction from logistic regression model, only slightly higher. Although it predicts False Positive more often than RFC, the predictions of True positives is higher."
   ]
  },
  {
   "cell_type": "markdown",
   "metadata": {},
   "source": [
    "> Based on the F1 score oversampling method, we see that RFC generates the lowest score compared with other -- but it has a balanced scores in precision and recall.\n",
    "\n",
    "> <b> NOTE: In the oversampled dataset without hyperparameter tuning, the F1 score (test set) of: </b>\n",
    "* Logistic regression : 0.43\n",
    "* RandomForestClassifier : 0.39\n",
    "* XGBoostClassifier : 0.43 "
   ]
  },
  {
   "cell_type": "markdown",
   "metadata": {},
   "source": [
    "## SMOTE Oversampling\n",
    "Here I also try to use another oversampling method -- SMOTE, by introducing synthetic data. Hopefully it can improve our models."
   ]
  },
  {
   "cell_type": "code",
   "execution_count": 235,
   "metadata": {},
   "outputs": [],
   "source": [
    "from imblearn.over_sampling import SMOTE\n",
    "im = SMOTE(sampling_strategy = 'minority')\n",
    "\n",
    "oversampled_trainX, oversampled_trainY = im.fit_sample(X_train, y_train)\n",
    "oversampled_train = pd.concat([pd.DataFrame(oversampled_trainY), pd.DataFrame(oversampled_trainX)], axis = 1)"
   ]
  },
  {
   "cell_type": "code",
   "execution_count": 236,
   "metadata": {},
   "outputs": [
    {
     "data": {
      "text/html": [
       "<div>\n",
       "<style scoped>\n",
       "    .dataframe tbody tr th:only-of-type {\n",
       "        vertical-align: middle;\n",
       "    }\n",
       "\n",
       "    .dataframe tbody tr th {\n",
       "        vertical-align: top;\n",
       "    }\n",
       "\n",
       "    .dataframe thead th {\n",
       "        text-align: right;\n",
       "    }\n",
       "</style>\n",
       "<table border=\"1\" class=\"dataframe\">\n",
       "  <thead>\n",
       "    <tr style=\"text-align: right;\">\n",
       "      <th></th>\n",
       "      <th>y</th>\n",
       "      <th>job_admin.</th>\n",
       "      <th>job_blue-collar</th>\n",
       "      <th>job_entrepreneur</th>\n",
       "      <th>job_retired</th>\n",
       "      <th>job_services</th>\n",
       "      <th>job_student</th>\n",
       "      <th>job_unemployed</th>\n",
       "      <th>marital_married</th>\n",
       "      <th>marital_single</th>\n",
       "      <th>education_basic</th>\n",
       "      <th>education_university.degree</th>\n",
       "      <th>education_unknown</th>\n",
       "      <th>default_no</th>\n",
       "      <th>default_unknown</th>\n",
       "      <th>contact_cellular</th>\n",
       "      <th>contact_telephone</th>\n",
       "      <th>month_apr</th>\n",
       "      <th>month_dec</th>\n",
       "      <th>month_jul</th>\n",
       "      <th>month_mar</th>\n",
       "      <th>month_may</th>\n",
       "      <th>month_oct</th>\n",
       "      <th>month_sep</th>\n",
       "      <th>day_of_week_mon</th>\n",
       "      <th>day_of_week_thu</th>\n",
       "      <th>age</th>\n",
       "      <th>campaign</th>\n",
       "      <th>previous</th>\n",
       "      <th>cons.price.idx</th>\n",
       "      <th>cons.conf.idx</th>\n",
       "      <th>euribor3m</th>\n",
       "    </tr>\n",
       "  </thead>\n",
       "  <tbody>\n",
       "    <tr>\n",
       "      <th>0</th>\n",
       "      <td>0</td>\n",
       "      <td>0</td>\n",
       "      <td>0</td>\n",
       "      <td>0</td>\n",
       "      <td>0</td>\n",
       "      <td>0</td>\n",
       "      <td>0</td>\n",
       "      <td>0</td>\n",
       "      <td>1</td>\n",
       "      <td>0</td>\n",
       "      <td>1</td>\n",
       "      <td>0</td>\n",
       "      <td>0</td>\n",
       "      <td>0</td>\n",
       "      <td>1</td>\n",
       "      <td>0</td>\n",
       "      <td>1</td>\n",
       "      <td>0</td>\n",
       "      <td>0</td>\n",
       "      <td>0</td>\n",
       "      <td>0</td>\n",
       "      <td>1</td>\n",
       "      <td>0</td>\n",
       "      <td>0</td>\n",
       "      <td>0</td>\n",
       "      <td>1</td>\n",
       "      <td>40</td>\n",
       "      <td>4</td>\n",
       "      <td>0</td>\n",
       "      <td>93.994</td>\n",
       "      <td>-36.4</td>\n",
       "      <td>4.860</td>\n",
       "    </tr>\n",
       "    <tr>\n",
       "      <th>1</th>\n",
       "      <td>0</td>\n",
       "      <td>0</td>\n",
       "      <td>0</td>\n",
       "      <td>0</td>\n",
       "      <td>0</td>\n",
       "      <td>0</td>\n",
       "      <td>0</td>\n",
       "      <td>0</td>\n",
       "      <td>0</td>\n",
       "      <td>1</td>\n",
       "      <td>0</td>\n",
       "      <td>0</td>\n",
       "      <td>0</td>\n",
       "      <td>1</td>\n",
       "      <td>0</td>\n",
       "      <td>1</td>\n",
       "      <td>0</td>\n",
       "      <td>0</td>\n",
       "      <td>0</td>\n",
       "      <td>1</td>\n",
       "      <td>0</td>\n",
       "      <td>0</td>\n",
       "      <td>0</td>\n",
       "      <td>0</td>\n",
       "      <td>0</td>\n",
       "      <td>0</td>\n",
       "      <td>25</td>\n",
       "      <td>1</td>\n",
       "      <td>0</td>\n",
       "      <td>93.918</td>\n",
       "      <td>-42.7</td>\n",
       "      <td>4.962</td>\n",
       "    </tr>\n",
       "    <tr>\n",
       "      <th>2</th>\n",
       "      <td>0</td>\n",
       "      <td>0</td>\n",
       "      <td>1</td>\n",
       "      <td>0</td>\n",
       "      <td>0</td>\n",
       "      <td>0</td>\n",
       "      <td>0</td>\n",
       "      <td>0</td>\n",
       "      <td>1</td>\n",
       "      <td>0</td>\n",
       "      <td>1</td>\n",
       "      <td>0</td>\n",
       "      <td>0</td>\n",
       "      <td>0</td>\n",
       "      <td>1</td>\n",
       "      <td>0</td>\n",
       "      <td>1</td>\n",
       "      <td>0</td>\n",
       "      <td>0</td>\n",
       "      <td>0</td>\n",
       "      <td>0</td>\n",
       "      <td>0</td>\n",
       "      <td>0</td>\n",
       "      <td>0</td>\n",
       "      <td>0</td>\n",
       "      <td>0</td>\n",
       "      <td>48</td>\n",
       "      <td>10</td>\n",
       "      <td>0</td>\n",
       "      <td>94.465</td>\n",
       "      <td>-41.8</td>\n",
       "      <td>4.959</td>\n",
       "    </tr>\n",
       "    <tr>\n",
       "      <th>3</th>\n",
       "      <td>0</td>\n",
       "      <td>0</td>\n",
       "      <td>0</td>\n",
       "      <td>0</td>\n",
       "      <td>0</td>\n",
       "      <td>0</td>\n",
       "      <td>0</td>\n",
       "      <td>0</td>\n",
       "      <td>1</td>\n",
       "      <td>0</td>\n",
       "      <td>0</td>\n",
       "      <td>0</td>\n",
       "      <td>0</td>\n",
       "      <td>1</td>\n",
       "      <td>0</td>\n",
       "      <td>1</td>\n",
       "      <td>0</td>\n",
       "      <td>0</td>\n",
       "      <td>0</td>\n",
       "      <td>0</td>\n",
       "      <td>0</td>\n",
       "      <td>1</td>\n",
       "      <td>0</td>\n",
       "      <td>0</td>\n",
       "      <td>0</td>\n",
       "      <td>1</td>\n",
       "      <td>43</td>\n",
       "      <td>2</td>\n",
       "      <td>0</td>\n",
       "      <td>92.893</td>\n",
       "      <td>-46.2</td>\n",
       "      <td>1.327</td>\n",
       "    </tr>\n",
       "    <tr>\n",
       "      <th>4</th>\n",
       "      <td>0</td>\n",
       "      <td>0</td>\n",
       "      <td>0</td>\n",
       "      <td>0</td>\n",
       "      <td>0</td>\n",
       "      <td>0</td>\n",
       "      <td>0</td>\n",
       "      <td>0</td>\n",
       "      <td>1</td>\n",
       "      <td>0</td>\n",
       "      <td>0</td>\n",
       "      <td>1</td>\n",
       "      <td>0</td>\n",
       "      <td>1</td>\n",
       "      <td>0</td>\n",
       "      <td>1</td>\n",
       "      <td>0</td>\n",
       "      <td>0</td>\n",
       "      <td>0</td>\n",
       "      <td>0</td>\n",
       "      <td>0</td>\n",
       "      <td>0</td>\n",
       "      <td>0</td>\n",
       "      <td>0</td>\n",
       "      <td>0</td>\n",
       "      <td>1</td>\n",
       "      <td>49</td>\n",
       "      <td>1</td>\n",
       "      <td>0</td>\n",
       "      <td>93.444</td>\n",
       "      <td>-36.1</td>\n",
       "      <td>4.968</td>\n",
       "    </tr>\n",
       "  </tbody>\n",
       "</table>\n",
       "</div>"
      ],
      "text/plain": [
       "   y  job_admin.  job_blue-collar  job_entrepreneur  job_retired  \\\n",
       "0  0           0                0                 0            0   \n",
       "1  0           0                0                 0            0   \n",
       "2  0           0                1                 0            0   \n",
       "3  0           0                0                 0            0   \n",
       "4  0           0                0                 0            0   \n",
       "\n",
       "   job_services  job_student  job_unemployed  marital_married  marital_single  \\\n",
       "0             0            0               0                1               0   \n",
       "1             0            0               0                0               1   \n",
       "2             0            0               0                1               0   \n",
       "3             0            0               0                1               0   \n",
       "4             0            0               0                1               0   \n",
       "\n",
       "   education_basic  education_university.degree  education_unknown  \\\n",
       "0                1                            0                  0   \n",
       "1                0                            0                  0   \n",
       "2                1                            0                  0   \n",
       "3                0                            0                  0   \n",
       "4                0                            1                  0   \n",
       "\n",
       "   default_no  default_unknown  contact_cellular  contact_telephone  \\\n",
       "0           0                1                 0                  1   \n",
       "1           1                0                 1                  0   \n",
       "2           0                1                 0                  1   \n",
       "3           1                0                 1                  0   \n",
       "4           1                0                 1                  0   \n",
       "\n",
       "   month_apr  month_dec  month_jul  month_mar  month_may  month_oct  \\\n",
       "0          0          0          0          0          1          0   \n",
       "1          0          0          1          0          0          0   \n",
       "2          0          0          0          0          0          0   \n",
       "3          0          0          0          0          1          0   \n",
       "4          0          0          0          0          0          0   \n",
       "\n",
       "   month_sep  day_of_week_mon  day_of_week_thu  age  campaign  previous  \\\n",
       "0          0                0                1   40         4         0   \n",
       "1          0                0                0   25         1         0   \n",
       "2          0                0                0   48        10         0   \n",
       "3          0                0                1   43         2         0   \n",
       "4          0                0                1   49         1         0   \n",
       "\n",
       "   cons.price.idx  cons.conf.idx  euribor3m  \n",
       "0          93.994          -36.4      4.860  \n",
       "1          93.918          -42.7      4.962  \n",
       "2          94.465          -41.8      4.959  \n",
       "3          92.893          -46.2      1.327  \n",
       "4          93.444          -36.1      4.968  "
      ]
     },
     "execution_count": 236,
     "metadata": {},
     "output_type": "execute_result"
    }
   ],
   "source": [
    "oversampled_train.head()"
   ]
  },
  {
   "cell_type": "code",
   "execution_count": 237,
   "metadata": {},
   "outputs": [
    {
     "data": {
      "text/plain": [
       "1    25570\n",
       "0    25570\n",
       "Name: y, dtype: int64"
      ]
     },
     "execution_count": 237,
     "metadata": {},
     "output_type": "execute_result"
    }
   ],
   "source": [
    "oversampled_train['y'].value_counts()"
   ]
  },
  {
   "cell_type": "markdown",
   "metadata": {},
   "source": [
    "### Logistic Regression -- SMOTE"
   ]
  },
  {
   "cell_type": "code",
   "execution_count": 238,
   "metadata": {},
   "outputs": [],
   "source": [
    "X_train_smotescale = scaler.fit_transform(oversampled_trainX)"
   ]
  },
  {
   "cell_type": "code",
   "execution_count": 239,
   "metadata": {},
   "outputs": [
    {
     "data": {
      "text/plain": [
       "LogisticRegression(C=1.0, class_weight=None, dual=False, fit_intercept=True,\n",
       "                   intercept_scaling=1, l1_ratio=None, max_iter=1000,\n",
       "                   multi_class='auto', n_jobs=None, penalty='l2',\n",
       "                   random_state=None, solver='saga', tol=0.0001, verbose=0,\n",
       "                   warm_start=False)"
      ]
     },
     "execution_count": 239,
     "metadata": {},
     "output_type": "execute_result"
    }
   ],
   "source": [
    "log_model.fit(X_train_smotescale, oversampled_trainY)"
   ]
  },
  {
   "cell_type": "code",
   "execution_count": 240,
   "metadata": {},
   "outputs": [],
   "source": [
    "log_smote_train = log_model.predict(X_train_smotescale)"
   ]
  },
  {
   "cell_type": "code",
   "execution_count": 241,
   "metadata": {},
   "outputs": [
    {
     "name": "stdout",
     "output_type": "stream",
     "text": [
      "              precision    recall  f1-score   support\n",
      "\n",
      "           0       0.81      0.85      0.83     25570\n",
      "           1       0.84      0.81      0.82     25570\n",
      "\n",
      "    accuracy                           0.83     51140\n",
      "   macro avg       0.83      0.83      0.83     51140\n",
      "weighted avg       0.83      0.83      0.83     51140\n",
      "\n"
     ]
    }
   ],
   "source": [
    "print(classification_report(oversampled_trainY, log_smote_train))"
   ]
  },
  {
   "cell_type": "code",
   "execution_count": 244,
   "metadata": {},
   "outputs": [
    {
     "name": "stdout",
     "output_type": "stream",
     "text": [
      "[[21631  3939]\n",
      " [ 4954 20616]]\n"
     ]
    }
   ],
   "source": [
    "print(confusion_matrix(oversampled_trainY, log_smote_train))"
   ]
  },
  {
   "cell_type": "code",
   "execution_count": 242,
   "metadata": {},
   "outputs": [],
   "source": [
    "X_test_smotescale = scaler.transform(X_test)"
   ]
  },
  {
   "cell_type": "code",
   "execution_count": 243,
   "metadata": {},
   "outputs": [],
   "source": [
    "log_smote_test = log_model.predict(X_test_smotescale)"
   ]
  },
  {
   "cell_type": "code",
   "execution_count": 245,
   "metadata": {},
   "outputs": [
    {
     "name": "stdout",
     "output_type": "stream",
     "text": [
      "[[9240 1738]\n",
      " [ 696  683]]\n"
     ]
    }
   ],
   "source": [
    "print(confusion_matrix(y_test, log_smote_test))"
   ]
  },
  {
   "cell_type": "code",
   "execution_count": 246,
   "metadata": {},
   "outputs": [
    {
     "name": "stdout",
     "output_type": "stream",
     "text": [
      "              precision    recall  f1-score   support\n",
      "\n",
      "           0       0.93      0.84      0.88     10978\n",
      "           1       0.28      0.50      0.36      1379\n",
      "\n",
      "    accuracy                           0.80     12357\n",
      "   macro avg       0.61      0.67      0.62     12357\n",
      "weighted avg       0.86      0.80      0.83     12357\n",
      "\n"
     ]
    }
   ],
   "source": [
    "print(classification_report(y_test, log_smote_test))"
   ]
  },
  {
   "cell_type": "markdown",
   "metadata": {},
   "source": [
    "> Here we see that using this technique, our F1 score is less than using other method. Our recall is approximately doubled than the precision score -- maybe that is why our False Positives are rising."
   ]
  },
  {
   "cell_type": "markdown",
   "metadata": {},
   "source": [
    "### RandomForestClassifier -- SMOTE"
   ]
  },
  {
   "cell_type": "code",
   "execution_count": 247,
   "metadata": {},
   "outputs": [
    {
     "data": {
      "text/plain": [
       "RandomForestClassifier(bootstrap=True, ccp_alpha=0.0, class_weight=None,\n",
       "                       criterion='gini', max_depth=None, max_features='auto',\n",
       "                       max_leaf_nodes=None, max_samples=None,\n",
       "                       min_impurity_decrease=0.0, min_impurity_split=None,\n",
       "                       min_samples_leaf=1, min_samples_split=2,\n",
       "                       min_weight_fraction_leaf=0.0, n_estimators=100,\n",
       "                       n_jobs=None, oob_score=False, random_state=None,\n",
       "                       verbose=0, warm_start=False)"
      ]
     },
     "execution_count": 247,
     "metadata": {},
     "output_type": "execute_result"
    }
   ],
   "source": [
    "rfc.fit(oversampled_trainX, oversampled_trainY)"
   ]
  },
  {
   "cell_type": "code",
   "execution_count": 248,
   "metadata": {},
   "outputs": [],
   "source": [
    "rfc_smote_train = rfc.predict(oversampled_trainX)"
   ]
  },
  {
   "cell_type": "code",
   "execution_count": 249,
   "metadata": {},
   "outputs": [
    {
     "name": "stdout",
     "output_type": "stream",
     "text": [
      "              precision    recall  f1-score   support\n",
      "\n",
      "           0       0.99      0.99      0.99     25570\n",
      "           1       0.99      0.99      0.99     25570\n",
      "\n",
      "    accuracy                           0.99     51140\n",
      "   macro avg       0.99      0.99      0.99     51140\n",
      "weighted avg       0.99      0.99      0.99     51140\n",
      "\n"
     ]
    }
   ],
   "source": [
    "print(classification_report(oversampled_trainY, rfc_smote_train))"
   ]
  },
  {
   "cell_type": "code",
   "execution_count": 250,
   "metadata": {},
   "outputs": [
    {
     "name": "stdout",
     "output_type": "stream",
     "text": [
      "[[25364   206]\n",
      " [  263 25307]]\n"
     ]
    }
   ],
   "source": [
    "print(confusion_matrix(oversampled_trainY, rfc_smote_train))"
   ]
  },
  {
   "cell_type": "code",
   "execution_count": 251,
   "metadata": {},
   "outputs": [],
   "source": [
    "rfc_smote_test = rfc.predict(X_test)"
   ]
  },
  {
   "cell_type": "code",
   "execution_count": 252,
   "metadata": {},
   "outputs": [
    {
     "name": "stdout",
     "output_type": "stream",
     "text": [
      "              precision    recall  f1-score   support\n",
      "\n",
      "           0       0.92      0.92      0.92     10978\n",
      "           1       0.37      0.40      0.39      1379\n",
      "\n",
      "    accuracy                           0.86     12357\n",
      "   macro avg       0.65      0.66      0.65     12357\n",
      "weighted avg       0.86      0.86      0.86     12357\n",
      "\n"
     ]
    }
   ],
   "source": [
    "print(classification_report(y_test, rfc_smote_test))"
   ]
  },
  {
   "cell_type": "code",
   "execution_count": 253,
   "metadata": {},
   "outputs": [
    {
     "name": "stdout",
     "output_type": "stream",
     "text": [
      "[[10057   921]\n",
      " [  829   550]]\n"
     ]
    }
   ],
   "source": [
    "print(confusion_matrix(y_test, rfc_smote_test))"
   ]
  },
  {
   "cell_type": "markdown",
   "metadata": {},
   "source": [
    "> Here we see that RFC model did not improved really much compared to previous methods we applied to our dataset. The number of False negative is still bigger than the True Positive, although the number of False positive is less than logistic regression. One thing that is consistent across our trial is RFC tends to overfit."
   ]
  },
  {
   "cell_type": "markdown",
   "metadata": {},
   "source": [
    "### XGBClassifier -- SMOTE"
   ]
  },
  {
   "cell_type": "code",
   "execution_count": 254,
   "metadata": {},
   "outputs": [
    {
     "data": {
      "text/plain": [
       "XGBClassifier(base_score=0.5, booster=None, colsample_bylevel=1,\n",
       "              colsample_bynode=1, colsample_bytree=1, gamma=0, gpu_id=-1,\n",
       "              importance_type='gain', interaction_constraints=None,\n",
       "              learning_rate=0.300000012, max_delta_step=0, max_depth=6,\n",
       "              min_child_weight=1, missing=nan, monotone_constraints=None,\n",
       "              n_estimators=100, n_jobs=0, num_parallel_tree=1,\n",
       "              objective='binary:logistic', random_state=0, reg_alpha=0,\n",
       "              reg_lambda=1, scale_pos_weight=1, subsample=1, tree_method=None,\n",
       "              validate_parameters=False, verbosity=None)"
      ]
     },
     "execution_count": 254,
     "metadata": {},
     "output_type": "execute_result"
    }
   ],
   "source": [
    "xgb.fit(oversampled_trainX, oversampled_trainY)"
   ]
  },
  {
   "cell_type": "code",
   "execution_count": 255,
   "metadata": {},
   "outputs": [],
   "source": [
    "xgb_smote_train = xgb.predict(oversampled_trainX)"
   ]
  },
  {
   "cell_type": "code",
   "execution_count": 256,
   "metadata": {},
   "outputs": [
    {
     "name": "stdout",
     "output_type": "stream",
     "text": [
      "              precision    recall  f1-score   support\n",
      "\n",
      "           0       0.92      0.95      0.93     25570\n",
      "           1       0.95      0.91      0.93     25570\n",
      "\n",
      "    accuracy                           0.93     51140\n",
      "   macro avg       0.93      0.93      0.93     51140\n",
      "weighted avg       0.93      0.93      0.93     51140\n",
      "\n"
     ]
    }
   ],
   "source": [
    "print(classification_report(oversampled_trainY, xgb_smote_train))"
   ]
  },
  {
   "cell_type": "code",
   "execution_count": 257,
   "metadata": {},
   "outputs": [
    {
     "name": "stdout",
     "output_type": "stream",
     "text": [
      "[[24213  1357]\n",
      " [ 2226 23344]]\n"
     ]
    }
   ],
   "source": [
    "print(confusion_matrix(oversampled_trainY, xgb_smote_train))"
   ]
  },
  {
   "cell_type": "code",
   "execution_count": 258,
   "metadata": {},
   "outputs": [],
   "source": [
    "xgb_smote_test = xgb.predict(X_test)"
   ]
  },
  {
   "cell_type": "code",
   "execution_count": 259,
   "metadata": {},
   "outputs": [
    {
     "name": "stdout",
     "output_type": "stream",
     "text": [
      "              precision    recall  f1-score   support\n",
      "\n",
      "           0       0.93      0.93      0.93     10978\n",
      "           1       0.43      0.43      0.43      1379\n",
      "\n",
      "    accuracy                           0.87     12357\n",
      "   macro avg       0.68      0.68      0.68     12357\n",
      "weighted avg       0.87      0.87      0.87     12357\n",
      "\n"
     ]
    }
   ],
   "source": [
    "print(classification_report(y_test, xgb_smote_test))"
   ]
  },
  {
   "cell_type": "code",
   "execution_count": 260,
   "metadata": {},
   "outputs": [
    {
     "name": "stdout",
     "output_type": "stream",
     "text": [
      "[[10205   773]\n",
      " [  790   589]]\n"
     ]
    }
   ],
   "source": [
    "print(confusion_matrix(y_test, xgb_smote_test))"
   ]
  },
  {
   "cell_type": "markdown",
   "metadata": {},
   "source": [
    "> Here we see that the F1 score is similar with the oversampled method earlier, but the number of misclassification is higher here, although the precision score is the same as the recall -- thus it is balanced. Using SMOTE method, XGBoost also tend to overfit -- it is performing really well in the train set, but underperformed for the test set."
   ]
  },
  {
   "cell_type": "markdown",
   "metadata": {},
   "source": [
    "> Based on the SMOTE method, if we see the F1 score, logistic regression was the poorest model compared with other. But actually it predicts more True positives than other models -- it is caused by the higher recall score, but lower precision. Thus we can not really say that logistic regression is bad.\n",
    "\n",
    "> <b> NOTE: In the SMOTE oversampling without hyperparameter tuning, the F1 score (test set) of: </b>\n",
    "* Logistic regression : 0.36\n",
    "* RandomForestClassifier : 0.39\n",
    "* XGBoostClassifier : 0.43 "
   ]
  },
  {
   "cell_type": "markdown",
   "metadata": {},
   "source": [
    "## Conclusion - choosing model and dataset to perform further analysis"
   ]
  },
  {
   "cell_type": "markdown",
   "metadata": {},
   "source": [
    ">After observing the recall and dive deeper to the confusion matrix and classification report: \n",
    "* We see that logistic regression is more aggresive in predicting Target Yes -- resulting more False Positive compared to the other -- but subsequently also acquiring more True Positives. We see that RFC and XGB is more balanced in precision and recall, with RFC is considered the most conservative.\n",
    "\n",
    "> Since my first objective is to increase the True Positive : acquiring customers, I decided to proceed to hyperparameter tuning step for logistic regression (aggresive) and XGB.\n",
    "> Datasets that will be used are original dataset and oversampled dataset"
   ]
  },
  {
   "cell_type": "code",
   "execution_count": 82,
   "metadata": {},
   "outputs": [],
   "source": [
    "bank_oversampled.to_csv('bank_oversampled.csv', index = False)"
   ]
  },
  {
   "cell_type": "code",
   "execution_count": null,
   "metadata": {},
   "outputs": [],
   "source": []
  }
 ],
 "metadata": {
  "kernelspec": {
   "display_name": "Python 3",
   "language": "python",
   "name": "python3"
  },
  "language_info": {
   "codemirror_mode": {
    "name": "ipython",
    "version": 3
   },
   "file_extension": ".py",
   "mimetype": "text/x-python",
   "name": "python",
   "nbconvert_exporter": "python",
   "pygments_lexer": "ipython3",
   "version": "3.7.4"
  }
 },
 "nbformat": 4,
 "nbformat_minor": 4
}
