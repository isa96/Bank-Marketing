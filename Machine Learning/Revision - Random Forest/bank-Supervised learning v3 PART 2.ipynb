{
 "cells": [
  {
   "cell_type": "code",
   "execution_count": 1,
   "metadata": {
    "colab": {},
    "colab_type": "code",
    "id": "GLEtcg3mKYrX"
   },
   "outputs": [
    {
     "name": "stderr",
     "output_type": "stream",
     "text": [
      "In C:\\ProgramData\\Anaconda3\\lib\\site-packages\\matplotlib\\mpl-data\\stylelib\\_classic_test.mplstyle: \n",
      "The savefig.frameon rcparam was deprecated in Matplotlib 3.1 and will be removed in 3.3.\n",
      "In C:\\ProgramData\\Anaconda3\\lib\\site-packages\\matplotlib\\mpl-data\\stylelib\\_classic_test.mplstyle: \n",
      "The verbose.level rcparam was deprecated in Matplotlib 3.1 and will be removed in 3.3.\n",
      "In C:\\ProgramData\\Anaconda3\\lib\\site-packages\\matplotlib\\mpl-data\\stylelib\\_classic_test.mplstyle: \n",
      "The verbose.fileo rcparam was deprecated in Matplotlib 3.1 and will be removed in 3.3.\n"
     ]
    }
   ],
   "source": [
    "import seaborn as sns\n",
    "import matplotlib.pyplot as plt\n",
    "import pandas as pd\n",
    "import numpy as np\n",
    "\n",
    "#model processing\n",
    "from sklearn.model_selection import train_test_split, KFold, cross_val_score, learning_curve, RandomizedSearchCV\n",
    "from sklearn.preprocessing import StandardScaler\n",
    "\n",
    "#models\n",
    "from sklearn.linear_model import LogisticRegression\n",
    "from sklearn.ensemble import RandomForestClassifier\n",
    "from xgboost import XGBClassifier\n",
    "\n",
    "#evaluation metrics\n",
    "from sklearn.metrics import classification_report, confusion_matrix, accuracy_score, roc_auc_score, f1_score, log_loss, matthews_corrcoef\n",
    "\n",
    "#model deployment\n",
    "import pickle\n"
   ]
  },
  {
   "cell_type": "code",
   "execution_count": 3,
   "metadata": {
    "colab": {
     "base_uri": "https://localhost:8080/",
     "height": 75,
     "resources": {
      "http://localhost:8080/nbextensions/google.colab/files.js": {
       "data": "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",
       "headers": [
        [
         "content-type",
         "application/javascript"
        ]
       ],
       "ok": true,
       "status": 200,
       "status_text": ""
      }
     }
    },
    "colab_type": "code",
    "id": "RKUmNUROK2_I",
    "outputId": "bd6e9ec6-6cd8-44bb-880f-f563c02a3731"
   },
   "outputs": [
    {
     "data": {
      "text/html": [
       "\n",
       "     <input type=\"file\" id=\"files-1a946d03-fe4d-4e73-b26f-96b24671e760\" name=\"files[]\" multiple disabled />\n",
       "     <output id=\"result-1a946d03-fe4d-4e73-b26f-96b24671e760\">\n",
       "      Upload widget is only available when the cell has been executed in the\n",
       "      current browser session. Please rerun this cell to enable.\n",
       "      </output>\n",
       "      <script src=\"/nbextensions/google.colab/files.js\"></script> "
      ],
      "text/plain": [
       "<IPython.core.display.HTML object>"
      ]
     },
     "metadata": {
      "tags": []
     },
     "output_type": "display_data"
    },
    {
     "name": "stdout",
     "output_type": "stream",
     "text": [
      "Saving bank_ht.csv to bank_ht.csv\n"
     ]
    }
   ],
   "source": [
    "from google.colab import files\n",
    "uploaded = files.upload()"
   ]
  },
  {
   "cell_type": "code",
   "execution_count": 0,
   "metadata": {
    "colab": {},
    "colab_type": "code",
    "id": "wPUt1Jp_LDel"
   },
   "outputs": [],
   "source": [
    "import io\n",
    "bank = pd.read_csv(io.BytesIO(uploaded['bank_ht.csv']))"
   ]
  },
  {
   "cell_type": "code",
   "execution_count": 0,
   "metadata": {
    "colab": {},
    "colab_type": "code",
    "id": "F6Sf4827Lg58"
   },
   "outputs": [],
   "source": [
    "features = bank.drop('y', axis = 1)\n",
    "target = bank['y'].apply(lambda x: 1 if x == 'yes' else 0)"
   ]
  },
  {
   "cell_type": "code",
   "execution_count": 0,
   "metadata": {
    "colab": {},
    "colab_type": "code",
    "id": "F6ttKsmeLoPq"
   },
   "outputs": [],
   "source": [
    "## Splitting train and test set\n",
    "\n",
    "X_train, X_test, y_train, y_test = train_test_split(features, target, \n",
    "                                                    test_size = 0.3, random_state = 101)"
   ]
  },
  {
   "cell_type": "code",
   "execution_count": 0,
   "metadata": {
    "colab": {},
    "colab_type": "code",
    "id": "76cgy853Ly9d"
   },
   "outputs": [],
   "source": [
    "## Initiate the models\n",
    "log_reg = LogisticRegression(solver = 'saga', max_iter = 1000, class_weight = 'balanced')\n",
    "rfc = RandomForestClassifier(class_weight = 'balanced', max_depth = 6)\n",
    "xgb = XGBClassifier(scale_pos_weight = 7.75)"
   ]
  },
  {
   "cell_type": "markdown",
   "metadata": {
    "colab_type": "text",
    "id": "2BAhXdjTgI3o"
   },
   "source": [
    "## Hyperparameter Tuning for our models (logistic regression, RandomForestClassifier, and XGBClassifier)\n",
    "Ideally, the tuning should be done using gridsearch. However, since I do not think my laptop is strong enough for this big dataset, I will use RandomizedSearchCV instead -- I increase the iteration into 15 times for each model. The best model will be used further."
   ]
  },
  {
   "cell_type": "code",
   "execution_count": 0,
   "metadata": {
    "colab": {},
    "colab_type": "code",
    "id": "egIpJijLL5zh"
   },
   "outputs": [],
   "source": [
    "# Hyperparameter Tuning\n",
    "# Logistic Regression\n",
    "\n",
    "max_iter = [1000, 1500, 2000, 3000]\n",
    "penalty = ['l1', 'l2', 'elasticnet']\n",
    "C = [0.01, 0.1, 1, 10,]\n",
    "\n",
    "log_reg_param = {\n",
    "                 'max_iter': max_iter,\n",
    "                 'penalty': penalty,\n",
    "                 'C': C}"
   ]
  },
  {
   "cell_type": "code",
   "execution_count": 0,
   "metadata": {
    "colab": {},
    "colab_type": "code",
    "id": "4bSU2fmENUYh"
   },
   "outputs": [],
   "source": [
    "\n",
    "log_random= RandomizedSearchCV(estimator = log_reg,\n",
    "                              param_distributions = log_reg_param,\n",
    "                              n_iter = 15, cv =5, n_jobs = -1, scoring = 'f1')"
   ]
  },
  {
   "cell_type": "code",
   "execution_count": 0,
   "metadata": {
    "colab": {},
    "colab_type": "code",
    "id": "E9ht1rJ7NfyN"
   },
   "outputs": [],
   "source": [
    "scaler = StandardScaler()"
   ]
  },
  {
   "cell_type": "code",
   "execution_count": 0,
   "metadata": {
    "colab": {},
    "colab_type": "code",
    "id": "TcaGKKJhNjnF"
   },
   "outputs": [],
   "source": [
    "X_trainscale = scaler.fit_transform(X_train)\n",
    "X_testscale = scaler.transform(X_test)"
   ]
  },
  {
   "cell_type": "code",
   "execution_count": 20,
   "metadata": {
    "colab": {
     "base_uri": "https://localhost:8080/",
     "height": 290
    },
    "colab_type": "code",
    "id": "Y6qGMz1WO05v",
    "outputId": "994b8e99-9647-4bd0-dd6a-5e1aeb5b4f5f"
   },
   "outputs": [
    {
     "data": {
      "text/plain": [
       "RandomizedSearchCV(cv=5, error_score=nan,\n",
       "                   estimator=LogisticRegression(C=1.0, class_weight='balanced',\n",
       "                                                dual=False, fit_intercept=True,\n",
       "                                                intercept_scaling=1,\n",
       "                                                l1_ratio=None, max_iter=1000,\n",
       "                                                multi_class='auto', n_jobs=None,\n",
       "                                                penalty='l2', random_state=None,\n",
       "                                                solver='saga', tol=0.0001,\n",
       "                                                verbose=0, warm_start=False),\n",
       "                   iid='deprecated', n_iter=15, n_jobs=-1,\n",
       "                   param_distributions={'C': [0.01, 0.1, 1, 10],\n",
       "                                        'max_iter': [1000, 1500, 2000, 3000],\n",
       "                                        'penalty': ['l1', 'l2', 'elasticnet']},\n",
       "                   pre_dispatch='2*n_jobs', random_state=None, refit=True,\n",
       "                   return_train_score=False, scoring='f1', verbose=0)"
      ]
     },
     "execution_count": 20,
     "metadata": {
      "tags": []
     },
     "output_type": "execute_result"
    }
   ],
   "source": [
    "log_random.fit(X_trainscale, y_train)"
   ]
  },
  {
   "cell_type": "code",
   "execution_count": 21,
   "metadata": {
    "colab": {
     "base_uri": "https://localhost:8080/",
     "height": 35
    },
    "colab_type": "code",
    "id": "uHHxrZTVO5_0",
    "outputId": "26aaf373-887c-4a30-ffd4-f50bafe8c32a"
   },
   "outputs": [
    {
     "data": {
      "text/plain": [
       "{'C': 10, 'max_iter': 3000, 'penalty': 'l1'}"
      ]
     },
     "execution_count": 21,
     "metadata": {
      "tags": []
     },
     "output_type": "execute_result"
    }
   ],
   "source": [
    "log_random.best_params_"
   ]
  },
  {
   "cell_type": "code",
   "execution_count": 22,
   "metadata": {
    "colab": {
     "base_uri": "https://localhost:8080/",
     "height": 35
    },
    "colab_type": "code",
    "id": "RCS4jet2PDdr",
    "outputId": "91f24d5d-18e2-4b63-b4b6-402af811b439"
   },
   "outputs": [
    {
     "data": {
      "text/plain": [
       "0.4276756477012569"
      ]
     },
     "execution_count": 22,
     "metadata": {
      "tags": []
     },
     "output_type": "execute_result"
    }
   ],
   "source": [
    "log_random.best_score_"
   ]
  },
  {
   "cell_type": "code",
   "execution_count": 0,
   "metadata": {
    "colab": {},
    "colab_type": "code",
    "id": "J3LLgaF5PG30"
   },
   "outputs": [],
   "source": [
    "#predicting the train set\n",
    "log_pred_train = log_random.predict(X_trainscale)"
   ]
  },
  {
   "cell_type": "code",
   "execution_count": 24,
   "metadata": {
    "colab": {
     "base_uri": "https://localhost:8080/",
     "height": 35
    },
    "colab_type": "code",
    "id": "fNG4jYN7PkNq",
    "outputId": "df4ed18a-efdd-48d0-8527-17abb3919d75"
   },
   "outputs": [
    {
     "data": {
      "text/plain": [
       "0.4279979413278435"
      ]
     },
     "execution_count": 24,
     "metadata": {
      "tags": []
     },
     "output_type": "execute_result"
    }
   ],
   "source": [
    "f1_score(y_train, log_pred_train)"
   ]
  },
  {
   "cell_type": "code",
   "execution_count": 25,
   "metadata": {
    "colab": {
     "base_uri": "https://localhost:8080/",
     "height": 181
    },
    "colab_type": "code",
    "id": "B98Hpxf_Pn2G",
    "outputId": "b6ab9517-5a55-486e-da36-e77ec9d0bc20"
   },
   "outputs": [
    {
     "name": "stdout",
     "output_type": "stream",
     "text": [
      "              precision    recall  f1-score   support\n",
      "\n",
      "           0       0.95      0.83      0.88     25476\n",
      "           1       0.32      0.63      0.43      3284\n",
      "\n",
      "    accuracy                           0.81     28760\n",
      "   macro avg       0.63      0.73      0.66     28760\n",
      "weighted avg       0.87      0.81      0.83     28760\n",
      "\n"
     ]
    }
   ],
   "source": [
    "print(classification_report(y_train, log_pred_train))"
   ]
  },
  {
   "cell_type": "code",
   "execution_count": 26,
   "metadata": {
    "colab": {
     "base_uri": "https://localhost:8080/",
     "height": 54
    },
    "colab_type": "code",
    "id": "55VS_nlcPrZg",
    "outputId": "98ad0bb3-9c07-42bf-862f-ba8323281f2e"
   },
   "outputs": [
    {
     "name": "stdout",
     "output_type": "stream",
     "text": [
      "[[21124  4352]\n",
      " [ 1205  2079]]\n"
     ]
    }
   ],
   "source": [
    "print(confusion_matrix(y_train, log_pred_train))"
   ]
  },
  {
   "cell_type": "code",
   "execution_count": 0,
   "metadata": {
    "colab": {},
    "colab_type": "code",
    "id": "-JhtIUlTPusi"
   },
   "outputs": [],
   "source": [
    "# Now predicting the test set\n",
    "log_pred_test = log_random.predict(X_testscale)"
   ]
  },
  {
   "cell_type": "code",
   "execution_count": 28,
   "metadata": {
    "colab": {
     "base_uri": "https://localhost:8080/",
     "height": 35
    },
    "colab_type": "code",
    "id": "syKoo39sPyQ0",
    "outputId": "36d81bf6-33af-4990-c55c-98d76dd59cb8"
   },
   "outputs": [
    {
     "data": {
      "text/plain": [
       "0.422980431510286"
      ]
     },
     "execution_count": 28,
     "metadata": {
      "tags": []
     },
     "output_type": "execute_result"
    }
   ],
   "source": [
    "f1_score(y_test, log_pred_test)"
   ]
  },
  {
   "cell_type": "code",
   "execution_count": 29,
   "metadata": {
    "colab": {
     "base_uri": "https://localhost:8080/",
     "height": 54
    },
    "colab_type": "code",
    "id": "SBpzF_mFP0da",
    "outputId": "3159931a-aae9-4e26-f804-c17abbb4c2da"
   },
   "outputs": [
    {
     "name": "stdout",
     "output_type": "stream",
     "text": [
      "[[9184 1803]\n",
      " [ 497  843]]\n"
     ]
    }
   ],
   "source": [
    "print(confusion_matrix(y_test, log_pred_test))"
   ]
  },
  {
   "cell_type": "code",
   "execution_count": 30,
   "metadata": {
    "colab": {
     "base_uri": "https://localhost:8080/",
     "height": 181
    },
    "colab_type": "code",
    "id": "Be0NOfbPP2Sb",
    "outputId": "3fea4d60-4924-4f20-c59f-b232399b3e8d"
   },
   "outputs": [
    {
     "name": "stdout",
     "output_type": "stream",
     "text": [
      "              precision    recall  f1-score   support\n",
      "\n",
      "           0       0.95      0.84      0.89     10987\n",
      "           1       0.32      0.63      0.42      1340\n",
      "\n",
      "    accuracy                           0.81     12327\n",
      "   macro avg       0.63      0.73      0.66     12327\n",
      "weighted avg       0.88      0.81      0.84     12327\n",
      "\n"
     ]
    }
   ],
   "source": [
    "print(classification_report(y_test, log_pred_test))"
   ]
  },
  {
   "cell_type": "markdown",
   "metadata": {
    "colab_type": "text",
    "id": "hJe1u5rQg1Cc"
   },
   "source": [
    "The tuned logistic model yielded the exact same result as before tuning (the scores are exactly the same). We do not see any improvement from this process -- but this is probably caused by the process limitations in hyperparameter tuning (Randomized is faster, but probably can miss other better hyperparameter -- additionally, the options I put in the hyperparameter grid are probably not the best)"
   ]
  },
  {
   "cell_type": "code",
   "execution_count": 0,
   "metadata": {
    "colab": {},
    "colab_type": "code",
    "id": "vDtELfKIP44i"
   },
   "outputs": [],
   "source": [
    "## Hyperparameter tuning for RFC\n",
    "\n",
    "#number of trees in random forest\n",
    "n_estimators = [int(x) for x in np.linspace(start = 200, stop = 3000, num = 100)]\n",
    "\n",
    "#number of features to consider at every split\n",
    "max_features = ['auto', 'sqrt', 'log2']\n",
    "\n",
    "#criterion\n",
    "criterion = ['gini', 'entropy']\n",
    "\n",
    "#maximum number of levels in trees\n",
    "max_depth = [int(x) for x in np.linspace(10,110, num =20)]\n",
    "max_depth.append(None)\n",
    "\n",
    "#minimum number of samples required to split a node\n",
    "min_samples_split = [int(x) for x in np.linspace(start = 100, stop = 1000, num = 100)]\n",
    "\n",
    "#minimum number of samples required at each leaf node\n",
    "min_samples_leaf = [int(x) for x in np.linspace(1,11,num = 10)]\n",
    "\n",
    "#method of selecting samples for training each tree\n",
    "bootstrap = [True, False]\n",
    "\n",
    "#create the random grid\n",
    "random_grid = {'n_estimators': n_estimators,\n",
    "               'criterion': criterion,\n",
    "              'max_features': max_features,\n",
    "              'max_depth': max_depth,\n",
    "              'min_samples_split': min_samples_split,\n",
    "              'min_samples_leaf': min_samples_leaf,\n",
    "              'bootstrap': bootstrap}"
   ]
  },
  {
   "cell_type": "code",
   "execution_count": 0,
   "metadata": {
    "colab": {},
    "colab_type": "code",
    "id": "h5daRH88QKvK"
   },
   "outputs": [],
   "source": [
    "rf_random = RandomizedSearchCV(estimator = rfc,\n",
    "                              param_distributions = random_grid,\n",
    "                              n_iter = 15, cv =5, n_jobs = -1, scoring = 'f1')"
   ]
  },
  {
   "cell_type": "code",
   "execution_count": 36,
   "metadata": {
    "colab": {
     "base_uri": "https://localhost:8080/",
     "height": 654
    },
    "colab_type": "code",
    "id": "cSjw11NNQPIC",
    "outputId": "c8f4bce2-1e42-45ba-de62-ff6b305c90f1"
   },
   "outputs": [
    {
     "data": {
      "text/plain": [
       "RandomizedSearchCV(cv=5, error_score=nan,\n",
       "                   estimator=RandomForestClassifier(bootstrap=True,\n",
       "                                                    ccp_alpha=0.0,\n",
       "                                                    class_weight='balanced',\n",
       "                                                    criterion='gini',\n",
       "                                                    max_depth=6,\n",
       "                                                    max_features='auto',\n",
       "                                                    max_leaf_nodes=None,\n",
       "                                                    max_samples=None,\n",
       "                                                    min_impurity_decrease=0.0,\n",
       "                                                    min_impurity_split=None,\n",
       "                                                    min_samples_leaf=1,\n",
       "                                                    min_samples_split=2,\n",
       "                                                    min_weight_fraction_leaf=0.0,\n",
       "                                                    n_estimators=100,\n",
       "                                                    n_j...\n",
       "                                                              127, 136, 145,\n",
       "                                                              154, 163, 172,\n",
       "                                                              181, 190, 200,\n",
       "                                                              209, 218, 227,\n",
       "                                                              236, 245, 254,\n",
       "                                                              263, 272, 281,\n",
       "                                                              290, 300, 309,\n",
       "                                                              318, 327, 336,\n",
       "                                                              345, 354, 363, ...],\n",
       "                                        'n_estimators': [200, 228, 256, 284,\n",
       "                                                         313, 341, 369, 397,\n",
       "                                                         426, 454, 482, 511,\n",
       "                                                         539, 567, 595, 624,\n",
       "                                                         652, 680, 709, 737,\n",
       "                                                         765, 793, 822, 850,\n",
       "                                                         878, 907, 935, 963,\n",
       "                                                         991, 1020, ...]},\n",
       "                   pre_dispatch='2*n_jobs', random_state=None, refit=True,\n",
       "                   return_train_score=False, scoring='f1', verbose=0)"
      ]
     },
     "execution_count": 36,
     "metadata": {
      "tags": []
     },
     "output_type": "execute_result"
    }
   ],
   "source": [
    "rf_random"
   ]
  },
  {
   "cell_type": "code",
   "execution_count": 37,
   "metadata": {
    "colab": {
     "base_uri": "https://localhost:8080/",
     "height": 710
    },
    "colab_type": "code",
    "id": "370w_x-RQQB1",
    "outputId": "2636d202-717d-4346-a7fe-87e68129ee49"
   },
   "outputs": [
    {
     "name": "stderr",
     "output_type": "stream",
     "text": [
      "/usr/local/lib/python3.6/dist-packages/joblib/externals/loky/process_executor.py:706: UserWarning: A worker stopped while some jobs were given to the executor. This can be caused by a too short worker timeout or by a memory leak.\n",
      "  \"timeout or by a memory leak.\", UserWarning\n"
     ]
    },
    {
     "data": {
      "text/plain": [
       "RandomizedSearchCV(cv=5, error_score=nan,\n",
       "                   estimator=RandomForestClassifier(bootstrap=True,\n",
       "                                                    ccp_alpha=0.0,\n",
       "                                                    class_weight='balanced',\n",
       "                                                    criterion='gini',\n",
       "                                                    max_depth=6,\n",
       "                                                    max_features='auto',\n",
       "                                                    max_leaf_nodes=None,\n",
       "                                                    max_samples=None,\n",
       "                                                    min_impurity_decrease=0.0,\n",
       "                                                    min_impurity_split=None,\n",
       "                                                    min_samples_leaf=1,\n",
       "                                                    min_samples_split=2,\n",
       "                                                    min_weight_fraction_leaf=0.0,\n",
       "                                                    n_estimators=100,\n",
       "                                                    n_j...\n",
       "                                                              127, 136, 145,\n",
       "                                                              154, 163, 172,\n",
       "                                                              181, 190, 200,\n",
       "                                                              209, 218, 227,\n",
       "                                                              236, 245, 254,\n",
       "                                                              263, 272, 281,\n",
       "                                                              290, 300, 309,\n",
       "                                                              318, 327, 336,\n",
       "                                                              345, 354, 363, ...],\n",
       "                                        'n_estimators': [200, 228, 256, 284,\n",
       "                                                         313, 341, 369, 397,\n",
       "                                                         426, 454, 482, 511,\n",
       "                                                         539, 567, 595, 624,\n",
       "                                                         652, 680, 709, 737,\n",
       "                                                         765, 793, 822, 850,\n",
       "                                                         878, 907, 935, 963,\n",
       "                                                         991, 1020, ...]},\n",
       "                   pre_dispatch='2*n_jobs', random_state=None, refit=True,\n",
       "                   return_train_score=False, scoring='f1', verbose=0)"
      ]
     },
     "execution_count": 37,
     "metadata": {
      "tags": []
     },
     "output_type": "execute_result"
    }
   ],
   "source": [
    "rf_random.fit(X_train, y_train)"
   ]
  },
  {
   "cell_type": "code",
   "execution_count": 38,
   "metadata": {
    "colab": {
     "base_uri": "https://localhost:8080/",
     "height": 145
    },
    "colab_type": "code",
    "id": "L7WRGvgNQ1pL",
    "outputId": "92fdf37c-96b6-4b83-a630-55b23de2cf17"
   },
   "outputs": [
    {
     "data": {
      "text/plain": [
       "{'bootstrap': True,\n",
       " 'criterion': 'entropy',\n",
       " 'max_depth': 57,\n",
       " 'max_features': 'log2',\n",
       " 'min_samples_leaf': 1,\n",
       " 'min_samples_split': 209,\n",
       " 'n_estimators': 2462}"
      ]
     },
     "execution_count": 38,
     "metadata": {
      "tags": []
     },
     "output_type": "execute_result"
    }
   ],
   "source": [
    "rf_random.best_params_"
   ]
  },
  {
   "cell_type": "code",
   "execution_count": 39,
   "metadata": {
    "colab": {
     "base_uri": "https://localhost:8080/",
     "height": 35
    },
    "colab_type": "code",
    "id": "mLZbqkDDVcSQ",
    "outputId": "9fa69d47-73e8-4f84-ae8f-800c749dab00"
   },
   "outputs": [
    {
     "data": {
      "text/plain": [
       "0.479871677912268"
      ]
     },
     "execution_count": 39,
     "metadata": {
      "tags": []
     },
     "output_type": "execute_result"
    }
   ],
   "source": [
    "rf_random.best_score_"
   ]
  },
  {
   "cell_type": "code",
   "execution_count": 0,
   "metadata": {
    "colab": {},
    "colab_type": "code",
    "id": "5CAtNW0fVeaB"
   },
   "outputs": [],
   "source": [
    "# try to predict the train set\n",
    "\n",
    "rf_train_ori = rf_random.predict(X_train)"
   ]
  },
  {
   "cell_type": "code",
   "execution_count": 41,
   "metadata": {
    "colab": {
     "base_uri": "https://localhost:8080/",
     "height": 35
    },
    "colab_type": "code",
    "id": "CLw7Ngr6VhdV",
    "outputId": "0bd90d7b-13f3-46d6-d725-ac0582f94668"
   },
   "outputs": [
    {
     "data": {
      "text/plain": [
       "0.49970797803994854"
      ]
     },
     "execution_count": 41,
     "metadata": {
      "tags": []
     },
     "output_type": "execute_result"
    }
   ],
   "source": [
    "f1_score(y_train, rf_train_ori)"
   ]
  },
  {
   "cell_type": "code",
   "execution_count": 42,
   "metadata": {
    "colab": {
     "base_uri": "https://localhost:8080/",
     "height": 181
    },
    "colab_type": "code",
    "id": "3pF70EEjVjZm",
    "outputId": "f749a7e8-93e8-4a18-eceb-5e2d556d4198"
   },
   "outputs": [
    {
     "name": "stdout",
     "output_type": "stream",
     "text": [
      "              precision    recall  f1-score   support\n",
      "\n",
      "           0       0.95      0.88      0.91     25476\n",
      "           1       0.41      0.65      0.50      3284\n",
      "\n",
      "    accuracy                           0.85     28760\n",
      "   macro avg       0.68      0.76      0.71     28760\n",
      "weighted avg       0.89      0.85      0.87     28760\n",
      "\n"
     ]
    }
   ],
   "source": [
    "print(classification_report(y_train, rf_train_ori))"
   ]
  },
  {
   "cell_type": "code",
   "execution_count": 0,
   "metadata": {
    "colab": {},
    "colab_type": "code",
    "id": "8b9A43MvVlvD"
   },
   "outputs": [],
   "source": [
    "# Predicting the test set\n",
    "\n",
    "rf_test_ori = rf_random.predict(X_test)"
   ]
  },
  {
   "cell_type": "code",
   "execution_count": 44,
   "metadata": {
    "colab": {
     "base_uri": "https://localhost:8080/",
     "height": 35
    },
    "colab_type": "code",
    "id": "v8W7UZYDVnv-",
    "outputId": "79c451b5-42ac-447e-f19d-b629deba572c"
   },
   "outputs": [
    {
     "data": {
      "text/plain": [
       "0.47305728871242203"
      ]
     },
     "execution_count": 44,
     "metadata": {
      "tags": []
     },
     "output_type": "execute_result"
    }
   ],
   "source": [
    "f1_score(y_test, rf_test_ori)"
   ]
  },
  {
   "cell_type": "code",
   "execution_count": 45,
   "metadata": {
    "colab": {
     "base_uri": "https://localhost:8080/",
     "height": 54
    },
    "colab_type": "code",
    "id": "DWcXwEd7Vpk8",
    "outputId": "9462b206-3fc4-4f6b-86e4-8d50f2d25530"
   },
   "outputs": [
    {
     "name": "stdout",
     "output_type": "stream",
     "text": [
      "[[9635 1352]\n",
      " [ 506  834]]\n"
     ]
    }
   ],
   "source": [
    "print(confusion_matrix(y_test, rf_test_ori))"
   ]
  },
  {
   "cell_type": "code",
   "execution_count": 46,
   "metadata": {
    "colab": {
     "base_uri": "https://localhost:8080/",
     "height": 181
    },
    "colab_type": "code",
    "id": "Tw-isNOdVrqz",
    "outputId": "833b342a-10f2-4427-c44f-8bd3c8296348"
   },
   "outputs": [
    {
     "name": "stdout",
     "output_type": "stream",
     "text": [
      "              precision    recall  f1-score   support\n",
      "\n",
      "           0       0.95      0.88      0.91     10987\n",
      "           1       0.38      0.62      0.47      1340\n",
      "\n",
      "    accuracy                           0.85     12327\n",
      "   macro avg       0.67      0.75      0.69     12327\n",
      "weighted avg       0.89      0.85      0.86     12327\n",
      "\n"
     ]
    }
   ],
   "source": [
    "print(classification_report(y_test, rf_test_ori))"
   ]
  },
  {
   "cell_type": "markdown",
   "metadata": {
    "colab_type": "text",
    "id": "3MzaMUsvkkRW"
   },
   "source": [
    "Compared with the model without tuning, this tuned model is performing better -- although the number of True Positives is not increased (it is decreased 8 cases, which is a misclassification into False Negative, which is increased by 8 cases), but the number of false positives decreased by 149 cases. The number of True Negatives are also increasing 149 cases. Again, compared with logistic regression, RFC performed better in terms of the test scores."
   ]
  },
  {
   "cell_type": "code",
   "execution_count": 0,
   "metadata": {
    "colab": {},
    "colab_type": "code",
    "id": "raL4QGFiV3gZ"
   },
   "outputs": [],
   "source": [
    "# hyperparameter tuning for xgb first\n",
    "\n",
    "param_learning = (0.05, 0.1, 0.3, 0.5, 0.8)\n",
    "param_estimator = (100, 300, 500, 1000, 1500, 2000, 2500, 3000)\n",
    "max_depth = (4, 6, 10, 15, 20)\n",
    "\n",
    "xgbparam_grid = {'learning_rate': param_learning, 'n_estimators':param_estimator,\n",
    "'max_depth' : max_depth}"
   ]
  },
  {
   "cell_type": "code",
   "execution_count": 0,
   "metadata": {
    "colab": {},
    "colab_type": "code",
    "id": "E2rV77r5WJdJ"
   },
   "outputs": [],
   "source": [
    "xgb_random = RandomizedSearchCV(estimator = xgb,\n",
    "                              param_distributions = xgbparam_grid,\n",
    "                              n_iter = 15, cv =5, n_jobs = -1, scoring = 'f1')"
   ]
  },
  {
   "cell_type": "code",
   "execution_count": 49,
   "metadata": {
    "colab": {
     "base_uri": "https://localhost:8080/",
     "height": 435
    },
    "colab_type": "code",
    "id": "0ZWGa98TWQrm",
    "outputId": "4ca22677-dd15-4158-be70-f71b5c2a6032"
   },
   "outputs": [
    {
     "data": {
      "text/plain": [
       "RandomizedSearchCV(cv=5, error_score=nan,\n",
       "                   estimator=XGBClassifier(base_score=0.5, booster='gbtree',\n",
       "                                           colsample_bylevel=1,\n",
       "                                           colsample_bynode=1,\n",
       "                                           colsample_bytree=1, gamma=0,\n",
       "                                           learning_rate=0.1, max_delta_step=0,\n",
       "                                           max_depth=3, min_child_weight=1,\n",
       "                                           missing=None, n_estimators=100,\n",
       "                                           n_jobs=1, nthread=None,\n",
       "                                           objective='binary:logistic',\n",
       "                                           random_state=0, reg_alpha=0,\n",
       "                                           reg_lambda=1, scale_pos_weight=7.75,\n",
       "                                           seed=None, silent=None, subsample=1,\n",
       "                                           verbosity=1),\n",
       "                   iid='deprecated', n_iter=15, n_jobs=-1,\n",
       "                   param_distributions={'learning_rate': (0.05, 0.1, 0.3, 0.5,\n",
       "                                                          0.8),\n",
       "                                        'max_depth': (4, 6, 10, 15, 20),\n",
       "                                        'n_estimators': (100, 300, 500, 1000,\n",
       "                                                         1500, 2000, 2500,\n",
       "                                                         3000)},\n",
       "                   pre_dispatch='2*n_jobs', random_state=None, refit=True,\n",
       "                   return_train_score=False, scoring='f1', verbose=0)"
      ]
     },
     "execution_count": 49,
     "metadata": {
      "tags": []
     },
     "output_type": "execute_result"
    }
   ],
   "source": [
    "#fitting into original dataset first\n",
    "xgb_random.fit(X_train, y_train)"
   ]
  },
  {
   "cell_type": "code",
   "execution_count": 51,
   "metadata": {
    "colab": {
     "base_uri": "https://localhost:8080/",
     "height": 35
    },
    "colab_type": "code",
    "id": "9O_LsIc4WSQ4",
    "outputId": "f254bfa3-6c72-46df-c8cf-f6dc9b29457d"
   },
   "outputs": [
    {
     "data": {
      "text/plain": [
       "0.4435639413673882"
      ]
     },
     "execution_count": 51,
     "metadata": {
      "tags": []
     },
     "output_type": "execute_result"
    }
   ],
   "source": [
    "xgb_random.best_score_"
   ]
  },
  {
   "cell_type": "code",
   "execution_count": 52,
   "metadata": {
    "colab": {
     "base_uri": "https://localhost:8080/",
     "height": 35
    },
    "colab_type": "code",
    "id": "YVR1bqE2WV7o",
    "outputId": "ecfed5c5-4de7-4faf-9f50-fc9edd350537"
   },
   "outputs": [
    {
     "data": {
      "text/plain": [
       "{'learning_rate': 0.3, 'max_depth': 6, 'n_estimators': 100}"
      ]
     },
     "execution_count": 52,
     "metadata": {
      "tags": []
     },
     "output_type": "execute_result"
    }
   ],
   "source": [
    "xgb_random.best_params_"
   ]
  },
  {
   "cell_type": "code",
   "execution_count": 0,
   "metadata": {
    "colab": {},
    "colab_type": "code",
    "id": "wPNn1oKRWYLN"
   },
   "outputs": [],
   "source": [
    "# try to predict the train set\n",
    "\n",
    "xgb_train_ori = xgb_random.predict(X_train)"
   ]
  },
  {
   "cell_type": "code",
   "execution_count": 54,
   "metadata": {
    "colab": {
     "base_uri": "https://localhost:8080/",
     "height": 35
    },
    "colab_type": "code",
    "id": "WbNYBVlgWaVn",
    "outputId": "d224ba87-66aa-4966-fd1a-802813cd2ef2"
   },
   "outputs": [
    {
     "data": {
      "text/plain": [
       "0.6205200281096275"
      ]
     },
     "execution_count": 54,
     "metadata": {
      "tags": []
     },
     "output_type": "execute_result"
    }
   ],
   "source": [
    "f1_score(y_train, xgb_train_ori)"
   ]
  },
  {
   "cell_type": "code",
   "execution_count": 55,
   "metadata": {
    "colab": {
     "base_uri": "https://localhost:8080/",
     "height": 181
    },
    "colab_type": "code",
    "id": "LYFJ-acwWccV",
    "outputId": "3280939c-5630-4737-97a1-63921a69d7f2"
   },
   "outputs": [
    {
     "name": "stdout",
     "output_type": "stream",
     "text": [
      "              precision    recall  f1-score   support\n",
      "\n",
      "           0       0.97      0.90      0.93     25476\n",
      "           1       0.50      0.81      0.62      3284\n",
      "\n",
      "    accuracy                           0.89     28760\n",
      "   macro avg       0.74      0.85      0.78     28760\n",
      "weighted avg       0.92      0.89      0.90     28760\n",
      "\n"
     ]
    }
   ],
   "source": [
    "print(classification_report(y_train, xgb_train_ori))"
   ]
  },
  {
   "cell_type": "code",
   "execution_count": 0,
   "metadata": {
    "colab": {},
    "colab_type": "code",
    "id": "4Q7R3B9fWetl"
   },
   "outputs": [],
   "source": [
    "# Predicting the test set\n",
    "\n",
    "xgb_test_ori = xgb_random.predict(X_test)"
   ]
  },
  {
   "cell_type": "code",
   "execution_count": 57,
   "metadata": {
    "colab": {
     "base_uri": "https://localhost:8080/",
     "height": 35
    },
    "colab_type": "code",
    "id": "qAylFp-_Wg6X",
    "outputId": "4423ed69-acd1-4235-f974-60ce8c732ca9"
   },
   "outputs": [
    {
     "data": {
      "text/plain": [
       "0.43465827852444955"
      ]
     },
     "execution_count": 57,
     "metadata": {
      "tags": []
     },
     "output_type": "execute_result"
    }
   ],
   "source": [
    "f1_score(y_test, xgb_test_ori)"
   ]
  },
  {
   "cell_type": "code",
   "execution_count": 58,
   "metadata": {
    "colab": {
     "base_uri": "https://localhost:8080/",
     "height": 54
    },
    "colab_type": "code",
    "id": "3uMu_13IWi-g",
    "outputId": "743658ea-ec0f-4c52-acaa-b155ba161609"
   },
   "outputs": [
    {
     "name": "stdout",
     "output_type": "stream",
     "text": [
      "[[9590 1397]\n",
      " [ 580  760]]\n"
     ]
    }
   ],
   "source": [
    "print(confusion_matrix(y_test, xgb_test_ori))"
   ]
  },
  {
   "cell_type": "code",
   "execution_count": 59,
   "metadata": {
    "colab": {
     "base_uri": "https://localhost:8080/",
     "height": 181
    },
    "colab_type": "code",
    "id": "3xn7p6_cWk3U",
    "outputId": "7ac9373e-30b8-4357-bd46-eac19103cc75"
   },
   "outputs": [
    {
     "name": "stdout",
     "output_type": "stream",
     "text": [
      "              precision    recall  f1-score   support\n",
      "\n",
      "           0       0.94      0.87      0.91     10987\n",
      "           1       0.35      0.57      0.43      1340\n",
      "\n",
      "    accuracy                           0.84     12327\n",
      "   macro avg       0.65      0.72      0.67     12327\n",
      "weighted avg       0.88      0.84      0.86     12327\n",
      "\n"
     ]
    }
   ],
   "source": [
    "print(classification_report(y_test, xgb_test_ori))"
   ]
  },
  {
   "cell_type": "markdown",
   "metadata": {
    "colab_type": "text",
    "id": "7r3ETXb6toiy"
   },
   "source": [
    "Here we see the same pattern as in logreg model -- there is no performance improvement for xgb after hyperparameter tuning. All the scores are the same as before tuning. "
   ]
  },
  {
   "cell_type": "markdown",
   "metadata": {
    "colab_type": "text",
    "id": "yF0IaOCot-di"
   },
   "source": [
    "Therefore, for now I will continue the modelling only using RFC model, with the tuned parameter."
   ]
  },
  {
   "cell_type": "code",
   "execution_count": 0,
   "metadata": {
    "colab": {},
    "colab_type": "code",
    "id": "ft5QEU4xWmtI"
   },
   "outputs": [],
   "source": [
    "rfc = RandomForestClassifier(bootstrap = True, criterion = 'entropy', max_depth =  57, max_features = 'log2', min_samples_leaf =  1,\n",
    "                             min_samples_split =  209, n_estimators = 2462, class_weight = 'balanced')"
   ]
  },
  {
   "cell_type": "code",
   "execution_count": 61,
   "metadata": {
    "colab": {
     "base_uri": "https://localhost:8080/",
     "height": 163
    },
    "colab_type": "code",
    "id": "Tm5VONk7uphY",
    "outputId": "186e4e41-24db-4c6f-be37-15b0eb7ec2c9"
   },
   "outputs": [
    {
     "data": {
      "text/plain": [
       "RandomForestClassifier(bootstrap=True, ccp_alpha=0.0, class_weight='balanced',\n",
       "                       criterion='entropy', max_depth=57, max_features='log2',\n",
       "                       max_leaf_nodes=None, max_samples=None,\n",
       "                       min_impurity_decrease=0.0, min_impurity_split=None,\n",
       "                       min_samples_leaf=1, min_samples_split=209,\n",
       "                       min_weight_fraction_leaf=0.0, n_estimators=2462,\n",
       "                       n_jobs=None, oob_score=False, random_state=None,\n",
       "                       verbose=0, warm_start=False)"
      ]
     },
     "execution_count": 61,
     "metadata": {
      "tags": []
     },
     "output_type": "execute_result"
    }
   ],
   "source": [
    "rfc.fit(X_train, y_train)"
   ]
  },
  {
   "cell_type": "code",
   "execution_count": 62,
   "metadata": {
    "colab": {
     "base_uri": "https://localhost:8080/",
     "height": 501
    },
    "colab_type": "code",
    "id": "nk5YrNzAuzsN",
    "outputId": "b6aa438e-e489-448a-c25b-702acb074bad"
   },
   "outputs": [
    {
     "data": {
      "text/plain": [
       "<matplotlib.axes._subplots.AxesSubplot at 0x7fe7d07a4f60>"
      ]
     },
     "execution_count": 62,
     "metadata": {
      "tags": []
     },
     "output_type": "execute_result"
    },
    {
     "data": {
      "image/png": "[encoded data removed]",
      "text/plain": [
       "<Figure size 864x576 with 1 Axes>"
      ]
     },
     "metadata": {
      "needs_background": "light",
      "tags": []
     },
     "output_type": "display_data"
    }
   ],
   "source": [
    "## let's see the feature importance\n",
    "## Plotting based on the rfc default feature importance\n",
    "plt.figure(figsize=(12,8))\n",
    "importance=pd.Series(rfc.feature_importances_,index=X_train.columns).sort_values(ascending=False)\n",
    "\n",
    "sns.barplot(x=importance,y=importance.index)"
   ]
  },
  {
   "cell_type": "markdown",
   "metadata": {
    "colab_type": "text",
    "id": "p5fwyVCNy3M6"
   },
   "source": [
    "\n",
    "In RFC, the socio-economic features are considered really important (in the top 5), with the most important is the euribor3m. In this bar-plot, the information is telling us about which features are considered important in descending order --  however there is no information about how the features are influencing the target. Therefore I also use the sm Logit function (based from logistic regression) to see descriptively which features are significant in influencing the target and whether they are positive or negative influences to the target."
   ]
  },
  {
   "cell_type": "code",
   "execution_count": 63,
   "metadata": {
    "colab": {
     "base_uri": "https://localhost:8080/",
     "height": 1000
    },
    "colab_type": "code",
    "id": "fhE8na3Au--d",
    "outputId": "45b6d324-72ea-4105-8851-13dbb8e9a466"
   },
   "outputs": [
    {
     "name": "stdout",
     "output_type": "stream",
     "text": [
      "Optimization terminated successfully.\n",
      "         Current function value: 0.285803\n",
      "         Iterations: 256\n",
      "         Function evaluations: 261\n",
      "         Gradient evaluations: 261\n",
      "                           Results: Logit\n",
      "=====================================================================\n",
      "Model:                Logit             Pseudo R-squared:  0.195     \n",
      "Dependent Variable:   y                 AIC:               16517.3639\n",
      "Date:                 2020-04-12 09:35  BIC:               16839.7668\n",
      "No. Observations:     28760             Log-Likelihood:    -8219.7   \n",
      "Df Model:             38                LL-Null:           -10215.   \n",
      "Df Residuals:         28721             LLR p-value:       0.0000    \n",
      "Converged:            1.0000            Scale:             1.0000    \n",
      "---------------------------------------------------------------------\n",
      "                   Coef.   Std.Err.    z     P>|z|   [0.025   0.975] \n",
      "---------------------------------------------------------------------\n",
      "const             -47.6433   4.3608 -10.9255 0.0000 -56.1903 -39.0964\n",
      "age                 0.0023   0.0025   0.9548 0.3397  -0.0025   0.0072\n",
      "education           0.0105   0.0214   0.4882 0.6254  -0.0316   0.0525\n",
      "default             0.2721   0.0676   4.0226 0.0001   0.1395   0.4047\n",
      "campaign           -0.0461   0.0108  -4.2690 0.0000  -0.0672  -0.0249\n",
      "poutcome            0.3781   0.0368  10.2791 0.0000   0.3060   0.4502\n",
      "cons.price.idx      0.5235   0.0480  10.9132 0.0000   0.4294   0.6175\n",
      "cons.conf.idx       0.0478   0.0054   8.8259 0.0000   0.0372   0.0584\n",
      "euribor3m          -0.5289   0.0184 -28.7699 0.0000  -0.5650  -0.4929\n",
      "job_blue-collar    -0.2177   0.0760  -2.8644 0.0042  -0.3667  -0.0687\n",
      "job_entrepreneur   -0.1504   0.1285  -1.1707 0.2417  -0.4023   0.1014\n",
      "job_housemaid      -0.1250   0.1486  -0.8414 0.4001  -0.4163   0.1663\n",
      "job_management     -0.0266   0.0865  -0.3076 0.7584  -0.1962   0.1430\n",
      "job_retired         0.1740   0.1096   1.5875 0.1124  -0.0408   0.3887\n",
      "job_self-employed  -0.0274   0.1169  -0.2346 0.8145  -0.2565   0.2016\n",
      "job_services       -0.1991   0.0847  -2.3510 0.0187  -0.3651  -0.0331\n",
      "job_student         0.2950   0.1126   2.6206 0.0088   0.0744   0.5157\n",
      "job_technician     -0.0513   0.0646  -0.7940 0.4272  -0.1779   0.0753\n",
      "job_unemployed      0.0731   0.1289   0.5670 0.5707  -0.1796   0.3258\n",
      "job_unknown        -0.2675   0.2511  -1.0655 0.2866  -0.7596   0.2246\n",
      "marital_married     0.1474   0.0713   2.0675 0.0387   0.0077   0.2871\n",
      "marital_single      0.1830   0.0810   2.2599 0.0238   0.0243   0.3417\n",
      "housing_unknown    -0.1470   0.1399  -1.0508 0.2933  -0.4213   0.1272\n",
      "housing_yes        -0.0341   0.0421  -0.8101 0.4179  -0.1165   0.0484\n",
      "loan_yes           -0.0872   0.0590  -1.4775 0.1395  -0.2029   0.0285\n",
      "contact_telephone  -0.5015   0.0708  -7.0830 0.0000  -0.6403  -0.3627\n",
      "month_aug          -0.0539   0.1047  -0.5153 0.6064  -0.2591   0.1512\n",
      "month_dec           0.4266   0.2032   2.0998 0.0357   0.0284   0.8247\n",
      "month_jul           0.2463   0.0965   2.5536 0.0107   0.0573   0.4354\n",
      "month_jun           0.2010   0.0938   2.1436 0.0321   0.0172   0.3848\n",
      "month_mar           1.0356   0.1313   7.8863 0.0000   0.7783   1.2930\n",
      "month_may          -0.6327   0.0759  -8.3402 0.0000  -0.7814  -0.4840\n",
      "month_nov          -0.1712   0.1011  -1.6931 0.0904  -0.3693   0.0270\n",
      "month_oct           0.3173   0.1265   2.5083 0.0121   0.0694   0.5651\n",
      "month_sep          -0.0355   0.1365  -0.2602 0.7947  -0.3031   0.2321\n",
      "day_of_week_mon    -0.1442   0.0670  -2.1544 0.0312  -0.2755  -0.0130\n",
      "day_of_week_thu     0.0941   0.0649   1.4499 0.1471  -0.0331   0.2213\n",
      "day_of_week_tue     0.0695   0.0672   1.0340 0.3012  -0.0622   0.2011\n",
      "day_of_week_wed     0.1645   0.0667   2.4642 0.0137   0.0337   0.2953\n",
      "=====================================================================\n",
      "\n"
     ]
    }
   ],
   "source": [
    "## descriptive features using sm logit\n",
    "import statsmodels.api as sm\n",
    "\n",
    "logit_model = sm.Logit(y_train, sm.add_constant(X_train))\n",
    "result = logit_model.fit(method = 'bfgs', maxiter = 1000)\n",
    "print(result.summary2())"
   ]
  },
  {
   "cell_type": "markdown",
   "metadata": {
    "colab_type": "text",
    "id": "rxL0czh50ETc"
   },
   "source": [
    "Here we can see the features according to their significancies and their coefficient. This is the summary of significant features:\n",
    "\n",
    "Positive coefficient:\n",
    "default,\n",
    "poutcome,\n",
    "cons.price.idx,\n",
    "cons.conf.idx,\n",
    "job_student,\n",
    "marital_married,\n",
    "marital_single,\n",
    "month_dec,\n",
    "month_jul,\n",
    "month_jun,\n",
    "month_mar,\n",
    "month_oct,\n",
    "day_of_week_wed\n",
    "\n",
    "negative coefficient:\n",
    "campaign,\n",
    "euribor3m,\n",
    "job_blue-collar,\n",
    "job_services,\n",
    "contact_telephone,\n",
    "month_may,\n",
    "day_of_week_mon\n",
    "\n",
    "Some of the significant features here are overlapped with the top important features based on RFC. \n"
   ]
  },
  {
   "cell_type": "code",
   "execution_count": 0,
   "metadata": {
    "colab": {},
    "colab_type": "code",
    "id": "CxaoNzamvkvs"
   },
   "outputs": [],
   "source": [
    "#Here I tried to make a new dataframe including only significant features and top features (RFC)\n",
    "# Let's train this new dataframe with our tuned RFC model\n",
    "\n",
    "bank_sig = bank[['default', 'poutcome', 'cons.conf.idx', 'cons.price.idx', 'job_student', 'marital_married', 'marital_single', 'month_dec',\n",
    "                 'month_jul', 'month_jun', 'month_mar', 'month_oct', 'day_of_week_wed', 'campaign', 'age', 'euribor3m','job_blue-collar',\n",
    "                 'job_services', 'contact_telephone', 'month_may', 'day_of_week_mon', 'education']]"
   ]
  },
  {
   "cell_type": "code",
   "execution_count": 65,
   "metadata": {
    "colab": {
     "base_uri": "https://localhost:8080/",
     "height": 545
    },
    "colab_type": "code",
    "id": "OovnzKwp1764",
    "outputId": "3276dbcf-7ec4-46e6-e09d-6638fb18c620"
   },
   "outputs": [
    {
     "name": "stdout",
     "output_type": "stream",
     "text": [
      "<class 'pandas.core.frame.DataFrame'>\n",
      "RangeIndex: 41087 entries, 0 to 41086\n",
      "Data columns (total 22 columns):\n",
      " #   Column             Non-Null Count  Dtype  \n",
      "---  ------             --------------  -----  \n",
      " 0   default            41087 non-null  int64  \n",
      " 1   poutcome           41087 non-null  int64  \n",
      " 2   cons.conf.idx      41087 non-null  float64\n",
      " 3   cons.price.idx     41087 non-null  float64\n",
      " 4   job_student        41087 non-null  int64  \n",
      " 5   marital_married    41087 non-null  int64  \n",
      " 6   marital_single     41087 non-null  int64  \n",
      " 7   month_dec          41087 non-null  int64  \n",
      " 8   month_jul          41087 non-null  int64  \n",
      " 9   month_jun          41087 non-null  int64  \n",
      " 10  month_mar          41087 non-null  int64  \n",
      " 11  month_oct          41087 non-null  int64  \n",
      " 12  day_of_week_wed    41087 non-null  int64  \n",
      " 13  campaign           41087 non-null  int64  \n",
      " 14  age                41087 non-null  int64  \n",
      " 15  euribor3m          41087 non-null  float64\n",
      " 16  job_blue-collar    41087 non-null  int64  \n",
      " 17  job_services       41087 non-null  int64  \n",
      " 18  contact_telephone  41087 non-null  int64  \n",
      " 19  month_may          41087 non-null  int64  \n",
      " 20  day_of_week_mon    41087 non-null  int64  \n",
      " 21  education          41087 non-null  int64  \n",
      "dtypes: float64(3), int64(19)\n",
      "memory usage: 6.9 MB\n"
     ]
    }
   ],
   "source": [
    "bank_sig.info()"
   ]
  },
  {
   "cell_type": "code",
   "execution_count": 0,
   "metadata": {
    "colab": {},
    "colab_type": "code",
    "id": "xlQm0Hfc19eE"
   },
   "outputs": [],
   "source": [
    "## Splitting new dataset\n",
    "\n",
    "Xtr, Xts, ytr, yts = train_test_split(bank_sig, target, \n",
    "                                                    test_size = 0.3, random_state = 101)"
   ]
  },
  {
   "cell_type": "code",
   "execution_count": 67,
   "metadata": {
    "colab": {
     "base_uri": "https://localhost:8080/",
     "height": 163
    },
    "colab_type": "code",
    "id": "YerrNUvC2LWZ",
    "outputId": "b0d53361-abfd-43dc-f1bc-2ce582619763"
   },
   "outputs": [
    {
     "data": {
      "text/plain": [
       "RandomForestClassifier(bootstrap=True, ccp_alpha=0.0, class_weight='balanced',\n",
       "                       criterion='entropy', max_depth=57, max_features='log2',\n",
       "                       max_leaf_nodes=None, max_samples=None,\n",
       "                       min_impurity_decrease=0.0, min_impurity_split=None,\n",
       "                       min_samples_leaf=1, min_samples_split=209,\n",
       "                       min_weight_fraction_leaf=0.0, n_estimators=2462,\n",
       "                       n_jobs=None, oob_score=False, random_state=None,\n",
       "                       verbose=0, warm_start=False)"
      ]
     },
     "execution_count": 67,
     "metadata": {
      "tags": []
     },
     "output_type": "execute_result"
    }
   ],
   "source": [
    "rfc.fit(Xtr,ytr)"
   ]
  },
  {
   "cell_type": "code",
   "execution_count": 0,
   "metadata": {
    "colab": {},
    "colab_type": "code",
    "id": "ohJc4XP42OCd"
   },
   "outputs": [],
   "source": [
    "rfc_train = rfc.predict(Xtr)"
   ]
  },
  {
   "cell_type": "code",
   "execution_count": 69,
   "metadata": {
    "colab": {
     "base_uri": "https://localhost:8080/",
     "height": 54
    },
    "colab_type": "code",
    "id": "OZ-oPQn72cI6",
    "outputId": "fa4a80dc-4c44-4dba-f90a-4bfa12d2dbeb"
   },
   "outputs": [
    {
     "name": "stdout",
     "output_type": "stream",
     "text": [
      "[[22269  3207]\n",
      " [ 1146  2138]]\n"
     ]
    }
   ],
   "source": [
    "print(confusion_matrix(ytr,rfc_train))"
   ]
  },
  {
   "cell_type": "code",
   "execution_count": 70,
   "metadata": {
    "colab": {
     "base_uri": "https://localhost:8080/",
     "height": 181
    },
    "colab_type": "code",
    "id": "PHHUcHoE2fud",
    "outputId": "4afec4ea-6809-4242-ee91-cdb7c7800c2b"
   },
   "outputs": [
    {
     "name": "stdout",
     "output_type": "stream",
     "text": [
      "              precision    recall  f1-score   support\n",
      "\n",
      "           0       0.95      0.87      0.91     25476\n",
      "           1       0.40      0.65      0.50      3284\n",
      "\n",
      "    accuracy                           0.85     28760\n",
      "   macro avg       0.68      0.76      0.70     28760\n",
      "weighted avg       0.89      0.85      0.86     28760\n",
      "\n"
     ]
    }
   ],
   "source": [
    "print(classification_report(ytr,rfc_train))"
   ]
  },
  {
   "cell_type": "code",
   "execution_count": 0,
   "metadata": {
    "colab": {},
    "colab_type": "code",
    "id": "7jS7DnMJ2kj3"
   },
   "outputs": [],
   "source": [
    "rfc_prediction = rfc.predict(Xts)"
   ]
  },
  {
   "cell_type": "code",
   "execution_count": 72,
   "metadata": {
    "colab": {
     "base_uri": "https://localhost:8080/",
     "height": 54
    },
    "colab_type": "code",
    "id": "rIwJ4VJx2syh",
    "outputId": "edf53082-953b-485f-fecd-2e388b71a375"
   },
   "outputs": [
    {
     "name": "stdout",
     "output_type": "stream",
     "text": [
      "[[9617 1370]\n",
      " [ 502  838]]\n"
     ]
    }
   ],
   "source": [
    "print(confusion_matrix(yts,rfc_prediction))"
   ]
  },
  {
   "cell_type": "code",
   "execution_count": 73,
   "metadata": {
    "colab": {
     "base_uri": "https://localhost:8080/",
     "height": 181
    },
    "colab_type": "code",
    "id": "d_9fOo8J2vjy",
    "outputId": "9ff2aa61-e957-44c1-9b07-b6a5786de120"
   },
   "outputs": [
    {
     "name": "stdout",
     "output_type": "stream",
     "text": [
      "              precision    recall  f1-score   support\n",
      "\n",
      "           0       0.95      0.88      0.91     10987\n",
      "           1       0.38      0.63      0.47      1340\n",
      "\n",
      "    accuracy                           0.85     12327\n",
      "   macro avg       0.66      0.75      0.69     12327\n",
      "weighted avg       0.89      0.85      0.86     12327\n",
      "\n"
     ]
    }
   ],
   "source": [
    "print(classification_report(yts,rfc_prediction))"
   ]
  },
  {
   "cell_type": "markdown",
   "metadata": {
    "colab_type": "text",
    "id": "ZxhmowMx39Np"
   },
   "source": [
    "Turns out reducing the features did not really improve the performance of the model. It misclassifies about 18 cases of True Negative into False Positive, but also increase 4 cases of True Positives. \n",
    "Here I opt to use the original dataset."
   ]
  },
  {
   "cell_type": "markdown",
   "metadata": {
    "colab_type": "text",
    "id": "05EuX04f9I1V"
   },
   "source": [
    "## Model Stability"
   ]
  },
  {
   "cell_type": "code",
   "execution_count": 0,
   "metadata": {
    "colab": {},
    "colab_type": "code",
    "id": "usJVSlUx2ywU"
   },
   "outputs": [],
   "source": [
    "## KFold\n",
    "\n",
    "# Making metrics functions first\n",
    "\n",
    "def calc_train_error(X_train, y_train, model):\n",
    "    predictions = model.predict(X_train)\n",
    "    predictProba = model.predict_proba(X_train)\n",
    "    matt = matthews_corrcoef(y_train, predictions)\n",
    "    f1 = f1_score(y_train, predictions)\n",
    "    report = classification_report(y_train, predictions)\n",
    "    roc_auc = roc_auc_score(y_train, predictProba[:,1])\n",
    "    accuracy = accuracy_score(y_train, predictions)\n",
    "    confmatrix = confusion_matrix(y_train, predictions)\n",
    "    logloss = log_loss(y_train, predictProba)\n",
    "    return {\n",
    "        'report': report,\n",
    "        'matthew':matt,\n",
    "        'f1': f1,\n",
    "        'roc': roc_auc,\n",
    "        'accuracy': accuracy,\n",
    "        'confusion': confmatrix,\n",
    "        'logloss': logloss\n",
    "    }\n",
    "  \n",
    "def calc_validation_error(X_test, y_test, model):\n",
    "    predictions = model.predict(X_test)\n",
    "    predictProba = model.predict_proba(X_test)\n",
    "    matt = matthews_corrcoef(y_test, predictions)\n",
    "    f1 = f1_score(y_test, predictions)\n",
    "    report = classification_report(y_test, predictions)\n",
    "    roc_auc = roc_auc_score(y_test, predictProba[:,1])\n",
    "    accuracy = accuracy_score(y_test, predictions)\n",
    "    confmatrix = confusion_matrix(y_test, predictions)\n",
    "    logloss = log_loss(y_test, predictProba)\n",
    "    return {\n",
    "        'report': report,\n",
    "        'matthew':matt,\n",
    "        'f1': f1,\n",
    "        'roc': roc_auc,\n",
    "        'accuracy': accuracy,\n",
    "        'confusion': confmatrix,\n",
    "        'logloss': logloss\n",
    "    }\n",
    "\n",
    "def calc_metrics(X_train, y_train, X_test, y_test, model):\n",
    "    model.fit(X_train, y_train)\n",
    "    train_error = calc_train_error(X_train, y_train, model)\n",
    "    validation_error = calc_validation_error(X_test, y_test, model)\n",
    "    return train_error, validation_error"
   ]
  },
  {
   "cell_type": "code",
   "execution_count": 0,
   "metadata": {
    "colab": {},
    "colab_type": "code",
    "id": "DMJ5inll9RW3"
   },
   "outputs": [],
   "source": [
    "k = 5\n",
    "kf = KFold(n_splits = k, shuffle = True, random_state = 101)"
   ]
  },
  {
   "cell_type": "code",
   "execution_count": 0,
   "metadata": {
    "colab": {},
    "colab_type": "code",
    "id": "m10hIVrf9WMC"
   },
   "outputs": [],
   "source": [
    "train_errors = []\n",
    "valid_errors = []\n",
    "\n",
    "for train_index, val_index in kf.split(features,target):\n",
    "    \n",
    "    #split data\n",
    "    X_tr, X_val = features.iloc[train_index], features.iloc[val_index]\n",
    "    y_tr, y_val = target.iloc[train_index], target.iloc[val_index]\n",
    "    \n",
    "    #instantiate model -- taking the one with the best hyperparameter according to the randomsearch\n",
    "    rfc = RandomForestClassifier(bootstrap = True, criterion = 'entropy', max_depth =  57, max_features = 'log2', min_samples_leaf =  1,\n",
    "                             min_samples_split =  209, n_estimators = 2462, class_weight = 'balanced')\n",
    "\n",
    "    #calculate error\n",
    "    train_error, valid_error = calc_metrics(X_tr, y_tr, X_val, y_val, rfc)\n",
    "    \n",
    "    #append to appropriate list\n",
    "    train_errors.append(train_error)\n",
    "    valid_errors.append(valid_error)"
   ]
  },
  {
   "cell_type": "code",
   "execution_count": 77,
   "metadata": {
    "colab": {
     "base_uri": "https://localhost:8080/",
     "height": 332
    },
    "colab_type": "code",
    "id": "ha16h0gJ9tJA",
    "outputId": "8b76c33d-93c6-4b20-93b3-56e57e960431"
   },
   "outputs": [
    {
     "data": {
      "text/html": [
       "<div>\n",
       "<style scoped>\n",
       "    .dataframe tbody tr th:only-of-type {\n",
       "        vertical-align: middle;\n",
       "    }\n",
       "\n",
       "    .dataframe tbody tr th {\n",
       "        vertical-align: top;\n",
       "    }\n",
       "\n",
       "    .dataframe thead th {\n",
       "        text-align: right;\n",
       "    }\n",
       "</style>\n",
       "<table border=\"1\" class=\"dataframe\">\n",
       "  <thead>\n",
       "    <tr style=\"text-align: right;\">\n",
       "      <th></th>\n",
       "      <th>Train Accuracy</th>\n",
       "      <th>Test Accuracy</th>\n",
       "      <th>Train ROC AUC</th>\n",
       "      <th>Test ROC AUC</th>\n",
       "      <th>Train F1 Score</th>\n",
       "      <th>Test F1 Score</th>\n",
       "      <th>Train Matthews Corr Coef</th>\n",
       "      <th>Test Matthews Corr Coef</th>\n",
       "      <th>Train Log Loss</th>\n",
       "      <th>Test Log Loss</th>\n",
       "    </tr>\n",
       "  </thead>\n",
       "  <tbody>\n",
       "    <tr>\n",
       "      <th>1 Iteration</th>\n",
       "      <td>0.851075</td>\n",
       "      <td>0.848017</td>\n",
       "      <td>0.858818</td>\n",
       "      <td>0.809156</td>\n",
       "      <td>0.495725</td>\n",
       "      <td>0.479800</td>\n",
       "      <td>0.429612</td>\n",
       "      <td>0.416307</td>\n",
       "      <td>0.465177</td>\n",
       "      <td>0.477676</td>\n",
       "    </tr>\n",
       "    <tr>\n",
       "      <th>2 Iteration</th>\n",
       "      <td>0.852384</td>\n",
       "      <td>0.851910</td>\n",
       "      <td>0.862195</td>\n",
       "      <td>0.788155</td>\n",
       "      <td>0.501950</td>\n",
       "      <td>0.456454</td>\n",
       "      <td>0.436184</td>\n",
       "      <td>0.389471</td>\n",
       "      <td>0.460541</td>\n",
       "      <td>0.475786</td>\n",
       "    </tr>\n",
       "    <tr>\n",
       "      <th>3 Iteration</th>\n",
       "      <td>0.851445</td>\n",
       "      <td>0.846538</td>\n",
       "      <td>0.862920</td>\n",
       "      <td>0.800042</td>\n",
       "      <td>0.492886</td>\n",
       "      <td>0.491737</td>\n",
       "      <td>0.428628</td>\n",
       "      <td>0.420966</td>\n",
       "      <td>0.462323</td>\n",
       "      <td>0.481569</td>\n",
       "    </tr>\n",
       "    <tr>\n",
       "      <th>4 Iteration</th>\n",
       "      <td>0.851628</td>\n",
       "      <td>0.846416</td>\n",
       "      <td>0.859258</td>\n",
       "      <td>0.805102</td>\n",
       "      <td>0.492877</td>\n",
       "      <td>0.487825</td>\n",
       "      <td>0.428140</td>\n",
       "      <td>0.417412</td>\n",
       "      <td>0.464504</td>\n",
       "      <td>0.476464</td>\n",
       "    </tr>\n",
       "    <tr>\n",
       "      <th>5 Iteration</th>\n",
       "      <td>0.853605</td>\n",
       "      <td>0.850189</td>\n",
       "      <td>0.860422</td>\n",
       "      <td>0.806313</td>\n",
       "      <td>0.495703</td>\n",
       "      <td>0.492371</td>\n",
       "      <td>0.430801</td>\n",
       "      <td>0.423370</td>\n",
       "      <td>0.463560</td>\n",
       "      <td>0.478569</td>\n",
       "    </tr>\n",
       "    <tr>\n",
       "      <th>Average</th>\n",
       "      <td>0.852027</td>\n",
       "      <td>0.848614</td>\n",
       "      <td>0.860723</td>\n",
       "      <td>0.801753</td>\n",
       "      <td>0.495828</td>\n",
       "      <td>0.481637</td>\n",
       "      <td>0.430673</td>\n",
       "      <td>0.413505</td>\n",
       "      <td>0.463221</td>\n",
       "      <td>0.478013</td>\n",
       "    </tr>\n",
       "  </tbody>\n",
       "</table>\n",
       "</div>"
      ],
      "text/plain": [
       "             Train Accuracy  Test Accuracy  ...  Train Log Loss  Test Log Loss\n",
       "1 Iteration        0.851075       0.848017  ...        0.465177       0.477676\n",
       "2 Iteration        0.852384       0.851910  ...        0.460541       0.475786\n",
       "3 Iteration        0.851445       0.846538  ...        0.462323       0.481569\n",
       "4 Iteration        0.851628       0.846416  ...        0.464504       0.476464\n",
       "5 Iteration        0.853605       0.850189  ...        0.463560       0.478569\n",
       "Average            0.852027       0.848614  ...        0.463221       0.478013\n",
       "\n",
       "[6 rows x 10 columns]"
      ]
     },
     "execution_count": 77,
     "metadata": {
      "tags": []
     },
     "output_type": "execute_result"
    }
   ],
   "source": [
    "matrix  = []\n",
    "for i, j in zip(train_errors, valid_errors):\n",
    "    matrix.append([i['accuracy'], j['accuracy'], i['roc'], j['roc'], i['f1'], j['f1'], \n",
    "                   i['matthew'], j['matthew'], i['logloss'], j['logloss']])\n",
    "\n",
    "calc_matrix = pd.DataFrame(matrix, columns = ['Train Accuracy', 'Test Accuracy', 'Train ROC AUC', 'Test ROC AUC',\n",
    "                                             'Train F1 Score', 'Test F1 Score', 'Train Matthews Corr Coef', \n",
    "                                              'Test Matthews Corr Coef', 'Train Log Loss', 'Test Log Loss'])\n",
    "average = []\n",
    "for i in calc_matrix.columns:\n",
    "    average.append(calc_matrix[i].mean())\n",
    "    \n",
    "average_mat = pd.DataFrame(average).T\n",
    "average_mat.columns = ['Train Accuracy', 'Test Accuracy', 'Train ROC AUC', 'Test ROC AUC',\n",
    "                                             'Train F1 Score', 'Test F1 Score', 'Train Matthews Corr Coef', \n",
    "                                              'Test Matthews Corr Coef', 'Train Log Loss', 'Test Log Loss']\n",
    "index_label = []\n",
    "for i in range(1, len(calc_matrix)+1):\n",
    "    index_label.append(f'{i} Iteration')\n",
    "index_label.append('Average')\n",
    "calculation = pd.concat([calc_matrix, average_mat])\n",
    "calculation.index = index_label\n",
    "calculation"
   ]
  },
  {
   "cell_type": "code",
   "execution_count": 78,
   "metadata": {
    "colab": {
     "base_uri": "https://localhost:8080/",
     "height": 317
    },
    "colab_type": "code",
    "id": "l0tPiUlR932L",
    "outputId": "384dacd0-fcb9-425e-e8fd-1d8fb9661eb2"
   },
   "outputs": [
    {
     "name": "stdout",
     "output_type": "stream",
     "text": [
      "Cross validation scores: [0.45443787 0.48946136 0.46992054 0.50352941 0.48974668 0.46064815\n",
      " 0.48831776 0.48331415 0.49509804 0.48009101]\n"
     ]
    },
    {
     "data": {
      "image/png": "[encoded data removed]",
      "text/plain": [
       "<Figure size 432x288 with 1 Axes>"
      ]
     },
     "metadata": {
      "needs_background": "light",
      "tags": []
     },
     "output_type": "display_data"
    }
   ],
   "source": [
    "# from sklearn.model_selection import cross_val_score\n",
    "scores = cross_val_score(estimator=rfc,\n",
    "                        X=X_train,\n",
    "                        y=y_train,\n",
    "                        cv=10, \n",
    "                        n_jobs=1,\n",
    "                        scoring = 'f1')\n",
    "\n",
    "print('Cross validation scores: {}'.format(scores))\n",
    "\n",
    "plt.title('Cross validation scores')\n",
    "plt.scatter(np.arange(len(scores)), scores)\n",
    "plt.axhline(y=np.mean(scores), color='g') # Mean value of cross validation scores\n",
    "plt.show()"
   ]
  },
  {
   "cell_type": "markdown",
   "metadata": {
    "colab_type": "text",
    "id": "v74b-ifBGkU9"
   },
   "source": [
    "### Final Predictions before Deployment"
   ]
  },
  {
   "cell_type": "code",
   "execution_count": 80,
   "metadata": {
    "colab": {
     "base_uri": "https://localhost:8080/",
     "height": 163
    },
    "colab_type": "code",
    "id": "bv4vZrU2Arye",
    "outputId": "4bae6b3d-8a7c-403b-9940-725955bb50f8"
   },
   "outputs": [
    {
     "data": {
      "text/plain": [
       "RandomForestClassifier(bootstrap=True, ccp_alpha=0.0, class_weight='balanced',\n",
       "                       criterion='entropy', max_depth=57, max_features='log2',\n",
       "                       max_leaf_nodes=None, max_samples=None,\n",
       "                       min_impurity_decrease=0.0, min_impurity_split=None,\n",
       "                       min_samples_leaf=1, min_samples_split=209,\n",
       "                       min_weight_fraction_leaf=0.0, n_estimators=2462,\n",
       "                       n_jobs=None, oob_score=False, random_state=None,\n",
       "                       verbose=0, warm_start=False)"
      ]
     },
     "execution_count": 80,
     "metadata": {
      "tags": []
     },
     "output_type": "execute_result"
    }
   ],
   "source": [
    "# fitting once again just to make sure\n",
    "rfc.fit(X_train, y_train)"
   ]
  },
  {
   "cell_type": "code",
   "execution_count": 0,
   "metadata": {
    "colab": {},
    "colab_type": "code",
    "id": "c2djr1tjGsXW"
   },
   "outputs": [],
   "source": [
    "train_pred = rfc.predict(X_train)"
   ]
  },
  {
   "cell_type": "code",
   "execution_count": 0,
   "metadata": {
    "colab": {},
    "colab_type": "code",
    "id": "1Xaw8CVJG0XT"
   },
   "outputs": [],
   "source": [
    "test_pred = rfc.predict(X_test)"
   ]
  },
  {
   "cell_type": "code",
   "execution_count": 0,
   "metadata": {
    "colab": {},
    "colab_type": "code",
    "id": "_k7WN8O8G5v9"
   },
   "outputs": [],
   "source": [
    "whole_pred = rfc.predict(features)"
   ]
  },
  {
   "cell_type": "code",
   "execution_count": 0,
   "metadata": {
    "colab": {},
    "colab_type": "code",
    "id": "stD2FabGHBoq"
   },
   "outputs": [],
   "source": [
    "## Classification report and confusion matrix\n",
    "\n",
    "name = ['train', 'test', 'whole']\n",
    "predictions = [train_pred, test_pred, whole_pred]\n",
    "targets = [y_train, y_test, target]"
   ]
  },
  {
   "cell_type": "code",
   "execution_count": 85,
   "metadata": {
    "colab": {
     "base_uri": "https://localhost:8080/",
     "height": 726
    },
    "colab_type": "code",
    "id": "S3CGvVj4HWC9",
    "outputId": "7cb75b99-0c80-411f-c142-4cd943211ee6"
   },
   "outputs": [
    {
     "name": "stdout",
     "output_type": "stream",
     "text": [
      "In the train set\n",
      "              precision    recall  f1-score   support\n",
      "\n",
      "           0       0.95      0.88      0.91     25476\n",
      "           1       0.41      0.65      0.50      3284\n",
      "\n",
      "    accuracy                           0.85     28760\n",
      "   macro avg       0.68      0.76      0.71     28760\n",
      "weighted avg       0.89      0.85      0.87     28760\n",
      "\n",
      "[[22343  3133]\n",
      " [ 1148  2136]]\n",
      " \n",
      "In the test set\n",
      "              precision    recall  f1-score   support\n",
      "\n",
      "           0       0.95      0.88      0.91     10987\n",
      "           1       0.38      0.62      0.47      1340\n",
      "\n",
      "    accuracy                           0.85     12327\n",
      "   macro avg       0.67      0.75      0.69     12327\n",
      "weighted avg       0.89      0.85      0.86     12327\n",
      "\n",
      "[[9635 1352]\n",
      " [ 503  837]]\n",
      " \n",
      "In the whole set\n",
      "              precision    recall  f1-score   support\n",
      "\n",
      "           0       0.95      0.88      0.91     36463\n",
      "           1       0.40      0.64      0.49      4624\n",
      "\n",
      "    accuracy                           0.85     41087\n",
      "   macro avg       0.67      0.76      0.70     41087\n",
      "weighted avg       0.89      0.85      0.87     41087\n",
      "\n",
      "[[31978  4485]\n",
      " [ 1651  2973]]\n",
      " \n"
     ]
    }
   ],
   "source": [
    "for i,j,k in zip(name, predictions, targets):\n",
    "  print('In the {} set'.format(i))\n",
    "  print(classification_report(k,j))\n",
    "  print(confusion_matrix(k,j))\n",
    "  print(' ')"
   ]
  },
  {
   "cell_type": "code",
   "execution_count": 0,
   "metadata": {
    "colab": {},
    "colab_type": "code",
    "id": "bGqawv6CHqWv"
   },
   "outputs": [],
   "source": [
    "import pickle\n",
    "filename = 'rfc_bank_v3.sav';\n",
    "pickle.dump(rfc, open(filename, 'wb'))"
   ]
  },
  {
   "cell_type": "code",
   "execution_count": 89,
   "metadata": {
    "colab": {
     "base_uri": "https://localhost:8080/",
     "height": 340
    },
    "colab_type": "code",
    "id": "9wVTDjtKJ0UW",
    "outputId": "97b2ecb3-20d9-44d3-eb6c-48ee24ab3b7e"
   },
   "outputs": [
    {
     "ename": "KeyboardInterrupt",
     "evalue": "ignored",
     "output_type": "error",
     "traceback": [
      "\u001b[0;31m---------------------------------------------------------------------------\u001b[0m",
      "\u001b[0;31mKeyboardInterrupt\u001b[0m                         Traceback (most recent call last)",
      "\u001b[0;32m<ipython-input-89-d2a192253d97>\u001b[0m in \u001b[0;36m<module>\u001b[0;34m()\u001b[0m\n\u001b[1;32m      1\u001b[0m \u001b[0;32mfrom\u001b[0m \u001b[0mgoogle\u001b[0m\u001b[0;34m.\u001b[0m\u001b[0mcolab\u001b[0m \u001b[0;32mimport\u001b[0m \u001b[0mfiles\u001b[0m\u001b[0;34m\u001b[0m\u001b[0;34m\u001b[0m\u001b[0m\n\u001b[0;32m----> 2\u001b[0;31m \u001b[0mfiles\u001b[0m\u001b[0;34m.\u001b[0m\u001b[0mdownload\u001b[0m\u001b[0;34m(\u001b[0m\u001b[0;34m'rfc_bank_v3.sav'\u001b[0m\u001b[0;34m)\u001b[0m\u001b[0;34m\u001b[0m\u001b[0;34m\u001b[0m\u001b[0m\n\u001b[0m",
      "\u001b[0;32m/usr/local/lib/python3.6/dist-packages/google/colab/files.py\u001b[0m in \u001b[0;36mdownload\u001b[0;34m(filename)\u001b[0m\n\u001b[1;32m    176\u001b[0m       \u001b[0;34m'port'\u001b[0m\u001b[0;34m:\u001b[0m \u001b[0mport\u001b[0m\u001b[0;34m,\u001b[0m\u001b[0;34m\u001b[0m\u001b[0;34m\u001b[0m\u001b[0m\n\u001b[1;32m    177\u001b[0m       \u001b[0;34m'path'\u001b[0m\u001b[0;34m:\u001b[0m \u001b[0m_os\u001b[0m\u001b[0;34m.\u001b[0m\u001b[0mpath\u001b[0m\u001b[0;34m.\u001b[0m\u001b[0mabspath\u001b[0m\u001b[0;34m(\u001b[0m\u001b[0mfilename\u001b[0m\u001b[0;34m)\u001b[0m\u001b[0;34m,\u001b[0m\u001b[0;34m\u001b[0m\u001b[0;34m\u001b[0m\u001b[0m\n\u001b[0;32m--> 178\u001b[0;31m       \u001b[0;34m'name'\u001b[0m\u001b[0;34m:\u001b[0m \u001b[0m_os\u001b[0m\u001b[0;34m.\u001b[0m\u001b[0mpath\u001b[0m\u001b[0;34m.\u001b[0m\u001b[0mbasename\u001b[0m\u001b[0;34m(\u001b[0m\u001b[0mfilename\u001b[0m\u001b[0;34m)\u001b[0m\u001b[0;34m,\u001b[0m\u001b[0;34m\u001b[0m\u001b[0;34m\u001b[0m\u001b[0m\n\u001b[0m\u001b[1;32m    179\u001b[0m   })\n",
      "\u001b[0;32m/usr/local/lib/python3.6/dist-packages/google/colab/output/_js.py\u001b[0m in \u001b[0;36meval_js\u001b[0;34m(script, ignore_result)\u001b[0m\n\u001b[1;32m     37\u001b[0m   \u001b[0;32mif\u001b[0m \u001b[0mignore_result\u001b[0m\u001b[0;34m:\u001b[0m\u001b[0;34m\u001b[0m\u001b[0;34m\u001b[0m\u001b[0m\n\u001b[1;32m     38\u001b[0m     \u001b[0;32mreturn\u001b[0m\u001b[0;34m\u001b[0m\u001b[0;34m\u001b[0m\u001b[0m\n\u001b[0;32m---> 39\u001b[0;31m   \u001b[0;32mreturn\u001b[0m \u001b[0m_message\u001b[0m\u001b[0;34m.\u001b[0m\u001b[0mread_reply_from_input\u001b[0m\u001b[0;34m(\u001b[0m\u001b[0mrequest_id\u001b[0m\u001b[0;34m)\u001b[0m\u001b[0;34m\u001b[0m\u001b[0;34m\u001b[0m\u001b[0m\n\u001b[0m\u001b[1;32m     40\u001b[0m \u001b[0;34m\u001b[0m\u001b[0m\n\u001b[1;32m     41\u001b[0m \u001b[0;34m\u001b[0m\u001b[0m\n",
      "\u001b[0;32m/usr/local/lib/python3.6/dist-packages/google/colab/_message.py\u001b[0m in \u001b[0;36mread_reply_from_input\u001b[0;34m(message_id, timeout_sec)\u001b[0m\n\u001b[1;32m     99\u001b[0m     \u001b[0mreply\u001b[0m \u001b[0;34m=\u001b[0m \u001b[0m_read_next_input_message\u001b[0m\u001b[0;34m(\u001b[0m\u001b[0;34m)\u001b[0m\u001b[0;34m\u001b[0m\u001b[0;34m\u001b[0m\u001b[0m\n\u001b[1;32m    100\u001b[0m     \u001b[0;32mif\u001b[0m \u001b[0mreply\u001b[0m \u001b[0;34m==\u001b[0m \u001b[0m_NOT_READY\u001b[0m \u001b[0;32mor\u001b[0m \u001b[0;32mnot\u001b[0m \u001b[0misinstance\u001b[0m\u001b[0;34m(\u001b[0m\u001b[0mreply\u001b[0m\u001b[0;34m,\u001b[0m \u001b[0mdict\u001b[0m\u001b[0;34m)\u001b[0m\u001b[0;34m:\u001b[0m\u001b[0;34m\u001b[0m\u001b[0;34m\u001b[0m\u001b[0m\n\u001b[0;32m--> 101\u001b[0;31m       \u001b[0mtime\u001b[0m\u001b[0;34m.\u001b[0m\u001b[0msleep\u001b[0m\u001b[0;34m(\u001b[0m\u001b[0;36m0.025\u001b[0m\u001b[0;34m)\u001b[0m\u001b[0;34m\u001b[0m\u001b[0;34m\u001b[0m\u001b[0m\n\u001b[0m\u001b[1;32m    102\u001b[0m       \u001b[0;32mcontinue\u001b[0m\u001b[0;34m\u001b[0m\u001b[0;34m\u001b[0m\u001b[0m\n\u001b[1;32m    103\u001b[0m     if (reply.get('type') == 'colab_reply' and\n",
      "\u001b[0;31mKeyboardInterrupt\u001b[0m: "
     ]
    }
   ],
   "source": [
    "from google.colab import files\n",
    "files.download('rfc_bank_v3.sav')"
   ]
  },
  {
   "cell_type": "code",
   "execution_count": 90,
   "metadata": {
    "colab": {
     "base_uri": "https://localhost:8080/",
     "height": 235
    },
    "colab_type": "code",
    "id": "UYj1s97hJ-vW",
    "outputId": "5a997fac-722f-4826-f588-a687dc51a3ed"
   },
   "outputs": [
    {
     "data": {
      "text/html": [
       "<div>\n",
       "<style scoped>\n",
       "    .dataframe tbody tr th:only-of-type {\n",
       "        vertical-align: middle;\n",
       "    }\n",
       "\n",
       "    .dataframe tbody tr th {\n",
       "        vertical-align: top;\n",
       "    }\n",
       "\n",
       "    .dataframe thead th {\n",
       "        text-align: right;\n",
       "    }\n",
       "</style>\n",
       "<table border=\"1\" class=\"dataframe\">\n",
       "  <thead>\n",
       "    <tr style=\"text-align: right;\">\n",
       "      <th></th>\n",
       "      <th>age</th>\n",
       "      <th>education</th>\n",
       "      <th>default</th>\n",
       "      <th>campaign</th>\n",
       "      <th>poutcome</th>\n",
       "      <th>cons.price.idx</th>\n",
       "      <th>cons.conf.idx</th>\n",
       "      <th>euribor3m</th>\n",
       "      <th>job_blue-collar</th>\n",
       "      <th>job_entrepreneur</th>\n",
       "      <th>job_housemaid</th>\n",
       "      <th>job_management</th>\n",
       "      <th>job_retired</th>\n",
       "      <th>job_self-employed</th>\n",
       "      <th>job_services</th>\n",
       "      <th>job_student</th>\n",
       "      <th>job_technician</th>\n",
       "      <th>job_unemployed</th>\n",
       "      <th>job_unknown</th>\n",
       "      <th>marital_married</th>\n",
       "      <th>marital_single</th>\n",
       "      <th>housing_unknown</th>\n",
       "      <th>housing_yes</th>\n",
       "      <th>loan_yes</th>\n",
       "      <th>contact_telephone</th>\n",
       "      <th>month_aug</th>\n",
       "      <th>month_dec</th>\n",
       "      <th>month_jul</th>\n",
       "      <th>month_jun</th>\n",
       "      <th>month_mar</th>\n",
       "      <th>month_may</th>\n",
       "      <th>month_nov</th>\n",
       "      <th>month_oct</th>\n",
       "      <th>month_sep</th>\n",
       "      <th>day_of_week_mon</th>\n",
       "      <th>day_of_week_thu</th>\n",
       "      <th>day_of_week_tue</th>\n",
       "      <th>day_of_week_wed</th>\n",
       "    </tr>\n",
       "  </thead>\n",
       "  <tbody>\n",
       "    <tr>\n",
       "      <th>0</th>\n",
       "      <td>56</td>\n",
       "      <td>0</td>\n",
       "      <td>1</td>\n",
       "      <td>1</td>\n",
       "      <td>0</td>\n",
       "      <td>93.994</td>\n",
       "      <td>-36.4</td>\n",
       "      <td>4.857</td>\n",
       "      <td>0</td>\n",
       "      <td>0</td>\n",
       "      <td>1</td>\n",
       "      <td>0</td>\n",
       "      <td>0</td>\n",
       "      <td>0</td>\n",
       "      <td>0</td>\n",
       "      <td>0</td>\n",
       "      <td>0</td>\n",
       "      <td>0</td>\n",
       "      <td>0</td>\n",
       "      <td>1</td>\n",
       "      <td>0</td>\n",
       "      <td>0</td>\n",
       "      <td>0</td>\n",
       "      <td>0</td>\n",
       "      <td>1</td>\n",
       "      <td>0</td>\n",
       "      <td>0</td>\n",
       "      <td>0</td>\n",
       "      <td>0</td>\n",
       "      <td>0</td>\n",
       "      <td>1</td>\n",
       "      <td>0</td>\n",
       "      <td>0</td>\n",
       "      <td>0</td>\n",
       "      <td>1</td>\n",
       "      <td>0</td>\n",
       "      <td>0</td>\n",
       "      <td>0</td>\n",
       "    </tr>\n",
       "    <tr>\n",
       "      <th>1</th>\n",
       "      <td>57</td>\n",
       "      <td>3</td>\n",
       "      <td>0</td>\n",
       "      <td>1</td>\n",
       "      <td>0</td>\n",
       "      <td>93.994</td>\n",
       "      <td>-36.4</td>\n",
       "      <td>4.857</td>\n",
       "      <td>0</td>\n",
       "      <td>0</td>\n",
       "      <td>0</td>\n",
       "      <td>0</td>\n",
       "      <td>0</td>\n",
       "      <td>0</td>\n",
       "      <td>1</td>\n",
       "      <td>0</td>\n",
       "      <td>0</td>\n",
       "      <td>0</td>\n",
       "      <td>0</td>\n",
       "      <td>1</td>\n",
       "      <td>0</td>\n",
       "      <td>0</td>\n",
       "      <td>0</td>\n",
       "      <td>0</td>\n",
       "      <td>1</td>\n",
       "      <td>0</td>\n",
       "      <td>0</td>\n",
       "      <td>0</td>\n",
       "      <td>0</td>\n",
       "      <td>0</td>\n",
       "      <td>1</td>\n",
       "      <td>0</td>\n",
       "      <td>0</td>\n",
       "      <td>0</td>\n",
       "      <td>1</td>\n",
       "      <td>0</td>\n",
       "      <td>0</td>\n",
       "      <td>0</td>\n",
       "    </tr>\n",
       "    <tr>\n",
       "      <th>2</th>\n",
       "      <td>37</td>\n",
       "      <td>3</td>\n",
       "      <td>1</td>\n",
       "      <td>1</td>\n",
       "      <td>0</td>\n",
       "      <td>93.994</td>\n",
       "      <td>-36.4</td>\n",
       "      <td>4.857</td>\n",
       "      <td>0</td>\n",
       "      <td>0</td>\n",
       "      <td>0</td>\n",
       "      <td>0</td>\n",
       "      <td>0</td>\n",
       "      <td>0</td>\n",
       "      <td>1</td>\n",
       "      <td>0</td>\n",
       "      <td>0</td>\n",
       "      <td>0</td>\n",
       "      <td>0</td>\n",
       "      <td>1</td>\n",
       "      <td>0</td>\n",
       "      <td>0</td>\n",
       "      <td>1</td>\n",
       "      <td>0</td>\n",
       "      <td>1</td>\n",
       "      <td>0</td>\n",
       "      <td>0</td>\n",
       "      <td>0</td>\n",
       "      <td>0</td>\n",
       "      <td>0</td>\n",
       "      <td>1</td>\n",
       "      <td>0</td>\n",
       "      <td>0</td>\n",
       "      <td>0</td>\n",
       "      <td>1</td>\n",
       "      <td>0</td>\n",
       "      <td>0</td>\n",
       "      <td>0</td>\n",
       "    </tr>\n",
       "    <tr>\n",
       "      <th>3</th>\n",
       "      <td>40</td>\n",
       "      <td>1</td>\n",
       "      <td>1</td>\n",
       "      <td>1</td>\n",
       "      <td>0</td>\n",
       "      <td>93.994</td>\n",
       "      <td>-36.4</td>\n",
       "      <td>4.857</td>\n",
       "      <td>0</td>\n",
       "      <td>0</td>\n",
       "      <td>0</td>\n",
       "      <td>0</td>\n",
       "      <td>0</td>\n",
       "      <td>0</td>\n",
       "      <td>0</td>\n",
       "      <td>0</td>\n",
       "      <td>0</td>\n",
       "      <td>0</td>\n",
       "      <td>0</td>\n",
       "      <td>1</td>\n",
       "      <td>0</td>\n",
       "      <td>0</td>\n",
       "      <td>0</td>\n",
       "      <td>0</td>\n",
       "      <td>1</td>\n",
       "      <td>0</td>\n",
       "      <td>0</td>\n",
       "      <td>0</td>\n",
       "      <td>0</td>\n",
       "      <td>0</td>\n",
       "      <td>1</td>\n",
       "      <td>0</td>\n",
       "      <td>0</td>\n",
       "      <td>0</td>\n",
       "      <td>1</td>\n",
       "      <td>0</td>\n",
       "      <td>0</td>\n",
       "      <td>0</td>\n",
       "    </tr>\n",
       "    <tr>\n",
       "      <th>4</th>\n",
       "      <td>56</td>\n",
       "      <td>3</td>\n",
       "      <td>1</td>\n",
       "      <td>1</td>\n",
       "      <td>0</td>\n",
       "      <td>93.994</td>\n",
       "      <td>-36.4</td>\n",
       "      <td>4.857</td>\n",
       "      <td>0</td>\n",
       "      <td>0</td>\n",
       "      <td>0</td>\n",
       "      <td>0</td>\n",
       "      <td>0</td>\n",
       "      <td>0</td>\n",
       "      <td>1</td>\n",
       "      <td>0</td>\n",
       "      <td>0</td>\n",
       "      <td>0</td>\n",
       "      <td>0</td>\n",
       "      <td>1</td>\n",
       "      <td>0</td>\n",
       "      <td>0</td>\n",
       "      <td>0</td>\n",
       "      <td>1</td>\n",
       "      <td>1</td>\n",
       "      <td>0</td>\n",
       "      <td>0</td>\n",
       "      <td>0</td>\n",
       "      <td>0</td>\n",
       "      <td>0</td>\n",
       "      <td>1</td>\n",
       "      <td>0</td>\n",
       "      <td>0</td>\n",
       "      <td>0</td>\n",
       "      <td>1</td>\n",
       "      <td>0</td>\n",
       "      <td>0</td>\n",
       "      <td>0</td>\n",
       "    </tr>\n",
       "  </tbody>\n",
       "</table>\n",
       "</div>"
      ],
      "text/plain": [
       "   age  education  default  ...  day_of_week_thu  day_of_week_tue  day_of_week_wed\n",
       "0   56          0        1  ...                0                0                0\n",
       "1   57          3        0  ...                0                0                0\n",
       "2   37          3        1  ...                0                0                0\n",
       "3   40          1        1  ...                0                0                0\n",
       "4   56          3        1  ...                0                0                0\n",
       "\n",
       "[5 rows x 38 columns]"
      ]
     },
     "execution_count": 90,
     "metadata": {
      "tags": []
     },
     "output_type": "execute_result"
    }
   ],
   "source": [
    "features.head()"
   ]
  },
  {
   "cell_type": "code",
   "execution_count": 2,
   "metadata": {
    "colab": {},
    "colab_type": "code",
    "id": "hM8-qpLcLG8-"
   },
   "outputs": [],
   "source": [
    "bank = pd.read_csv('bank_ht.csv')"
   ]
  },
  {
   "cell_type": "code",
   "execution_count": 3,
   "metadata": {},
   "outputs": [
    {
     "data": {
      "text/html": [
       "<div>\n",
       "<style scoped>\n",
       "    .dataframe tbody tr th:only-of-type {\n",
       "        vertical-align: middle;\n",
       "    }\n",
       "\n",
       "    .dataframe tbody tr th {\n",
       "        vertical-align: top;\n",
       "    }\n",
       "\n",
       "    .dataframe thead th {\n",
       "        text-align: right;\n",
       "    }\n",
       "</style>\n",
       "<table border=\"1\" class=\"dataframe\">\n",
       "  <thead>\n",
       "    <tr style=\"text-align: right;\">\n",
       "      <th></th>\n",
       "      <th>age</th>\n",
       "      <th>education</th>\n",
       "      <th>default</th>\n",
       "      <th>campaign</th>\n",
       "      <th>poutcome</th>\n",
       "      <th>cons.price.idx</th>\n",
       "      <th>cons.conf.idx</th>\n",
       "      <th>euribor3m</th>\n",
       "      <th>job_blue-collar</th>\n",
       "      <th>job_entrepreneur</th>\n",
       "      <th>...</th>\n",
       "      <th>month_mar</th>\n",
       "      <th>month_may</th>\n",
       "      <th>month_nov</th>\n",
       "      <th>month_oct</th>\n",
       "      <th>month_sep</th>\n",
       "      <th>day_of_week_mon</th>\n",
       "      <th>day_of_week_thu</th>\n",
       "      <th>day_of_week_tue</th>\n",
       "      <th>day_of_week_wed</th>\n",
       "      <th>y</th>\n",
       "    </tr>\n",
       "  </thead>\n",
       "  <tbody>\n",
       "    <tr>\n",
       "      <th>0</th>\n",
       "      <td>56</td>\n",
       "      <td>0</td>\n",
       "      <td>1</td>\n",
       "      <td>1</td>\n",
       "      <td>0</td>\n",
       "      <td>93.994</td>\n",
       "      <td>-36.4</td>\n",
       "      <td>4.857</td>\n",
       "      <td>0</td>\n",
       "      <td>0</td>\n",
       "      <td>...</td>\n",
       "      <td>0</td>\n",
       "      <td>1</td>\n",
       "      <td>0</td>\n",
       "      <td>0</td>\n",
       "      <td>0</td>\n",
       "      <td>1</td>\n",
       "      <td>0</td>\n",
       "      <td>0</td>\n",
       "      <td>0</td>\n",
       "      <td>no</td>\n",
       "    </tr>\n",
       "    <tr>\n",
       "      <th>1</th>\n",
       "      <td>57</td>\n",
       "      <td>3</td>\n",
       "      <td>0</td>\n",
       "      <td>1</td>\n",
       "      <td>0</td>\n",
       "      <td>93.994</td>\n",
       "      <td>-36.4</td>\n",
       "      <td>4.857</td>\n",
       "      <td>0</td>\n",
       "      <td>0</td>\n",
       "      <td>...</td>\n",
       "      <td>0</td>\n",
       "      <td>1</td>\n",
       "      <td>0</td>\n",
       "      <td>0</td>\n",
       "      <td>0</td>\n",
       "      <td>1</td>\n",
       "      <td>0</td>\n",
       "      <td>0</td>\n",
       "      <td>0</td>\n",
       "      <td>no</td>\n",
       "    </tr>\n",
       "    <tr>\n",
       "      <th>2</th>\n",
       "      <td>37</td>\n",
       "      <td>3</td>\n",
       "      <td>1</td>\n",
       "      <td>1</td>\n",
       "      <td>0</td>\n",
       "      <td>93.994</td>\n",
       "      <td>-36.4</td>\n",
       "      <td>4.857</td>\n",
       "      <td>0</td>\n",
       "      <td>0</td>\n",
       "      <td>...</td>\n",
       "      <td>0</td>\n",
       "      <td>1</td>\n",
       "      <td>0</td>\n",
       "      <td>0</td>\n",
       "      <td>0</td>\n",
       "      <td>1</td>\n",
       "      <td>0</td>\n",
       "      <td>0</td>\n",
       "      <td>0</td>\n",
       "      <td>no</td>\n",
       "    </tr>\n",
       "    <tr>\n",
       "      <th>3</th>\n",
       "      <td>40</td>\n",
       "      <td>1</td>\n",
       "      <td>1</td>\n",
       "      <td>1</td>\n",
       "      <td>0</td>\n",
       "      <td>93.994</td>\n",
       "      <td>-36.4</td>\n",
       "      <td>4.857</td>\n",
       "      <td>0</td>\n",
       "      <td>0</td>\n",
       "      <td>...</td>\n",
       "      <td>0</td>\n",
       "      <td>1</td>\n",
       "      <td>0</td>\n",
       "      <td>0</td>\n",
       "      <td>0</td>\n",
       "      <td>1</td>\n",
       "      <td>0</td>\n",
       "      <td>0</td>\n",
       "      <td>0</td>\n",
       "      <td>no</td>\n",
       "    </tr>\n",
       "    <tr>\n",
       "      <th>4</th>\n",
       "      <td>56</td>\n",
       "      <td>3</td>\n",
       "      <td>1</td>\n",
       "      <td>1</td>\n",
       "      <td>0</td>\n",
       "      <td>93.994</td>\n",
       "      <td>-36.4</td>\n",
       "      <td>4.857</td>\n",
       "      <td>0</td>\n",
       "      <td>0</td>\n",
       "      <td>...</td>\n",
       "      <td>0</td>\n",
       "      <td>1</td>\n",
       "      <td>0</td>\n",
       "      <td>0</td>\n",
       "      <td>0</td>\n",
       "      <td>1</td>\n",
       "      <td>0</td>\n",
       "      <td>0</td>\n",
       "      <td>0</td>\n",
       "      <td>no</td>\n",
       "    </tr>\n",
       "  </tbody>\n",
       "</table>\n",
       "<p>5 rows × 39 columns</p>\n",
       "</div>"
      ],
      "text/plain": [
       "   age  education  default  campaign  poutcome  cons.price.idx  cons.conf.idx  \\\n",
       "0   56          0        1         1         0          93.994          -36.4   \n",
       "1   57          3        0         1         0          93.994          -36.4   \n",
       "2   37          3        1         1         0          93.994          -36.4   \n",
       "3   40          1        1         1         0          93.994          -36.4   \n",
       "4   56          3        1         1         0          93.994          -36.4   \n",
       "\n",
       "   euribor3m  job_blue-collar  job_entrepreneur  ...  month_mar  month_may  \\\n",
       "0      4.857                0                 0  ...          0          1   \n",
       "1      4.857                0                 0  ...          0          1   \n",
       "2      4.857                0                 0  ...          0          1   \n",
       "3      4.857                0                 0  ...          0          1   \n",
       "4      4.857                0                 0  ...          0          1   \n",
       "\n",
       "   month_nov  month_oct  month_sep  day_of_week_mon  day_of_week_thu  \\\n",
       "0          0          0          0                1                0   \n",
       "1          0          0          0                1                0   \n",
       "2          0          0          0                1                0   \n",
       "3          0          0          0                1                0   \n",
       "4          0          0          0                1                0   \n",
       "\n",
       "   day_of_week_tue  day_of_week_wed   y  \n",
       "0                0                0  no  \n",
       "1                0                0  no  \n",
       "2                0                0  no  \n",
       "3                0                0  no  \n",
       "4                0                0  no  \n",
       "\n",
       "[5 rows x 39 columns]"
      ]
     },
     "execution_count": 3,
     "metadata": {},
     "output_type": "execute_result"
    }
   ],
   "source": [
    "bank.head()"
   ]
  },
  {
   "cell_type": "code",
   "execution_count": 4,
   "metadata": {},
   "outputs": [
    {
     "name": "stderr",
     "output_type": "stream",
     "text": [
      "C:\\ProgramData\\Anaconda3\\lib\\site-packages\\sklearn\\base.py:318: UserWarning: Trying to unpickle estimator DecisionTreeClassifier from version 0.22.2.post1 when using version 0.22.1. This might lead to breaking code or invalid results. Use at your own risk.\n",
      "  UserWarning)\n",
      "C:\\ProgramData\\Anaconda3\\lib\\site-packages\\sklearn\\base.py:318: UserWarning: Trying to unpickle estimator RandomForestClassifier from version 0.22.2.post1 when using version 0.22.1. This might lead to breaking code or invalid results. Use at your own risk.\n",
      "  UserWarning)\n"
     ]
    }
   ],
   "source": [
    "load_Modelrf = pickle.load(open('rfc_bank_v3.sav', 'rb'))"
   ]
  },
  {
   "cell_type": "code",
   "execution_count": 5,
   "metadata": {},
   "outputs": [],
   "source": [
    "predictions = load_Modelrf.predict(bank.drop('y', axis = 1))"
   ]
  },
  {
   "cell_type": "code",
   "execution_count": 6,
   "metadata": {},
   "outputs": [
    {
     "data": {
      "text/plain": [
       "array([0, 0, 0, ..., 1, 1, 1], dtype=int64)"
      ]
     },
     "execution_count": 6,
     "metadata": {},
     "output_type": "execute_result"
    }
   ],
   "source": [
    "predictions"
   ]
  },
  {
   "cell_type": "code",
   "execution_count": 7,
   "metadata": {},
   "outputs": [
    {
     "data": {
      "text/plain": [
       "41087"
      ]
     },
     "execution_count": 7,
     "metadata": {},
     "output_type": "execute_result"
    }
   ],
   "source": [
    "len(predictions)"
   ]
  },
  {
   "cell_type": "markdown",
   "metadata": {},
   "source": [
    "### Making a list of prospective customer"
   ]
  },
  {
   "cell_type": "code",
   "execution_count": 8,
   "metadata": {},
   "outputs": [],
   "source": [
    "idx = []\n",
    "\n",
    "for i, j in enumerate(predictions):\n",
    "    if j == 1:\n",
    "        idx.append(i)"
   ]
  },
  {
   "cell_type": "code",
   "execution_count": 10,
   "metadata": {},
   "outputs": [
    {
     "data": {
      "text/plain": [
       "7458"
      ]
     },
     "execution_count": 10,
     "metadata": {},
     "output_type": "execute_result"
    }
   ],
   "source": [
    "len(idx)"
   ]
  },
  {
   "cell_type": "code",
   "execution_count": 11,
   "metadata": {},
   "outputs": [
    {
     "data": {
      "text/plain": [
       "4624"
      ]
     },
     "execution_count": 11,
     "metadata": {},
     "output_type": "execute_result"
    }
   ],
   "source": [
    "len(bank[bank['y']== 'yes'])"
   ]
  },
  {
   "cell_type": "code",
   "execution_count": 12,
   "metadata": {},
   "outputs": [
    {
     "data": {
      "text/html": [
       "<div>\n",
       "<style scoped>\n",
       "    .dataframe tbody tr th:only-of-type {\n",
       "        vertical-align: middle;\n",
       "    }\n",
       "\n",
       "    .dataframe tbody tr th {\n",
       "        vertical-align: top;\n",
       "    }\n",
       "\n",
       "    .dataframe thead th {\n",
       "        text-align: right;\n",
       "    }\n",
       "</style>\n",
       "<table border=\"1\" class=\"dataframe\">\n",
       "  <thead>\n",
       "    <tr style=\"text-align: right;\">\n",
       "      <th></th>\n",
       "      <th>age</th>\n",
       "      <th>education</th>\n",
       "      <th>default</th>\n",
       "      <th>campaign</th>\n",
       "      <th>poutcome</th>\n",
       "      <th>cons.price.idx</th>\n",
       "      <th>cons.conf.idx</th>\n",
       "      <th>euribor3m</th>\n",
       "      <th>job_blue-collar</th>\n",
       "      <th>job_entrepreneur</th>\n",
       "      <th>...</th>\n",
       "      <th>month_mar</th>\n",
       "      <th>month_may</th>\n",
       "      <th>month_nov</th>\n",
       "      <th>month_oct</th>\n",
       "      <th>month_sep</th>\n",
       "      <th>day_of_week_mon</th>\n",
       "      <th>day_of_week_thu</th>\n",
       "      <th>day_of_week_tue</th>\n",
       "      <th>day_of_week_wed</th>\n",
       "      <th>y</th>\n",
       "    </tr>\n",
       "  </thead>\n",
       "  <tbody>\n",
       "    <tr>\n",
       "      <th>23946</th>\n",
       "      <td>44</td>\n",
       "      <td>3</td>\n",
       "      <td>1</td>\n",
       "      <td>1</td>\n",
       "      <td>0</td>\n",
       "      <td>93.798</td>\n",
       "      <td>-40.4</td>\n",
       "      <td>5.045</td>\n",
       "      <td>0</td>\n",
       "      <td>0</td>\n",
       "      <td>...</td>\n",
       "      <td>0</td>\n",
       "      <td>0</td>\n",
       "      <td>0</td>\n",
       "      <td>1</td>\n",
       "      <td>0</td>\n",
       "      <td>0</td>\n",
       "      <td>0</td>\n",
       "      <td>0</td>\n",
       "      <td>0</td>\n",
       "      <td>no</td>\n",
       "    </tr>\n",
       "    <tr>\n",
       "      <th>23947</th>\n",
       "      <td>42</td>\n",
       "      <td>3</td>\n",
       "      <td>1</td>\n",
       "      <td>1</td>\n",
       "      <td>0</td>\n",
       "      <td>93.798</td>\n",
       "      <td>-40.4</td>\n",
       "      <td>5.045</td>\n",
       "      <td>0</td>\n",
       "      <td>0</td>\n",
       "      <td>...</td>\n",
       "      <td>0</td>\n",
       "      <td>0</td>\n",
       "      <td>0</td>\n",
       "      <td>1</td>\n",
       "      <td>0</td>\n",
       "      <td>0</td>\n",
       "      <td>0</td>\n",
       "      <td>0</td>\n",
       "      <td>0</td>\n",
       "      <td>yes</td>\n",
       "    </tr>\n",
       "    <tr>\n",
       "      <th>23948</th>\n",
       "      <td>39</td>\n",
       "      <td>2</td>\n",
       "      <td>1</td>\n",
       "      <td>1</td>\n",
       "      <td>0</td>\n",
       "      <td>93.798</td>\n",
       "      <td>-40.4</td>\n",
       "      <td>5.045</td>\n",
       "      <td>1</td>\n",
       "      <td>0</td>\n",
       "      <td>...</td>\n",
       "      <td>0</td>\n",
       "      <td>0</td>\n",
       "      <td>0</td>\n",
       "      <td>1</td>\n",
       "      <td>0</td>\n",
       "      <td>0</td>\n",
       "      <td>0</td>\n",
       "      <td>0</td>\n",
       "      <td>0</td>\n",
       "      <td>yes</td>\n",
       "    </tr>\n",
       "    <tr>\n",
       "      <th>23949</th>\n",
       "      <td>56</td>\n",
       "      <td>4</td>\n",
       "      <td>1</td>\n",
       "      <td>1</td>\n",
       "      <td>0</td>\n",
       "      <td>93.798</td>\n",
       "      <td>-40.4</td>\n",
       "      <td>5.045</td>\n",
       "      <td>0</td>\n",
       "      <td>0</td>\n",
       "      <td>...</td>\n",
       "      <td>0</td>\n",
       "      <td>0</td>\n",
       "      <td>0</td>\n",
       "      <td>1</td>\n",
       "      <td>0</td>\n",
       "      <td>0</td>\n",
       "      <td>0</td>\n",
       "      <td>0</td>\n",
       "      <td>0</td>\n",
       "      <td>yes</td>\n",
       "    </tr>\n",
       "    <tr>\n",
       "      <th>23950</th>\n",
       "      <td>30</td>\n",
       "      <td>4</td>\n",
       "      <td>1</td>\n",
       "      <td>1</td>\n",
       "      <td>0</td>\n",
       "      <td>93.798</td>\n",
       "      <td>-40.4</td>\n",
       "      <td>5.045</td>\n",
       "      <td>0</td>\n",
       "      <td>1</td>\n",
       "      <td>...</td>\n",
       "      <td>0</td>\n",
       "      <td>0</td>\n",
       "      <td>0</td>\n",
       "      <td>1</td>\n",
       "      <td>0</td>\n",
       "      <td>0</td>\n",
       "      <td>0</td>\n",
       "      <td>0</td>\n",
       "      <td>0</td>\n",
       "      <td>yes</td>\n",
       "    </tr>\n",
       "    <tr>\n",
       "      <th>...</th>\n",
       "      <td>...</td>\n",
       "      <td>...</td>\n",
       "      <td>...</td>\n",
       "      <td>...</td>\n",
       "      <td>...</td>\n",
       "      <td>...</td>\n",
       "      <td>...</td>\n",
       "      <td>...</td>\n",
       "      <td>...</td>\n",
       "      <td>...</td>\n",
       "      <td>...</td>\n",
       "      <td>...</td>\n",
       "      <td>...</td>\n",
       "      <td>...</td>\n",
       "      <td>...</td>\n",
       "      <td>...</td>\n",
       "      <td>...</td>\n",
       "      <td>...</td>\n",
       "      <td>...</td>\n",
       "      <td>...</td>\n",
       "      <td>...</td>\n",
       "    </tr>\n",
       "    <tr>\n",
       "      <th>41082</th>\n",
       "      <td>73</td>\n",
       "      <td>3</td>\n",
       "      <td>1</td>\n",
       "      <td>1</td>\n",
       "      <td>0</td>\n",
       "      <td>94.767</td>\n",
       "      <td>-50.8</td>\n",
       "      <td>1.028</td>\n",
       "      <td>0</td>\n",
       "      <td>0</td>\n",
       "      <td>...</td>\n",
       "      <td>0</td>\n",
       "      <td>0</td>\n",
       "      <td>1</td>\n",
       "      <td>0</td>\n",
       "      <td>0</td>\n",
       "      <td>0</td>\n",
       "      <td>0</td>\n",
       "      <td>0</td>\n",
       "      <td>0</td>\n",
       "      <td>yes</td>\n",
       "    </tr>\n",
       "    <tr>\n",
       "      <th>41083</th>\n",
       "      <td>46</td>\n",
       "      <td>3</td>\n",
       "      <td>1</td>\n",
       "      <td>1</td>\n",
       "      <td>0</td>\n",
       "      <td>94.767</td>\n",
       "      <td>-50.8</td>\n",
       "      <td>1.028</td>\n",
       "      <td>1</td>\n",
       "      <td>0</td>\n",
       "      <td>...</td>\n",
       "      <td>0</td>\n",
       "      <td>0</td>\n",
       "      <td>1</td>\n",
       "      <td>0</td>\n",
       "      <td>0</td>\n",
       "      <td>0</td>\n",
       "      <td>0</td>\n",
       "      <td>0</td>\n",
       "      <td>0</td>\n",
       "      <td>no</td>\n",
       "    </tr>\n",
       "    <tr>\n",
       "      <th>41084</th>\n",
       "      <td>56</td>\n",
       "      <td>4</td>\n",
       "      <td>1</td>\n",
       "      <td>2</td>\n",
       "      <td>0</td>\n",
       "      <td>94.767</td>\n",
       "      <td>-50.8</td>\n",
       "      <td>1.028</td>\n",
       "      <td>0</td>\n",
       "      <td>0</td>\n",
       "      <td>...</td>\n",
       "      <td>0</td>\n",
       "      <td>0</td>\n",
       "      <td>1</td>\n",
       "      <td>0</td>\n",
       "      <td>0</td>\n",
       "      <td>0</td>\n",
       "      <td>0</td>\n",
       "      <td>0</td>\n",
       "      <td>0</td>\n",
       "      <td>no</td>\n",
       "    </tr>\n",
       "    <tr>\n",
       "      <th>41085</th>\n",
       "      <td>44</td>\n",
       "      <td>3</td>\n",
       "      <td>1</td>\n",
       "      <td>1</td>\n",
       "      <td>0</td>\n",
       "      <td>94.767</td>\n",
       "      <td>-50.8</td>\n",
       "      <td>1.028</td>\n",
       "      <td>0</td>\n",
       "      <td>0</td>\n",
       "      <td>...</td>\n",
       "      <td>0</td>\n",
       "      <td>0</td>\n",
       "      <td>1</td>\n",
       "      <td>0</td>\n",
       "      <td>0</td>\n",
       "      <td>0</td>\n",
       "      <td>0</td>\n",
       "      <td>0</td>\n",
       "      <td>0</td>\n",
       "      <td>yes</td>\n",
       "    </tr>\n",
       "    <tr>\n",
       "      <th>41086</th>\n",
       "      <td>74</td>\n",
       "      <td>3</td>\n",
       "      <td>1</td>\n",
       "      <td>3</td>\n",
       "      <td>1</td>\n",
       "      <td>94.767</td>\n",
       "      <td>-50.8</td>\n",
       "      <td>1.028</td>\n",
       "      <td>0</td>\n",
       "      <td>0</td>\n",
       "      <td>...</td>\n",
       "      <td>0</td>\n",
       "      <td>0</td>\n",
       "      <td>1</td>\n",
       "      <td>0</td>\n",
       "      <td>0</td>\n",
       "      <td>0</td>\n",
       "      <td>0</td>\n",
       "      <td>0</td>\n",
       "      <td>0</td>\n",
       "      <td>no</td>\n",
       "    </tr>\n",
       "  </tbody>\n",
       "</table>\n",
       "<p>7458 rows × 39 columns</p>\n",
       "</div>"
      ],
      "text/plain": [
       "       age  education  default  campaign  poutcome  cons.price.idx  \\\n",
       "23946   44          3        1         1         0          93.798   \n",
       "23947   42          3        1         1         0          93.798   \n",
       "23948   39          2        1         1         0          93.798   \n",
       "23949   56          4        1         1         0          93.798   \n",
       "23950   30          4        1         1         0          93.798   \n",
       "...    ...        ...      ...       ...       ...             ...   \n",
       "41082   73          3        1         1         0          94.767   \n",
       "41083   46          3        1         1         0          94.767   \n",
       "41084   56          4        1         2         0          94.767   \n",
       "41085   44          3        1         1         0          94.767   \n",
       "41086   74          3        1         3         1          94.767   \n",
       "\n",
       "       cons.conf.idx  euribor3m  job_blue-collar  job_entrepreneur  ...  \\\n",
       "23946          -40.4      5.045                0                 0  ...   \n",
       "23947          -40.4      5.045                0                 0  ...   \n",
       "23948          -40.4      5.045                1                 0  ...   \n",
       "23949          -40.4      5.045                0                 0  ...   \n",
       "23950          -40.4      5.045                0                 1  ...   \n",
       "...              ...        ...              ...               ...  ...   \n",
       "41082          -50.8      1.028                0                 0  ...   \n",
       "41083          -50.8      1.028                1                 0  ...   \n",
       "41084          -50.8      1.028                0                 0  ...   \n",
       "41085          -50.8      1.028                0                 0  ...   \n",
       "41086          -50.8      1.028                0                 0  ...   \n",
       "\n",
       "       month_mar  month_may  month_nov  month_oct  month_sep  day_of_week_mon  \\\n",
       "23946          0          0          0          1          0                0   \n",
       "23947          0          0          0          1          0                0   \n",
       "23948          0          0          0          1          0                0   \n",
       "23949          0          0          0          1          0                0   \n",
       "23950          0          0          0          1          0                0   \n",
       "...          ...        ...        ...        ...        ...              ...   \n",
       "41082          0          0          1          0          0                0   \n",
       "41083          0          0          1          0          0                0   \n",
       "41084          0          0          1          0          0                0   \n",
       "41085          0          0          1          0          0                0   \n",
       "41086          0          0          1          0          0                0   \n",
       "\n",
       "       day_of_week_thu  day_of_week_tue  day_of_week_wed    y  \n",
       "23946                0                0                0   no  \n",
       "23947                0                0                0  yes  \n",
       "23948                0                0                0  yes  \n",
       "23949                0                0                0  yes  \n",
       "23950                0                0                0  yes  \n",
       "...                ...              ...              ...  ...  \n",
       "41082                0                0                0  yes  \n",
       "41083                0                0                0   no  \n",
       "41084                0                0                0   no  \n",
       "41085                0                0                0  yes  \n",
       "41086                0                0                0   no  \n",
       "\n",
       "[7458 rows x 39 columns]"
      ]
     },
     "execution_count": 12,
     "metadata": {},
     "output_type": "execute_result"
    }
   ],
   "source": [
    "bank.loc[idx]"
   ]
  },
  {
   "cell_type": "code",
   "execution_count": 13,
   "metadata": {},
   "outputs": [],
   "source": [
    "prospective = pd.read_csv('bank_dash.csv')"
   ]
  },
  {
   "cell_type": "code",
   "execution_count": 14,
   "metadata": {},
   "outputs": [
    {
     "data": {
      "text/html": [
       "<div>\n",
       "<style scoped>\n",
       "    .dataframe tbody tr th:only-of-type {\n",
       "        vertical-align: middle;\n",
       "    }\n",
       "\n",
       "    .dataframe tbody tr th {\n",
       "        vertical-align: top;\n",
       "    }\n",
       "\n",
       "    .dataframe thead th {\n",
       "        text-align: right;\n",
       "    }\n",
       "</style>\n",
       "<table border=\"1\" class=\"dataframe\">\n",
       "  <thead>\n",
       "    <tr style=\"text-align: right;\">\n",
       "      <th></th>\n",
       "      <th>Age</th>\n",
       "      <th>Job</th>\n",
       "      <th>Marital Status</th>\n",
       "      <th>Education</th>\n",
       "      <th>Default</th>\n",
       "      <th>Housing Loan</th>\n",
       "      <th>Personal Loan</th>\n",
       "      <th>Contact Type</th>\n",
       "      <th>Month</th>\n",
       "      <th>Day of Week</th>\n",
       "      <th>...</th>\n",
       "      <th>Calls in this Campaign</th>\n",
       "      <th>Days passed after previous campaign</th>\n",
       "      <th>Calls in previous Campaign</th>\n",
       "      <th>Previous Campaign Outcome</th>\n",
       "      <th>Employment Variation Rate</th>\n",
       "      <th>Consumer Price Index</th>\n",
       "      <th>Consumer Confidence Index</th>\n",
       "      <th>Euribor 3M</th>\n",
       "      <th>Number of people employed</th>\n",
       "      <th>y</th>\n",
       "    </tr>\n",
       "  </thead>\n",
       "  <tbody>\n",
       "    <tr>\n",
       "      <th>0</th>\n",
       "      <td>56</td>\n",
       "      <td>Housemaid</td>\n",
       "      <td>Married</td>\n",
       "      <td>Basic 4y</td>\n",
       "      <td>No</td>\n",
       "      <td>No</td>\n",
       "      <td>No</td>\n",
       "      <td>Telephone</td>\n",
       "      <td>May</td>\n",
       "      <td>Mon</td>\n",
       "      <td>...</td>\n",
       "      <td>1</td>\n",
       "      <td>999</td>\n",
       "      <td>0</td>\n",
       "      <td>Nonexistent</td>\n",
       "      <td>1.1</td>\n",
       "      <td>93.994</td>\n",
       "      <td>-36.4</td>\n",
       "      <td>4.857</td>\n",
       "      <td>5191.0</td>\n",
       "      <td>no</td>\n",
       "    </tr>\n",
       "    <tr>\n",
       "      <th>1</th>\n",
       "      <td>57</td>\n",
       "      <td>Services</td>\n",
       "      <td>Married</td>\n",
       "      <td>High school</td>\n",
       "      <td>Unknown</td>\n",
       "      <td>No</td>\n",
       "      <td>No</td>\n",
       "      <td>Telephone</td>\n",
       "      <td>May</td>\n",
       "      <td>Mon</td>\n",
       "      <td>...</td>\n",
       "      <td>1</td>\n",
       "      <td>999</td>\n",
       "      <td>0</td>\n",
       "      <td>Nonexistent</td>\n",
       "      <td>1.1</td>\n",
       "      <td>93.994</td>\n",
       "      <td>-36.4</td>\n",
       "      <td>4.857</td>\n",
       "      <td>5191.0</td>\n",
       "      <td>no</td>\n",
       "    </tr>\n",
       "    <tr>\n",
       "      <th>2</th>\n",
       "      <td>37</td>\n",
       "      <td>Services</td>\n",
       "      <td>Married</td>\n",
       "      <td>High school</td>\n",
       "      <td>No</td>\n",
       "      <td>Yes</td>\n",
       "      <td>No</td>\n",
       "      <td>Telephone</td>\n",
       "      <td>May</td>\n",
       "      <td>Mon</td>\n",
       "      <td>...</td>\n",
       "      <td>1</td>\n",
       "      <td>999</td>\n",
       "      <td>0</td>\n",
       "      <td>Nonexistent</td>\n",
       "      <td>1.1</td>\n",
       "      <td>93.994</td>\n",
       "      <td>-36.4</td>\n",
       "      <td>4.857</td>\n",
       "      <td>5191.0</td>\n",
       "      <td>no</td>\n",
       "    </tr>\n",
       "    <tr>\n",
       "      <th>3</th>\n",
       "      <td>40</td>\n",
       "      <td>Admin.</td>\n",
       "      <td>Married</td>\n",
       "      <td>Basic 6y</td>\n",
       "      <td>No</td>\n",
       "      <td>No</td>\n",
       "      <td>No</td>\n",
       "      <td>Telephone</td>\n",
       "      <td>May</td>\n",
       "      <td>Mon</td>\n",
       "      <td>...</td>\n",
       "      <td>1</td>\n",
       "      <td>999</td>\n",
       "      <td>0</td>\n",
       "      <td>Nonexistent</td>\n",
       "      <td>1.1</td>\n",
       "      <td>93.994</td>\n",
       "      <td>-36.4</td>\n",
       "      <td>4.857</td>\n",
       "      <td>5191.0</td>\n",
       "      <td>no</td>\n",
       "    </tr>\n",
       "    <tr>\n",
       "      <th>4</th>\n",
       "      <td>56</td>\n",
       "      <td>Services</td>\n",
       "      <td>Married</td>\n",
       "      <td>High school</td>\n",
       "      <td>No</td>\n",
       "      <td>No</td>\n",
       "      <td>Yes</td>\n",
       "      <td>Telephone</td>\n",
       "      <td>May</td>\n",
       "      <td>Mon</td>\n",
       "      <td>...</td>\n",
       "      <td>1</td>\n",
       "      <td>999</td>\n",
       "      <td>0</td>\n",
       "      <td>Nonexistent</td>\n",
       "      <td>1.1</td>\n",
       "      <td>93.994</td>\n",
       "      <td>-36.4</td>\n",
       "      <td>4.857</td>\n",
       "      <td>5191.0</td>\n",
       "      <td>no</td>\n",
       "    </tr>\n",
       "  </tbody>\n",
       "</table>\n",
       "<p>5 rows × 21 columns</p>\n",
       "</div>"
      ],
      "text/plain": [
       "   Age        Job Marital Status    Education  Default Housing Loan  \\\n",
       "0   56  Housemaid        Married     Basic 4y       No           No   \n",
       "1   57   Services        Married  High school  Unknown           No   \n",
       "2   37   Services        Married  High school       No          Yes   \n",
       "3   40     Admin.        Married     Basic 6y       No           No   \n",
       "4   56   Services        Married  High school       No           No   \n",
       "\n",
       "  Personal Loan Contact Type Month Day of Week  ...  Calls in this Campaign  \\\n",
       "0            No    Telephone   May         Mon  ...                       1   \n",
       "1            No    Telephone   May         Mon  ...                       1   \n",
       "2            No    Telephone   May         Mon  ...                       1   \n",
       "3            No    Telephone   May         Mon  ...                       1   \n",
       "4           Yes    Telephone   May         Mon  ...                       1   \n",
       "\n",
       "   Days passed after previous campaign  Calls in previous Campaign  \\\n",
       "0                                  999                           0   \n",
       "1                                  999                           0   \n",
       "2                                  999                           0   \n",
       "3                                  999                           0   \n",
       "4                                  999                           0   \n",
       "\n",
       "   Previous Campaign Outcome Employment Variation Rate  Consumer Price Index  \\\n",
       "0                Nonexistent                       1.1                93.994   \n",
       "1                Nonexistent                       1.1                93.994   \n",
       "2                Nonexistent                       1.1                93.994   \n",
       "3                Nonexistent                       1.1                93.994   \n",
       "4                Nonexistent                       1.1                93.994   \n",
       "\n",
       "   Consumer Confidence Index  Euribor 3M  Number of people employed   y  \n",
       "0                      -36.4       4.857                     5191.0  no  \n",
       "1                      -36.4       4.857                     5191.0  no  \n",
       "2                      -36.4       4.857                     5191.0  no  \n",
       "3                      -36.4       4.857                     5191.0  no  \n",
       "4                      -36.4       4.857                     5191.0  no  \n",
       "\n",
       "[5 rows x 21 columns]"
      ]
     },
     "execution_count": 14,
     "metadata": {},
     "output_type": "execute_result"
    }
   ],
   "source": [
    "prospective.head()"
   ]
  },
  {
   "cell_type": "code",
   "execution_count": 15,
   "metadata": {},
   "outputs": [],
   "source": [
    "prospective.drop('y', axis = 1, inplace = True)"
   ]
  },
  {
   "cell_type": "code",
   "execution_count": 16,
   "metadata": {},
   "outputs": [],
   "source": [
    "prospective = prospective.loc[idx]"
   ]
  },
  {
   "cell_type": "code",
   "execution_count": 17,
   "metadata": {},
   "outputs": [
    {
     "name": "stdout",
     "output_type": "stream",
     "text": [
      "<class 'pandas.core.frame.DataFrame'>\n",
      "Int64Index: 7458 entries, 23946 to 41086\n",
      "Data columns (total 20 columns):\n",
      "Age                                    7458 non-null int64\n",
      "Job                                    7458 non-null object\n",
      "Marital Status                         7458 non-null object\n",
      "Education                              7458 non-null object\n",
      "Default                                7458 non-null object\n",
      "Housing Loan                           7458 non-null object\n",
      "Personal Loan                          7458 non-null object\n",
      "Contact Type                           7458 non-null object\n",
      "Month                                  7458 non-null object\n",
      "Day of Week                            7458 non-null object\n",
      "Last Call Duration                     7458 non-null int64\n",
      "Calls in this Campaign                 7458 non-null int64\n",
      "Days passed after previous campaign    7458 non-null int64\n",
      "Calls in previous Campaign             7458 non-null int64\n",
      "Previous Campaign Outcome              7458 non-null object\n",
      "Employment Variation Rate              7458 non-null float64\n",
      "Consumer Price Index                   7458 non-null float64\n",
      "Consumer Confidence Index              7458 non-null float64\n",
      "Euribor 3M                             7458 non-null float64\n",
      "Number of people employed              7458 non-null float64\n",
      "dtypes: float64(5), int64(5), object(10)\n",
      "memory usage: 1.2+ MB\n"
     ]
    }
   ],
   "source": [
    "prospective.info()"
   ]
  },
  {
   "cell_type": "code",
   "execution_count": 18,
   "metadata": {},
   "outputs": [],
   "source": [
    "prospective.to_csv('prospective_customer.csv', index = False)"
   ]
  },
  {
   "cell_type": "code",
   "execution_count": 19,
   "metadata": {},
   "outputs": [
    {
     "name": "stdout",
     "output_type": "stream",
     "text": [
      "<class 'pandas.core.frame.DataFrame'>\n",
      "RangeIndex: 41087 entries, 0 to 41086\n",
      "Data columns (total 39 columns):\n",
      "age                  41087 non-null int64\n",
      "education            41087 non-null int64\n",
      "default              41087 non-null int64\n",
      "campaign             41087 non-null int64\n",
      "poutcome             41087 non-null int64\n",
      "cons.price.idx       41087 non-null float64\n",
      "cons.conf.idx        41087 non-null float64\n",
      "euribor3m            41087 non-null float64\n",
      "job_blue-collar      41087 non-null int64\n",
      "job_entrepreneur     41087 non-null int64\n",
      "job_housemaid        41087 non-null int64\n",
      "job_management       41087 non-null int64\n",
      "job_retired          41087 non-null int64\n",
      "job_self-employed    41087 non-null int64\n",
      "job_services         41087 non-null int64\n",
      "job_student          41087 non-null int64\n",
      "job_technician       41087 non-null int64\n",
      "job_unemployed       41087 non-null int64\n",
      "job_unknown          41087 non-null int64\n",
      "marital_married      41087 non-null int64\n",
      "marital_single       41087 non-null int64\n",
      "housing_unknown      41087 non-null int64\n",
      "housing_yes          41087 non-null int64\n",
      "loan_yes             41087 non-null int64\n",
      "contact_telephone    41087 non-null int64\n",
      "month_aug            41087 non-null int64\n",
      "month_dec            41087 non-null int64\n",
      "month_jul            41087 non-null int64\n",
      "month_jun            41087 non-null int64\n",
      "month_mar            41087 non-null int64\n",
      "month_may            41087 non-null int64\n",
      "month_nov            41087 non-null int64\n",
      "month_oct            41087 non-null int64\n",
      "month_sep            41087 non-null int64\n",
      "day_of_week_mon      41087 non-null int64\n",
      "day_of_week_thu      41087 non-null int64\n",
      "day_of_week_tue      41087 non-null int64\n",
      "day_of_week_wed      41087 non-null int64\n",
      "y                    41087 non-null object\n",
      "dtypes: float64(3), int64(35), object(1)\n",
      "memory usage: 12.2+ MB\n"
     ]
    }
   ],
   "source": [
    "bank.info()"
   ]
  },
  {
   "cell_type": "code",
   "execution_count": 20,
   "metadata": {},
   "outputs": [],
   "source": [
    "dat = np.array([\n",
    "21, 0, 0, 0, 0, 91, -36, 2, 1, 0, 0, 0, 0, 0, 0, 0, 0, 0, 0,1, 0,1, 0, 0,0,1, 0, 0, 0, 0, 0, 0, 0, 0,1,0,0,0]).reshape(1,-1)"
   ]
  },
  {
   "cell_type": "code",
   "execution_count": 21,
   "metadata": {},
   "outputs": [],
   "source": [
    "proba = load_Modelrf.predict_proba(dat)"
   ]
  },
  {
   "cell_type": "code",
   "execution_count": 22,
   "metadata": {},
   "outputs": [
    {
     "data": {
      "text/plain": [
       "array([[0.45495402, 0.54504598]])"
      ]
     },
     "execution_count": 22,
     "metadata": {},
     "output_type": "execute_result"
    }
   ],
   "source": [
    "proba"
   ]
  },
  {
   "cell_type": "code",
   "execution_count": null,
   "metadata": {},
   "outputs": [],
   "source": []
  }
 ],
 "metadata": {
  "colab": {
   "name": "bank Supervised Part 2 v3.ipynb",
   "provenance": []
  },
  "kernelspec": {
   "display_name": "Python 3",
   "language": "python",
   "name": "python3"
  },
  "language_info": {
   "codemirror_mode": {
    "name": "ipython",
    "version": 3
   },
   "file_extension": ".py",
   "mimetype": "text/x-python",
   "name": "python",
   "nbconvert_exporter": "python",
   "pygments_lexer": "ipython3",
   "version": "3.7.4"
  }
 },
 "nbformat": 4,
 "nbformat_minor": 1
}
