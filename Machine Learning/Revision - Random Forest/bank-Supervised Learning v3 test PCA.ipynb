{
 "cells": [
  {
   "cell_type": "code",
   "execution_count": 2,
   "metadata": {},
   "outputs": [],
   "source": [
    "# importing essential libraries\n",
    "\n",
    "import numpy as np\n",
    "import pandas as pd\n",
    "import matplotlib.pyplot as plt\n",
    "import seaborn as sns\n",
    "pd.set_option('display.max_columns', None)\n",
    "\n",
    "%matplotlib inline"
   ]
  },
  {
   "cell_type": "code",
   "execution_count": 3,
   "metadata": {},
   "outputs": [],
   "source": [
    "bank = pd.read_csv('bank_ht.csv')"
   ]
  },
  {
   "cell_type": "code",
   "execution_count": 4,
   "metadata": {},
   "outputs": [
    {
     "data": {
      "text/html": [
       "<div>\n",
       "<style scoped>\n",
       "    .dataframe tbody tr th:only-of-type {\n",
       "        vertical-align: middle;\n",
       "    }\n",
       "\n",
       "    .dataframe tbody tr th {\n",
       "        vertical-align: top;\n",
       "    }\n",
       "\n",
       "    .dataframe thead th {\n",
       "        text-align: right;\n",
       "    }\n",
       "</style>\n",
       "<table border=\"1\" class=\"dataframe\">\n",
       "  <thead>\n",
       "    <tr style=\"text-align: right;\">\n",
       "      <th></th>\n",
       "      <th>age</th>\n",
       "      <th>education</th>\n",
       "      <th>default</th>\n",
       "      <th>campaign</th>\n",
       "      <th>poutcome</th>\n",
       "      <th>cons.price.idx</th>\n",
       "      <th>cons.conf.idx</th>\n",
       "      <th>euribor3m</th>\n",
       "      <th>job_blue-collar</th>\n",
       "      <th>job_entrepreneur</th>\n",
       "      <th>job_housemaid</th>\n",
       "      <th>job_management</th>\n",
       "      <th>job_retired</th>\n",
       "      <th>job_self-employed</th>\n",
       "      <th>job_services</th>\n",
       "      <th>job_student</th>\n",
       "      <th>job_technician</th>\n",
       "      <th>job_unemployed</th>\n",
       "      <th>job_unknown</th>\n",
       "      <th>marital_married</th>\n",
       "      <th>marital_single</th>\n",
       "      <th>housing_unknown</th>\n",
       "      <th>housing_yes</th>\n",
       "      <th>loan_yes</th>\n",
       "      <th>contact_telephone</th>\n",
       "      <th>month_aug</th>\n",
       "      <th>month_dec</th>\n",
       "      <th>month_jul</th>\n",
       "      <th>month_jun</th>\n",
       "      <th>month_mar</th>\n",
       "      <th>month_may</th>\n",
       "      <th>month_nov</th>\n",
       "      <th>month_oct</th>\n",
       "      <th>month_sep</th>\n",
       "      <th>day_of_week_mon</th>\n",
       "      <th>day_of_week_thu</th>\n",
       "      <th>day_of_week_tue</th>\n",
       "      <th>day_of_week_wed</th>\n",
       "      <th>y</th>\n",
       "    </tr>\n",
       "  </thead>\n",
       "  <tbody>\n",
       "    <tr>\n",
       "      <th>0</th>\n",
       "      <td>56</td>\n",
       "      <td>0</td>\n",
       "      <td>1</td>\n",
       "      <td>1</td>\n",
       "      <td>0</td>\n",
       "      <td>93.994</td>\n",
       "      <td>-36.4</td>\n",
       "      <td>4.857</td>\n",
       "      <td>0</td>\n",
       "      <td>0</td>\n",
       "      <td>1</td>\n",
       "      <td>0</td>\n",
       "      <td>0</td>\n",
       "      <td>0</td>\n",
       "      <td>0</td>\n",
       "      <td>0</td>\n",
       "      <td>0</td>\n",
       "      <td>0</td>\n",
       "      <td>0</td>\n",
       "      <td>1</td>\n",
       "      <td>0</td>\n",
       "      <td>0</td>\n",
       "      <td>0</td>\n",
       "      <td>0</td>\n",
       "      <td>1</td>\n",
       "      <td>0</td>\n",
       "      <td>0</td>\n",
       "      <td>0</td>\n",
       "      <td>0</td>\n",
       "      <td>0</td>\n",
       "      <td>1</td>\n",
       "      <td>0</td>\n",
       "      <td>0</td>\n",
       "      <td>0</td>\n",
       "      <td>1</td>\n",
       "      <td>0</td>\n",
       "      <td>0</td>\n",
       "      <td>0</td>\n",
       "      <td>no</td>\n",
       "    </tr>\n",
       "    <tr>\n",
       "      <th>1</th>\n",
       "      <td>57</td>\n",
       "      <td>3</td>\n",
       "      <td>0</td>\n",
       "      <td>1</td>\n",
       "      <td>0</td>\n",
       "      <td>93.994</td>\n",
       "      <td>-36.4</td>\n",
       "      <td>4.857</td>\n",
       "      <td>0</td>\n",
       "      <td>0</td>\n",
       "      <td>0</td>\n",
       "      <td>0</td>\n",
       "      <td>0</td>\n",
       "      <td>0</td>\n",
       "      <td>1</td>\n",
       "      <td>0</td>\n",
       "      <td>0</td>\n",
       "      <td>0</td>\n",
       "      <td>0</td>\n",
       "      <td>1</td>\n",
       "      <td>0</td>\n",
       "      <td>0</td>\n",
       "      <td>0</td>\n",
       "      <td>0</td>\n",
       "      <td>1</td>\n",
       "      <td>0</td>\n",
       "      <td>0</td>\n",
       "      <td>0</td>\n",
       "      <td>0</td>\n",
       "      <td>0</td>\n",
       "      <td>1</td>\n",
       "      <td>0</td>\n",
       "      <td>0</td>\n",
       "      <td>0</td>\n",
       "      <td>1</td>\n",
       "      <td>0</td>\n",
       "      <td>0</td>\n",
       "      <td>0</td>\n",
       "      <td>no</td>\n",
       "    </tr>\n",
       "    <tr>\n",
       "      <th>2</th>\n",
       "      <td>37</td>\n",
       "      <td>3</td>\n",
       "      <td>1</td>\n",
       "      <td>1</td>\n",
       "      <td>0</td>\n",
       "      <td>93.994</td>\n",
       "      <td>-36.4</td>\n",
       "      <td>4.857</td>\n",
       "      <td>0</td>\n",
       "      <td>0</td>\n",
       "      <td>0</td>\n",
       "      <td>0</td>\n",
       "      <td>0</td>\n",
       "      <td>0</td>\n",
       "      <td>1</td>\n",
       "      <td>0</td>\n",
       "      <td>0</td>\n",
       "      <td>0</td>\n",
       "      <td>0</td>\n",
       "      <td>1</td>\n",
       "      <td>0</td>\n",
       "      <td>0</td>\n",
       "      <td>1</td>\n",
       "      <td>0</td>\n",
       "      <td>1</td>\n",
       "      <td>0</td>\n",
       "      <td>0</td>\n",
       "      <td>0</td>\n",
       "      <td>0</td>\n",
       "      <td>0</td>\n",
       "      <td>1</td>\n",
       "      <td>0</td>\n",
       "      <td>0</td>\n",
       "      <td>0</td>\n",
       "      <td>1</td>\n",
       "      <td>0</td>\n",
       "      <td>0</td>\n",
       "      <td>0</td>\n",
       "      <td>no</td>\n",
       "    </tr>\n",
       "    <tr>\n",
       "      <th>3</th>\n",
       "      <td>40</td>\n",
       "      <td>1</td>\n",
       "      <td>1</td>\n",
       "      <td>1</td>\n",
       "      <td>0</td>\n",
       "      <td>93.994</td>\n",
       "      <td>-36.4</td>\n",
       "      <td>4.857</td>\n",
       "      <td>0</td>\n",
       "      <td>0</td>\n",
       "      <td>0</td>\n",
       "      <td>0</td>\n",
       "      <td>0</td>\n",
       "      <td>0</td>\n",
       "      <td>0</td>\n",
       "      <td>0</td>\n",
       "      <td>0</td>\n",
       "      <td>0</td>\n",
       "      <td>0</td>\n",
       "      <td>1</td>\n",
       "      <td>0</td>\n",
       "      <td>0</td>\n",
       "      <td>0</td>\n",
       "      <td>0</td>\n",
       "      <td>1</td>\n",
       "      <td>0</td>\n",
       "      <td>0</td>\n",
       "      <td>0</td>\n",
       "      <td>0</td>\n",
       "      <td>0</td>\n",
       "      <td>1</td>\n",
       "      <td>0</td>\n",
       "      <td>0</td>\n",
       "      <td>0</td>\n",
       "      <td>1</td>\n",
       "      <td>0</td>\n",
       "      <td>0</td>\n",
       "      <td>0</td>\n",
       "      <td>no</td>\n",
       "    </tr>\n",
       "    <tr>\n",
       "      <th>4</th>\n",
       "      <td>56</td>\n",
       "      <td>3</td>\n",
       "      <td>1</td>\n",
       "      <td>1</td>\n",
       "      <td>0</td>\n",
       "      <td>93.994</td>\n",
       "      <td>-36.4</td>\n",
       "      <td>4.857</td>\n",
       "      <td>0</td>\n",
       "      <td>0</td>\n",
       "      <td>0</td>\n",
       "      <td>0</td>\n",
       "      <td>0</td>\n",
       "      <td>0</td>\n",
       "      <td>1</td>\n",
       "      <td>0</td>\n",
       "      <td>0</td>\n",
       "      <td>0</td>\n",
       "      <td>0</td>\n",
       "      <td>1</td>\n",
       "      <td>0</td>\n",
       "      <td>0</td>\n",
       "      <td>0</td>\n",
       "      <td>1</td>\n",
       "      <td>1</td>\n",
       "      <td>0</td>\n",
       "      <td>0</td>\n",
       "      <td>0</td>\n",
       "      <td>0</td>\n",
       "      <td>0</td>\n",
       "      <td>1</td>\n",
       "      <td>0</td>\n",
       "      <td>0</td>\n",
       "      <td>0</td>\n",
       "      <td>1</td>\n",
       "      <td>0</td>\n",
       "      <td>0</td>\n",
       "      <td>0</td>\n",
       "      <td>no</td>\n",
       "    </tr>\n",
       "  </tbody>\n",
       "</table>\n",
       "</div>"
      ],
      "text/plain": [
       "   age  education  default  campaign  poutcome  cons.price.idx  cons.conf.idx  \\\n",
       "0   56          0        1         1         0          93.994          -36.4   \n",
       "1   57          3        0         1         0          93.994          -36.4   \n",
       "2   37          3        1         1         0          93.994          -36.4   \n",
       "3   40          1        1         1         0          93.994          -36.4   \n",
       "4   56          3        1         1         0          93.994          -36.4   \n",
       "\n",
       "   euribor3m  job_blue-collar  job_entrepreneur  job_housemaid  \\\n",
       "0      4.857                0                 0              1   \n",
       "1      4.857                0                 0              0   \n",
       "2      4.857                0                 0              0   \n",
       "3      4.857                0                 0              0   \n",
       "4      4.857                0                 0              0   \n",
       "\n",
       "   job_management  job_retired  job_self-employed  job_services  job_student  \\\n",
       "0               0            0                  0             0            0   \n",
       "1               0            0                  0             1            0   \n",
       "2               0            0                  0             1            0   \n",
       "3               0            0                  0             0            0   \n",
       "4               0            0                  0             1            0   \n",
       "\n",
       "   job_technician  job_unemployed  job_unknown  marital_married  \\\n",
       "0               0               0            0                1   \n",
       "1               0               0            0                1   \n",
       "2               0               0            0                1   \n",
       "3               0               0            0                1   \n",
       "4               0               0            0                1   \n",
       "\n",
       "   marital_single  housing_unknown  housing_yes  loan_yes  contact_telephone  \\\n",
       "0               0                0            0         0                  1   \n",
       "1               0                0            0         0                  1   \n",
       "2               0                0            1         0                  1   \n",
       "3               0                0            0         0                  1   \n",
       "4               0                0            0         1                  1   \n",
       "\n",
       "   month_aug  month_dec  month_jul  month_jun  month_mar  month_may  \\\n",
       "0          0          0          0          0          0          1   \n",
       "1          0          0          0          0          0          1   \n",
       "2          0          0          0          0          0          1   \n",
       "3          0          0          0          0          0          1   \n",
       "4          0          0          0          0          0          1   \n",
       "\n",
       "   month_nov  month_oct  month_sep  day_of_week_mon  day_of_week_thu  \\\n",
       "0          0          0          0                1                0   \n",
       "1          0          0          0                1                0   \n",
       "2          0          0          0                1                0   \n",
       "3          0          0          0                1                0   \n",
       "4          0          0          0                1                0   \n",
       "\n",
       "   day_of_week_tue  day_of_week_wed   y  \n",
       "0                0                0  no  \n",
       "1                0                0  no  \n",
       "2                0                0  no  \n",
       "3                0                0  no  \n",
       "4                0                0  no  "
      ]
     },
     "execution_count": 4,
     "metadata": {},
     "output_type": "execute_result"
    }
   ],
   "source": [
    "bank.head()"
   ]
  },
  {
   "cell_type": "code",
   "execution_count": 5,
   "metadata": {},
   "outputs": [
    {
     "name": "stdout",
     "output_type": "stream",
     "text": [
      "<class 'pandas.core.frame.DataFrame'>\n",
      "RangeIndex: 41087 entries, 0 to 41086\n",
      "Data columns (total 39 columns):\n",
      "age                  41087 non-null int64\n",
      "education            41087 non-null int64\n",
      "default              41087 non-null int64\n",
      "campaign             41087 non-null int64\n",
      "poutcome             41087 non-null int64\n",
      "cons.price.idx       41087 non-null float64\n",
      "cons.conf.idx        41087 non-null float64\n",
      "euribor3m            41087 non-null float64\n",
      "job_blue-collar      41087 non-null int64\n",
      "job_entrepreneur     41087 non-null int64\n",
      "job_housemaid        41087 non-null int64\n",
      "job_management       41087 non-null int64\n",
      "job_retired          41087 non-null int64\n",
      "job_self-employed    41087 non-null int64\n",
      "job_services         41087 non-null int64\n",
      "job_student          41087 non-null int64\n",
      "job_technician       41087 non-null int64\n",
      "job_unemployed       41087 non-null int64\n",
      "job_unknown          41087 non-null int64\n",
      "marital_married      41087 non-null int64\n",
      "marital_single       41087 non-null int64\n",
      "housing_unknown      41087 non-null int64\n",
      "housing_yes          41087 non-null int64\n",
      "loan_yes             41087 non-null int64\n",
      "contact_telephone    41087 non-null int64\n",
      "month_aug            41087 non-null int64\n",
      "month_dec            41087 non-null int64\n",
      "month_jul            41087 non-null int64\n",
      "month_jun            41087 non-null int64\n",
      "month_mar            41087 non-null int64\n",
      "month_may            41087 non-null int64\n",
      "month_nov            41087 non-null int64\n",
      "month_oct            41087 non-null int64\n",
      "month_sep            41087 non-null int64\n",
      "day_of_week_mon      41087 non-null int64\n",
      "day_of_week_thu      41087 non-null int64\n",
      "day_of_week_tue      41087 non-null int64\n",
      "day_of_week_wed      41087 non-null int64\n",
      "y                    41087 non-null object\n",
      "dtypes: float64(3), int64(35), object(1)\n",
      "memory usage: 12.2+ MB\n"
     ]
    }
   ],
   "source": [
    "bank.info()"
   ]
  },
  {
   "cell_type": "code",
   "execution_count": 6,
   "metadata": {},
   "outputs": [],
   "source": [
    "features = bank.drop('y', axis = 1)\n",
    "target = bank['y'].apply(lambda x: 1 if x == 'yes' else 0)"
   ]
  },
  {
   "cell_type": "code",
   "execution_count": 7,
   "metadata": {},
   "outputs": [
    {
     "data": {
      "text/html": [
       "<div>\n",
       "<style scoped>\n",
       "    .dataframe tbody tr th:only-of-type {\n",
       "        vertical-align: middle;\n",
       "    }\n",
       "\n",
       "    .dataframe tbody tr th {\n",
       "        vertical-align: top;\n",
       "    }\n",
       "\n",
       "    .dataframe thead th {\n",
       "        text-align: right;\n",
       "    }\n",
       "</style>\n",
       "<table border=\"1\" class=\"dataframe\">\n",
       "  <thead>\n",
       "    <tr style=\"text-align: right;\">\n",
       "      <th></th>\n",
       "      <th>age</th>\n",
       "      <th>education</th>\n",
       "      <th>default</th>\n",
       "      <th>campaign</th>\n",
       "      <th>poutcome</th>\n",
       "      <th>cons.price.idx</th>\n",
       "      <th>cons.conf.idx</th>\n",
       "      <th>euribor3m</th>\n",
       "      <th>job_blue-collar</th>\n",
       "      <th>job_entrepreneur</th>\n",
       "      <th>job_housemaid</th>\n",
       "      <th>job_management</th>\n",
       "      <th>job_retired</th>\n",
       "      <th>job_self-employed</th>\n",
       "      <th>job_services</th>\n",
       "      <th>job_student</th>\n",
       "      <th>job_technician</th>\n",
       "      <th>job_unemployed</th>\n",
       "      <th>job_unknown</th>\n",
       "      <th>marital_married</th>\n",
       "      <th>marital_single</th>\n",
       "      <th>housing_unknown</th>\n",
       "      <th>housing_yes</th>\n",
       "      <th>loan_yes</th>\n",
       "      <th>contact_telephone</th>\n",
       "      <th>month_aug</th>\n",
       "      <th>month_dec</th>\n",
       "      <th>month_jul</th>\n",
       "      <th>month_jun</th>\n",
       "      <th>month_mar</th>\n",
       "      <th>month_may</th>\n",
       "      <th>month_nov</th>\n",
       "      <th>month_oct</th>\n",
       "      <th>month_sep</th>\n",
       "      <th>day_of_week_mon</th>\n",
       "      <th>day_of_week_thu</th>\n",
       "      <th>day_of_week_tue</th>\n",
       "      <th>day_of_week_wed</th>\n",
       "    </tr>\n",
       "  </thead>\n",
       "  <tbody>\n",
       "    <tr>\n",
       "      <th>0</th>\n",
       "      <td>56</td>\n",
       "      <td>0</td>\n",
       "      <td>1</td>\n",
       "      <td>1</td>\n",
       "      <td>0</td>\n",
       "      <td>93.994</td>\n",
       "      <td>-36.4</td>\n",
       "      <td>4.857</td>\n",
       "      <td>0</td>\n",
       "      <td>0</td>\n",
       "      <td>1</td>\n",
       "      <td>0</td>\n",
       "      <td>0</td>\n",
       "      <td>0</td>\n",
       "      <td>0</td>\n",
       "      <td>0</td>\n",
       "      <td>0</td>\n",
       "      <td>0</td>\n",
       "      <td>0</td>\n",
       "      <td>1</td>\n",
       "      <td>0</td>\n",
       "      <td>0</td>\n",
       "      <td>0</td>\n",
       "      <td>0</td>\n",
       "      <td>1</td>\n",
       "      <td>0</td>\n",
       "      <td>0</td>\n",
       "      <td>0</td>\n",
       "      <td>0</td>\n",
       "      <td>0</td>\n",
       "      <td>1</td>\n",
       "      <td>0</td>\n",
       "      <td>0</td>\n",
       "      <td>0</td>\n",
       "      <td>1</td>\n",
       "      <td>0</td>\n",
       "      <td>0</td>\n",
       "      <td>0</td>\n",
       "    </tr>\n",
       "    <tr>\n",
       "      <th>1</th>\n",
       "      <td>57</td>\n",
       "      <td>3</td>\n",
       "      <td>0</td>\n",
       "      <td>1</td>\n",
       "      <td>0</td>\n",
       "      <td>93.994</td>\n",
       "      <td>-36.4</td>\n",
       "      <td>4.857</td>\n",
       "      <td>0</td>\n",
       "      <td>0</td>\n",
       "      <td>0</td>\n",
       "      <td>0</td>\n",
       "      <td>0</td>\n",
       "      <td>0</td>\n",
       "      <td>1</td>\n",
       "      <td>0</td>\n",
       "      <td>0</td>\n",
       "      <td>0</td>\n",
       "      <td>0</td>\n",
       "      <td>1</td>\n",
       "      <td>0</td>\n",
       "      <td>0</td>\n",
       "      <td>0</td>\n",
       "      <td>0</td>\n",
       "      <td>1</td>\n",
       "      <td>0</td>\n",
       "      <td>0</td>\n",
       "      <td>0</td>\n",
       "      <td>0</td>\n",
       "      <td>0</td>\n",
       "      <td>1</td>\n",
       "      <td>0</td>\n",
       "      <td>0</td>\n",
       "      <td>0</td>\n",
       "      <td>1</td>\n",
       "      <td>0</td>\n",
       "      <td>0</td>\n",
       "      <td>0</td>\n",
       "    </tr>\n",
       "    <tr>\n",
       "      <th>2</th>\n",
       "      <td>37</td>\n",
       "      <td>3</td>\n",
       "      <td>1</td>\n",
       "      <td>1</td>\n",
       "      <td>0</td>\n",
       "      <td>93.994</td>\n",
       "      <td>-36.4</td>\n",
       "      <td>4.857</td>\n",
       "      <td>0</td>\n",
       "      <td>0</td>\n",
       "      <td>0</td>\n",
       "      <td>0</td>\n",
       "      <td>0</td>\n",
       "      <td>0</td>\n",
       "      <td>1</td>\n",
       "      <td>0</td>\n",
       "      <td>0</td>\n",
       "      <td>0</td>\n",
       "      <td>0</td>\n",
       "      <td>1</td>\n",
       "      <td>0</td>\n",
       "      <td>0</td>\n",
       "      <td>1</td>\n",
       "      <td>0</td>\n",
       "      <td>1</td>\n",
       "      <td>0</td>\n",
       "      <td>0</td>\n",
       "      <td>0</td>\n",
       "      <td>0</td>\n",
       "      <td>0</td>\n",
       "      <td>1</td>\n",
       "      <td>0</td>\n",
       "      <td>0</td>\n",
       "      <td>0</td>\n",
       "      <td>1</td>\n",
       "      <td>0</td>\n",
       "      <td>0</td>\n",
       "      <td>0</td>\n",
       "    </tr>\n",
       "    <tr>\n",
       "      <th>3</th>\n",
       "      <td>40</td>\n",
       "      <td>1</td>\n",
       "      <td>1</td>\n",
       "      <td>1</td>\n",
       "      <td>0</td>\n",
       "      <td>93.994</td>\n",
       "      <td>-36.4</td>\n",
       "      <td>4.857</td>\n",
       "      <td>0</td>\n",
       "      <td>0</td>\n",
       "      <td>0</td>\n",
       "      <td>0</td>\n",
       "      <td>0</td>\n",
       "      <td>0</td>\n",
       "      <td>0</td>\n",
       "      <td>0</td>\n",
       "      <td>0</td>\n",
       "      <td>0</td>\n",
       "      <td>0</td>\n",
       "      <td>1</td>\n",
       "      <td>0</td>\n",
       "      <td>0</td>\n",
       "      <td>0</td>\n",
       "      <td>0</td>\n",
       "      <td>1</td>\n",
       "      <td>0</td>\n",
       "      <td>0</td>\n",
       "      <td>0</td>\n",
       "      <td>0</td>\n",
       "      <td>0</td>\n",
       "      <td>1</td>\n",
       "      <td>0</td>\n",
       "      <td>0</td>\n",
       "      <td>0</td>\n",
       "      <td>1</td>\n",
       "      <td>0</td>\n",
       "      <td>0</td>\n",
       "      <td>0</td>\n",
       "    </tr>\n",
       "    <tr>\n",
       "      <th>4</th>\n",
       "      <td>56</td>\n",
       "      <td>3</td>\n",
       "      <td>1</td>\n",
       "      <td>1</td>\n",
       "      <td>0</td>\n",
       "      <td>93.994</td>\n",
       "      <td>-36.4</td>\n",
       "      <td>4.857</td>\n",
       "      <td>0</td>\n",
       "      <td>0</td>\n",
       "      <td>0</td>\n",
       "      <td>0</td>\n",
       "      <td>0</td>\n",
       "      <td>0</td>\n",
       "      <td>1</td>\n",
       "      <td>0</td>\n",
       "      <td>0</td>\n",
       "      <td>0</td>\n",
       "      <td>0</td>\n",
       "      <td>1</td>\n",
       "      <td>0</td>\n",
       "      <td>0</td>\n",
       "      <td>0</td>\n",
       "      <td>1</td>\n",
       "      <td>1</td>\n",
       "      <td>0</td>\n",
       "      <td>0</td>\n",
       "      <td>0</td>\n",
       "      <td>0</td>\n",
       "      <td>0</td>\n",
       "      <td>1</td>\n",
       "      <td>0</td>\n",
       "      <td>0</td>\n",
       "      <td>0</td>\n",
       "      <td>1</td>\n",
       "      <td>0</td>\n",
       "      <td>0</td>\n",
       "      <td>0</td>\n",
       "    </tr>\n",
       "  </tbody>\n",
       "</table>\n",
       "</div>"
      ],
      "text/plain": [
       "   age  education  default  campaign  poutcome  cons.price.idx  cons.conf.idx  \\\n",
       "0   56          0        1         1         0          93.994          -36.4   \n",
       "1   57          3        0         1         0          93.994          -36.4   \n",
       "2   37          3        1         1         0          93.994          -36.4   \n",
       "3   40          1        1         1         0          93.994          -36.4   \n",
       "4   56          3        1         1         0          93.994          -36.4   \n",
       "\n",
       "   euribor3m  job_blue-collar  job_entrepreneur  job_housemaid  \\\n",
       "0      4.857                0                 0              1   \n",
       "1      4.857                0                 0              0   \n",
       "2      4.857                0                 0              0   \n",
       "3      4.857                0                 0              0   \n",
       "4      4.857                0                 0              0   \n",
       "\n",
       "   job_management  job_retired  job_self-employed  job_services  job_student  \\\n",
       "0               0            0                  0             0            0   \n",
       "1               0            0                  0             1            0   \n",
       "2               0            0                  0             1            0   \n",
       "3               0            0                  0             0            0   \n",
       "4               0            0                  0             1            0   \n",
       "\n",
       "   job_technician  job_unemployed  job_unknown  marital_married  \\\n",
       "0               0               0            0                1   \n",
       "1               0               0            0                1   \n",
       "2               0               0            0                1   \n",
       "3               0               0            0                1   \n",
       "4               0               0            0                1   \n",
       "\n",
       "   marital_single  housing_unknown  housing_yes  loan_yes  contact_telephone  \\\n",
       "0               0                0            0         0                  1   \n",
       "1               0                0            0         0                  1   \n",
       "2               0                0            1         0                  1   \n",
       "3               0                0            0         0                  1   \n",
       "4               0                0            0         1                  1   \n",
       "\n",
       "   month_aug  month_dec  month_jul  month_jun  month_mar  month_may  \\\n",
       "0          0          0          0          0          0          1   \n",
       "1          0          0          0          0          0          1   \n",
       "2          0          0          0          0          0          1   \n",
       "3          0          0          0          0          0          1   \n",
       "4          0          0          0          0          0          1   \n",
       "\n",
       "   month_nov  month_oct  month_sep  day_of_week_mon  day_of_week_thu  \\\n",
       "0          0          0          0                1                0   \n",
       "1          0          0          0                1                0   \n",
       "2          0          0          0                1                0   \n",
       "3          0          0          0                1                0   \n",
       "4          0          0          0                1                0   \n",
       "\n",
       "   day_of_week_tue  day_of_week_wed  \n",
       "0                0                0  \n",
       "1                0                0  \n",
       "2                0                0  \n",
       "3                0                0  \n",
       "4                0                0  "
      ]
     },
     "execution_count": 7,
     "metadata": {},
     "output_type": "execute_result"
    }
   ],
   "source": [
    "features.head()"
   ]
  },
  {
   "cell_type": "code",
   "execution_count": 9,
   "metadata": {},
   "outputs": [],
   "source": [
    "from sklearn.model_selection import train_test_split"
   ]
  },
  {
   "cell_type": "code",
   "execution_count": 10,
   "metadata": {},
   "outputs": [],
   "source": [
    "## Splitting the train and test sets\n",
    "\n",
    "X_train, X_test, y_train, y_test = train_test_split(features, target,\n",
    "                                                   test_size = 0.3, random_state = 101)"
   ]
  },
  {
   "cell_type": "markdown",
   "metadata": {},
   "source": [
    "## Try dimension reduction"
   ]
  },
  {
   "cell_type": "code",
   "execution_count": 11,
   "metadata": {},
   "outputs": [],
   "source": [
    "from sklearn.preprocessing import StandardScaler\n",
    "from sklearn.decomposition import PCA"
   ]
  },
  {
   "cell_type": "code",
   "execution_count": 41,
   "metadata": {},
   "outputs": [],
   "source": [
    "pca = PCA(n_components = 25)"
   ]
  },
  {
   "cell_type": "code",
   "execution_count": 42,
   "metadata": {},
   "outputs": [],
   "source": [
    "scaler = StandardScaler()\n",
    "Xtr_pca = scaler.fit_transform(X_train)"
   ]
  },
  {
   "cell_type": "code",
   "execution_count": 43,
   "metadata": {},
   "outputs": [
    {
     "data": {
      "text/plain": [
       "PCA(copy=True, iterated_power='auto', n_components=25, random_state=None,\n",
       "    svd_solver='auto', tol=0.0, whiten=False)"
      ]
     },
     "execution_count": 43,
     "metadata": {},
     "output_type": "execute_result"
    }
   ],
   "source": [
    "pca.fit(Xtr_pca)"
   ]
  },
  {
   "cell_type": "code",
   "execution_count": 44,
   "metadata": {},
   "outputs": [],
   "source": [
    "try1 = pca.transform(Xtr_pca)"
   ]
  },
  {
   "cell_type": "code",
   "execution_count": 45,
   "metadata": {},
   "outputs": [
    {
     "data": {
      "text/plain": [
       "(28760, 25)"
      ]
     },
     "execution_count": 45,
     "metadata": {},
     "output_type": "execute_result"
    }
   ],
   "source": [
    "try1.shape"
   ]
  },
  {
   "cell_type": "code",
   "execution_count": 46,
   "metadata": {},
   "outputs": [
    {
     "data": {
      "text/plain": [
       "(28760, 38)"
      ]
     },
     "execution_count": 46,
     "metadata": {},
     "output_type": "execute_result"
    }
   ],
   "source": [
    "X_train.shape"
   ]
  },
  {
   "cell_type": "code",
   "execution_count": 47,
   "metadata": {},
   "outputs": [
    {
     "data": {
      "text/plain": [
       "(28760, 38)"
      ]
     },
     "execution_count": 47,
     "metadata": {},
     "output_type": "execute_result"
    }
   ],
   "source": [
    "Xtr_pca.shape"
   ]
  },
  {
   "cell_type": "code",
   "execution_count": 48,
   "metadata": {},
   "outputs": [
    {
     "data": {
      "text/plain": [
       "0.8522475208225763"
      ]
     },
     "execution_count": 48,
     "metadata": {},
     "output_type": "execute_result"
    }
   ],
   "source": [
    "sum(pca.explained_variance_ratio_)"
   ]
  },
  {
   "cell_type": "code",
   "execution_count": 49,
   "metadata": {},
   "outputs": [],
   "source": [
    "df = pd.DataFrame(scaler.fit_transform(features), columns = features.columns)"
   ]
  },
  {
   "cell_type": "code",
   "execution_count": 50,
   "metadata": {},
   "outputs": [],
   "source": [
    "df_pca = pd.DataFrame(pca.fit_transform(df))"
   ]
  },
  {
   "cell_type": "code",
   "execution_count": 51,
   "metadata": {},
   "outputs": [],
   "source": [
    "X_train_pca = df_pca.iloc[X_train.index]\n",
    "X_test_pca = df_pca.iloc[X_test.index]\n",
    "y_train_pca = target.iloc[X_train.index]\n",
    "y_test_pca = target.iloc[X_test.index]"
   ]
  },
  {
   "cell_type": "code",
   "execution_count": 52,
   "metadata": {},
   "outputs": [],
   "source": [
    "# initiating models\n",
    "\n",
    "from sklearn.linear_model import LogisticRegression\n",
    "from sklearn.ensemble import RandomForestClassifier\n",
    "from xgboost import XGBClassifier\n",
    "from sklearn.metrics import classification_report, confusion_matrix, accuracy_score,roc_auc_score, f1_score, log_loss, matthews_corrcoef"
   ]
  },
  {
   "cell_type": "code",
   "execution_count": 53,
   "metadata": {},
   "outputs": [],
   "source": [
    "log_reg = LogisticRegression(solver = 'saga', max_iter = 1000, class_weight = 'balanced')\n",
    "rfc = RandomForestClassifier(class_weight = 'balanced', max_depth = 6)\n",
    "xgb = XGBClassifier(scale_pos_weight = 7.75)"
   ]
  },
  {
   "cell_type": "markdown",
   "metadata": {},
   "source": [
    "### Logistic Regression"
   ]
  },
  {
   "cell_type": "code",
   "execution_count": 54,
   "metadata": {},
   "outputs": [
    {
     "data": {
      "text/plain": [
       "LogisticRegression(C=1.0, class_weight='balanced', dual=False,\n",
       "                   fit_intercept=True, intercept_scaling=1, l1_ratio=None,\n",
       "                   max_iter=1000, multi_class='auto', n_jobs=None, penalty='l2',\n",
       "                   random_state=None, solver='saga', tol=0.0001, verbose=0,\n",
       "                   warm_start=False)"
      ]
     },
     "execution_count": 54,
     "metadata": {},
     "output_type": "execute_result"
    }
   ],
   "source": [
    "## test logistic regression\n",
    "\n",
    "log_reg.fit(X_train_pca, y_train_pca)"
   ]
  },
  {
   "cell_type": "code",
   "execution_count": null,
   "metadata": {},
   "outputs": [],
   "source": [
    "LogisticRegression()"
   ]
  },
  {
   "cell_type": "code",
   "execution_count": 55,
   "metadata": {},
   "outputs": [],
   "source": [
    "pred_train = log_reg.predict(X_train_pca)"
   ]
  },
  {
   "cell_type": "code",
   "execution_count": 56,
   "metadata": {},
   "outputs": [
    {
     "name": "stdout",
     "output_type": "stream",
     "text": [
      "              precision    recall  f1-score   support\n",
      "\n",
      "           0       0.95      0.80      0.87     25476\n",
      "           1       0.29      0.65      0.40      3284\n",
      "\n",
      "    accuracy                           0.78     28760\n",
      "   macro avg       0.62      0.72      0.63     28760\n",
      "weighted avg       0.87      0.78      0.81     28760\n",
      "\n"
     ]
    }
   ],
   "source": [
    "print(classification_report(y_train_pca,pred_train))"
   ]
  },
  {
   "cell_type": "code",
   "execution_count": 57,
   "metadata": {},
   "outputs": [
    {
     "name": "stdout",
     "output_type": "stream",
     "text": [
      "[[20326  5150]\n",
      " [ 1163  2121]]\n"
     ]
    }
   ],
   "source": [
    "print(confusion_matrix(y_train_pca, pred_train))"
   ]
  },
  {
   "cell_type": "code",
   "execution_count": 58,
   "metadata": {},
   "outputs": [],
   "source": [
    "predictions = log_reg.predict(X_test_pca)"
   ]
  },
  {
   "cell_type": "code",
   "execution_count": 59,
   "metadata": {},
   "outputs": [
    {
     "name": "stdout",
     "output_type": "stream",
     "text": [
      "              precision    recall  f1-score   support\n",
      "\n",
      "           0       0.95      0.80      0.87     10987\n",
      "           1       0.28      0.63      0.39      1340\n",
      "\n",
      "    accuracy                           0.78     12327\n",
      "   macro avg       0.61      0.71      0.63     12327\n",
      "weighted avg       0.87      0.78      0.82     12327\n",
      "\n"
     ]
    }
   ],
   "source": [
    "print(classification_report(y_test_pca,predictions))"
   ]
  },
  {
   "cell_type": "code",
   "execution_count": 60,
   "metadata": {},
   "outputs": [
    {
     "name": "stdout",
     "output_type": "stream",
     "text": [
      "[[8823 2164]\n",
      " [ 501  839]]\n"
     ]
    }
   ],
   "source": [
    "print(confusion_matrix(y_test_pca, predictions))"
   ]
  },
  {
   "cell_type": "markdown",
   "metadata": {},
   "source": [
    "### Random Forest Classifier "
   ]
  },
  {
   "cell_type": "code",
   "execution_count": 61,
   "metadata": {},
   "outputs": [
    {
     "data": {
      "text/plain": [
       "RandomForestClassifier(bootstrap=True, ccp_alpha=0.0, class_weight='balanced',\n",
       "                       criterion='gini', max_depth=6, max_features='auto',\n",
       "                       max_leaf_nodes=None, max_samples=None,\n",
       "                       min_impurity_decrease=0.0, min_impurity_split=None,\n",
       "                       min_samples_leaf=1, min_samples_split=2,\n",
       "                       min_weight_fraction_leaf=0.0, n_estimators=100,\n",
       "                       n_jobs=None, oob_score=False, random_state=None,\n",
       "                       verbose=0, warm_start=False)"
      ]
     },
     "execution_count": 61,
     "metadata": {},
     "output_type": "execute_result"
    }
   ],
   "source": [
    "rfc.fit(X_train_pca, y_train_pca)"
   ]
  },
  {
   "cell_type": "code",
   "execution_count": 62,
   "metadata": {},
   "outputs": [],
   "source": [
    "rfc_train = rfc.predict(X_train_pca)"
   ]
  },
  {
   "cell_type": "code",
   "execution_count": 63,
   "metadata": {},
   "outputs": [
    {
     "name": "stdout",
     "output_type": "stream",
     "text": [
      "[[20957  4519]\n",
      " [ 1154  2130]]\n"
     ]
    }
   ],
   "source": [
    "print(confusion_matrix(y_train_pca,rfc_train))"
   ]
  },
  {
   "cell_type": "code",
   "execution_count": 64,
   "metadata": {},
   "outputs": [
    {
     "name": "stdout",
     "output_type": "stream",
     "text": [
      "              precision    recall  f1-score   support\n",
      "\n",
      "           0       0.95      0.82      0.88     25476\n",
      "           1       0.32      0.65      0.43      3284\n",
      "\n",
      "    accuracy                           0.80     28760\n",
      "   macro avg       0.63      0.74      0.65     28760\n",
      "weighted avg       0.88      0.80      0.83     28760\n",
      "\n"
     ]
    }
   ],
   "source": [
    "print(classification_report(y_train_pca,rfc_train))"
   ]
  },
  {
   "cell_type": "code",
   "execution_count": 65,
   "metadata": {},
   "outputs": [],
   "source": [
    "rfc_prediction = rfc.predict(X_test_pca)"
   ]
  },
  {
   "cell_type": "code",
   "execution_count": 66,
   "metadata": {},
   "outputs": [
    {
     "name": "stdout",
     "output_type": "stream",
     "text": [
      "[[9070 1917]\n",
      " [ 532  808]]\n"
     ]
    }
   ],
   "source": [
    "print(confusion_matrix(y_test_pca,rfc_prediction))"
   ]
  },
  {
   "cell_type": "code",
   "execution_count": 67,
   "metadata": {},
   "outputs": [
    {
     "name": "stdout",
     "output_type": "stream",
     "text": [
      "              precision    recall  f1-score   support\n",
      "\n",
      "           0       0.94      0.83      0.88     10987\n",
      "           1       0.30      0.60      0.40      1340\n",
      "\n",
      "    accuracy                           0.80     12327\n",
      "   macro avg       0.62      0.71      0.64     12327\n",
      "weighted avg       0.87      0.80      0.83     12327\n",
      "\n"
     ]
    }
   ],
   "source": [
    "print(classification_report(y_test_pca,rfc_prediction))"
   ]
  },
  {
   "cell_type": "markdown",
   "metadata": {},
   "source": [
    "### XGBClassifier"
   ]
  },
  {
   "cell_type": "code",
   "execution_count": 68,
   "metadata": {},
   "outputs": [
    {
     "data": {
      "text/plain": [
       "XGBClassifier(base_score=0.5, booster=None, colsample_bylevel=1,\n",
       "              colsample_bynode=1, colsample_bytree=1, gamma=0, gpu_id=-1,\n",
       "              importance_type='gain', interaction_constraints=None,\n",
       "              learning_rate=0.300000012, max_delta_step=0, max_depth=6,\n",
       "              min_child_weight=1, missing=nan, monotone_constraints=None,\n",
       "              n_estimators=100, n_jobs=0, num_parallel_tree=1,\n",
       "              objective='binary:logistic', random_state=0, reg_alpha=0,\n",
       "              reg_lambda=1, scale_pos_weight=7.75, subsample=1,\n",
       "              tree_method=None, validate_parameters=False, verbosity=None)"
      ]
     },
     "execution_count": 68,
     "metadata": {},
     "output_type": "execute_result"
    }
   ],
   "source": [
    "xgb.fit(X_train_pca, y_train_pca)"
   ]
  },
  {
   "cell_type": "code",
   "execution_count": 69,
   "metadata": {},
   "outputs": [],
   "source": [
    "xgb_train = xgb.predict(X_train_pca)"
   ]
  },
  {
   "cell_type": "code",
   "execution_count": 70,
   "metadata": {},
   "outputs": [
    {
     "name": "stdout",
     "output_type": "stream",
     "text": [
      "[[23316  2160]\n",
      " [  171  3113]]\n"
     ]
    }
   ],
   "source": [
    "print(confusion_matrix(y_train_pca, xgb_train))"
   ]
  },
  {
   "cell_type": "code",
   "execution_count": 71,
   "metadata": {},
   "outputs": [
    {
     "name": "stdout",
     "output_type": "stream",
     "text": [
      "              precision    recall  f1-score   support\n",
      "\n",
      "           0       0.99      0.92      0.95     25476\n",
      "           1       0.59      0.95      0.73      3284\n",
      "\n",
      "    accuracy                           0.92     28760\n",
      "   macro avg       0.79      0.93      0.84     28760\n",
      "weighted avg       0.95      0.92      0.93     28760\n",
      "\n"
     ]
    }
   ],
   "source": [
    "print(classification_report(y_train_pca, xgb_train))"
   ]
  },
  {
   "cell_type": "code",
   "execution_count": 72,
   "metadata": {},
   "outputs": [],
   "source": [
    "xgb_pred = xgb.predict(X_test_pca)"
   ]
  },
  {
   "cell_type": "code",
   "execution_count": 73,
   "metadata": {},
   "outputs": [
    {
     "name": "stdout",
     "output_type": "stream",
     "text": [
      "[[9660 1327]\n",
      " [ 620  720]]\n"
     ]
    }
   ],
   "source": [
    "print(confusion_matrix(y_test_pca, xgb_pred))"
   ]
  },
  {
   "cell_type": "code",
   "execution_count": 74,
   "metadata": {},
   "outputs": [
    {
     "name": "stdout",
     "output_type": "stream",
     "text": [
      "              precision    recall  f1-score   support\n",
      "\n",
      "           0       0.94      0.88      0.91     10987\n",
      "           1       0.35      0.54      0.43      1340\n",
      "\n",
      "    accuracy                           0.84     12327\n",
      "   macro avg       0.65      0.71      0.67     12327\n",
      "weighted avg       0.88      0.84      0.86     12327\n",
      "\n"
     ]
    }
   ],
   "source": [
    "print(classification_report(y_test_pca, xgb_pred))"
   ]
  },
  {
   "cell_type": "markdown",
   "metadata": {},
   "source": [
    "### Try finding a better pc"
   ]
  },
  {
   "cell_type": "code",
   "execution_count": 78,
   "metadata": {},
   "outputs": [],
   "source": [
    "target_pca = target"
   ]
  },
  {
   "cell_type": "code",
   "execution_count": 79,
   "metadata": {},
   "outputs": [],
   "source": [
    "## logistic regression\n",
    "\n",
    "def try_w_pca1(df, train_index, test_index):\n",
    "    scaler = StandardScaler()\n",
    "    target = target_pca\n",
    "    df = df.drop('y', axis = 1)\n",
    "    df = pd.DataFrame(scaler.fit_transform(df), columns = df.columns)\n",
    "    log_reg = LogisticRegression(solver = 'saga', max_iter = 1000, class_weight = 'balanced')\n",
    "    for pc in range(10, 31, 5):\n",
    "        pca = PCA(n_components = pc)\n",
    "        df_pca =pd.DataFrame(pca.fit_transform(df))\n",
    "        X_train_pca = df_pca.iloc[train_index]\n",
    "        X_test_pca = df_pca.iloc[test_index]\n",
    "        y_train_pca = target.iloc[train_index]\n",
    "        y_test_pca = target.iloc[test_index]\n",
    "        log_reg.fit(X_train_pca, y_train_pca)\n",
    "        print('pc = {} and train'.format(pc))\n",
    "        print(classification_report(y_train_pca, log_reg.predict(X_train_pca)))\n",
    "        print('pc = {} and test'.format(pc))\n",
    "        print(classification_report(y_test_pca, log_reg.predict(X_test_pca)))"
   ]
  },
  {
   "cell_type": "code",
   "execution_count": 80,
   "metadata": {},
   "outputs": [
    {
     "name": "stdout",
     "output_type": "stream",
     "text": [
      "pc = 10 and train\n",
      "              precision    recall  f1-score   support\n",
      "\n",
      "           0       0.95      0.75      0.84     25476\n",
      "           1       0.26      0.67      0.37      3284\n",
      "\n",
      "    accuracy                           0.74     28760\n",
      "   macro avg       0.60      0.71      0.61     28760\n",
      "weighted avg       0.87      0.74      0.78     28760\n",
      "\n",
      "pc = 10 and test\n",
      "              precision    recall  f1-score   support\n",
      "\n",
      "           0       0.95      0.76      0.84     10987\n",
      "           1       0.25      0.66      0.36      1340\n",
      "\n",
      "    accuracy                           0.75     12327\n",
      "   macro avg       0.60      0.71      0.60     12327\n",
      "weighted avg       0.87      0.75      0.79     12327\n",
      "\n",
      "pc = 15 and train\n",
      "              precision    recall  f1-score   support\n",
      "\n",
      "           0       0.95      0.79      0.86     25476\n",
      "           1       0.29      0.65      0.40      3284\n",
      "\n",
      "    accuracy                           0.77     28760\n",
      "   macro avg       0.62      0.72      0.63     28760\n",
      "weighted avg       0.87      0.77      0.81     28760\n",
      "\n",
      "pc = 15 and test\n",
      "              precision    recall  f1-score   support\n",
      "\n",
      "           0       0.95      0.79      0.86     10987\n",
      "           1       0.27      0.63      0.38      1340\n",
      "\n",
      "    accuracy                           0.78     12327\n",
      "   macro avg       0.61      0.71      0.62     12327\n",
      "weighted avg       0.87      0.78      0.81     12327\n",
      "\n",
      "pc = 20 and train\n",
      "              precision    recall  f1-score   support\n",
      "\n",
      "           0       0.95      0.79      0.86     25476\n",
      "           1       0.28      0.65      0.40      3284\n",
      "\n",
      "    accuracy                           0.77     28760\n",
      "   macro avg       0.62      0.72      0.63     28760\n",
      "weighted avg       0.87      0.77      0.81     28760\n",
      "\n",
      "pc = 20 and test\n",
      "              precision    recall  f1-score   support\n",
      "\n",
      "           0       0.95      0.79      0.86     10987\n",
      "           1       0.27      0.63      0.38      1340\n",
      "\n",
      "    accuracy                           0.78     12327\n",
      "   macro avg       0.61      0.71      0.62     12327\n",
      "weighted avg       0.87      0.78      0.81     12327\n",
      "\n",
      "pc = 25 and train\n",
      "              precision    recall  f1-score   support\n",
      "\n",
      "           0       0.95      0.80      0.87     25476\n",
      "           1       0.29      0.65      0.40      3284\n",
      "\n",
      "    accuracy                           0.78     28760\n",
      "   macro avg       0.62      0.72      0.63     28760\n",
      "weighted avg       0.87      0.78      0.81     28760\n",
      "\n",
      "pc = 25 and test\n",
      "              precision    recall  f1-score   support\n",
      "\n",
      "           0       0.95      0.80      0.87     10987\n",
      "           1       0.28      0.63      0.39      1340\n",
      "\n",
      "    accuracy                           0.78     12327\n",
      "   macro avg       0.61      0.71      0.63     12327\n",
      "weighted avg       0.87      0.78      0.82     12327\n",
      "\n",
      "pc = 30 and train\n",
      "              precision    recall  f1-score   support\n",
      "\n",
      "           0       0.95      0.80      0.87     25476\n",
      "           1       0.29      0.65      0.40      3284\n",
      "\n",
      "    accuracy                           0.78     28760\n",
      "   macro avg       0.62      0.72      0.63     28760\n",
      "weighted avg       0.87      0.78      0.81     28760\n",
      "\n",
      "pc = 30 and test\n",
      "              precision    recall  f1-score   support\n",
      "\n",
      "           0       0.95      0.80      0.87     10987\n",
      "           1       0.28      0.63      0.39      1340\n",
      "\n",
      "    accuracy                           0.78     12327\n",
      "   macro avg       0.61      0.72      0.63     12327\n",
      "weighted avg       0.87      0.78      0.82     12327\n",
      "\n"
     ]
    }
   ],
   "source": [
    "try_w_pca1(bank, X_train.index, X_test.index)"
   ]
  },
  {
   "cell_type": "code",
   "execution_count": 81,
   "metadata": {},
   "outputs": [],
   "source": [
    "## for RFC\n",
    "\n",
    "def try_w_pca2(df, train_index, test_index):\n",
    "    scaler = StandardScaler()\n",
    "    target = target_pca\n",
    "    df = df.drop('y', axis = 1)\n",
    "    df = pd.DataFrame(scaler.fit_transform(df), columns = df.columns)\n",
    "    rfc = RandomForestClassifier(class_weight = 'balanced', max_depth = 6)\n",
    "    for pc in range(10, 31, 5):\n",
    "        pca = PCA(n_components = pc)\n",
    "        df_pca =pd.DataFrame(pca.fit_transform(df))\n",
    "        X_train_pca = df_pca.iloc[train_index]\n",
    "        X_test_pca = df_pca.iloc[test_index]\n",
    "        y_train_pca = target.iloc[train_index]\n",
    "        y_test_pca = target.iloc[test_index]\n",
    "        rfc.fit(X_train_pca, y_train_pca)\n",
    "        print('pc = {} and train'.format(pc))\n",
    "        print(classification_report(y_train_pca, rfc.predict(X_train_pca)))\n",
    "        print('pc = {} and test'.format(pc))\n",
    "        print(classification_report(y_test_pca, rfc.predict(X_test_pca)))"
   ]
  },
  {
   "cell_type": "code",
   "execution_count": 82,
   "metadata": {},
   "outputs": [
    {
     "name": "stdout",
     "output_type": "stream",
     "text": [
      "pc = 10 and train\n",
      "              precision    recall  f1-score   support\n",
      "\n",
      "           0       0.95      0.80      0.87     25476\n",
      "           1       0.30      0.66      0.41      3284\n",
      "\n",
      "    accuracy                           0.78     28760\n",
      "   macro avg       0.62      0.73      0.64     28760\n",
      "weighted avg       0.87      0.78      0.82     28760\n",
      "\n",
      "pc = 10 and test\n",
      "              precision    recall  f1-score   support\n",
      "\n",
      "           0       0.95      0.80      0.87     10987\n",
      "           1       0.28      0.62      0.39      1340\n",
      "\n",
      "    accuracy                           0.78     12327\n",
      "   macro avg       0.61      0.71      0.63     12327\n",
      "weighted avg       0.87      0.78      0.82     12327\n",
      "\n",
      "pc = 15 and train\n",
      "              precision    recall  f1-score   support\n",
      "\n",
      "           0       0.95      0.82      0.88     25476\n",
      "           1       0.31      0.64      0.42      3284\n",
      "\n",
      "    accuracy                           0.80     28760\n",
      "   macro avg       0.63      0.73      0.65     28760\n",
      "weighted avg       0.87      0.80      0.83     28760\n",
      "\n",
      "pc = 15 and test\n",
      "              precision    recall  f1-score   support\n",
      "\n",
      "           0       0.94      0.82      0.88     10987\n",
      "           1       0.29      0.61      0.39      1340\n",
      "\n",
      "    accuracy                           0.80     12327\n",
      "   macro avg       0.62      0.71      0.64     12327\n",
      "weighted avg       0.87      0.80      0.82     12327\n",
      "\n",
      "pc = 20 and train\n",
      "              precision    recall  f1-score   support\n",
      "\n",
      "           0       0.95      0.82      0.88     25476\n",
      "           1       0.32      0.65      0.42      3284\n",
      "\n",
      "    accuracy                           0.80     28760\n",
      "   macro avg       0.63      0.73      0.65     28760\n",
      "weighted avg       0.88      0.80      0.83     28760\n",
      "\n",
      "pc = 20 and test\n",
      "              precision    recall  f1-score   support\n",
      "\n",
      "           0       0.95      0.82      0.88     10987\n",
      "           1       0.29      0.61      0.40      1340\n",
      "\n",
      "    accuracy                           0.80     12327\n",
      "   macro avg       0.62      0.72      0.64     12327\n",
      "weighted avg       0.87      0.80      0.83     12327\n",
      "\n",
      "pc = 25 and train\n",
      "              precision    recall  f1-score   support\n",
      "\n",
      "           0       0.95      0.82      0.88     25476\n",
      "           1       0.32      0.65      0.43      3284\n",
      "\n",
      "    accuracy                           0.80     28760\n",
      "   macro avg       0.63      0.74      0.66     28760\n",
      "weighted avg       0.88      0.80      0.83     28760\n",
      "\n",
      "pc = 25 and test\n",
      "              precision    recall  f1-score   support\n",
      "\n",
      "           0       0.95      0.83      0.88     10987\n",
      "           1       0.30      0.61      0.40      1340\n",
      "\n",
      "    accuracy                           0.80     12327\n",
      "   macro avg       0.62      0.72      0.64     12327\n",
      "weighted avg       0.88      0.80      0.83     12327\n",
      "\n",
      "pc = 30 and train\n",
      "              precision    recall  f1-score   support\n",
      "\n",
      "           0       0.95      0.84      0.89     25476\n",
      "           1       0.33      0.63      0.44      3284\n",
      "\n",
      "    accuracy                           0.81     28760\n",
      "   macro avg       0.64      0.74      0.66     28760\n",
      "weighted avg       0.88      0.81      0.84     28760\n",
      "\n",
      "pc = 30 and test\n",
      "              precision    recall  f1-score   support\n",
      "\n",
      "           0       0.94      0.84      0.89     10987\n",
      "           1       0.31      0.60      0.41      1340\n",
      "\n",
      "    accuracy                           0.81     12327\n",
      "   macro avg       0.63      0.72      0.65     12327\n",
      "weighted avg       0.88      0.81      0.84     12327\n",
      "\n"
     ]
    }
   ],
   "source": [
    "try_w_pca2(bank, X_train.index, X_test.index)"
   ]
  },
  {
   "cell_type": "code",
   "execution_count": 83,
   "metadata": {},
   "outputs": [],
   "source": [
    "## for XGB\n",
    "\n",
    "def try_w_pca3(df, train_index, test_index):\n",
    "    scaler = StandardScaler()\n",
    "    target = target_pca\n",
    "    df = df.drop('y', axis = 1)\n",
    "    df = pd.DataFrame(scaler.fit_transform(df), columns = df.columns)\n",
    "    xgb = XGBClassifier(scale_pos_weight = 7.75)\n",
    "    for pc in range(10, 31, 5):\n",
    "        pca = PCA(n_components = pc)\n",
    "        df_pca =pd.DataFrame(pca.fit_transform(df))\n",
    "        X_train_pca = df_pca.iloc[train_index]\n",
    "        X_test_pca = df_pca.iloc[test_index]\n",
    "        y_train_pca = target.iloc[train_index]\n",
    "        y_test_pca = target.iloc[test_index]\n",
    "        xgb.fit(X_train_pca, y_train_pca)\n",
    "        print('pc = {} and train'.format(pc))\n",
    "        print(classification_report(y_train_pca, xgb.predict(X_train_pca)))\n",
    "        print('pc = {} and test'.format(pc))\n",
    "        print(classification_report(y_test_pca, xgb.predict(X_test_pca)))"
   ]
  },
  {
   "cell_type": "code",
   "execution_count": 84,
   "metadata": {},
   "outputs": [
    {
     "name": "stdout",
     "output_type": "stream",
     "text": [
      "pc = 10 and train\n",
      "              precision    recall  f1-score   support\n",
      "\n",
      "           0       0.99      0.89      0.94     25476\n",
      "           1       0.52      0.92      0.67      3284\n",
      "\n",
      "    accuracy                           0.89     28760\n",
      "   macro avg       0.75      0.91      0.80     28760\n",
      "weighted avg       0.94      0.89      0.91     28760\n",
      "\n",
      "pc = 10 and test\n",
      "              precision    recall  f1-score   support\n",
      "\n",
      "           0       0.94      0.86      0.90     10987\n",
      "           1       0.31      0.54      0.40      1340\n",
      "\n",
      "    accuracy                           0.82     12327\n",
      "   macro avg       0.63      0.70      0.65     12327\n",
      "weighted avg       0.87      0.82      0.84     12327\n",
      "\n",
      "pc = 15 and train\n",
      "              precision    recall  f1-score   support\n",
      "\n",
      "           0       0.99      0.91      0.95     25476\n",
      "           1       0.56      0.94      0.70      3284\n",
      "\n",
      "    accuracy                           0.91     28760\n",
      "   macro avg       0.78      0.92      0.82     28760\n",
      "weighted avg       0.94      0.91      0.92     28760\n",
      "\n",
      "pc = 15 and test\n",
      "              precision    recall  f1-score   support\n",
      "\n",
      "           0       0.94      0.87      0.90     10987\n",
      "           1       0.32      0.52      0.40      1340\n",
      "\n",
      "    accuracy                           0.83     12327\n",
      "   macro avg       0.63      0.69      0.65     12327\n",
      "weighted avg       0.87      0.83      0.85     12327\n",
      "\n",
      "pc = 20 and train\n",
      "              precision    recall  f1-score   support\n",
      "\n",
      "           0       0.99      0.91      0.95     25476\n",
      "           1       0.58      0.93      0.72      3284\n",
      "\n",
      "    accuracy                           0.92     28760\n",
      "   macro avg       0.79      0.92      0.83     28760\n",
      "weighted avg       0.94      0.92      0.92     28760\n",
      "\n",
      "pc = 20 and test\n",
      "              precision    recall  f1-score   support\n",
      "\n",
      "           0       0.94      0.88      0.90     10987\n",
      "           1       0.33      0.51      0.40      1340\n",
      "\n",
      "    accuracy                           0.84     12327\n",
      "   macro avg       0.64      0.69      0.65     12327\n",
      "weighted avg       0.87      0.84      0.85     12327\n",
      "\n",
      "pc = 25 and train\n",
      "              precision    recall  f1-score   support\n",
      "\n",
      "           0       0.99      0.91      0.95     25476\n",
      "           1       0.58      0.94      0.72      3284\n",
      "\n",
      "    accuracy                           0.91     28760\n",
      "   macro avg       0.79      0.93      0.83     28760\n",
      "weighted avg       0.94      0.91      0.92     28760\n",
      "\n",
      "pc = 25 and test\n",
      "              precision    recall  f1-score   support\n",
      "\n",
      "           0       0.94      0.88      0.91     10987\n",
      "           1       0.35      0.52      0.42      1340\n",
      "\n",
      "    accuracy                           0.84     12327\n",
      "   macro avg       0.64      0.70      0.66     12327\n",
      "weighted avg       0.87      0.84      0.85     12327\n",
      "\n",
      "pc = 30 and train\n",
      "              precision    recall  f1-score   support\n",
      "\n",
      "           0       0.99      0.92      0.95     25476\n",
      "           1       0.60      0.94      0.73      3284\n",
      "\n",
      "    accuracy                           0.92     28760\n",
      "   macro avg       0.79      0.93      0.84     28760\n",
      "weighted avg       0.95      0.92      0.93     28760\n",
      "\n",
      "pc = 30 and test\n",
      "              precision    recall  f1-score   support\n",
      "\n",
      "           0       0.94      0.87      0.90     10987\n",
      "           1       0.34      0.52      0.41      1340\n",
      "\n",
      "    accuracy                           0.84     12327\n",
      "   macro avg       0.64      0.70      0.66     12327\n",
      "weighted avg       0.87      0.84      0.85     12327\n",
      "\n"
     ]
    }
   ],
   "source": [
    "try_w_pca3(bank, X_train.index, X_test.index)"
   ]
  },
  {
   "cell_type": "code",
   "execution_count": null,
   "metadata": {},
   "outputs": [],
   "source": []
  }
 ],
 "metadata": {
  "kernelspec": {
   "display_name": "Python 3",
   "language": "python",
   "name": "python3"
  },
  "language_info": {
   "codemirror_mode": {
    "name": "ipython",
    "version": 3
   },
   "file_extension": ".py",
   "mimetype": "text/x-python",
   "name": "python",
   "nbconvert_exporter": "python",
   "pygments_lexer": "ipython3",
   "version": "3.7.4"
  }
 },
 "nbformat": 4,
 "nbformat_minor": 4
}
